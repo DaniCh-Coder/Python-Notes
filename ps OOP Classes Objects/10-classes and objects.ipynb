{
 "cells": [
  {
   "cell_type": "markdown",
   "metadata": {},
   "source": [
    "# Clases and Objects"
   ]
  },
  {
   "cell_type": "markdown",
   "metadata": {},
   "source": [
    "- Python is an object oriented programming language.\n",
    "- Everything in Python is an object, with its properties and methods. \n",
    "###### A number, string, list, dictionary, tuple, set etc. used in a program is an object of a corresponding built-in class. \n",
    "- We create class to create an object. \n",
    "- A class is like an object constructor, or a \"blueprint\" for creating objects. \n",
    "- We instantiate a class to create an object. The class defines attributes and the behavior of the object, while the object, on the other hand, represents the class."
   ]
  },
  {
   "cell_type": "markdown",
   "metadata": {},
   "source": [
    "###### Every element in a Python program is an object of a class. Let us check if everything in python is a class:"
   ]
  },
  {
   "cell_type": "code",
   "execution_count": 16,
   "metadata": {},
   "outputs": [
    {
     "name": "stdout",
     "output_type": "stream",
     "text": [
      "<class 'int'>, <class 'str'>, <class 'bool'>, <class 'list'>, <class 'tuple'>; <class 'set'>, <class 'dict'>,\n"
     ]
    }
   ],
   "source": [
    "# python has many built-in classes\n",
    "num = 10; string='string'; boolean = True; lst =[]; tpl = (); set1 = set(); dct = {}\n",
    "print(f\"{type(num)}, {type(string)}, {type(boolean)}, {type(lst)}, {type(tpl)}; {type(set1)}, {type(dct)},\")\n"
   ]
  },
  {
   "cell_type": "markdown",
   "metadata": {},
   "source": [
    "#### Class definition Syntax\n",
    "###### Class definitions, like function definitions (def statements) must be executed before they have any effect. (You could conceivably place a class definition in a branch of an if statement, or inside a function.)"
   ]
  },
  {
   "cell_type": "markdown",
   "metadata": {},
   "source": [
    "<pre><span></span><span class=\"k\">class</span> <span class=\"nc\">ClassName</span><span class=\"p\">:</span>\n",
    "    <span class=\"o\">&lt;</span><span class=\"n\">statement</span><span class=\"o\">-</span><span class=\"mi\">1</span><span class=\"o\">&gt;</span>\n",
    "    <span class=\"o\">...</span>\n",
    "    <span class=\"o\">&lt;</span><span class=\"n\">statement</span><span class=\"o\">-</span><span class=\"n\">N</span><span class=\"o\">&gt;</span>\n",
    "</pre>"
   ]
  },
  {
   "cell_type": "markdown",
   "metadata": {},
   "source": [
    "###### In practice, the statements inside a class definition will usually be function definitions, but other statements are allowed. The function definitions inside a class normally have a peculiar form of argument list, dictated by the calling conventions for methods."
   ]
  },
  {
   "cell_type": "code",
   "execution_count": 23,
   "metadata": {},
   "outputs": [
    {
     "name": "stdout",
     "output_type": "stream",
     "text": [
      "<class '__main__.Person'>\n"
     ]
    }
   ],
   "source": [
    "class Person:\n",
    "  pass\n",
    "\n",
    "print(Person)\n"
   ]
  },
  {
   "cell_type": "markdown",
   "metadata": {},
   "source": [
    "#### Class Object\n",
    "###### We create an object calling the class"
   ]
  },
  {
   "cell_type": "code",
   "execution_count": 24,
   "metadata": {},
   "outputs": [
    {
     "name": "stdout",
     "output_type": "stream",
     "text": [
      "<__main__.Person object at 0x000001EE25C7E230>\n"
     ]
    }
   ],
   "source": [
    "p = Person()\n",
    "print(p)"
   ]
  },
  {
   "cell_type": "markdown",
   "metadata": {},
   "source": [
    "#### Class Constructor  __init__\n",
    " In the examples above, we have created an object from the Person class. However, a class without a constructor is not really useful in real applications. Let us use constructor function to make our class more useful. Like the constructor function in Java or JavaScript, Python has also a built-in init() constructor function. The init constructor function has ***self*** parameter which is a reference to the current instance of the class. The instantiation operation (“calling” a class object) creates an empty object. Many classes like to create objects with instances customized to a specific initial state. Therefore a class may define a special method named __init__(), like this: "
   ]
  },
  {
   "cell_type": "code",
   "execution_count": 21,
   "metadata": {},
   "outputs": [
    {
     "name": "stdout",
     "output_type": "stream",
     "text": [
      "Dani\n",
      "<__main__.Person object at 0x000001FDE2FEDE70>\n"
     ]
    }
   ],
   "source": [
    "# Example with class Person\n",
    "class Person:\n",
    "      def __init__ (self, name):\n",
    "        # self allows to attach parameter to the class\n",
    "          self.name =name\n",
    "\n",
    "p = Person('Dani')\n",
    "print(p.name)\n",
    "print(p)"
   ]
  },
  {
   "cell_type": "code",
   "execution_count": 32,
   "metadata": {},
   "outputs": [
    {
     "data": {
      "text/plain": [
       "(3.5, -4.5)"
      ]
     },
     "execution_count": 32,
     "metadata": {},
     "output_type": "execute_result"
    }
   ],
   "source": [
    "# Example with complex number\n",
    "class Complex:\n",
    "    def __init__ (self, realpart, imagpart):\n",
    "        self.r = realpart\n",
    "        self.i = imagpart\n",
    "\n",
    "x = Complex(3.5, -4.5)   \n",
    "x.r, x.i     "
   ]
  },
  {
   "cell_type": "markdown",
   "metadata": {},
   "source": [
    "### Objects Attributes\n",
    "There are two main attributes of objects: Variables and Methods."
   ]
  },
  {
   "cell_type": "markdown",
   "metadata": {},
   "source": [
    "### Instance Objects\n",
    "*Data attributes* correspond to “instance variables” in Smalltalk, and to “data members” in C++. Data attributes need not be declared; like local variables, they spring into existence when they are first assigned to. \n",
    "###### For example, if x is the instance of Class Complex created above, the following piece of code will print the value 16, without leaving a trace:"
   ]
  },
  {
   "cell_type": "code",
   "execution_count": 33,
   "metadata": {},
   "outputs": [
    {
     "name": "stdout",
     "output_type": "stream",
     "text": [
      "16\n"
     ]
    }
   ],
   "source": [
    "# Set a new attribute to a clase, then use and delete.\n",
    "x.counter = 1\n",
    "while x.counter < 10:\n",
    "    x.counter = x.counter * 2\n",
    "print(x.counter)\n",
    "del x.counter"
   ]
  },
  {
   "cell_type": "code",
   "execution_count": null,
   "metadata": {},
   "outputs": [],
   "source": []
  },
  {
   "cell_type": "markdown",
   "metadata": {},
   "source": [
    "### Method Objects\n",
    "*method attributes* correspond to “functions” C++. A method is a function that “belongs to” an object. \n",
    "###### For example:"
   ]
  },
  {
   "cell_type": "code",
   "execution_count": 1,
   "metadata": {},
   "outputs": [],
   "source": [
    "class MyClass:\n",
    "    \"\"\"A simple example class\"\"\"\n",
    "    i = 12345\n",
    "\n",
    "    def f(self):\n",
    "        return 'hello world'"
   ]
  },
  {
   "cell_type": "code",
   "execution_count": 14,
   "metadata": {},
   "outputs": [
    {
     "name": "stdout",
     "output_type": "stream",
     "text": [
      "12345\n",
      "<function MyClass.f at 0x000001FDE1CE7400>\n",
      "hello world\n"
     ]
    },
    {
     "ename": "TypeError",
     "evalue": "MyClass.f() missing 1 required positional argument: 'self'",
     "output_type": "error",
     "traceback": [
      "\u001b[1;31m---------------------------------------------------------------------------\u001b[0m",
      "\u001b[1;31mTypeError\u001b[0m                                 Traceback (most recent call last)",
      "Cell \u001b[1;32mIn[14], line 5\u001b[0m\n\u001b[0;32m      3\u001b[0m \u001b[38;5;28mprint\u001b[39m(mc\u001b[38;5;241m.\u001b[39mf)   \u001b[38;5;66;03m# <function MyClass.f at 0x000001FDE1CE7400>\u001b[39;00m\n\u001b[0;32m      4\u001b[0m \u001b[38;5;28mprint\u001b[39m(mc\u001b[38;5;241m.\u001b[39mf(mc))     \u001b[38;5;66;03m# hello world\u001b[39;00m\n\u001b[1;32m----> 5\u001b[0m \u001b[38;5;28mprint\u001b[39m(\u001b[43mmc\u001b[49m\u001b[38;5;241;43m.\u001b[39;49m\u001b[43mf\u001b[49m\u001b[43m(\u001b[49m\u001b[43m)\u001b[49m)\n",
      "\u001b[1;31mTypeError\u001b[0m: MyClass.f() missing 1 required positional argument: 'self'"
     ]
    }
   ],
   "source": [
    "mc = MyClass\n",
    "print(mc.i)         # 12345\n",
    "print(mc.f)   # <function MyClass.f at 0x000001FDE1CE7400>\n",
    "print(mc.f(mc))     # hello world\n",
    "print(mc.f())       # MyClass.f() missing 1 required positional argument: 'self'?"
   ]
  },
  {
   "cell_type": "markdown",
   "metadata": {},
   "source": [
    "- What exactly happens when a method is called? You may have noticed thatmc.f() was called without an argument above, even though the function definition for f() specified an argument. What happened to the argument? Surely Python raises an exception when a function that requires an argument is called without any — even if the argument isn’t actually used… why?\n",
    "- Actually, you may have guessed the answer: the special thing about methods is that the instance object is passed as the first argument of the function. In our example, the call mc.f() is exactly equivalent to MyClass.f(x). In general, calling a method with a list of n arguments is equivalent to calling the corresponding function with an argument list that is created by inserting the method’s instance object before the first argument.\n",
    "- If you still don’t understand how methods work, a look at the implementation can perhaps clarify matters. When a non-data attribute of an instance is referenced, the instance’s class is searched. If the name denotes a valid class attribute that is a function object, *a method object* is created by packing (pointers to) the instance object and the function object just found together in an abstract object: this is the method object. When the *method object is called with an argument list*, a new argument list is constructed from the instance object and the argument list, and the function object is called with this new argument list."
   ]
  },
  {
   "cell_type": "markdown",
   "metadata": {},
   "source": [
    "### Inheritance"
   ]
  },
  {
   "cell_type": "markdown",
   "metadata": {},
   "source": [
    "<pre><span></span><span class=\"k\">class</span> <span class=\"nc\">DerivedClassName(BaseClassName)</span><span class=\"p\">:</span>\n",
    "    <span class=\"o\">&lt;</span><span class=\"n\">statement</span><span class=\"o\">-</span><span class=\"mi\">1</span><span class=\"o\">&gt;</span>\n",
    "    <span class=\"o\">...</span>\n",
    "    <span class=\"o\">&lt;</span><span class=\"n\">statement</span><span class=\"o\">-</span><span class=\"n\">N</span><span class=\"o\">&gt;</span>\n",
    "</pre>"
   ]
  },
  {
   "cell_type": "markdown",
   "metadata": {},
   "source": [
    "The name BaseClassName must be defined in a scope containing the derived class definition. In place of a base class name, other arbitrary expressions are also allowed. This can be useful, for example, when the base class is defined in another module:\n",
    "\n",
    "class DerivedClassName(modname.BaseClassName):"
   ]
  },
  {
   "cell_type": "markdown",
   "metadata": {},
   "source": [
    "Using inheritance we can reuse parent class code. Inheritance allows us to define a class that inherits all the methods and properties from parent class. The parent class or super or base class is the class which gives all the methods and properties. Child class is the class that inherits from another or parent class."
   ]
  },
  {
   "cell_type": "markdown",
   "metadata": {},
   "source": [
    "Execution of a derived class definition proceeds the same as for a base class. When the class object is constructed, the base class is remembered. This is used for resolving attribute references: if a requested attribute is not found in the class, the search proceeds to look in the base class. This rule is applied recursively if the base class itself is derived from some other class.\n",
    "\n",
    "There’s nothing special about instantiation of derived classes: DerivedClassName() creates a new instance of the class. Method references are resolved as follows: the corresponding class attribute is searched, descending down the chain of base classes if necessary, and the method reference is valid if this yields a function object.\n",
    "\n",
    "Derived classes may override methods of their base classes. Because methods have no special privileges when calling other methods of the same object, a method of a base class that calls another method defined in the same base class may end up calling a method of a derived class that overrides it. (For C++ programmers: all methods in Python are effectively virtual.)\n",
    "\n",
    "An overriding method in a derived class may in fact want to extend rather than simply replace the base class method of the same name. There is a simple way to call the base class method directly: just call BaseClassName.methodname(self, arguments). This is occasionally useful to clients as well. (Note that this only works if the base class is accessible as BaseClassName in the global scope.)"
   ]
  },
  {
   "cell_type": "code",
   "execution_count": 39,
   "metadata": {},
   "outputs": [],
   "source": [
    "# Creating a class of Person:\n",
    "class Person:\n",
    "      def __init__(self, firstname='Daniel', lastname='Christello', age=250, country='Argentina', city='Mendoza'):\n",
    "          self.firstname = firstname\n",
    "          self.lastname = lastname\n",
    "          self.age = age\n",
    "          self.country = country\n",
    "          self.city = city\n",
    "          self.skills = []\n",
    "\n",
    "      def person_info(self):\n",
    "        return f'{self.firstname} {self.lastname} is {self.age} years old. He lives in {self.city}, {self.country}.'\n",
    "      def add_skill(self, skill):\n",
    "          self.skills.append(skill)\n",
    "      def skills_info(self):\n",
    "        return self.skills"
   ]
  },
  {
   "cell_type": "code",
   "execution_count": 40,
   "metadata": {},
   "outputs": [
    {
     "data": {
      "text/plain": [
       "'Daniel Christello is 250 years old. He lives in Mendoza, Argentina.'"
      ]
     },
     "execution_count": 40,
     "metadata": {},
     "output_type": "execute_result"
    }
   ],
   "source": [
    "# Creating an instance of Class Person\n",
    "p1 = Person()\n",
    "p1. person_info()"
   ]
  },
  {
   "cell_type": "code",
   "execution_count": 46,
   "metadata": {},
   "outputs": [
    {
     "name": "stdout",
     "output_type": "stream",
     "text": [
      "['Data Science', 'python']\n"
     ]
    },
    {
     "data": {
      "text/plain": [
       "['Data Science', 'python', 'Data Science', 'python']"
      ]
     },
     "execution_count": 46,
     "metadata": {},
     "output_type": "execute_result"
    }
   ],
   "source": [
    "# See the result and fill with some data\n",
    "print(p1.skills_info())\n",
    "p1.add_skill('Data Science')\n",
    "p1.add_skill('python')\n",
    "p1.skills_info()\n"
   ]
  },
  {
   "cell_type": "code",
   "execution_count": 47,
   "metadata": {},
   "outputs": [
    {
     "name": "stdout",
     "output_type": "stream",
     "text": [
      "Galo Christello is 30 years old. He lives in NomanLand, NomanCity. ['JavaScript']\n"
     ]
    }
   ],
   "source": [
    "# Creating another instance of Person\n",
    "p2 = Person('Galo', 'Christello', 30, 'NomanCity', 'NomanLand')\n",
    "p2.add_skill('JavaScript')\n",
    "print(p2.person_info(), p2.skills_info())"
   ]
  },
  {
   "cell_type": "code",
   "execution_count": 48,
   "metadata": {},
   "outputs": [],
   "source": [
    "# Creating a class Student derived of class Person\n",
    "class Student(Person):\n",
    "    pass"
   ]
  },
  {
   "cell_type": "code",
   "execution_count": 57,
   "metadata": {},
   "outputs": [
    {
     "name": "stdout",
     "output_type": "stream",
     "text": [
      "Tuio Estilio is 30 years old. He lives in Helsinki, Finland. ['Organizing', 'Marketing', 'Digital Marketing']\n"
     ]
    }
   ],
   "source": [
    "# Creating an instance of Student (using attributes of person)\n",
    "s3 = Student('Tuio', 'Estilio', 30, 'Finland', 'Helsinki')\n",
    "s3.add_skill('Organizing')\n",
    "s3.add_skill('Marketing')\n",
    "s3.add_skill('Digital Marketing')\n",
    "print(s3.person_info(), s3.skills_info())"
   ]
  },
  {
   "cell_type": "code",
   "execution_count": null,
   "metadata": {},
   "outputs": [],
   "source": []
  }
 ],
 "metadata": {
  "kernelspec": {
   "display_name": "base",
   "language": "python",
   "name": "python3"
  },
  "language_info": {
   "codemirror_mode": {
    "name": "ipython",
    "version": 3
   },
   "file_extension": ".py",
   "mimetype": "text/x-python",
   "name": "python",
   "nbconvert_exporter": "python",
   "pygments_lexer": "ipython3",
   "version": "3.10.9"
  }
 },
 "nbformat": 4,
 "nbformat_minor": 2
}
