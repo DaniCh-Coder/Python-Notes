{
 "cells": [
  {
   "cell_type": "markdown",
   "metadata": {},
   "source": [
    "# Python Class \n",
    "A class contains the blueprints or the prototype from which the objects are being created. It is a logical entity that contains some attributes and methods. "
   ]
  },
  {
   "cell_type": "markdown",
   "metadata": {},
   "source": [
    "1. Classes are created by keyword class.\n",
    "2. Attributes are the variables (data & functions) that belong to a class.\n",
    "3. Attributes are always public and can be accessed using the dot (.) operator. Eg.: Myclass.Myattribute"
   ]
  },
  {
   "cell_type": "code",
   "execution_count": null,
   "metadata": {},
   "outputs": [],
   "source": [
    "# class example\n",
    "class Dog:\n",
    "\tpass"
   ]
  },
  {
   "cell_type": "markdown",
   "metadata": {},
   "source": [
    "# Python Objects"
   ]
  },
  {
   "cell_type": "markdown",
   "metadata": {},
   "source": [
    "The object is an entity that has a state and behavior associated with it. \n",
    "* It may be any real-world object like a mouse, keyboard, chair, table, pen, etc. \n",
    "* Integers, strings, floating-point numbers, even arrays, and dictionaries, are all objects. \n",
    "    + More specifically, any single integer or any single string is an object. \n",
    "    + The number 12 is an object, the string “Hello, world” is an object.\n",
    "    + A list is an object that can hold other objects, and so on. \n",
    "\n",
    "You’ve been using objects all along and may not even realize it."
   ]
  },
  {
   "cell_type": "markdown",
   "metadata": {},
   "source": [
    "An object consists of:\n",
    "1. State: It is represented by the attributes of an object. It also reflects the properties of an object.\n",
    "2. Behavior: It is represented by the methods of an object. It also reflects the response of an object to other objects.\n",
    "3. Identity: It gives a unique name to an object and enables one object to interact with other objects.\n",
    "\n",
    "To understand the state, behavior, and identity let us take the example of the class dog:\n",
    "1. The identity can be considered as the name of the dog.\n",
    "2. State or Attributes can be considered as the breed, age, or color of the dog.\n",
    "3. The behavior can be considered as to whether the dog is eating or sleeping."
   ]
  },
  {
   "cell_type": "code",
   "execution_count": null,
   "metadata": {},
   "outputs": [],
   "source": [
    "# Object example\n",
    "obj = Dog()"
   ]
  },
  {
   "cell_type": "markdown",
   "metadata": {},
   "source": [
    "#### The Python self  \n",
    "* Class methods must have an extra first parameter in the method definition. \n",
    "* We do not give a value for this parameter when we call the method, Python provides it\n",
    "* If we have a method that takes no arguments, then we still have to have one argument.\n",
    "* This is similar to this pointer in C++ and this reference in Java.\n",
    "* When we call a method of this object as myobject.method(arg1, arg2), this is automatically converted by Python into MyClass.method(myobject, arg1, arg2) – this is all the special self is about."
   ]
  },
  {
   "cell_type": "markdown",
   "metadata": {},
   "source": [
    "#### The Python __init__ Method \n",
    "* The __init__ method is similar to constructors in C++ and Java. \n",
    "* It is run as soon as an object of a class is instantiated. \n",
    "* The method is useful to do any initialization you want to do with your object."
   ]
  },
  {
   "cell_type": "markdown",
   "metadata": {},
   "source": [
    "#### Creating a class and object with class and instance attributes"
   ]
  },
  {
   "cell_type": "code",
   "execution_count": 3,
   "metadata": {},
   "outputs": [],
   "source": [
    "\n",
    "class Dog:\n",
    "\t\"\"\"class of an animal dog\"\"\"\n",
    "\n",
    "\t# class attribute\n",
    "\tattr_animal = \"mammal\"\n",
    "\n",
    "\t# Instance attribute\n",
    "\tdef __init__(self, name):\n",
    "\t\tself.name = name"
   ]
  },
  {
   "cell_type": "code",
   "execution_count": 7,
   "metadata": {},
   "outputs": [
    {
     "name": "stdout",
     "output_type": "stream",
     "text": [
      "Coco is a mammal\n",
      "Tom is also a mammal\n",
      "My name is Coco\n",
      "My name is Tom\n"
     ]
    }
   ],
   "source": [
    "# Driver code\n",
    "# Object instantiation - two dogs\n",
    "Coco = Dog(\"Coco\")\n",
    "Tom = Dog(\"Tom\")\n",
    "\n",
    "# Accessing class attributes\n",
    "print(\"Coco is a {}\".format(Coco.__class__.attr_animal))\n",
    "print(\"Tom is also a {}\".format(Tom.__class__.attr_animal))\n",
    "\n",
    "# Accessing instance attributes\n",
    "print(\"My name is {}\".format(Coco.name))\n",
    "print(\"My name is {}\".format(Tom.name))\n"
   ]
  },
  {
   "cell_type": "markdown",
   "metadata": {},
   "source": [
    "#### Python Inheritance\n",
    "Inheritance is the capability of one class to derive or inherit the properties from another class. \n",
    "\n",
    "The class that derives properties is called the derived class or **child** class and the class from which the properties are being derived is called the base class or **parent** class.\n",
    " "
   ]
  },
  {
   "cell_type": "markdown",
   "metadata": {},
   "source": [
    "The benefits of inheritance are:\n",
    "\n",
    "* It represents real-world relationships well.\n",
    "* It provides the reusability of a code. We don’t have to write the same code again and again. Also, it allows us to add more features to a class without modifying it.\n",
    "* It is transitive in nature, which means that if class B inherits from another class A, then all the subclasses of B would automatically inherit from class A."
   ]
  },
  {
   "cell_type": "markdown",
   "metadata": {},
   "source": [
    "Types of Inheritance\n",
    "1. Single Inheritance: Single-level inheritance enables a derived class to inherit characteristics from a single-parent class.\n",
    "2. Multilevel Inheritance: Multi-level inheritance enables a derived class to inherit properties from an immediate parent class which in turn inherits properties from his parent class. \n",
    "3. Hierarchical Inheritance: Hierarchical-level inheritance enables more than one derived class to inherit properties from a parent class.\n",
    "4. Multiple Inheritance: Multiple-level inheritance enables one derived class to inherit properties from more than one base class."
   ]
  },
  {
   "cell_type": "markdown",
   "metadata": {},
   "source": [
    "Example :Person (parent class) and Employee (Child Class). The Employee class inherits from the Person class. "
   ]
  },
  {
   "cell_type": "code",
   "execution_count": 10,
   "metadata": {},
   "outputs": [],
   "source": [
    "# parent class\n",
    "class Person(object):\n",
    " \n",
    "    # __init__ is known as the constructor\n",
    "    def __init__(self, name, idnumber):\n",
    "        self.name = name\n",
    "        self.idnumber = idnumber\n",
    " \n",
    "    def display(self):\n",
    "        print(self.name)\n",
    "        print(self.idnumber)\n",
    "         \n",
    "    def details(self):\n",
    "        print(\"My name is {}\".format(self.name))\n",
    "        print(\"IdNumber: {}\".format(self.idnumber))"
   ]
  },
  {
   "cell_type": "code",
   "execution_count": 11,
   "metadata": {},
   "outputs": [],
   "source": [
    "# child class\n",
    "class Employee(Person):\n",
    "    def __init__(self, name, idnumber, salary, post):\n",
    "        self.salary = salary\n",
    "        self.post = post\n",
    " \n",
    "        # invoking the __init__ of the parent class\n",
    "        Person.__init__(self, name, idnumber)\n",
    "         \n",
    "    def details(self):\n",
    "        print(\"My name is {}\".format(self.name))\n",
    "        print(\"IdNumber: {}\".format(self.idnumber))\n",
    "        print(\"Post: {}\".format(self.post))"
   ]
  },
  {
   "cell_type": "code",
   "execution_count": 12,
   "metadata": {},
   "outputs": [
    {
     "name": "stdout",
     "output_type": "stream",
     "text": [
      "Tulio\n",
      "3934568\n",
      "My name is Tulio\n",
      "IdNumber: 3934568\n",
      "Post: Intern\n"
     ]
    }
   ],
   "source": [
    "# creation of an object variable or an instance\n",
    "a = Employee('Tulio', 3934568, 200000, \"Intern\")\n",
    " \n",
    "# calling a function of the class Person using\n",
    "# its instance\n",
    "a.display()\n",
    "a.details()"
   ]
  },
  {
   "cell_type": "markdown",
   "metadata": {},
   "source": [
    "We can use the methods of the person class through the employee class as seen in the display function in the above code. A child class can also modify the behavior of the parent class as seen through the details() method."
   ]
  },
  {
   "cell_type": "markdown",
   "metadata": {},
   "source": [
    "#### Polymorphism in Python\n",
    "Polymorphism simply means having many forms. \n",
    "\n",
    "\n",
    "For example, we need to determine if the given species of birds fly or not, using polymorphism we can do this using a single function.\n",
    "* This code demonstrates the concept of inheritance and method overriding in Python classes. It shows how subclasses can override methods defined in their parent class to provide specific behavior while still inheriting other methods from the parent class."
   ]
  },
  {
   "cell_type": "code",
   "execution_count": 13,
   "metadata": {},
   "outputs": [],
   "source": [
    "class Bird:\n",
    "\n",
    "\tdef intro(self):\n",
    "\t\tprint(\"There are many types of birds.\")\n",
    "\n",
    "\tdef flight(self):\n",
    "\t\tprint(\"Most of the birds can fly but some cannot.\")\n",
    "\n",
    "class sparrow(Bird):\n",
    "\n",
    "\tdef flight(self):\n",
    "\t\tprint(\"Sparrows can fly.\")\n",
    "\n",
    "class ostrich(Bird):\n",
    "\n",
    "\tdef flight(self):\n",
    "\t\tprint(\"Ostriches cannot fly.\")"
   ]
  },
  {
   "cell_type": "code",
   "execution_count": 16,
   "metadata": {},
   "outputs": [
    {
     "name": "stdout",
     "output_type": "stream",
     "text": [
      "There are many types of birds.\n",
      "Most of the birds can fly but some cannot.\n",
      "There are many types of birds.\n",
      "Sparrows can fly.\n",
      "There are many types of birds.\n",
      "Ostriches cannot fly.\n"
     ]
    }
   ],
   "source": [
    "bird = Bird()       # creates an instance of the parent class bird\n",
    "spr = sparrow()     # creates an instance of the child class sparrow\n",
    "ost = ostrich()     # creates an instance of the child class ostrich\n",
    "\n",
    "bird.intro()        # invoque a method of the object bird (parent)\n",
    "bird.flight()       # invoque a method of the object bird (parent)\n",
    "\n",
    "spr.intro()         # invoque a method of the object spr (sparrow child)\n",
    "spr.flight()        # invoque a method of the object spr (sparrow child)\n",
    "\n",
    "ost.intro()         # invoque a method of the object ost (ostrich child)\n",
    "ost.flight()        # invoque a method of the object ost (ostrich child)\n"
   ]
  },
  {
   "cell_type": "markdown",
   "metadata": {},
   "source": [
    "### Python Encapsulation\n",
    "Encapsulation is one of the fundamental concepts in object-oriented programming (OOP). \n",
    "\n",
    "It describes the idea of wrapping data and the methods that work on data within one unit. \n",
    "1. This puts restrictions on accessing variables and methods directly and can prevent the accidental modification of data. \n",
    "2. To prevent accidental change, an object’s variable can only be changed by an object’s method. \n",
    "    + Those types of variables are known as private variables.\n",
    "\n",
    "A class is an example of encapsulation as it encapsulates all the data that is member functions, variables, etc."
   ]
  },
  {
   "cell_type": "code",
   "execution_count": 21,
   "metadata": {},
   "outputs": [],
   "source": [
    "# Python program to\n",
    "# demonstrate private members\n",
    "\n",
    "# Creating a Base class\n",
    "class Base:\n",
    "\tdef __init__(self):\n",
    "\t\tself.a = \"a can be accesed\"\t\t# we can control the setup of this encapsulated attribute\n",
    "\t\tself.__c = \"__c can't be accesed\" # this is encapsulated plus hidden\n",
    "\n",
    "# Creating a derived class\n",
    "class Derived(Base):\n",
    "\tdef __init__(self):\n",
    "\n",
    "\t\t# Calling constructor of\n",
    "\t\t# Base class\n",
    "\t\tBase.__init__(self)\n",
    "\t\tprint(\"Calling private member of base class: \")\n",
    "\t\tprint(self.__c)"
   ]
  },
  {
   "cell_type": "code",
   "execution_count": 27,
   "metadata": {},
   "outputs": [
    {
     "name": "stdout",
     "output_type": "stream",
     "text": [
      "a can be accesed\n"
     ]
    }
   ],
   "source": [
    "# Driver code\n",
    "base_object = Base()\n",
    "print(base_object.a)\n",
    "\n",
    "# Uncommenting print(base_object.c) or print(base_object.c) will raise an AttributeError\n",
    "# print(base_object.c)\n",
    "# print(base_object.__c)\n",
    "\n",
    "# Uncommenting obj_derived = Derived() will also raise an AtrributeError as \n",
    "# a private member of base class as called inside derived class\n",
    "# obj_derived = Derived()"
   ]
  },
  {
   "cell_type": "markdown",
   "metadata": {},
   "source": [
    "### Printing Objects \n",
    "\n",
    "Printing objects give us information about objects we are working with. \n",
    "* In C++, we can do this by adding a friend ostream& operator << (ostream&, const Foobar&) method for the class. \n",
    "* In Java, we use toString() method.\n",
    "* **In python, this can be achieved by using __repr__ or __str__ methods.**\n",
    "    * If no __str__ method is defined, print t (or print str(t)) uses __repr__. \n",
    "    * If no __repr__ method is defined then the default is used. "
   ]
  },
  {
   "cell_type": "code",
   "execution_count": 29,
   "metadata": {},
   "outputs": [
    {
     "name": "stdout",
     "output_type": "stream",
     "text": [
      "From str method of Test: a is 1234, b is 5678\n",
      "[Test a:1234 b:5678]\n"
     ]
    }
   ],
   "source": [
    "class Test: \n",
    "\tdef __init__(self, a, b): \n",
    "\t\tself.a = a \n",
    "\t\tself.b = b \n",
    "\n",
    "\tdef __repr__(self): \n",
    "\t\treturn \"Test a:%s b:%s\" % (self.a, self.b) \n",
    "\n",
    "\tdef __str__(self): \n",
    "\t\treturn \"From str method of Test: a is %s, b is %s\" % (self.a, self.b) \n",
    "\n",
    "# Driver Code\t\t \n",
    "t = Test(1234, 5678) \n",
    "print(t) # This calls __str__() \n",
    "print([t]) # This calls __repr__() \n"
   ]
  },
  {
   "cell_type": "markdown",
   "metadata": {},
   "source": []
  }
 ],
 "metadata": {
  "kernelspec": {
   "display_name": "base",
   "language": "python",
   "name": "python3"
  },
  "language_info": {
   "codemirror_mode": {
    "name": "ipython",
    "version": 3
   },
   "file_extension": ".py",
   "mimetype": "text/x-python",
   "name": "python",
   "nbconvert_exporter": "python",
   "pygments_lexer": "ipython3",
   "version": "3.10.9"
  }
 },
 "nbformat": 4,
 "nbformat_minor": 2
}
