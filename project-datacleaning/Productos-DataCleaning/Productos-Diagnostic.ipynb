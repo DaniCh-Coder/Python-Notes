{
 "cells": [
  {
   "cell_type": "markdown",
   "metadata": {},
   "source": [
    "# Diagnostico de Tabla"
   ]
  },
  {
   "cell_type": "code",
   "execution_count": 19,
   "metadata": {},
   "outputs": [],
   "source": [
    "# modules we'll use\n",
    "import pandas as pd\n",
    "import numpy as np\n",
    "import seaborn as sns"
   ]
  },
  {
   "cell_type": "code",
   "execution_count": 20,
   "metadata": {},
   "outputs": [
    {
     "name": "stdout",
     "output_type": "stream",
     "text": [
      "<class 'pandas.core.frame.DataFrame'>\n",
      "RangeIndex: 606 entries, 0 to 605\n",
      "Data columns (total 10 columns):\n",
      " #   Column           Non-Null Count  Dtype \n",
      "---  ------           --------------  ----- \n",
      " 0   IdProducto       606 non-null    int64 \n",
      " 1   Producto         606 non-null    object\n",
      " 2   Color            352 non-null    object\n",
      " 3   Precio Catálogo  395 non-null    object\n",
      " 4   Tamaño           299 non-null    object\n",
      " 5   Rango Tamaño     299 non-null    object\n",
      " 6   Línea            380 non-null    object\n",
      " 7   Modelo           397 non-null    object\n",
      " 8   Subcategoría     397 non-null    object\n",
      " 9   Categoría        397 non-null    object\n",
      "dtypes: int64(1), object(9)\n",
      "memory usage: 47.5+ KB\n"
     ]
    }
   ],
   "source": [
    "# read in all our data\n",
    "# Tab-separated values\n",
    "df = pd.read_csv('Productos.txt', sep='\\t')\n",
    "df.info() \n",
    "    "
   ]
  },
  {
   "cell_type": "code",
   "execution_count": 21,
   "metadata": {},
   "outputs": [
    {
     "data": {
      "text/html": [
       "<div>\n",
       "<style scoped>\n",
       "    .dataframe tbody tr th:only-of-type {\n",
       "        vertical-align: middle;\n",
       "    }\n",
       "\n",
       "    .dataframe tbody tr th {\n",
       "        vertical-align: top;\n",
       "    }\n",
       "\n",
       "    .dataframe thead th {\n",
       "        text-align: right;\n",
       "    }\n",
       "</style>\n",
       "<table border=\"1\" class=\"dataframe\">\n",
       "  <thead>\n",
       "    <tr style=\"text-align: right;\">\n",
       "      <th></th>\n",
       "      <th>IdProducto</th>\n",
       "      <th>Producto</th>\n",
       "      <th>Color</th>\n",
       "      <th>Precio Catálogo</th>\n",
       "      <th>Tamaño</th>\n",
       "      <th>Rango Tamaño</th>\n",
       "      <th>Línea</th>\n",
       "      <th>Modelo</th>\n",
       "      <th>Subcategoría</th>\n",
       "      <th>Categoría</th>\n",
       "    </tr>\n",
       "  </thead>\n",
       "  <tbody>\n",
       "    <tr>\n",
       "      <th>0</th>\n",
       "      <td>562</td>\n",
       "      <td>Turismo-1000 Amarillo, 50</td>\n",
       "      <td>Amarillo</td>\n",
       "      <td>2384,07</td>\n",
       "      <td>50</td>\n",
       "      <td>48-52 CM</td>\n",
       "      <td>T</td>\n",
       "      <td>Turismo-1000</td>\n",
       "      <td>Turismo Bicicletas</td>\n",
       "      <td>Bicicletas</td>\n",
       "    </tr>\n",
       "    <tr>\n",
       "      <th>1</th>\n",
       "      <td>564</td>\n",
       "      <td>Turismo-1000 Amarillo, 60</td>\n",
       "      <td>Amarillo</td>\n",
       "      <td>2384,07</td>\n",
       "      <td>60</td>\n",
       "      <td>60-62 CM</td>\n",
       "      <td>T</td>\n",
       "      <td>Turismo-1000</td>\n",
       "      <td>Turismo Bicicletas</td>\n",
       "      <td>Bicicletas</td>\n",
       "    </tr>\n",
       "    <tr>\n",
       "      <th>2</th>\n",
       "      <td>600</td>\n",
       "      <td>Montaña-500 Negro, 52</td>\n",
       "      <td>Negro</td>\n",
       "      <td>539,99</td>\n",
       "      <td>52</td>\n",
       "      <td>48-52 CM</td>\n",
       "      <td>M</td>\n",
       "      <td>Montaña-500</td>\n",
       "      <td>Montaña Bicicletas</td>\n",
       "      <td>Bicicletas</td>\n",
       "    </tr>\n",
       "    <tr>\n",
       "      <th>3</th>\n",
       "      <td>588</td>\n",
       "      <td>Montaña-400-W Plateado, 40</td>\n",
       "      <td>Plateado</td>\n",
       "      <td>769,49</td>\n",
       "      <td>40</td>\n",
       "      <td>38-40 CM</td>\n",
       "      <td>M</td>\n",
       "      <td>Montaña-400-W</td>\n",
       "      <td>Montaña Bicicletas</td>\n",
       "      <td>Bicicletas</td>\n",
       "    </tr>\n",
       "    <tr>\n",
       "      <th>4</th>\n",
       "      <td>185</td>\n",
       "      <td>HL Ruta Llanta</td>\n",
       "      <td>NaN</td>\n",
       "      <td>NaN</td>\n",
       "      <td>NaN</td>\n",
       "      <td>NaN</td>\n",
       "      <td>NaN</td>\n",
       "      <td>NaN</td>\n",
       "      <td>NaN</td>\n",
       "      <td>NaN</td>\n",
       "    </tr>\n",
       "    <tr>\n",
       "      <th>...</th>\n",
       "      <td>...</td>\n",
       "      <td>...</td>\n",
       "      <td>...</td>\n",
       "      <td>...</td>\n",
       "      <td>...</td>\n",
       "      <td>...</td>\n",
       "      <td>...</td>\n",
       "      <td>...</td>\n",
       "      <td>...</td>\n",
       "      <td>...</td>\n",
       "    </tr>\n",
       "    <tr>\n",
       "      <th>601</th>\n",
       "      <td>376</td>\n",
       "      <td>Ruta-250 Negro, 48</td>\n",
       "      <td>Negro</td>\n",
       "      <td>2443,35</td>\n",
       "      <td>48</td>\n",
       "      <td>48-52 CM</td>\n",
       "      <td>R</td>\n",
       "      <td>Ruta-250</td>\n",
       "      <td>Ruta Bicicletas</td>\n",
       "      <td>Bicicletas</td>\n",
       "    </tr>\n",
       "    <tr>\n",
       "      <th>602</th>\n",
       "      <td>280</td>\n",
       "      <td>LL Ruta Marco - Negro, 44</td>\n",
       "      <td>Negro</td>\n",
       "      <td>306,5636</td>\n",
       "      <td>44</td>\n",
       "      <td>42-46 CM</td>\n",
       "      <td>R</td>\n",
       "      <td>LL Ruta Marco</td>\n",
       "      <td>Ruta Marco</td>\n",
       "      <td>Componentes</td>\n",
       "    </tr>\n",
       "    <tr>\n",
       "      <th>603</th>\n",
       "      <td>2</td>\n",
       "      <td>Bola de rodamiento</td>\n",
       "      <td>NaN</td>\n",
       "      <td>NaN</td>\n",
       "      <td>NaN</td>\n",
       "      <td>NaN</td>\n",
       "      <td>NaN</td>\n",
       "      <td>NaN</td>\n",
       "      <td>NaN</td>\n",
       "      <td>NaN</td>\n",
       "    </tr>\n",
       "    <tr>\n",
       "      <th>604</th>\n",
       "      <td>258</td>\n",
       "      <td>LL Ruta Marco - Negro, 60</td>\n",
       "      <td>Negro</td>\n",
       "      <td>337,22</td>\n",
       "      <td>60</td>\n",
       "      <td>60-62 CM</td>\n",
       "      <td>R</td>\n",
       "      <td>LL Ruta Marco</td>\n",
       "      <td>Ruta Marco</td>\n",
       "      <td>Componentes</td>\n",
       "    </tr>\n",
       "    <tr>\n",
       "      <th>605</th>\n",
       "      <td>209</td>\n",
       "      <td>Cambio trasero Jaula</td>\n",
       "      <td>Plateado</td>\n",
       "      <td>NaN</td>\n",
       "      <td>NaN</td>\n",
       "      <td>NaN</td>\n",
       "      <td>NaN</td>\n",
       "      <td>NaN</td>\n",
       "      <td>NaN</td>\n",
       "      <td>NaN</td>\n",
       "    </tr>\n",
       "  </tbody>\n",
       "</table>\n",
       "<p>606 rows × 10 columns</p>\n",
       "</div>"
      ],
      "text/plain": [
       "     IdProducto                    Producto     Color Precio Catálogo Tamaño  \\\n",
       "0           562   Turismo-1000 Amarillo, 50  Amarillo         2384,07     50   \n",
       "1           564   Turismo-1000 Amarillo, 60  Amarillo         2384,07     60   \n",
       "2           600       Montaña-500 Negro, 52     Negro          539,99     52   \n",
       "3           588  Montaña-400-W Plateado, 40  Plateado          769,49     40   \n",
       "4           185              HL Ruta Llanta       NaN             NaN    NaN   \n",
       "..          ...                         ...       ...             ...    ...   \n",
       "601         376          Ruta-250 Negro, 48     Negro         2443,35     48   \n",
       "602         280   LL Ruta Marco - Negro, 44     Negro        306,5636     44   \n",
       "603           2          Bola de rodamiento       NaN             NaN    NaN   \n",
       "604         258   LL Ruta Marco - Negro, 60     Negro          337,22     60   \n",
       "605         209        Cambio trasero Jaula  Plateado             NaN    NaN   \n",
       "\n",
       "    Rango Tamaño Línea         Modelo        Subcategoría    Categoría  \n",
       "0       48-52 CM     T   Turismo-1000  Turismo Bicicletas   Bicicletas  \n",
       "1       60-62 CM     T   Turismo-1000  Turismo Bicicletas   Bicicletas  \n",
       "2       48-52 CM     M    Montaña-500  Montaña Bicicletas   Bicicletas  \n",
       "3       38-40 CM     M  Montaña-400-W  Montaña Bicicletas   Bicicletas  \n",
       "4            NaN   NaN            NaN                 NaN          NaN  \n",
       "..           ...   ...            ...                 ...          ...  \n",
       "601     48-52 CM     R       Ruta-250     Ruta Bicicletas   Bicicletas  \n",
       "602     42-46 CM     R  LL Ruta Marco          Ruta Marco  Componentes  \n",
       "603          NaN   NaN            NaN                 NaN          NaN  \n",
       "604     60-62 CM     R  LL Ruta Marco          Ruta Marco  Componentes  \n",
       "605          NaN   NaN            NaN                 NaN          NaN  \n",
       "\n",
       "[606 rows x 10 columns]"
      ]
     },
     "execution_count": 21,
     "metadata": {},
     "output_type": "execute_result"
    }
   ],
   "source": [
    "df"
   ]
  },
  {
   "cell_type": "markdown",
   "metadata": {},
   "source": [
    "## Observaciones"
   ]
  },
  {
   "cell_type": "markdown",
   "metadata": {},
   "source": [
    "### Tabla"
   ]
  },
  {
   "cell_type": "markdown",
   "metadata": {},
   "source": [
    "Se trata de un archivo con:\n",
    "* 606 filas y 9 Columnas.\n",
    "* Solo dos columnas están completas. Hay 7 que no."
   ]
  },
  {
   "cell_type": "markdown",
   "metadata": {},
   "source": [
    "1. Id Producto."
   ]
  },
  {
   "cell_type": "code",
   "execution_count": 22,
   "metadata": {},
   "outputs": [
    {
     "data": {
      "text/plain": [
       "<seaborn.axisgrid.FacetGrid at 0x194e951eb40>"
      ]
     },
     "execution_count": 22,
     "metadata": {},
     "output_type": "execute_result"
    },
    {
     "data": {
      "image/png": "[encoded data removed]",
      "text/plain": [
       "<Figure size 500x500 with 1 Axes>"
      ]
     },
     "metadata": {},
     "output_type": "display_data"
    }
   ],
   "source": [
    "# see distribution\n",
    "sns.displot(df, x='IdProducto', bins=len(df))"
   ]
  },
  {
   "cell_type": "markdown",
   "metadata": {},
   "source": [
    "La primera columna parece estar en buenas condiciones para ser el indice que identifica cada producto.\n",
    "Chequeo entonces que no contenga valores repetidos."
   ]
  },
  {
   "cell_type": "code",
   "execution_count": 23,
   "metadata": {},
   "outputs": [
    {
     "data": {
      "text/plain": [
       "606"
      ]
     },
     "execution_count": 23,
     "metadata": {},
     "output_type": "execute_result"
    }
   ],
   "source": [
    "# check the lenght\n",
    "len(df.IdProducto)"
   ]
  },
  {
   "cell_type": "code",
   "execution_count": 24,
   "metadata": {},
   "outputs": [
    {
     "data": {
      "text/plain": [
       "array([562, 564, 600, 588, 185,  81,  86,   8,  91, 181,  96,   3,  20,\n",
       "       101, 141, 106, 329, 386, 314, 465, 397, 401, 243, 437, 247, 282,\n",
       "       242, 220, 237, 228, 305, 426, 477, 498, 536, 537, 476, 471, 539,\n",
       "       146, 315, 580,  39, 111, 433, 474, 338, 253, 151, 240, 520, 525,\n",
       "       333, 310,  44, 292, 116, 410, 411, 431, 429, 156, 603, 260,  49,\n",
       "       121, 324,  23, 374, 377, 161, 448, 396, 466,  54, 589, 126,  28,\n",
       "       544, 166,  78, 200, 581, 473, 502,  59, 131, 244, 239, 327, 221,\n",
       "       486, 591, 584,  64, 568, 136, 224, 495,  12,  10, 367,  69, 215,\n",
       "       322, 195, 231, 463, 435, 293, 523, 343, 212, 456,  74, 538, 418,\n",
       "       395, 173, 177, 561, 202, 592, 412,  18, 222, 182,  37, 440, 207,\n",
       "       586, 582,  83, 365, 453, 519, 450, 475, 380, 384, 445,  88, 455,\n",
       "       358,  93, 294, 439, 458, 233, 196,  98, 382, 404, 572,   6, 276,\n",
       "         5,  14, 103, 593, 574, 143, 348, 279, 442, 198, 108, 216, 148,\n",
       "       543, 287, 291,  21, 213,  41, 113, 390, 236, 153, 518, 344,   7,\n",
       "       353, 419, 420,  46, 118, 534, 563, 158,  51, 123, 297,  25, 441,\n",
       "       163, 576,  56, 128, 535, 528,  30, 556, 168, 595, 227, 217, 500,\n",
       "        61, 133, 214, 451, 241, 371,  66, 138, 388, 192,  79, 533, 277,\n",
       "       328, 360, 478, 284, 513,  71, 521, 303, 524, 337, 362,  76,  33,\n",
       "         1, 175, 179,  34, 259, 421, 204, 274, 257, 193, 352, 255, 402,\n",
       "       481, 554, 197, 529, 512, 335,  85, 601, 452, 271, 504, 273, 180,\n",
       "       169, 238, 570, 355,  90,  35, 309, 199, 403, 230, 194, 317, 357,\n",
       "       170, 332,  95, 319, 368, 218, 370, 366, 479, 263, 573, 290, 100,\n",
       "       604, 300,  13, 606,  11, 301, 105,  36, 351, 145, 499,  38, 232,\n",
       "       444, 110, 326, 507, 150, 560, 321,  43, 115, 392, 347, 155, 547,\n",
       "        48, 120,  22, 160, 342, 578,  80,  53, 125,  27, 270, 278, 422,\n",
       "       415, 272, 165, 443, 265, 235, 354,  77,  58, 130, 356, 378, 545,\n",
       "       532,  63, 135, 140, 269, 189, 306, 262, 467,   9,  68, 497, 571,\n",
       "       555, 493, 469, 375, 542, 331, 210, 226, 559, 464, 417,  73, 407,\n",
       "       575, 503, 489, 546, 172, 281, 176, 552, 252, 190, 393,  17, 491,\n",
       "       496, 206, 318, 454, 369,  82, 341, 487, 307,  87, 541, 605, 264,\n",
       "       553, 251, 191, 566,  92, 517, 569, 288, 423, 385, 268, 304,  97,\n",
       "       299, 424, 550, 461, 599, 225, 102, 208, 142, 229, 107, 494, 416,\n",
       "       256, 147, 511,  40, 373, 112, 492, 459, 316, 349, 286, 152, 308,\n",
       "       434, 558, 261,  45, 577, 117, 501,   4, 432, 157, 430, 585,  50,\n",
       "       122, 540,  24, 289, 345, 336, 162, 249,  55, 127,  29, 462,  31,\n",
       "       505, 167, 201, 449, 267,  60, 132, 551, 339, 428, 472, 406,  65,\n",
       "       137, 211, 447, 275, 311,  70, 313, 325, 248, 334, 350, 436, 400,\n",
       "       283, 587,  75, 372, 425,  32, 509, 187, 174, 178, 480, 346,  19,\n",
       "       379, 482, 446, 246, 254, 391, 359, 323, 405, 205, 506,  84, 531,\n",
       "       460, 579, 188, 596,  89, 398, 483, 203, 219, 266, 484, 302, 320,\n",
       "       399,  94, 548, 245, 549, 298, 184, 383, 413, 394, 510, 409, 457,\n",
       "        99, 527, 485,  15, 104, 144, 597, 468, 381, 109, 149, 186,  42,\n",
       "       114, 522, 488, 154, 567,  47, 119, 526, 330, 159, 530, 389, 565,\n",
       "       583,  52, 516, 124,  26, 250, 312, 164, 408, 427,  57, 508, 129,\n",
       "        16, 414, 361,  62, 134, 515, 296, 183, 363, 470, 598, 602, 364,\n",
       "        67, 139, 340, 590, 490, 557,  72, 514, 234, 594, 223, 387, 285,\n",
       "       171, 295, 438, 376, 280,   2, 258, 209], dtype=int64)"
      ]
     },
     "execution_count": 24,
     "metadata": {},
     "output_type": "execute_result"
    }
   ],
   "source": [
    "df.IdProducto.unique()"
   ]
  },
  {
   "cell_type": "code",
   "execution_count": 25,
   "metadata": {},
   "outputs": [
    {
     "data": {
      "text/plain": [
       "IdProducto\n",
       "562    1\n",
       "423    1\n",
       "268    1\n",
       "304    1\n",
       "97     1\n",
       "      ..\n",
       "556    1\n",
       "168    1\n",
       "595    1\n",
       "227    1\n",
       "209    1\n",
       "Name: count, Length: 606, dtype: int64"
      ]
     },
     "execution_count": 25,
     "metadata": {},
     "output_type": "execute_result"
    }
   ],
   "source": [
    "df.IdProducto.value_counts()"
   ]
  },
  {
   "cell_type": "code",
   "execution_count": 26,
   "metadata": {},
   "outputs": [
    {
     "data": {
      "text/plain": [
       "False"
      ]
     },
     "execution_count": 26,
     "metadata": {},
     "output_type": "execute_result"
    }
   ],
   "source": [
    "# check if there is duplicated\n",
    "df.IdProducto.duplicated().any()"
   ]
  },
  {
   "cell_type": "code",
   "execution_count": 27,
   "metadata": {},
   "outputs": [],
   "source": [
    "# no duplicates -> column can be used as an index\n",
    "df.set_index(df.columns[0], inplace=True)"
   ]
  },
  {
   "cell_type": "code",
   "execution_count": 28,
   "metadata": {},
   "outputs": [
    {
     "data": {
      "text/plain": [
       "False"
      ]
     },
     "execution_count": 28,
     "metadata": {},
     "output_type": "execute_result"
    }
   ],
   "source": [
    "# re-check for duplicate index values\n",
    "df.index.duplicated().any()"
   ]
  },
  {
   "cell_type": "code",
   "execution_count": 29,
   "metadata": {},
   "outputs": [
    {
     "data": {
      "text/plain": [
       "606"
      ]
     },
     "execution_count": 29,
     "metadata": {},
     "output_type": "execute_result"
    }
   ],
   "source": [
    "# check the correct lengh of the index (must be = to df shape rows)\n",
    "len(df.index)"
   ]
  },
  {
   "cell_type": "markdown",
   "metadata": {},
   "source": [
    "La primera columna es el indice y está OK"
   ]
  },
  {
   "cell_type": "markdown",
   "metadata": {},
   "source": []
  }
 ],
 "metadata": {
  "kernelspec": {
   "display_name": ".venv",
   "language": "python",
   "name": "python3"
  },
  "language_info": {
   "codemirror_mode": {
    "name": "ipython",
    "version": 3
   },
   "file_extension": ".py",
   "mimetype": "text/x-python",
   "name": "python",
   "nbconvert_exporter": "python",
   "pygments_lexer": "ipython3",
   "version": "3.12.0"
  }
 },
 "nbformat": 4,
 "nbformat_minor": 2
}
