{
 "cells": [
  {
   "cell_type": "markdown",
   "metadata": {},
   "source": [
    "# Decorators"
   ]
  },
  {
   "cell_type": "markdown",
   "metadata": {},
   "source": [
    "A function returning another function, usually applied as a function transformation using the @wrapper syntax. \n",
    "The same concept exists for classes, but is less commonly used there. See the documentation for function definitions and class definitions for more about decorators.\n",
    "\n",
    "Decorators are a very powerful and useful tool in Python since it allows programmers to modify the behaviour of a function or class. \n",
    "\n",
    "Decorators allow us to wrap another function in order to extend the behaviour of the wrapped function, without permanently modifying it. \n",
    "\n",
    "But before diving deep into decorators let us understand some concepts that will come in handy in learning the decorators."
   ]
  },
  {
   "cell_type": "markdown",
   "metadata": {},
   "source": [
    "### First Class Objects\n",
    "In Python, functions are first class objects which means that functions in Python can be used or passed as arguments.\n",
    "\n",
    "Properties of first class functions:\n",
    "1. A function is an instance of the Object type.\n",
    "2. You can store the function in a variable.\n",
    "3. You can pass the function as a parameter to another function.\n",
    "4. You can return the function from a function.\n",
    "5. You can store them in data structures such as hash tables, lists, …"
   ]
  },
  {
   "cell_type": "code",
   "execution_count": 2,
   "metadata": {},
   "outputs": [
    {
     "name": "stdout",
     "output_type": "stream",
     "text": [
      "HI, I AM CREATED BY A FUNCTION PASSED AS AN ARGUMENT.\n",
      "hi, i am created by a function passed as an argument.\n"
     ]
    }
   ],
   "source": [
    "# Python program to illustrate functions can be passed as arguments to other functions \n",
    "def shout(text): \n",
    "\t\"\"\"put text in upper case\"\"\"\n",
    "\treturn text.upper() \n",
    "\n",
    "def whisper(text):\n",
    "\t\"\"\"put text in lower case\"\"\" \n",
    "\treturn text.lower() \n",
    "\n",
    "def greet(func): \n",
    "\t\"\"\"store other function as a variable\"\"\"\n",
    "\t# in fact, the argument is an address to a function\n",
    "\tgreeting = func(\"\"\"Hi, I am created by a function passed as an argument.\"\"\") \n",
    "\tprint (greeting) \n",
    "\n",
    "greet(shout) \n",
    "greet(whisper) "
   ]
  },
  {
   "cell_type": "code",
   "execution_count": 5,
   "metadata": {},
   "outputs": [
    {
     "name": "stdout",
     "output_type": "stream",
     "text": [
      "this is decorated_func\n",
      "This is inner decorated function\n",
      "This is ordinary function\n"
     ]
    }
   ],
   "source": [
    "# Python program to demonstrate \n",
    "# decorators \n",
    "\n",
    "\n",
    "# Creating a decorator \n",
    "def decorated_func(func): \n",
    "\tprint(\"this is decorated_func\")\n",
    "\tdef inner(): \n",
    "\t\tprint(\"This is inner decorated function\") \n",
    "\t\tfunc() \n",
    "\treturn inner() \n",
    "\n",
    "\n",
    "def ordinary_func (): \n",
    "\tprint(\"This is ordinary function\") \n",
    "\n",
    "decorated = decorated_func(ordinary_func) \n",
    "decorated \n"
   ]
  },
  {
   "cell_type": "code",
   "execution_count": 7,
   "metadata": {},
   "outputs": [
    {
     "name": "stdout",
     "output_type": "stream",
     "text": [
      "this is decorated_func\n",
      "This is inner decorated function\n",
      "This is ordinary function\n",
      "this is decorated_func\n",
      "This is inner decorated function\n",
      "This is ordinary function\n"
     ]
    }
   ],
   "source": [
    "# the above example most commonly written\n",
    "# this...\n",
    "@decorated_func\n",
    "def ordinary_func():\n",
    "     print(\"This is ordinary function\")\n",
    "\n",
    "# is equivelent to:\n",
    "# def ordinary_func():\n",
    "#     print(\"This is ordinary function\")\n",
    "# decorated = decorated_func(ordinary_func)"
   ]
  }
 ],
 "metadata": {
  "kernelspec": {
   "display_name": "base",
   "language": "python",
   "name": "python3"
  },
  "language_info": {
   "codemirror_mode": {
    "name": "ipython",
    "version": 3
   },
   "file_extension": ".py",
   "mimetype": "text/x-python",
   "name": "python",
   "nbconvert_exporter": "python",
   "pygments_lexer": "ipython3",
   "version": "3.10.9"
  }
 },
 "nbformat": 4,
 "nbformat_minor": 2
}
