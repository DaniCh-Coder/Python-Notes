{
 "cells": [
  {
   "cell_type": "markdown",
   "metadata": {},
   "source": [
    "# charactar-codes"
   ]
  },
  {
   "cell_type": "markdown",
   "metadata": {},
   "source": [
    "Here are examples of strings written in encodings other than UTF-8:\n",
    "\n",
    "1. Latin-1 (ISO-8859-1):\n",
    "    * Covers most Western European languages, including English, French, German, Spanish, and Portuguese.\n",
    "        * Example: \"Buenos días, ¿cómo estás?\"\n",
    "\n",
    "2. Cyrillic (Windows-1251):\n",
    "    * Common for Slavic languages like Russian, Ukrainian, Belarusian, Bulgarian, and Serbian.\n",
    "        * Example: \"Привет, как дела?\"\n",
    "\n",
    "3. Japanese (Shift-JIS):\n",
    "    * Widely used for Japanese text in older systems and websites.\n",
    "        * Example: \"こんにちは、元気ですか？\"\n",
    "\n",
    "4. Korean (EUC-KR):\n",
    "    * Traditional encoding for Korean text.\n",
    "        * Example: \"안녕하세요, 잘 지내세요?\"\n",
    "\n",
    "5. Chinese (GB18030):\n",
    "    * Supports a wide range of Chinese characters, including simplified and traditional forms.\n",
    "        * Example: \"你好，你好吗?\""
   ]
  },
  {
   "cell_type": "code",
   "execution_count": 7,
   "metadata": {},
   "outputs": [
    {
     "data": {
      "text/plain": [
       "b'Hola, \\xc2\\xbfcomo est\\xc3\\xa1s?'"
      ]
     },
     "execution_count": 7,
     "metadata": {},
     "output_type": "execute_result"
    }
   ],
   "source": [
    "my_str = \"Hola, ¿como estás?\"\n",
    "my_bytes_str = my_str.encode(\"UTF-8\") # Sepecify the desire enconding\n",
    "my_bytes_str"
   ]
  },
  {
   "cell_type": "code",
   "execution_count": 8,
   "metadata": {},
   "outputs": [
    {
     "name": "stdout",
     "output_type": "stream",
     "text": [
      "Hola, ¿como estás?\n"
     ]
    }
   ],
   "source": [
    "# This is going to print out your sequence once properly decoded\n",
    "from charset_normalizer import from_bytes\n",
    "\n",
    "print(\n",
    "    str(\n",
    "        from_bytes(\n",
    "            my_bytes_str\n",
    "        ).best()\n",
    "    )\n",
    ")"
   ]
  },
  {
   "cell_type": "code",
   "execution_count": 9,
   "metadata": {},
   "outputs": [
    {
     "name": "stdout",
     "output_type": "stream",
     "text": [
      "got utf-8 as detected encoding\n"
     ]
    }
   ],
   "source": [
    "from charset_normalizer import detect\n",
    "\n",
    "# This will behave exactly the same as python chardet\n",
    "result = detect(my_bytes_str)\n",
    "\n",
    "if result['encoding'] is not None:\n",
    "    print('got', result['encoding'], 'as detected encoding')"
   ]
  },
  {
   "cell_type": "code",
   "execution_count": 14,
   "metadata": {},
   "outputs": [
    {
     "data": {
      "text/plain": [
       "b'\\xc4\\xe3\\xba\\xc3\\xa3\\xac\\xc4\\xe3\\xba\\xc3\\xc2\\xf0?'"
      ]
     },
     "execution_count": 14,
     "metadata": {},
     "output_type": "execute_result"
    }
   ],
   "source": [
    "chinnese_str = \"你好，你好吗?\"\n",
    "chinnesebytes = chinnese_str.encode(\"GB18030\") # Sepecify the desire enconding\n",
    "chinnesebytes\n"
   ]
  },
  {
   "cell_type": "code",
   "execution_count": 15,
   "metadata": {},
   "outputs": [
    {
     "name": "stdout",
     "output_type": "stream",
     "text": [
      "got Big5 as detected encoding\n"
     ]
    }
   ],
   "source": [
    "\n",
    "result = detect(chinnesebytes)\n",
    "\n",
    "if result['encoding'] is not None:\n",
    "    print('got', result['encoding'], 'as detected encoding')"
   ]
  },
  {
   "cell_type": "code",
   "execution_count": 16,
   "metadata": {},
   "outputs": [
    {
     "data": {
      "text/plain": [
       "b'\\xbe\\xc8\\xb3\\xe7\\xc7\\xcf\\xbc\\xbc\\xbf\\xe4, \\xc0\\xdf \\xc1\\xf6\\xb3\\xbb\\xbc\\xbc\\xbf\\xe4?'"
      ]
     },
     "execution_count": 16,
     "metadata": {},
     "output_type": "execute_result"
    }
   ],
   "source": [
    "korean_str = \"안녕하세요, 잘 지내세요?\"\n",
    "koreanbytes = korean_str.encode(\"EUC-KR\") # Specify\n",
    "koreanbytes\n"
   ]
  },
  {
   "cell_type": "code",
   "execution_count": 17,
   "metadata": {},
   "outputs": [
    {
     "name": "stdout",
     "output_type": "stream",
     "text": [
      "got Big5 as detected encoding\n"
     ]
    }
   ],
   "source": [
    "result = detect(koreanbytes)\n",
    "\n",
    "if result['encoding'] is not None:\n",
    "    print('got', result['encoding'], 'as detected encoding')"
   ]
  }
 ],
 "metadata": {
  "kernelspec": {
   "display_name": ".venv",
   "language": "python",
   "name": "python3"
  },
  "language_info": {
   "codemirror_mode": {
    "name": "ipython",
    "version": 3
   },
   "file_extension": ".py",
   "mimetype": "text/x-python",
   "name": "python",
   "nbconvert_exporter": "python",
   "pygments_lexer": "ipython3",
   "version": "3.12.0"
  }
 },
 "nbformat": 4,
 "nbformat_minor": 2
}
