{
 "cells": [
  {
   "cell_type": "markdown",
   "metadata": {},
   "source": [
    "# scale-normalize-methods-python"
   ]
  },
  {
   "cell_type": "code",
   "execution_count": 28,
   "metadata": {},
   "outputs": [],
   "source": [
    "import numpy as np"
   ]
  },
  {
   "cell_type": "code",
   "execution_count": 29,
   "metadata": {},
   "outputs": [
    {
     "data": {
      "text/plain": [
       "array([69, 22, 78, 31, 20, 79, 64, 67, 98, 39], dtype=int64)"
      ]
     },
     "execution_count": 29,
     "metadata": {},
     "output_type": "execute_result"
    }
   ],
   "source": [
    "# genrate 10 random numbers between 0 and 100\n",
    "# imagine that is the age of people\n",
    "rng = np.random.default_rng(12345)\n",
    "ages = rng.integers(low=0, high=100, size=10)\n",
    "ages"
   ]
  },
  {
   "cell_type": "code",
   "execution_count": 30,
   "metadata": {},
   "outputs": [
    {
     "data": {
      "text/plain": [
       "array([128274, 735383, 916188, 853414, 681216, 527315, 709122, 129701,\n",
       "       467590, 517491], dtype=int64)"
      ]
     },
     "execution_count": 30,
     "metadata": {},
     "output_type": "execute_result"
    }
   ],
   "source": [
    "# genrate 10 random numbers between 100.000 and 1.000.000\n",
    "# imagine that is the salaries of people\n",
    "rng = np.random.default_rng(54321)\n",
    "salaries = rng.integers(low=100000, high=1000000, size=10)\n",
    "salaries"
   ]
  },
  {
   "cell_type": "markdown",
   "metadata": {},
   "source": [
    "## Simple feature scalling"
   ]
  },
  {
   "cell_type": "markdown",
   "metadata": {},
   "source": [
    "xnew = xold / xmax"
   ]
  },
  {
   "cell_type": "code",
   "execution_count": 31,
   "metadata": {},
   "outputs": [
    {
     "name": "stdout",
     "output_type": "stream",
     "text": [
      "[69 22 78 31 20 79 64 67 98 39] \n",
      "\n",
      " [0.70408163 0.2244898  0.79591837 0.31632653 0.20408163 0.80612245\n",
      " 0.65306122 0.68367347 1.         0.39795918]\n"
     ]
    }
   ],
   "source": [
    "originalages = ages\n",
    "ages = ages / ages.max()\n",
    "print(originalages,\"\\n\\n\", ages)"
   ]
  },
  {
   "cell_type": "code",
   "execution_count": 32,
   "metadata": {},
   "outputs": [
    {
     "name": "stdout",
     "output_type": "stream",
     "text": [
      "[128274 735383 916188 853414 681216 527315 709122 129701 467590 517491] \n",
      "\n",
      " [0.14000838 0.80265513 1.         0.93148349 0.74353299 0.57555327\n",
      " 0.7739918  0.14156592 0.51036468 0.56483058]\n"
     ]
    }
   ],
   "source": [
    "originalsalaries = salaries\n",
    "salaries = salaries / salaries.max()\n",
    "print(originalsalaries,\"\\n\\n\", salaries)"
   ]
  },
  {
   "cell_type": "markdown",
   "metadata": {},
   "source": [
    "## Min-Max\n",
    "###### https://docs.google.com/document/d/1QNIdtduvwepL1N6RB-KwHt7-ymDFq6w51ZvzNXGHVj8/edit"
   ]
  },
  {
   "cell_type": "markdown",
   "metadata": {},
   "source": [
    "xnew = (xold-xmin)/(xmax-xmin)"
   ]
  },
  {
   "cell_type": "code",
   "execution_count": 33,
   "metadata": {},
   "outputs": [
    {
     "name": "stdout",
     "output_type": "stream",
     "text": [
      "[69 22 78 31 20 79 64 67 98 39] \n",
      "\n",
      " [0.62820513 0.02564103 0.74358974 0.14102564 0.         0.75641026\n",
      " 0.56410256 0.6025641  1.         0.24358974]\n"
     ]
    }
   ],
   "source": [
    "ages = originalages\n",
    "ages = (ages-ages.min()) / (ages.max()-ages.min())\n",
    "print(originalages,\"\\n\\n\", ages)"
   ]
  },
  {
   "cell_type": "code",
   "execution_count": 34,
   "metadata": {},
   "outputs": [
    {
     "name": "stdout",
     "output_type": "stream",
     "text": [
      "[128274 735383 916188 853414 681216 527315 709122 129701 467590 517491] \n",
      "\n",
      " [0.         0.77052699 1.         0.92032887 0.70177964 0.50645248\n",
      " 0.73719721 0.00181111 0.43065106 0.49398412]\n"
     ]
    }
   ],
   "source": [
    "salaries = originalsalaries\n",
    "salaries = (salaries-salaries.min()) / (salaries.max()-salaries.min())\n",
    "print(originalsalaries,\"\\n\\n\", salaries)"
   ]
  },
  {
   "cell_type": "markdown",
   "metadata": {},
   "source": [
    "## z-score\n"
   ]
  },
  {
   "cell_type": "code",
   "execution_count": null,
   "metadata": {},
   "outputs": [],
   "source": []
  }
 ],
 "metadata": {
  "kernelspec": {
   "display_name": ".venv",
   "language": "python",
   "name": "python3"
  },
  "language_info": {
   "codemirror_mode": {
    "name": "ipython",
    "version": 3
   },
   "file_extension": ".py",
   "mimetype": "text/x-python",
   "name": "python",
   "nbconvert_exporter": "python",
   "pygments_lexer": "ipython3",
   "version": "3.12.0"
  }
 },
 "nbformat": 4,
 "nbformat_minor": 2
}
