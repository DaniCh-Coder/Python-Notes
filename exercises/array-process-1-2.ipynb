{
 "cells": [
  {
   "cell_type": "code",
   "execution_count": 30,
   "metadata": {},
   "outputs": [],
   "source": [
    "# procesing rows an columns of a matrix\n",
    "m1 = [[1,2],[3,4]]"
   ]
  },
  {
   "cell_type": "code",
   "execution_count": 31,
   "metadata": {},
   "outputs": [
    {
     "data": {
      "text/plain": [
       "[[1, 2], [3, 4]]"
      ]
     },
     "execution_count": 31,
     "metadata": {},
     "output_type": "execute_result"
    }
   ],
   "source": [
    "# entire matrix\n",
    "m1"
   ]
  },
  {
   "cell_type": "code",
   "execution_count": 32,
   "metadata": {},
   "outputs": [
    {
     "name": "stdout",
     "output_type": "stream",
     "text": [
      "1 2\n",
      "[[1, 2]]\n",
      "[1, 2]\n"
     ]
    }
   ],
   "source": [
    "# first row - tree ways - as numbers - as matrix - as list\n",
    "print(m1[0][0], m1[0][1]) \n",
    "print(m1[:1])\n",
    "print(m1[0])"
   ]
  },
  {
   "cell_type": "code",
   "execution_count": 33,
   "metadata": {},
   "outputs": [
    {
     "name": "stdout",
     "output_type": "stream",
     "text": [
      "2 4\n"
     ]
    }
   ],
   "source": [
    "# second column\n",
    "print(m1[0][1], m1[1][1])"
   ]
  },
  {
   "cell_type": "code",
   "execution_count": 34,
   "metadata": {},
   "outputs": [
    {
     "name": "stdout",
     "output_type": "stream",
     "text": [
      "[[1, 2], [3, 4]]\n",
      "[[3, 4], [1, 2]]\n",
      "[[1, 2], [3, 4]]\n"
     ]
    }
   ],
   "source": [
    "# intercambiar filas\n",
    "m1 = [[1,2],[3,4]]\n",
    "print(m1)\n",
    "m1[0], m1[1] = m1[1], m1[0]\n",
    "print(m1)\n",
    "# restaurar filas\n",
    "m1[0], m1[1] = m1[1], m1[0]\n",
    "print(m1)    "
   ]
  },
  {
   "cell_type": "code",
   "execution_count": 35,
   "metadata": {},
   "outputs": [
    {
     "name": "stdout",
     "output_type": "stream",
     "text": [
      "[[1, 2], [3, 4]]\n",
      "[[3, 2], [1, 4]]\n",
      "[[1, 2], [3, 4]]\n"
     ]
    }
   ],
   "source": [
    "# intercambiar columnas\n",
    "m1 = [[1,2],[3,4]]\n",
    "print(m1)\n",
    "m1[0][0], m1[1][0] = m1[1][0], m1[0][0]\n",
    "print(m1)\n",
    "# restaurar columnas\n",
    "m1[0][0], m1[1][0] = m1[1][0], m1[0][0]\n",
    "print(m1)    "
   ]
  },
  {
   "cell_type": "code",
   "execution_count": 36,
   "metadata": {},
   "outputs": [
    {
     "name": "stdout",
     "output_type": "stream",
     "text": [
      "[[1, 2], [3, 4]]\n",
      "[[1, 3], [2, 4]]\n"
     ]
    }
   ],
   "source": [
    "# transpose\n",
    "m1 = [[1,2],[3,4]]\n",
    "print(m1)\n",
    "\n",
    "m1[0][1], m1[1][0] = m1[1][0], m1[0][1]\n",
    "print(m1)\n"
   ]
  },
  {
   "cell_type": "code",
   "execution_count": null,
   "metadata": {},
   "outputs": [],
   "source": []
  }
 ],
 "metadata": {
  "kernelspec": {
   "display_name": "base",
   "language": "python",
   "name": "python3"
  },
  "language_info": {
   "codemirror_mode": {
    "name": "ipython",
    "version": 3
   },
   "file_extension": ".py",
   "mimetype": "text/x-python",
   "name": "python",
   "nbconvert_exporter": "python",
   "pygments_lexer": "ipython3",
   "version": "3.10.9"
  }
 },
 "nbformat": 4,
 "nbformat_minor": 2
}
