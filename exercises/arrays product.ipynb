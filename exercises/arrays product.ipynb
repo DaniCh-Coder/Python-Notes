{
 "cells": [
  {
   "cell_type": "markdown",
   "metadata": {},
   "source": [
    "# Array multiplication\n"
   ]
  },
  {
   "cell_type": "markdown",
   "metadata": {},
   "source": [
    "There are several ways to multiply an array.\n",
    "Remember: \n",
    "* the number of colmns of array a must be equal to the number of rows of array b.\n",
    "* the resulting matrix will have the rumber of rows of a and the number of columns of b.\n",
    "\n",
    "Let supose that we have these..."
   ]
  },
  {
   "cell_type": "code",
   "execution_count": 5,
   "metadata": {},
   "outputs": [],
   "source": [
    "# two arrays\n",
    "a = [[5], [7]]\n",
    "b = [[1,2]]\n",
    "\n",
    "# we want to prepare an empty arrays to hold te result of a + b\n",
    "c = []"
   ]
  },
  {
   "cell_type": "code",
   "execution_count": 6,
   "metadata": {},
   "outputs": [],
   "source": [
    "# observe the size / order of the arrays ( m x n)\n",
    "rowsa, colsa, rowsb, colsb = len(a),len(a[0]), len(b),len(b[0])"
   ]
  },
  {
   "cell_type": "code",
   "execution_count": 7,
   "metadata": {},
   "outputs": [],
   "source": [
    "# construction of empty array c\n",
    "# * the resulting matrix will have the rumber of rows of a and the number of columns of b.\n",
    "c = [ [0, 0] for _,_ in zip(range(rowsa), range(colsb))]"
   ]
  },
  {
   "cell_type": "code",
   "execution_count": 8,
   "metadata": {},
   "outputs": [
    {
     "name": "stdout",
     "output_type": "stream",
     "text": [
      "Start multiplication: [[5], [7]] by [[1, 2]].\n",
      "Result: [[5, 10], [7, 14]].\n"
     ]
    }
   ],
   "source": [
    "# multiplication algorithm\n",
    "if colsa == rowsb:\n",
    "    print(f\"Start multiplication: {a} by {b}.\")\n",
    "else:\n",
    "    print(\"Imposible to multiply: n rows in a must be equal to m columns in b \")\n",
    "for i in range(rowsa):\n",
    "    for j in range(colsb):\n",
    "        for e in range(rowsb):\n",
    "            c[i][j] += a[i][e] * b[e][j]\n",
    "\n",
    "print(f\"Result: {c}.\")"
   ]
  },
  {
   "cell_type": "code",
   "execution_count": 15,
   "metadata": {},
   "outputs": [
    {
     "data": {
      "text/plain": [
       "[[5, 10], [7, 14]]"
      ]
     },
     "execution_count": 15,
     "metadata": {},
     "output_type": "execute_result"
    }
   ],
   "source": [
    "# rewrite the above for loop in a list comprehenssion\n",
    "[[sum(a*b for a,b in zip(rowsa, colsb)) for colsb in zip(*b)] for rowsa in a]"
   ]
  }
 ],
 "metadata": {
  "kernelspec": {
   "display_name": "base",
   "language": "python",
   "name": "python3"
  },
  "language_info": {
   "codemirror_mode": {
    "name": "ipython",
    "version": 3
   },
   "file_extension": ".py",
   "mimetype": "text/x-python",
   "name": "python",
   "nbconvert_exporter": "python",
   "pygments_lexer": "ipython3",
   "version": "3.10.9"
  }
 },
 "nbformat": 4,
 "nbformat_minor": 2
}
