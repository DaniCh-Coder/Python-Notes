{
 "cells": [
  {
   "cell_type": "markdown",
   "metadata": {},
   "source": [
    "# Normalización de datos\n",
    "La normalización de datos es clave en el análisis de datos porque garantiza consistencia y calidad. \n",
    "    + En este ejercicio, nos enfocamos en la normalización de datos de códigos postales de EE.UU.\n",
    "\n",
    "Los códigos postales en EE. UU. pueden presentarse de diferentes formas, por ejemplo:\n",
    "+ Formato estándar de 5 dígitos: 12345\n",
    "+ Formato extendido ZIP+4: 12345-6789\n",
    "+ Formato inconsistente: 12345 (con espacios), 123456789 (sin guion), 12-345 (mal escrito)\n",
    "\n",
    "La normalización ayuda a asegurarnos de que todos los ZIP codes sigan un formato uniforme."
   ]
  },
  {
   "cell_type": "markdown",
   "metadata": {},
   "source": [
    "## Métodos de normalización\n",
    "1. Eliminar espacios y caracteres no válidos\n",
    "   + 1.1 Convertir en texto (string) si el dato no lo es.\n",
    "   + 1.2 Eliminar espacios en blanco antes y después.\n",
    "   + 1.3 Remover caracteres no deseados (excepto el guion en ZIP+4).\n",
    "2. Asegurar que los códigos tengan el formato correcto\n",
    "   + 2.1 Si el código tiene 9 dígitos sin guion (123456789), formatearlo como 12345-6789.\n",
    "   + 2.2 Si tiene solo 5 dígitos, dejarlo tal cual (12345).\n",
    "   + 2.3 Si tiene caracteres inválidos, marcarlo como incorrecto para revisión.\n",
    "3. Validación contra una lista oficial\n",
    "   + 3.1 Comparar los ZIP codes con bases de datos oficiales del Servicio Postal de EE. UU. (USPS).\n",
    "   + 3.2 Esto es útil para detectar errores o códigos inexistentes."
   ]
  },
  {
   "cell_type": "markdown",
   "metadata": {},
   "source": [
    "### Ejemplo\n",
    "Supongamos que tenemos una lista de códigos postales de EE. UU. que queremos normalizar."
   ]
  },
  {
   "cell_type": "code",
   "execution_count": 1,
   "metadata": {},
   "outputs": [
    {
     "name": "stdout",
     "output_type": "stream",
     "text": [
      "['12345', '12345-6789', '12345', '12345-6789', None]\n"
     ]
    }
   ],
   "source": [
    "import re\n",
    "\n",
    "def normalize_zip(zip_code):\n",
    "    # Convertir a string y limpiar espacios\n",
    "    zip_code = str(zip_code).strip()\n",
    "\n",
    "    # Verificar si es un ZIP+4 con guion\n",
    "    if re.match(r'^\\d{5}-\\d{4}$', zip_code):\n",
    "        return zip_code\n",
    "    \n",
    "    # Verificar si es un ZIP de 5 dígitos\n",
    "    if re.match(r'^\\d{5}$', zip_code):\n",
    "        return zip_code\n",
    "    \n",
    "    # Si tiene 9 dígitos seguidos, formatearlo a ZIP+4\n",
    "    if re.match(r'^\\d{9}$', zip_code):\n",
    "        return f\"{zip_code[:5]}-{zip_code[5:]}\"\n",
    "\n",
    "    # ZIP no válido\n",
    "    return None\n",
    "\n",
    "# Ejemplo de uso\n",
    "zip_codes = [\"12345\", \"123456789\", \" 12345 \", \"12345-6789\", \"12-345\"]\n",
    "normalized = [normalize_zip(z) for z in zip_codes]\n",
    "print(normalized)  # ['12345', '12345-6789', '12345', '12345-6789', None]\n"
   ]
  },
  {
   "cell_type": "markdown",
   "metadata": {},
   "source": []
  }
 ],
 "metadata": {
  "kernelspec": {
   "display_name": ".venv",
   "language": "python",
   "name": "python3"
  },
  "language_info": {
   "codemirror_mode": {
    "name": "ipython",
    "version": 3
   },
   "file_extension": ".py",
   "mimetype": "text/x-python",
   "name": "python",
   "nbconvert_exporter": "python",
   "pygments_lexer": "ipython3",
   "version": "3.12.2"
  }
 },
 "nbformat": 4,
 "nbformat_minor": 2
}
