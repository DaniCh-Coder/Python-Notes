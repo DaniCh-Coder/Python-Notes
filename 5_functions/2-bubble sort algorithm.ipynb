{
 "cells": [
  {
   "cell_type": "markdown",
   "id": "0d074779-ee37-45ce-b5b8-1d4a502946b7",
   "metadata": {},
   "source": [
    "# Examples of funtions in python"
   ]
  },
  {
   "cell_type": "markdown",
   "id": "de2cce48-9354-4b1d-8d10-1cad3053eb4c",
   "metadata": {},
   "source": [
    "### Bubble sort algorithm"
   ]
  },
  {
   "cell_type": "code",
   "execution_count": 16,
   "id": "768e6b87-fa00-43a5-88db-6b6a6bd67d24",
   "metadata": {},
   "outputs": [
    {
     "name": "stdout",
     "output_type": "stream",
     "text": [
      "[11, 12, 22, 25, 34, 64, 90]\n"
     ]
    }
   ],
   "source": [
    "# Here is an implementation of bubble sort algorithm in Python\n",
    "def bubble_sort(arr):\n",
    "    n = len(arr)\n",
    "    # Travesrse throuth all array elementes\n",
    "    for i in range(n):\n",
    "        \n",
    "        # Last i elementes are lasting in place\n",
    "        # Traverse array from 0 to n-i-1\n",
    "        for j in range(0, n-i-1):\n",
    "            if arr[j] > arr[j+1]:\n",
    "                # Swap elements\n",
    "                arr[j], arr[j+1] = arr[j+1], arr[j]\n",
    "\n",
    "    # Return the sorted array\n",
    "    return arr\n",
    "\n",
    "# Example usage\n",
    "arr = [90, 34, 25, 12, 22, 11, 64]\n",
    "sorted_arr = bubble_sort(arr)\n",
    "print(sorted_arr)  \n",
    "# Output: [11, 12, 22, 25, 34, 64, 90]\n"
   ]
  },
  {
   "cell_type": "markdown",
   "id": "f12f54d9-3a23-4329-83b3-a23994bd1ab5",
   "metadata": {},
   "source": [
    "The runtime complexity of the bubble sort algorithm is O(n2) in the worst and average case, where n is the number of elements in the array. This is because for each element in the array, it needs to compare with all the other elements to find the correct position.\n"
   ]
  },
  {
   "cell_type": "code",
   "execution_count": null,
   "id": "365092a5-c589-4a4e-8f22-31a77b10eba6",
   "metadata": {},
   "outputs": [],
   "source": []
  }
 ],
 "metadata": {
  "kernelspec": {
   "display_name": "anaconda-panel-2023.05-py310",
   "language": "python",
   "name": "conda-env-anaconda-panel-2023.05-py310-py"
  },
  "language_info": {
   "codemirror_mode": {
    "name": "ipython",
    "version": 3
   },
   "file_extension": ".py",
   "mimetype": "text/x-python",
   "name": "python",
   "nbconvert_exporter": "python",
   "pygments_lexer": "ipython3",
   "version": "3.11.5"
  }
 },
 "nbformat": 4,
 "nbformat_minor": 5
}
