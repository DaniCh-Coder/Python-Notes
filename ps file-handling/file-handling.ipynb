{
 "cells": [
  {
   "cell_type": "markdown",
   "metadata": {},
   "source": [
    "# File Handling\n",
    "Python treats files differently as text or binary and this is important. \n",
    "1. Each line of code includes a sequence of characters and they form a text file. \n",
    "2. Each line of a file is terminated with a special character, called the EOL or End of Line characters like comma {,} or newline character. \n",
    "3. It ends the current line and tells the interpreter a new one has begun. Let’s start with the reading and writing files. "
   ]
  },
  {
   "cell_type": "markdown",
   "metadata": {},
   "source": [
    "**Advantages of File Handling**\n",
    "* Versatility: File handling in Python allows you to perform a wide range of operations, such as creating, reading, writing, appending, renaming, and deleting files.\n",
    "* Flexibility: File handling in Python is highly flexible, as it allows you to work with different file types (e.g. text files, binary files, CSV files, etc.), and to perform different operations on files (e.g. read, write, append, etc.).\n",
    "* User–friendly: Python provides a user-friendly interface for file handling, making it easy to create, read, and manipulate files.\n",
    "* Cross-platform: Python file-handling functions work across different platforms (e.g. Windows, Mac, Linux), allowing for seamless integration and compatibility.\n",
    "\n",
    "**Disadvantages of File Handling**\n",
    "* Error-prone: File handling operations in Python can be prone to errors, especially if the code is not carefully written or if there are issues with the file system (e.g. file permissions, file locks, etc.).\n",
    "* Security risks: File handling in Python can also pose security risks, especially if the program accepts user input that can be used to access or modify sensitive files on the system.\n",
    "* Complexity: File handling in Python can be complex, especially when working with more advanced file formats or operations. Careful attention must be paid to the code to ensure that files are handled properly and securely.\n",
    "* Performance: File handling operations in Python can be slower than other programming languages, especially when dealing with large files or performing complex operations."
   ]
  },
  {
   "cell_type": "markdown",
   "metadata": {},
   "source": [
    "## open()"
   ]
  },
  {
   "cell_type": "code",
   "execution_count": null,
   "metadata": {},
   "outputs": [],
   "source": [
    "f = open(filename, mode)"
   ]
  },
  {
   "cell_type": "markdown",
   "metadata": {},
   "source": [
    "Where the following mode is supported:\n",
    "\n",
    "1. r: open an existing file for a read operation.\n",
    "2. w: open an existing file for a write operation. If the file already contains some data then it will be overridden but if the file is not present then it creates the file as well.\n",
    "3. a:  open an existing file for append operation. It won’t override existing data.\n",
    "4. r+:  To read and write data into the file. The previous data in the file will be overridden.\n",
    "5. w+: To write and read data. It will override existing data.\n",
    "6. a+: To append and read data from the file. It won’t override existing data."
   ]
  },
  {
   "cell_type": "markdown",
   "metadata": {},
   "source": [
    "## read()"
   ]
  },
  {
   "cell_type": "code",
   "execution_count": 1,
   "metadata": {},
   "outputs": [
    {
     "name": "stdout",
     "output_type": "stream",
     "text": [
      "Hello world\n",
      "GeeksforGeeks\n",
      "123 456\n"
     ]
    }
   ],
   "source": [
    "# Python code to illustrate read() mode\n",
    "file = open(\"hello-world.txt\", \"r\") \n",
    "print (file.read())"
   ]
  },
  {
   "cell_type": "markdown",
   "metadata": {},
   "source": [
    "## write()"
   ]
  },
  {
   "cell_type": "code",
   "execution_count": 4,
   "metadata": {},
   "outputs": [],
   "source": [
    "# Python code to illustrate with() alongwith write()\n",
    "with open(\"file.txt\", \"w\") as f: \n",
    "\tf.write(\"Hello World!!!\")\n",
    "\tf.close()"
   ]
  },
  {
   "cell_type": "markdown",
   "metadata": {},
   "source": [
    "## append()"
   ]
  },
  {
   "cell_type": "code",
   "execution_count": 6,
   "metadata": {},
   "outputs": [],
   "source": [
    "# Python code to illustrate append() mode\n",
    "with open('geek.txt', 'a') as f:\n",
    "        f.write(\"This will add this line\")\n",
    "        f.close()\n"
   ]
  },
  {
   "cell_type": "code",
   "execution_count": null,
   "metadata": {},
   "outputs": [],
   "source": []
  }
 ],
 "metadata": {
  "kernelspec": {
   "display_name": "base",
   "language": "python",
   "name": "python3"
  },
  "language_info": {
   "codemirror_mode": {
    "name": "ipython",
    "version": 3
   },
   "file_extension": ".py",
   "mimetype": "text/x-python",
   "name": "python",
   "nbconvert_exporter": "python",
   "pygments_lexer": "ipython3",
   "version": "3.10.9"
  }
 },
 "nbformat": 4,
 "nbformat_minor": 2
}
