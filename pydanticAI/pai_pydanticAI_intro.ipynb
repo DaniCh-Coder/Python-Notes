{
 "cells": [
  {
   "cell_type": "markdown",
   "metadata": {},
   "source": [
    "# 🚀 PydanticAI\n",
    "PydanticAI is a Python agent framework designed to make it less painful to build production grade applications with Generative AI.\n",
    "###### https://ai.pydantic.dev/\n",
    "+ PydanticAI es un marco de agente Python diseñado para que sea menos complicado crear aplicaciones de nivel de producción con IA generativa.\n",
    "+ FastAPI revolucionó el desarrollo web al ofrecer un diseño innovador y ergonómico, construido sobre la base de Pydantic .\n",
    "+ De manera similar, prácticamente todos los marcos de agentes y bibliotecas LLM en Python usan Pydantic, pero cuando comenzamos a usar LLM en Pydantic Logfire , no pudimos encontrar nada que nos diera la misma sensación.\n",
    "+ Los creadores de Pydantic y FastAPI, sostienen que:\n",
    "    + \"Creamos PydanticAI con un objetivo simple: brindar esa sensación de FastAPI al desarrollo de aplicaciones GenAI.\""
   ]
  },
  {
   "cell_type": "markdown",
   "metadata": {},
   "source": [
    "##  📌 Justificación de pydanticAI\n",
    "1. Desarrollado por el equipo de Pydantic : \n",
    "   - la capa de validación del SDK de OpenAI, el SDK de Anthropic, LangChain, LlamaIndex, AutoGPT, Transformers, CrewAI, Instructor y muchos más.\n",
    "\n",
    "2. Modelo independiente : \n",
    "   - admite OpenAI, Anthropic, Gemini, Deepseek, Ollama, Groq, Cohere y Mistral, y hay una interfaz sencilla para implementar soporte para otros modelos .\n",
    "\n",
    "3. Integración con Pydantic Logfire : \n",
    "   - se integra perfectamente con Pydantic Logfire para \n",
    "     - la depuración en tiempo real, \n",
    "     - la supervisión del rendimiento y \n",
    "     - el seguimiento del comportamiento de sus aplicaciones impulsadas por LLM.\n",
    "\n",
    "4. Tipo seguro : \n",
    "    - diseñado para que la verificación de tipos sea lo más potente e informativa posible.\n",
    "\n",
    "5. Diseño centrado en Python : \n",
    "    - aprovecha el flujo de control y la forma de programar de Python para construir sus proyectos impulsados ​​por IA, \n",
    "      - lo que facilita la aplicación de las mejores prácticas estándar de Python que usaría en cualquier otro proyecto (no IA).\n",
    "\n",
    "6. Respuestas estructuradas : \n",
    "    - arovecha el poder de Pydantic para validar y estructurar los resultados del modelo, garantizando que las respuestas sean consistentes en todas las ejecuciones.\n",
    "\n",
    "7. Sistema de inyección de dependencias : \n",
    "    - ofrece un sistema de inyección de dependencias opcional para proporcionar datos y servicios a los indicadores del sistema , herramientas y validadores de resultados de su agente . \n",
    "      - Esto resulta útil para el desarrollo iterativo basado en pruebas y evaluaciones.\n",
    "\n",
    "8. Respuestas transmitidas : \n",
    "    - proporciona la capacidad de transmitir resultados de LLM de forma continua, con validación inmediata, lo que garantiza resultados rápidos y precisos.\n",
    "\n",
    "9. Compatibilidad con gráficos : Pydantic Graph proporciona una forma poderosa de definir gráficos usando sugerencias de escritura; \n",
    "    - esto es útil en aplicaciones complejas donde el flujo de control estándar puede degradarse a código espagueti."
   ]
  },
  {
   "cell_type": "markdown",
   "metadata": {},
   "source": [
    "### Hello World Example\n",
    "Este es el ejelmplo de código mínio publicado por PydanticAI:\n",
    "\n",
    "hello_world.py\n",
    "```python\t\n",
    "from pydantic_ai import Agent\n",
    "\n",
    "agent = Agent(  \n",
    "    'google-gla:gemini-1.5-flash',\n",
    "    system_prompt='Be concise, reply with one sentence.',  \n",
    ")\n",
    "\n",
    "result = agent.run_sync('Where does \"hello world\" come from?')  \n",
    "print(result.data)\n",
    "\"\"\"\n",
    "The first known use of \"hello, world\" was in a 1974 textbook about the C programming language.\n",
    "\"\"\"\n",
    "´´´\t"
   ]
  },
  {
   "cell_type": "markdown",
   "metadata": {},
   "source": [
    "## Installation\n",
    "PydanticAI is available on PyPI as pydantic-ai so installation is as simple as:\n",
    "\n",
    "### Version\n",
    "v0.0.31 2025-03-03.\n",
    "Esta es la última versión al momento de hacer este trabajo de revisión.\n",
    "Esta versión requiere Python 3.9+.\n",
    "\n",
    "**pip install pydantic-ai**\n",
    "\n",
    "Esto instala el paquete pydantic_ai, las dependencias principales y las bibliotecas necesarias para usar todos los modelos incluidos en PydanticAI. \n",
    "- Si se desea usar un modelo específico, se puede instalar la versión \"slim\" de PydanticAI.\n",
    "\n",
    "Recomendación:\n",
    "- Para obtener la mejor experiencia con PydanticAI, se recomienda instalar la versión completa de PydanticAI con Pydantic Logfire.\n",
    "- En la [documentación de Logfire](https://ai.pydantic.dev/logfire/#using-logfire) se detallan los pasos para configurarlo.\n",
    "\n",
    "Ejemplos:\n",
    "- Pydantic distribuye el directorio pydantic_ai_examples como un paquete PyPI separado (pydantic-ai-examples) para facilitar la personalización y ejecución de ejemplos.\n",
    "- Para instalar ejemplos, ejecute el siguiente comando:\n",
    "\n",
    "**pip install pydantic-ai[examples]**\n"
   ]
  },
  {
   "cell_type": "markdown",
   "metadata": {},
   "source": []
  }
 ],
 "metadata": {
  "language_info": {
   "name": "python"
  }
 },
 "nbformat": 4,
 "nbformat_minor": 2
}
