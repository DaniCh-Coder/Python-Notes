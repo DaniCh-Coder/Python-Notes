{
 "cells": [
  {
   "cell_type": "markdown",
   "id": "899c0532-7f94-4773-993b-58b7f1640484",
   "metadata": {},
   "source": [
    "# Sets"
   ]
  },
  {
   "cell_type": "markdown",
   "id": "91b341bb-f712-4315-9fc8-421bfe4d5a7e",
   "metadata": {},
   "source": [
    "Perhaps you recall learning about sets and set theory at some point in your mathematical education. Maybe you even remember Venn diagrams:\n",
    "##### A set can be thought of simply as a well-defined **collection** of distinct objects, typically called elements or members. #####\n",
    "Grouping objects into a <b>set</b> can be useful in programming as well, and Python provides a built-in set type to do so.\n",
    "##### Sets are distinguished from other object types by the unique operations that can be performed on them. #####\n",
    "## Defining a Set ##\n",
    "Python’s built-in set type has the following characteristics:<br>\n",
    "1. Sets are **unordered**.\n",
    "2. Set elements are **unique**. Duplicate elements are not allowed.\n",
    "3. A **set** itself **may be modified**, but the elements contained in the set must be of an **immutable** type."
   ]
  },
  {
   "cell_type": "markdown",
   "id": "e559cf28-6863-4f6d-bb50-fe00e7fae9cc",
   "metadata": {},
   "source": [
    "#### Creating a Set"
   ]
  },
  {
   "cell_type": "markdown",
   "id": "f4361611-e6ab-45f5-9813-5eeca77b7c26",
   "metadata": {},
   "source": [
    "The basic form of creating a set is like this:<br>\n",
    "    **x = set(<\"iter\">)**<br>\n",
    "where the argument <'iter'> is an iterable"
   ]
  },
  {
   "cell_type": "code",
   "execution_count": 19,
   "id": "bc0df9f1-d05f-48b1-b298-fee4ecdbd30d",
   "metadata": {},
   "outputs": [
    {
     "name": "stdout",
     "output_type": "stream",
     "text": [
      "{'bar', 'baz', 'qux', 'foo'} \n",
      " {'bar', 'baz', 'qux', 'foo'} \n",
      " x and y are equivalent\n"
     ]
    }
   ],
   "source": [
    "x = set(['foo', 'bar', 'baz', 'foo', 'qux'])\n",
    "y = set(('foo', 'bar', 'baz', 'foo', 'qux'))\n",
    "print(x,'\\n', y, '\\n', \"x and y are equivalent\")"
   ]
  },
  {
   "cell_type": "markdown",
   "id": "aa899980-38ef-492d-82eb-881afee9b376",
   "metadata": {},
   "source": [
    "**Strings** are also iterable, so a string can be passed to **set()** as well. You have already seen that **list(s)** generates a list of the characters in the string s. Similarly, **set(s)** generates a set of the characters in s:"
   ]
  },
  {
   "cell_type": "code",
   "execution_count": 26,
   "id": "75197ddf-d4ab-432f-9794-eaca6cf8f9cb",
   "metadata": {},
   "outputs": [
    {
     "data": {
      "text/plain": [
       "'quux'"
      ]
     },
     "execution_count": 26,
     "metadata": {},
     "output_type": "execute_result"
    }
   ],
   "source": [
    "s = 'quux'\n",
    "s"
   ]
  },
  {
   "cell_type": "code",
   "execution_count": 28,
   "id": "c30193cc-6774-40f3-92c7-73217ce3d9cc",
   "metadata": {},
   "outputs": [
    {
     "data": {
      "text/plain": [
       "['q', 'u', 'u', 'x']"
      ]
     },
     "execution_count": 28,
     "metadata": {},
     "output_type": "execute_result"
    }
   ],
   "source": [
    "list(s)"
   ]
  },
  {
   "cell_type": "code",
   "execution_count": 30,
   "id": "f8153fa5-c3ab-48c6-82b7-a0f0c6944799",
   "metadata": {},
   "outputs": [
    {
     "data": {
      "text/plain": [
       "{'q', 'u', 'x'}"
      ]
     },
     "execution_count": 30,
     "metadata": {},
     "output_type": "execute_result"
    }
   ],
   "source": [
    "set(s)"
   ]
  },
  {
   "cell_type": "markdown",
   "id": "c1bc83af-dd24-4fcf-8d6c-4c1b0f233515",
   "metadata": {},
   "source": [
    "You can see that the resulting sets are **unordered**: the original order, as specified in the definition, is not necessarily preserved.<br>\n",
    "Additionally, **duplicate values are only represented in the set once**, as with the string 'foo' in the first two examples and the letter 'u' in the third."
   ]
  },
  {
   "cell_type": "markdown",
   "id": "71b6ced3-65ad-4a0c-9cef-a9963833ed74",
   "metadata": {},
   "source": [
    "Observe the difference between these next two set definitions:"
   ]
  },
  {
   "cell_type": "code",
   "execution_count": 36,
   "id": "ee586ed2-6e48-4b78-88bb-12f442a6ef8a",
   "metadata": {},
   "outputs": [
    {
     "data": {
      "text/plain": [
       "{'foo'}"
      ]
     },
     "execution_count": 36,
     "metadata": {},
     "output_type": "execute_result"
    }
   ],
   "source": [
    "{'foo'}"
   ]
  },
  {
   "cell_type": "code",
   "execution_count": 38,
   "id": "5f9235e5-8a1a-41f0-86e2-606ea68bf2d2",
   "metadata": {},
   "outputs": [
    {
     "data": {
      "text/plain": [
       "{'f', 'o'}"
      ]
     },
     "execution_count": 38,
     "metadata": {},
     "output_type": "execute_result"
    }
   ],
   "source": [
    "set('foo')"
   ]
  },
  {
   "cell_type": "raw",
   "id": "0d8966d9-0948-4a83-b61d-1750f509c611",
   "metadata": {},
   "source": [
    "A set can be empty. However, recall that Python interprets empty curly braces ({}) as an empty dictionary, so the only way to define an empty set is with the set() function:"
   ]
  },
  {
   "cell_type": "code",
   "execution_count": 40,
   "id": "6e4965ab-f020-42ff-9085-67ce4aac12dc",
   "metadata": {},
   "outputs": [
    {
     "data": {
      "text/plain": [
       "set"
      ]
     },
     "execution_count": 40,
     "metadata": {},
     "output_type": "execute_result"
    }
   ],
   "source": [
    "x = set()\n",
    "type(x)"
   ]
  },
  {
   "cell_type": "code",
   "execution_count": 42,
   "id": "53d184b0-0749-47ff-a00e-20ff19725d76",
   "metadata": {},
   "outputs": [
    {
     "data": {
      "text/plain": [
       "dict"
      ]
     },
     "execution_count": 42,
     "metadata": {},
     "output_type": "execute_result"
    }
   ],
   "source": [
    "x = {}\n",
    "type(x)"
   ]
  },
  {
   "cell_type": "markdown",
   "id": "05e77c68-163b-4057-be22-bf2db396927f",
   "metadata": {},
   "source": [
    "## Operators vs. Methods\n",
    "Most, though not quite all, set operations in Python can be performed in two different ways: by operator or by method.<br>"
   ]
  },
  {
   "cell_type": "markdown",
   "id": "e4c7d368-95a4-47e3-8d85-81f55136bcc5",
   "metadata": {},
   "source": [
    "#### Union"
   ]
  },
  {
   "cell_type": "code",
   "execution_count": 58,
   "id": "af9524d9-7276-492b-bce7-e0202aa94377",
   "metadata": {},
   "outputs": [
    {
     "data": {
      "text/plain": [
       "{'bar', 'baz', 'foo', 'quux', 'qux'}"
      ]
     },
     "execution_count": 58,
     "metadata": {},
     "output_type": "execute_result"
    }
   ],
   "source": [
    "# Union of x1 and x2\n",
    "x1 = {'foo', 'bar', 'baz'}\n",
    "x2 = {'baz', 'qux', 'quux'}\n",
    "\n",
    "# x1.union(x2)\n",
    "x1 | x2"
   ]
  },
  {
   "cell_type": "markdown",
   "id": "2839a165-0751-4554-9fef-595bec9e5115",
   "metadata": {},
   "source": [
    "The union of x1 and x2 is {'foo', 'bar', 'baz', 'qux', 'quux'}."
   ]
  },
  {
   "cell_type": "markdown",
   "id": "f04636cd-dadd-42c5-b117-f667e51cc3fc",
   "metadata": {},
   "source": [
    "In the expmple above, notice that the element 'baz', which appears in both x1 and x2, appears only once in the union. <br>\n",
    "**Sets never contain duplicate values.**<br>"
   ]
  },
  {
   "cell_type": "code",
   "execution_count": 61,
   "id": "1b5be331-f785-4fab-ba91-3deae868e0d7",
   "metadata": {},
   "outputs": [
    {
     "data": {
      "text/plain": [
       "{'bar', 'baz', 'foo', 'qux'}"
      ]
     },
     "execution_count": 61,
     "metadata": {},
     "output_type": "execute_result"
    }
   ],
   "source": [
    "x = set(['foo', 'bar', 'baz', 'foo', 'qux'])\n",
    "y = set(('foo', 'bar', 'baz', 'foo', 'qux'))\n",
    "x | y"
   ]
  },
  {
   "cell_type": "markdown",
   "id": "e31a4e65-1906-4c01-a9c9-8f270a5c8b58",
   "metadata": {},
   "source": [
    "In the example above, it is seen that:\n",
    "1. Sets never contain duplicate values.\n",
    "2. Sets never respect the order."
   ]
  },
  {
   "cell_type": "markdown",
   "id": "9e0034f7-d2ec-4c56-afae-54d362949eb0",
   "metadata": {},
   "source": [
    "The way they are used in the examples above, the operator and method behave identically.<br>\n",
    "But there is a subtle difference between them.<br>\n",
    "* When you use the **|** operator, both operands must be sets. <br>\n",
    "* The **.union()** method, on the other hand, will take any iterable as an argument, convert it to a set, and then perform the union.<br>\n",
    "**Observe the difference between these two statements:**(The first with error, the second with not)"
   ]
  },
  {
   "cell_type": "code",
   "execution_count": 74,
   "id": "35a03a1c-ff9c-44ff-ac52-a193e640b03a",
   "metadata": {},
   "outputs": [
    {
     "ename": "TypeError",
     "evalue": "unsupported operand type(s) for |: 'set' and 'tuple'",
     "output_type": "error",
     "traceback": [
      "\u001b[0;31m---------------------------------------------------------------------------\u001b[0m",
      "\u001b[0;31mTypeError\u001b[0m                                 Traceback (most recent call last)",
      "Cell \u001b[0;32mIn[74], line 1\u001b[0m\n\u001b[0;32m----> 1\u001b[0m x1 \u001b[38;5;241m|\u001b[39m (\u001b[38;5;124m'\u001b[39m\u001b[38;5;124mbaz\u001b[39m\u001b[38;5;124m'\u001b[39m, \u001b[38;5;124m'\u001b[39m\u001b[38;5;124mqux\u001b[39m\u001b[38;5;124m'\u001b[39m, \u001b[38;5;124m'\u001b[39m\u001b[38;5;124mquux\u001b[39m\u001b[38;5;124m'\u001b[39m)\n",
      "\u001b[0;31mTypeError\u001b[0m: unsupported operand type(s) for |: 'set' and 'tuple'"
     ]
    }
   ],
   "source": [
    "x1 | ('baz', 'qux', 'quux')"
   ]
  },
  {
   "cell_type": "code",
   "execution_count": 76,
   "id": "9fe0bfa4-a2ea-42bb-81ff-e2bc88930e03",
   "metadata": {},
   "outputs": [
    {
     "data": {
      "text/plain": [
       "{'bar', 'baz', 'foo', 'quux', 'qux'}"
      ]
     },
     "execution_count": 76,
     "metadata": {},
     "output_type": "execute_result"
    }
   ],
   "source": [
    "x1.union(('baz', 'qux', 'quux'))"
   ]
  },
  {
   "cell_type": "markdown",
   "id": "f68007b4-804d-472c-b419-338a584f09b8",
   "metadata": {},
   "source": [
    "#### Intersection"
   ]
  },
  {
   "cell_type": "code",
   "execution_count": 86,
   "id": "b4cdea69-a375-4e2f-bb0a-39164a0c3e57",
   "metadata": {},
   "outputs": [
    {
     "data": {
      "text/plain": [
       "{'1', 'baz'}"
      ]
     },
     "execution_count": 86,
     "metadata": {},
     "output_type": "execute_result"
    }
   ],
   "source": [
    "x1 = {'1', 'bar', 'baz'}\n",
    "x2 = {'baz', 'qux', '1', '2'}\n",
    "\n",
    "# x1.intersection(x2)\n",
    "x1 & x2"
   ]
  },
  {
   "cell_type": "code",
   "execution_count": 88,
   "id": "4e46d6d0-8157-45bb-b920-77bd7d2d678c",
   "metadata": {},
   "outputs": [
    {
     "data": {
      "text/plain": [
       "{4}"
      ]
     },
     "execution_count": 88,
     "metadata": {},
     "output_type": "execute_result"
    }
   ],
   "source": [
    "a = {1, 2, 3, 4}\n",
    "b = {2, 3, 4, 5}\n",
    "c = {3, 4, 5, 6}\n",
    "d = {4, 5, 6, 7}\n",
    "\n",
    "# a.intersection(b, c, d)\n",
    "a & b & c & d"
   ]
  },
  {
   "cell_type": "code",
   "execution_count": 100,
   "id": "a96f74d8-954f-48d2-aaad-413bf45b3ac6",
   "metadata": {},
   "outputs": [
    {
     "data": {
      "text/plain": [
       "{'1', 'bar'}"
      ]
     },
     "execution_count": 100,
     "metadata": {},
     "output_type": "execute_result"
    }
   ],
   "source": [
    "x1 = {'1', 'bar', 'baz'}\n",
    "x2 = {'baz', 'qux', '2'}\n",
    "\n",
    "# x1.difference(x2)\n",
    "x1 - x2\n",
    "# the result are elements contained in x1 that are not present in x2"
   ]
  },
  {
   "cell_type": "code",
   "execution_count": 104,
   "id": "ecdd4edc-9d53-4ae0-ada3-e82cbc265c4c",
   "metadata": {},
   "outputs": [
    {
     "data": {
      "text/plain": [
       "{'2', 'qux'}"
      ]
     },
     "execution_count": 104,
     "metadata": {},
     "output_type": "execute_result"
    }
   ],
   "source": [
    "x2 - x1\n",
    "# the result are elements contained in x2 that are not present in x1"
   ]
  },
  {
   "cell_type": "markdown",
   "id": "0c667810-6cc8-432f-bdf7-830f5eb15ee0",
   "metadata": {},
   "source": [
    "When multiple sets are specified, the operation is performed from left to right."
   ]
  },
  {
   "cell_type": "code",
   "execution_count": 106,
   "id": "c2584c0c-0703-4d6f-a5e5-e7ebe03a68a2",
   "metadata": {},
   "outputs": [
    {
     "data": {
      "text/plain": [
       "{3, 4, 5}"
      ]
     },
     "execution_count": 106,
     "metadata": {},
     "output_type": "execute_result"
    }
   ],
   "source": [
    "a = {1, 2, 3, 4, 5}\n",
    "b = {10, 2, 30, 40}\n",
    "c = {1, 200, 300, 400}\n",
    "\n",
    "# a.difference(b, c)\n",
    "a - b - c\n",
    "# the result are elements contained in a that are not present neither in b nor in c"
   ]
  },
  {
   "cell_type": "markdown",
   "id": "004c635b-ed3f-4be6-80a7-a96811b49d34",
   "metadata": {},
   "source": [
    "### Simetric Difference"
   ]
  },
  {
   "cell_type": "markdown",
   "id": "de0f6a5e-d984-4084-948d-5e7249ffa01e",
   "metadata": {},
   "source": [
    "x1.symmetric_difference(x2) and x1 ^ x2 return the set of all elements in either x1 or x2, but not both:"
   ]
  },
  {
   "cell_type": "code",
   "execution_count": 117,
   "id": "4351f2ba-c070-4865-a1e9-ab176bd3e4d2",
   "metadata": {},
   "outputs": [
    {
     "data": {
      "text/plain": [
       "{'bb', 'cc', 'dd', 'ff', 'gg', 'hh'}"
      ]
     },
     "execution_count": 117,
     "metadata": {},
     "output_type": "execute_result"
    }
   ],
   "source": [
    "x1 = { 'aa', 'bb', 'cc', 'dd', 'ee' }\n",
    "x2 = { 'aa', 'ff', 'gg', 'hh', 'ee' }\n",
    "\n",
    "# x1.symmetric_difference(x2)\n",
    "x1 ^ x2"
   ]
  },
  {
   "cell_type": "markdown",
   "id": "5c7c82c9-6178-49ad-8784-5759667cec98",
   "metadata": {},
   "source": [
    "### Subsets"
   ]
  },
  {
   "cell_type": "markdown",
   "id": "ad9a737b-65ff-411b-bbfa-4c9c3dff3515",
   "metadata": {},
   "source": [
    "x1 < x2 Determines whether one set is a proper subset of the other. It's the opposite of Superset."
   ]
  },
  {
   "cell_type": "code",
   "execution_count": 145,
   "id": "8d44d045-71c3-434c-81cf-0021e6f3ebc9",
   "metadata": {},
   "outputs": [
    {
     "name": "stdout",
     "output_type": "stream",
     "text": [
      "A is included in B: False  B is included in A: True\n"
     ]
    }
   ],
   "source": [
    "A = { 'a', 'b', 'c', 'd' }\n",
    "B = { 'a', 'b' }\n",
    "\n",
    "print('A is included in B:', A < B, ' B is included in A:', B < A)"
   ]
  },
  {
   "cell_type": "markdown",
   "id": "c961248d-8fcb-4a1c-be04-4a2330ba1f8b",
   "metadata": {},
   "source": [
    "### Supersets"
   ]
  },
  {
   "cell_type": "markdown",
   "id": "d86efeac-d6e8-4ac7-93a6-cfade545ff4e",
   "metadata": {},
   "source": [
    "A set x1 is considered a superset of another set x2 if x1 contains every element of x2. It's the opposite of Subset."
   ]
  },
  {
   "cell_type": "code",
   "execution_count": 161,
   "id": "d854dd5e-b83c-4fec-a465-5d43102e7d3b",
   "metadata": {},
   "outputs": [
    {
     "name": "stdout",
     "output_type": "stream",
     "text": [
      "A includes B: True B includes A: False\n"
     ]
    }
   ],
   "source": [
    "A = { 'a', 'b', 'c', 'd' }\n",
    "B = { 'a', 'b' }\n",
    "\n",
    "print('A includes B:', A >= B, 'B includes A:', B >= A)"
   ]
  },
  {
   "cell_type": "markdown",
   "id": "6a99da06-01df-4d13-8b90-48ac46479ecc",
   "metadata": {},
   "source": [
    "### Proper superset"
   ]
  },
  {
   "cell_type": "markdown",
   "id": "bcfb4645-a9ea-44a5-86e9-c563ef5bfb91",
   "metadata": {},
   "source": [
    "Determines whether one set is a proper superset of the other. A proper superset is the same as a superset, except that the sets can’t be identical. A set x1 is considered a proper superset of another set x2 if x1 contains every element of x2, and x1 and x2 are not equal."
   ]
  },
  {
   "cell_type": "code",
   "execution_count": 163,
   "id": "6f840eb3-fb20-42c0-80ca-675a1e344db0",
   "metadata": {},
   "outputs": [
    {
     "name": "stdout",
     "output_type": "stream",
     "text": [
      "A includes B: True B includes A: False\n"
     ]
    }
   ],
   "source": [
    "A = { 'a', 'b', 'c', 'd' }\n",
    "B = { 'a', 'b' }\n",
    "\n",
    "print('A includes B:', A > B, 'B includes A:', B > A)"
   ]
  },
  {
   "cell_type": "code",
   "execution_count": 165,
   "id": "8ae67d46-7c90-4d75-8aa6-337f93ba5984",
   "metadata": {},
   "outputs": [
    {
     "data": {
      "text/plain": [
       "True"
      ]
     },
     "execution_count": 165,
     "metadata": {},
     "output_type": "execute_result"
    }
   ],
   "source": [
    "x1 = {'foo', 'bar', 'baz'}\n",
    "x2 = {'foo', 'bar'}\n",
    "x1 > x2"
   ]
  },
  {
   "cell_type": "code",
   "execution_count": 167,
   "id": "d75f0523-7659-454c-be9c-df894b7e62ae",
   "metadata": {},
   "outputs": [
    {
     "data": {
      "text/plain": [
       "False"
      ]
     },
     "execution_count": 167,
     "metadata": {},
     "output_type": "execute_result"
    }
   ],
   "source": [
    "x1 = {'foo', 'bar', 'baz'}\n",
    "x2 = {'foo', 'bar', 'baz'}\n",
    "x1 > x2"
   ]
  },
  {
   "cell_type": "markdown",
   "id": "d8643ac5-3ee9-498f-a866-1114005857f3",
   "metadata": {},
   "source": [
    "### Augmented Assignment Operators and Methods"
   ]
  },
  {
   "cell_type": "code",
   "execution_count": 170,
   "id": "dc65455b-d81d-42e1-a662-2656d932f6b7",
   "metadata": {},
   "outputs": [
    {
     "data": {
      "text/plain": [
       "{'bar', 'baz', 'foo', 'qux'}"
      ]
     },
     "execution_count": 170,
     "metadata": {},
     "output_type": "execute_result"
    }
   ],
   "source": [
    "x1 = {'foo', 'bar', 'baz'}\n",
    "x2 = {'foo', 'baz', 'qux'}\n",
    "\n",
    "x1 |= x2\n",
    "x1"
   ]
  },
  {
   "cell_type": "code",
   "execution_count": 172,
   "id": "b084db39-49ea-4343-b9d8-fa427efad719",
   "metadata": {},
   "outputs": [
    {
     "data": {
      "text/plain": [
       "{'baz', 'foo'}"
      ]
     },
     "execution_count": 172,
     "metadata": {},
     "output_type": "execute_result"
    }
   ],
   "source": [
    "x1 = {'foo', 'bar', 'baz'}\n",
    "x2 = {'foo', 'baz', 'qux'}\n",
    "\n",
    "x1 &= x2\n",
    "x1"
   ]
  },
  {
   "cell_type": "code",
   "execution_count": 174,
   "id": "6f4a308d-097c-4f3f-8c40-cca03934523d",
   "metadata": {},
   "outputs": [
    {
     "data": {
      "text/plain": [
       "{'bar'}"
      ]
     },
     "execution_count": 174,
     "metadata": {},
     "output_type": "execute_result"
    }
   ],
   "source": [
    "x1 = {'foo', 'bar', 'baz'}\n",
    "x2 = {'foo', 'baz', 'qux'}\n",
    "\n",
    "x1 -= x2\n",
    "x1"
   ]
  },
  {
   "cell_type": "code",
   "execution_count": 176,
   "id": "deceb998-80a5-49ed-9acf-e6faa65b5156",
   "metadata": {},
   "outputs": [
    {
     "data": {
      "text/plain": [
       "{'bar', 'qux'}"
      ]
     },
     "execution_count": 176,
     "metadata": {},
     "output_type": "execute_result"
    }
   ],
   "source": [
    "x1 = {'foo', 'bar', 'baz'}\n",
    "x2 = {'foo', 'baz', 'qux'}\n",
    "\n",
    "x1 ^= x2\n",
    "x1"
   ]
  },
  {
   "cell_type": "markdown",
   "id": "96e80a9d-cfd3-4901-994b-633c3d338972",
   "metadata": {},
   "source": [
    "### Other Methods For Modifying Sets"
   ]
  },
  {
   "cell_type": "code",
   "execution_count": 189,
   "id": "2401a20d-aa67-491e-9591-80b83ef3bee6",
   "metadata": {},
   "outputs": [
    {
     "data": {
      "text/plain": [
       "{'bar', 'baz', 'foo', 'qux'}"
      ]
     },
     "execution_count": 189,
     "metadata": {},
     "output_type": "execute_result"
    }
   ],
   "source": [
    "x = {'foo', 'bar', 'baz'}\n",
    "\n",
    "x.add('qux')\n",
    "x"
   ]
  },
  {
   "cell_type": "code",
   "execution_count": 191,
   "id": "f32639b1-00e7-4dc9-bd7d-937612bd4d8d",
   "metadata": {},
   "outputs": [
    {
     "data": {
      "text/plain": [
       "{'bar', 'foo'}"
      ]
     },
     "execution_count": 191,
     "metadata": {},
     "output_type": "execute_result"
    }
   ],
   "source": [
    "x = {'foo', 'bar', 'baz'}\n",
    "\n",
    "x.remove('baz')\n",
    "x"
   ]
  },
  {
   "cell_type": "markdown",
   "id": "1ba4ca4c-0936-43c4-856b-06d52fe81cd6",
   "metadata": {},
   "source": [
    "x.discard(<elem>) also removes <elem> from x. However, if <elem> is not in x, this method quietly does nothing instead of raising an exception:"
   ]
  },
  {
   "cell_type": "code",
   "execution_count": 194,
   "id": "e84565bd-f196-47de-bf22-9f1c7541266e",
   "metadata": {},
   "outputs": [
    {
     "data": {
      "text/plain": [
       "{'bar', 'foo'}"
      ]
     },
     "execution_count": 194,
     "metadata": {},
     "output_type": "execute_result"
    }
   ],
   "source": [
    "x = {'foo', 'bar', 'baz'}\n",
    "\n",
    "x.discard('baz')\n",
    "x"
   ]
  },
  {
   "cell_type": "code",
   "execution_count": 196,
   "id": "6043dca0-25e1-44b9-a8ee-d1caf9814656",
   "metadata": {},
   "outputs": [
    {
     "data": {
      "text/plain": [
       "{'baz', 'foo'}"
      ]
     },
     "execution_count": 196,
     "metadata": {},
     "output_type": "execute_result"
    }
   ],
   "source": [
    "x = {'foo', 'bar', 'baz'}\n",
    "\n",
    "x.pop()\n",
    "\n",
    "x"
   ]
  },
  {
   "cell_type": "code",
   "execution_count": 198,
   "id": "b0859e63-f388-47fe-b161-990de8a14398",
   "metadata": {},
   "outputs": [
    {
     "data": {
      "text/plain": [
       "set()"
      ]
     },
     "execution_count": 198,
     "metadata": {},
     "output_type": "execute_result"
    }
   ],
   "source": [
    "x = {'foo', 'bar', 'baz'}\n",
    "x\n",
    "\n",
    "\n",
    "x.clear()\n",
    "x"
   ]
  },
  {
   "cell_type": "markdown",
   "id": "3c611fcb-20e1-4b9f-9bc5-dec8042c97c5",
   "metadata": {},
   "source": [
    "### Frozen Sets"
   ]
  },
  {
   "cell_type": "markdown",
   "id": "6bd66faf-dfe6-46c7-8e19-486b07437aaf",
   "metadata": {},
   "source": [
    "Python provides another built-in type called a frozenset, which is in all respects exactly like a set, except that a frozenset is immutable. You can perform non-modifying operations on a frozenset:"
   ]
  },
  {
   "cell_type": "code",
   "execution_count": 206,
   "id": "487a06e5-048c-4185-8ac5-176b51c2e574",
   "metadata": {},
   "outputs": [
    {
     "data": {
      "text/plain": [
       "frozenset({'baz'})"
      ]
     },
     "execution_count": 206,
     "metadata": {},
     "output_type": "execute_result"
    }
   ],
   "source": [
    "x = frozenset(['foo', 'bar', 'baz'])\n",
    "x\n",
    "\n",
    "\n",
    "len(x)\n",
    "\n",
    "\n",
    "x & {'baz', 'qux', 'quux'}"
   ]
  },
  {
   "cell_type": "markdown",
   "id": "8c47394e-b2b7-45bc-97a9-69f986e4f7c3",
   "metadata": {},
   "source": [
    "But methods that attempt to modify a frozenset fail:"
   ]
  },
  {
   "cell_type": "code",
   "execution_count": 209,
   "id": "4aec22c9-f1d7-4d08-9d5f-7f24fda0f8ff",
   "metadata": {},
   "outputs": [
    {
     "ename": "AttributeError",
     "evalue": "'frozenset' object has no attribute 'add'",
     "output_type": "error",
     "traceback": [
      "\u001b[0;31m---------------------------------------------------------------------------\u001b[0m",
      "\u001b[0;31mAttributeError\u001b[0m                            Traceback (most recent call last)",
      "Cell \u001b[0;32mIn[209], line 3\u001b[0m\n\u001b[1;32m      1\u001b[0m x \u001b[38;5;241m=\u001b[39m \u001b[38;5;28mfrozenset\u001b[39m([\u001b[38;5;124m'\u001b[39m\u001b[38;5;124mfoo\u001b[39m\u001b[38;5;124m'\u001b[39m, \u001b[38;5;124m'\u001b[39m\u001b[38;5;124mbar\u001b[39m\u001b[38;5;124m'\u001b[39m, \u001b[38;5;124m'\u001b[39m\u001b[38;5;124mbaz\u001b[39m\u001b[38;5;124m'\u001b[39m])\n\u001b[0;32m----> 3\u001b[0m x\u001b[38;5;241m.\u001b[39madd(\u001b[38;5;124m'\u001b[39m\u001b[38;5;124mqux\u001b[39m\u001b[38;5;124m'\u001b[39m)\n",
      "\u001b[0;31mAttributeError\u001b[0m: 'frozenset' object has no attribute 'add'"
     ]
    }
   ],
   "source": [
    "x = frozenset(['foo', 'bar', 'baz'])\n",
    "\n",
    "x.add('qux')"
   ]
  },
  {
   "cell_type": "code",
   "execution_count": null,
   "id": "25e81635-611a-4384-9eb0-88abedd32450",
   "metadata": {},
   "outputs": [],
   "source": []
  }
 ],
 "metadata": {
  "kernelspec": {
   "display_name": "anaconda-panel-2023.05-py310",
   "language": "python",
   "name": "conda-env-anaconda-panel-2023.05-py310-py"
  },
  "language_info": {
   "codemirror_mode": {
    "name": "ipython",
    "version": 3
   },
   "file_extension": ".py",
   "mimetype": "text/x-python",
   "name": "python",
   "nbconvert_exporter": "python",
   "pygments_lexer": "ipython3",
   "version": "3.11.4"
  }
 },
 "nbformat": 4,
 "nbformat_minor": 5
}
