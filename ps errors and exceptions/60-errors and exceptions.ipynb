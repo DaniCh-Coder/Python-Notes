{
 "cells": [
  {
   "cell_type": "markdown",
   "metadata": {},
   "source": [
    "# Errors and Exceptions"
   ]
  },
  {
   "cell_type": "markdown",
   "metadata": {},
   "source": [
    "Error in Python can be of two types i.e. Syntax errors and Exceptions. \n",
    "1. Errors are the problems in a program due to which the program will stop the execution. (Mostly sintax errors) \n",
    "2. Exceptions are raised when some internal events occur which changes the normal flow of the program. (Mostly logical errors)"
   ]
  },
  {
   "cell_type": "markdown",
   "metadata": {},
   "source": [
    "## Common Exception Errors"
   ]
  },
  {
   "cell_type": "markdown",
   "metadata": {},
   "source": [
    "\n",
    "Some of the common Exception Errores are :\n",
    "* IOError: if the file can’t be opened\n",
    "* KeyboardInterrupt: when an unrequired key is pressed by the user\n",
    "* ValueError: when the built-in function receives a wrong argument\n",
    "* EOFError: if End-Of-File is hit without reading any data\n",
    "* ImportError: if it is unable to find the module\n",
    "* IndexError: When the wrong index of a list is retrieved.\n",
    "* AssertionError: It occurs when the assert statement fails\n",
    "* AttributeError: It occurs when an attribute assignment is failed.\n",
    "* ImportError: It occurs when an imported module is not found.\n",
    "* KeyError:\tIt occurs when the key of the dictionary is not found.\n",
    "* NameError: It occurs when the variable is not defined.\n",
    "* MemoryError: It occurs when a program runs out of memory.\n",
    "* TypeError: It occurs when a function and operation are applied in an incorrect type."
   ]
  },
  {
   "cell_type": "markdown",
   "metadata": {},
   "source": [
    "## Try Except"
   ]
  },
  {
   "cell_type": "markdown",
   "metadata": {},
   "source": [
    "Try and Except statement is used to handle these errors within our code in Python.\n",
    "* The try block is used to check some code for errors i.e the code inside the try block will execute when there is no error in the program.\n",
    "* Whereas the code inside the except block will execute whenever the program encounters some error in the preceding try block.\n"
   ]
  },
  {
   "cell_type": "markdown",
   "metadata": {},
   "source": [
    "How Try() works?\n",
    "1. First, the try clause is executed i.e. the code between try.\n",
    "2. If there is no exception, then only the try clause will run, except clause is finished.\n",
    "3. If any exception occurs, the try clause will be skipped and except clause will run.\n",
    "4. If any exception occurs, but the except clause within the code doesn’t handle it, it is passed on to the outer try statements. If the exception is left unhandled, then the execution stops.\n",
    "* A try statement can have more than one except clause"
   ]
  },
  {
   "cell_type": "code",
   "execution_count": 1,
   "metadata": {},
   "outputs": [
    {
     "name": "stdout",
     "output_type": "stream",
     "text": [
      "Yeah ! Your answer is : 1\n"
     ]
    }
   ],
   "source": [
    "# No exception, so the try clause will run.\n",
    "def divide(x, y):\n",
    "\n",
    "    \"\"\"Python code to illustrate working of try()\"\"\"\n",
    "    try:\n",
    "\t\t# Floor Division : Gives only Fractional Part as Answer\n",
    "        result = x // y\n",
    "        print(\"Yeah ! Your answer is :\", result)\n",
    "    except ZeroDivisionError:\n",
    "        print(\"Sorry ! You are dividing by zero \")"
   ]
  },
  {
   "cell_type": "code",
   "execution_count": 2,
   "metadata": {},
   "outputs": [
    {
     "name": "stdout",
     "output_type": "stream",
     "text": [
      "Yeah ! Your answer is : 1\n"
     ]
    }
   ],
   "source": [
    "# Look at parameters and note the working of Program\n",
    "divide(3, 2)"
   ]
  },
  {
   "cell_type": "code",
   "execution_count": 3,
   "metadata": {},
   "outputs": [
    {
     "name": "stdout",
     "output_type": "stream",
     "text": [
      "Sorry ! You are dividing by zero \n"
     ]
    }
   ],
   "source": [
    "# Look at parameters and note the working of Program\n",
    "divide(3, 0)"
   ]
  },
  {
   "cell_type": "markdown",
   "metadata": {},
   "source": [
    "## NZEC error\n",
    "While coding in various competitive sites, many people must have encountered NZEC errors. \n",
    "* NZEC (non zero exit code) as the name suggests occurs when your code is failed to return 0. \n",
    "* When a code returns 0 it means it is successfully executed otherwise it will return some other number depending on the type of error. \n",
    "\n",
    "When the program ends and it is supposed to return “0” to indicate if finished fine and is not able to do so it causes NZEC. \n",
    "*Of course, there are more cases associated with NZEC.\n",
    "\n"
   ]
  },
  {
   "cell_type": "markdown",
   "metadata": {},
   "source": [
    "For example:\n",
    "\n",
    "In python, generally, multiple inputs are separated by commas and we read them using input() or int(input()), but most of the online coding platforms while testing give input separated by space and in those cases, int(input()) is not able to read the input properly and shows error like NZEC."
   ]
  },
  {
   "cell_type": "code",
   "execution_count": 1,
   "metadata": {},
   "outputs": [],
   "source": [
    "n = int(input())\n",
    "k = int(input())\n",
    "print(n,\" \",k)\n"
   ]
  },
  {
   "cell_type": "markdown",
   "metadata": {},
   "source": [
    "Traceback (most recent call last):\n",
    "  File \"b712edd81d4a972de2a9189fac8a83ed.py\", line 1, in \n",
    "    n = int(input())\n",
    "  File \"\", line 1\n",
    "    2 3\n",
    "      ^\n",
    "SyntaxError: unexpected EOF while parsing"
   ]
  },
  {
   "cell_type": "markdown",
   "metadata": {},
   "source": [
    "#### Some prominent reasons for NZEC error\n",
    "\n",
    "1. Infinite Recursion or if you have run out of stack memory.\n",
    "2. Input and output are NOT exactly same as the test cases.\n",
    "3. As the online platforms, test your program using a computer code which matches your output with the specified outputs exactly.\n",
    "4. This type of error is also shown when your program is performing basic programming mistakes like dividing by 0.\n",
    "5. Check for the values of your variables, they can be vulnerable to integer flow."
   ]
  },
  {
   "cell_type": "markdown",
   "metadata": {},
   "source": []
  }
 ],
 "metadata": {
  "kernelspec": {
   "display_name": "base",
   "language": "python",
   "name": "python3"
  },
  "language_info": {
   "codemirror_mode": {
    "name": "ipython",
    "version": 3
   },
   "file_extension": ".py",
   "mimetype": "text/x-python",
   "name": "python",
   "nbconvert_exporter": "python",
   "pygments_lexer": "ipython3",
   "version": "3.10.9"
  }
 },
 "nbformat": 4,
 "nbformat_minor": 2
}
