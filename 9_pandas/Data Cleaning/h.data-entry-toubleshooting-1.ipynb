{
 "cells": [
  {
   "cell_type": "markdown",
   "metadata": {},
   "source": [
    "# Data entry inconsistencies"
   ]
  },
  {
   "cell_type": "code",
   "execution_count": 5,
   "metadata": {},
   "outputs": [],
   "source": [
    "# environment setup\n",
    "import pandas as pd\n",
    "import numpy as np\n",
    "import thefuzz\n",
    "from thefuzz import process\n",
    "import charset_normalizer"
   ]
  },
  {
   "cell_type": "code",
   "execution_count": 6,
   "metadata": {},
   "outputs": [],
   "source": [
    "# read in all our data\n",
    "professors = pd.read_csv(\"H:\\\\Datasets\\\\pakistan_intellectual_capital.csv\")"
   ]
  },
  {
   "cell_type": "code",
   "execution_count": 7,
   "metadata": {},
   "outputs": [
    {
     "name": "stdout",
     "output_type": "stream",
     "text": [
      "<class 'pandas.core.frame.DataFrame'>\n",
      "RangeIndex: 1142 entries, 0 to 1141\n",
      "Data columns (total 13 columns):\n",
      " #   Column                                     Non-Null Count  Dtype  \n",
      "---  ------                                     --------------  -----  \n",
      " 0   Unnamed: 0                                 1142 non-null   int64  \n",
      " 1   S#                                         1142 non-null   int64  \n",
      " 2   Teacher Name                               1142 non-null   object \n",
      " 3   University Currently Teaching              1142 non-null   object \n",
      " 4   Department                                 1142 non-null   object \n",
      " 5   Province University Located                1142 non-null   object \n",
      " 6   Designation                                1123 non-null   object \n",
      " 7   Terminal Degree                            1138 non-null   object \n",
      " 8   Graduated from                             1142 non-null   object \n",
      " 9   Country                                    1142 non-null   object \n",
      " 10  Year                                       489 non-null    float64\n",
      " 11  Area of Specialization/Research Interests  623 non-null    object \n",
      " 12  Other Information                          124 non-null    object \n",
      "dtypes: float64(1), int64(2), object(10)\n",
      "memory usage: 116.1+ KB\n"
     ]
    }
   ],
   "source": [
    "professors.info()"
   ]
  },
  {
   "cell_type": "markdown",
   "metadata": {},
   "source": [
    "In this file there are two columns of countries: professors and graduated from. Lets clean obth columns."
   ]
  },
  {
   "cell_type": "code",
   "execution_count": 12,
   "metadata": {},
   "outputs": [
    {
     "data": {
      "text/plain": [
       "array(['thailand', 'pakistan', 'germany', 'austria', 'australia', 'uk',\n",
       "       'china', 'france', 'usofa', 'southkorea', 'malaysia', 'sweden',\n",
       "       'italy', 'canada', 'norway', 'ireland', 'new zealand', 'urbana',\n",
       "       'portugal', 'russian federation', 'usa', 'finland', 'netherland',\n",
       "       'greece', 'turkey', 'south korea', 'macau', 'singapore', 'spain',\n",
       "       'japan', 'hongkong', 'saudi arabia', 'mauritius', 'scotland'],\n",
       "      dtype=object)"
      ]
     },
     "execution_count": 12,
     "metadata": {},
     "output_type": "execute_result"
    }
   ],
   "source": [
    "# let see professors countries\n",
    "# convert to lower case\n",
    "professors['Country'] = professors['Country'].str.lower()\n",
    "# remove trailing white spaces\n",
    "professors['Country'] = professors['Country'].str.strip()\n",
    "countries = professors.Country.unique()\n",
    "countries"
   ]
  },
  {
   "cell_type": "markdown",
   "metadata": {},
   "source": [
    "with all in lower case and all stripped se see...\n",
    "* south kirea instead of south korea\n",
    "* usofa instead of usa\n"
   ]
  },
  {
   "cell_type": "markdown",
   "metadata": {},
   "source": [
    "1. get the top 10 closest matches to \"south korea\""
   ]
  },
  {
   "cell_type": "code",
   "execution_count": 19,
   "metadata": {},
   "outputs": [
    {
     "data": {
      "text/plain": [
       "[('south korea', 100),\n",
       " ('southkorea', 95),\n",
       " ('uk', 57),\n",
       " ('norway', 54),\n",
       " ('ireland', 54),\n",
       " ('usofa', 51),\n",
       " ('usa', 45),\n",
       " ('austria', 44),\n",
       " ('saudi arabia', 43),\n",
       " ('scotland', 42)]"
      ]
     },
     "execution_count": 19,
     "metadata": {},
     "output_type": "execute_result"
    }
   ],
   "source": [
    "# extract countries similar to south korea like southkorea\n",
    "matches = process.extract(\"south korea\", countries, limit=10)\n",
    "matches"
   ]
  },
  {
   "cell_type": "code",
   "execution_count": 20,
   "metadata": {},
   "outputs": [],
   "source": [
    "# build a function to replace any appearance of bad spelling of south korea\n",
    "def replace_matches_in_column(df, column, string_to_match, min_ratio = 47):\n",
    "    # get a list of unique strings\n",
    "    strings = df[column].unique()\n",
    "    \n",
    "    # get the top 10 closest matches to our input string\n",
    "    matches = process.extract(string_to_match, strings, limit=10)\n",
    "\n",
    "    # only get matches with a ratio > 90\n",
    "    close_matches = [matches[0] for matches in matches if matches[1] >= min_ratio]\n",
    "\n",
    "    # get the rows of all the close matches in our dataframe\n",
    "    rows_with_matches = df[column].isin(close_matches)\n",
    "\n",
    "    # replace all rows with close matches with the input matches \n",
    "    df.loc[rows_with_matches, column] = string_to_match\n",
    "    \n",
    "    # let us know the function's done\n",
    "    print(\"All done!\")"
   ]
  },
  {
   "cell_type": "code",
   "execution_count": 21,
   "metadata": {},
   "outputs": [
    {
     "name": "stdout",
     "output_type": "stream",
     "text": [
      "All done!\n"
     ]
    }
   ],
   "source": [
    "# use the function to raplace the bad spelled south corea in dataframe profesors\n",
    "replace_matches_in_column(df=professors, column='Country', string_to_match=\"south korea\")"
   ]
  },
  {
   "cell_type": "markdown",
   "metadata": {},
   "source": [
    "## Examine another column : Graduated from"
   ]
  },
  {
   "cell_type": "code",
   "execution_count": 26,
   "metadata": {},
   "outputs": [
    {
     "data": {
      "text/plain": [
       "array(['abasyn university', 'abdul wali khan university, mardan',\n",
       "       'abdus salam school of mathematical sciences,gc university',\n",
       "       'agricultural university peshawar', 'allama iqbal open university',\n",
       "       'asian institute of technology', 'aston university, birmingham',\n",
       "       'australian national university, caneberra',\n",
       "       'bahauddin zakariya university', 'bahria university',\n",
       "       'bahria university,islamabad',\n",
       "       'balochistan university of information technology, engineering and management sciences',\n",
       "       'barani institute of information technology',\n",
       "       'beaconhouse national university', 'beihang university',\n",
       "       'beijing institute of technology',\n",
       "       'beijing institute of technology beijing',\n",
       "       'beijing university of posts & telecommunications',\n",
       "       'biztek institute of business & technology,karachi',\n",
       "       'blekinge institute of technology', 'boston university',\n",
       "       'brock university canada', 'brunel university', 'bukc',\n",
       "       'california state university',\n",
       "       'capital university of science & technology',\n",
       "       'capital university of science and technology',\n",
       "       'carnegie mellon university, pittsburgh',\n",
       "       'cecos university of information technology and emerging sciences,peshawar',\n",
       "       'centre for advanced studies in engineering',\n",
       "       'chalmers university of technology', 'chinese academy of sciences',\n",
       "       'chosun university', 'city university of science and technology',\n",
       "       'colorado state university', 'colorado technical university',\n",
       "       'columbia university',\n",
       "       'comsats institute of information technology',\n",
       "       'comsats institute of information technology,islamabad',\n",
       "       'comsats institute of information technology,lahore',\n",
       "       'comsats institute of information technology,vehari',\n",
       "       'comsats institute of information technology,wah cantt',\n",
       "       'concordia university,montreal', 'coventry university',\n",
       "       'cranfield university', 'delft university of technology',\n",
       "       'depaul university, chicago',\n",
       "       'dresden university of technology, dresden', 'duet,karachi',\n",
       "       'eindhoven university of technology (tu/e)',\n",
       "       'fast– national university of computer and emerging sciences',\n",
       "       'fast– national university of computer and emerging sciences,chiniot-faisalabad',\n",
       "       'fast– national university of computer and emerging sciences,islamabad',\n",
       "       'fast– national university of computer and emerging sciences,lahore',\n",
       "       'fast– national university of computer and emerging sciences,peshawar',\n",
       "       'fatima jinnah women university, rawalpindi',\n",
       "       'fedral urdu university', 'florida atlantic university',\n",
       "       'foundation university', 'galilée - université paris 13',\n",
       "       'george mason university', 'george washington university',\n",
       "       'georgetown university,dc',\n",
       "       'ghulam ishaq khan institute of science and technology',\n",
       "       'gomal university', 'government college university',\n",
       "       'government college university, faisalabad',\n",
       "       'government college university,faisalabad',\n",
       "       'graz university of technology', 'grenoble', 'griffith university',\n",
       "       'griffith university,nathan campus', 'guildford',\n",
       "       'gwangju institute of science and technology',\n",
       "       'hamburg university of technology', 'hamdard university',\n",
       "       'hanyang university, ansan', 'harbin institute of technology',\n",
       "       'hitec university,taxila', 'hongik university',\n",
       "       'huazhong university of science and technology (hust), wuhan',\n",
       "       'ibms kp agricultural university peshawar',\n",
       "       'illinois institute of technology',\n",
       "       'ilmenau university of technology',\n",
       "       'imperial college, university of london',\n",
       "       'information technology university (itu)',\n",
       "       'inria saclay ile-de-france', 'insa de lyon, rhone',\n",
       "       'institute of business administration',\n",
       "       'institute of business administration,karachi',\n",
       "       'institute of business administration,sukkur',\n",
       "       'institute of management sciences, peshawar',\n",
       "       'institute of managment sciences, peshawar',\n",
       "       'international islamic university',\n",
       "       'international islamic university,islamabad',\n",
       "       'iowa state university', 'iqra university',\n",
       "       'iqra university,islamabad', 'iqra university,karachi',\n",
       "       'islamia college university', 'isra university',\n",
       "       'jinnah university for women', 'jku', 'jnu',\n",
       "       'john moorse university, liverpool', 'jonkoping university',\n",
       "       'king abdullah university of science and technology',\n",
       "       'kingston university london',\n",
       "       'kohat university of science & technology, kohat',\n",
       "       'kth royal institute of technology', 'kyung hee university',\n",
       "       'kyungpook national university', 'kyushu university,fukuoka',\n",
       "       'lahore college for women university', 'lahore leads university',\n",
       "       'lahore university of management sciences', 'linköping university',\n",
       "       'liverpool john moores university', 'london university',\n",
       "       'loughborough university', 'manchester metropolitan university',\n",
       "       'manchester university', 'massachusetts institute of technology',\n",
       "       'max planck institute for computer science',\n",
       "       'mehran university of engineering & technology',\n",
       "       'mid sweden university', 'middle east technical university',\n",
       "       'middlesex university', 'minhaj university lahore',\n",
       "       'mohammad ali jinnah university', 'monash university',\n",
       "       'muroran institute of technology,hokkaido', 'myongji university',\n",
       "       'nancy 2 university', 'nanyang tech university',\n",
       "       'nanyang technological university',\n",
       "       'national college of business administration and economics',\n",
       "       'national textile university',\n",
       "       'national university of modern languages',\n",
       "       'national university of modern languages,islamabad',\n",
       "       'national university of sciences and technology',\n",
       "       'national university of sciences and technology-niit',\n",
       "       'national university of singapore', 'ncsu',\n",
       "       'ned university of engineering and technology',\n",
       "       'new york institute of technology',\n",
       "       'north dakota state university', 'northeastern university,boston',\n",
       "       'norwegian university of science and technology (ntnu),',\n",
       "       'nottingham trent university', 'oxford brookes university',\n",
       "       'pace university, new york',\n",
       "       'paf-karachi institute of economics and technology',\n",
       "       'pakistan institute of engineering and applied sciences',\n",
       "       'paris descartes university', 'paris tech university of eurecom',\n",
       "       'pir mehr ali shah arid agriculture university',\n",
       "       'pohang university of science and technology',\n",
       "       'politecnico di milano', 'politecnico di torino',\n",
       "       'pompeu fabra university barcelona', 'preston',\n",
       "       'punjab university college of information technology',\n",
       "       'purdue university',\n",
       "       'quaid-e-awam university of engineering, science & technology',\n",
       "       'quaid-i-azam university', 'queen mary university of london',\n",
       "       'razak school of engineering and advanced technology, universiti teknologi malaysia (utm)',\n",
       "       'riphah international university',\n",
       "       'riphah international university,faisalabad',\n",
       "       'rutgers state university of new jersey, nj',\n",
       "       'rwth aachen university', 'saarland university',\n",
       "       'sapienza university of rome',\n",
       "       \"sardar bahadur khan women's university\",\n",
       "       'seoul national university',\n",
       "       'shah abdul latif university, khairpur',\n",
       "       'shaheed zulfikar ali bhutto institute of science and technology',\n",
       "       'shaheed zulfikar ali bhutto institute of science and technology,islamabad',\n",
       "       'sindh agriculture university', 'sindh university',\n",
       "       'sir syed university of engineering and technology',\n",
       "       'skolkovo institute of science and technology,',\n",
       "       'south asian university', 'srh hochschule heidelberg',\n",
       "       'ssindh agriculture university', 'staffordshire university',\n",
       "       'stanford university', 'state university of new york system',\n",
       "       'stockholm university', 'sungkyunkwan university',\n",
       "       'superior university, lahore', 'swansea',\n",
       "       'swedish university of agricultural sciences, uppsala',\n",
       "       'swinburne university of technology',\n",
       "       'technical university of braunschweig',\n",
       "       'technical university of graz', 'temple university',\n",
       "       'the islamia university of bahawalpur',\n",
       "       'the ohio state university', 'the queens university of belfast',\n",
       "       'the state university of new jersey', 'the university of auckland',\n",
       "       'the university of birmingham', 'the university of cambridge',\n",
       "       'the university of leeds', 'the university of manchester',\n",
       "       'the university of queensland',\n",
       "       'the university of texas at austin', 'the university of york',\n",
       "       'tilburg university', 'tokyo institute of technology',\n",
       "       'tsinghua university', 'tu berlin', 'tu wien',\n",
       "       'united nations university international institute for software technology (unu-iist)',\n",
       "       'univ of porto/univ of aveiro portugal/uni of minho',\n",
       "       \"universite d'evry val d'essonne\",\n",
       "       'universiti putra malaysia putra', 'universiti technologi',\n",
       "       'universiti teknologi petronas',\n",
       "       'universiti tun hussein onn malaysia',\n",
       "       'university institute of information technology',\n",
       "       'university of abertay dundee', 'university of agriculture',\n",
       "       'university of agriculture faisalabad',\n",
       "       'university of agriculture, faisalabad',\n",
       "       'university of arid agriculture', 'university of balochistan',\n",
       "       'university of bath', 'university of bayreuth',\n",
       "       'university of bedfordshire', 'university of bergen',\n",
       "       'university of birmingham', 'university of bologna',\n",
       "       'university of bonn', 'university of bradford',\n",
       "       'university of bristol', 'university of british columbia',\n",
       "       'university of caen', 'university of canterbury',\n",
       "       'university of central florida', 'university of central missouri',\n",
       "       'university of central punjab', 'university of colorado',\n",
       "       'university of dundee', 'university of engineering & technology',\n",
       "       'university of engineering and technology',\n",
       "       'university of engineering and technology,peshawar',\n",
       "       'university of engineering and technology,taxila',\n",
       "       'university of essex', 'university of florida',\n",
       "       'university of freiburg', 'university of genova',\n",
       "       'university of glasgow', 'university of grenoble',\n",
       "       'university of gujrat', 'university of huddersfield',\n",
       "       'university of illinois', 'university of innsbruck',\n",
       "       'university of karachi', 'university of kent',\n",
       "       'university of konstanz', 'university of kuala lumpur',\n",
       "       'university of lahore', 'university of leeds',\n",
       "       'university of leicester', 'university of limerick',\n",
       "       'university of liverpool', 'university of malaga',\n",
       "       'university of malaya', 'university of management and technology',\n",
       "       'university of manchester',\n",
       "       'university of manchester institute of science and technology',\n",
       "       'university of mississippi', 'university of missouri, kc',\n",
       "       'university of new south wales, sydney',\n",
       "       'university of nice, sophia antipolis',\n",
       "       'university of northampton', 'university of notre dame indiana',\n",
       "       'university of orleans', 'university of oslo',\n",
       "       'university of oviedo', 'university of paisley',\n",
       "       'university of paris', 'university of paris-est',\n",
       "       'university of patras', 'university of peshawar',\n",
       "       'university of pittsburgh', 'university of plymouth',\n",
       "       'university of porto', 'university of regina',\n",
       "       'university of rochester', 'university of rome tor vergata',\n",
       "       'university of saarland', 'university of salford',\n",
       "       'university of shanghai for science and technology',\n",
       "       'university of south australia', 'university of south brittany',\n",
       "       'university of south florida', 'university of southampton',\n",
       "       'university of southern california', 'university of stirling',\n",
       "       'university of stuttgart', 'university of sunderland',\n",
       "       'university of surrey', 'university of sussex',\n",
       "       'university of technology',\n",
       "       'university of texas at arlington (uta)',\n",
       "       'university of the punjab', 'university of the punjab,gujranwala',\n",
       "       'university of the west scotland', 'university of trento',\n",
       "       'university of turbat', 'university of turin', 'university of ulm',\n",
       "       'university of vienna', 'university of virginia',\n",
       "       'university of wales', 'university of wales,aberystwyth',\n",
       "       'university of waterloo', 'university of westminster',\n",
       "       'university of windsor', 'university of york',\n",
       "       'university of\\xa0liverpool john moores university',\n",
       "       'university paris', 'universität salzburg',\n",
       "       'université de la rochelle', 'université henri poincaré, nancy 1,',\n",
       "       'universtiy of karachi', 'universtiy of lahore',\n",
       "       'uppsala university', 'usman institute of technology',\n",
       "       'usman institute of technology (hamdard university)',\n",
       "       'vienna university of technology',\n",
       "       'virtual university of pakistan', 'vrije university, amsterdam',\n",
       "       'wayne state university', 'xiamen university',\n",
       "       'zhejiang university', 'åbo akademi university,'], dtype=object)"
      ]
     },
     "execution_count": 26,
     "metadata": {},
     "output_type": "execute_result"
    }
   ],
   "source": [
    "# let see professors countries\n",
    "# convert to lower case\n",
    "professors['Graduated from'] = professors['Graduated from'].str.lower()\n",
    "# remove trailing white spaces\n",
    "professors['Graduated from'] = professors['Graduated from'].str.strip()\n",
    "countries = professors['Graduated from'].unique()\n",
    "countries.sort()\n",
    "countries\n",
    "# check inconsitences like with \"capital university of science & technology\""
   ]
  },
  {
   "cell_type": "markdown",
   "metadata": {},
   "source": [
    "Do the sema as before"
   ]
  }
 ],
 "metadata": {
  "kernelspec": {
   "display_name": ".venv",
   "language": "python",
   "name": "python3"
  },
  "language_info": {
   "codemirror_mode": {
    "name": "ipython",
    "version": 3
   },
   "file_extension": ".py",
   "mimetype": "text/x-python",
   "name": "python",
   "nbconvert_exporter": "python",
   "pygments_lexer": "ipython3",
   "version": "3.12.0"
  }
 },
 "nbformat": 4,
 "nbformat_minor": 2
}
