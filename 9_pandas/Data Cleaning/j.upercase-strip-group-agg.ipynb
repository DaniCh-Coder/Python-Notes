{
 "cells": [
  {
   "cell_type": "markdown",
   "metadata": {},
   "source": [
    "# upercase strip group agg"
   ]
  },
  {
   "cell_type": "code",
   "execution_count": 1,
   "metadata": {},
   "outputs": [],
   "source": [
    "import pandas as pd"
   ]
  },
  {
   "cell_type": "code",
   "execution_count": 2,
   "metadata": {},
   "outputs": [
    {
     "data": {
      "text/html": [
       "<div>\n",
       "<style scoped>\n",
       "    .dataframe tbody tr th:only-of-type {\n",
       "        vertical-align: middle;\n",
       "    }\n",
       "\n",
       "    .dataframe tbody tr th {\n",
       "        vertical-align: top;\n",
       "    }\n",
       "\n",
       "    .dataframe thead th {\n",
       "        text-align: right;\n",
       "    }\n",
       "</style>\n",
       "<table border=\"1\" class=\"dataframe\">\n",
       "  <thead>\n",
       "    <tr style=\"text-align: right;\">\n",
       "      <th></th>\n",
       "      <th>Autor</th>\n",
       "      <th>Título</th>\n",
       "      <th>Tema</th>\n",
       "      <th>Fecha</th>\n",
       "      <th>Precio</th>\n",
       "    </tr>\n",
       "  </thead>\n",
       "  <tbody>\n",
       "    <tr>\n",
       "      <th>0</th>\n",
       "      <td>Alberto Ferrari y Marco Russo</td>\n",
       "      <td>Analyzing Data with Power BI and Power Pivot</td>\n",
       "      <td>Power BI y Excel</td>\n",
       "      <td>01/01/2017</td>\n",
       "      <td>28,68</td>\n",
       "    </tr>\n",
       "    <tr>\n",
       "      <th>1</th>\n",
       "      <td>Alberto Ferrari y Marco Russo</td>\n",
       "      <td>DAX Patterns</td>\n",
       "      <td>DAX</td>\n",
       "      <td>01/01/2020</td>\n",
       "      <td>39,2</td>\n",
       "    </tr>\n",
       "    <tr>\n",
       "      <th>2</th>\n",
       "      <td>Alberto Ferrari y Marco Russo</td>\n",
       "      <td>Definitive Guide to DAX</td>\n",
       "      <td>DAX</td>\n",
       "      <td>01/10/2019</td>\n",
       "      <td>29,73</td>\n",
       "    </tr>\n",
       "    <tr>\n",
       "      <th>3</th>\n",
       "      <td>Brett Powell</td>\n",
       "      <td>Microsoft Power BI Cookbook</td>\n",
       "      <td>Power bI</td>\n",
       "      <td>01/01/2017</td>\n",
       "      <td>40,45</td>\n",
       "    </tr>\n",
       "    <tr>\n",
       "      <th>4</th>\n",
       "      <td>Brett Powell</td>\n",
       "      <td>Mastering Microsoft Power BI</td>\n",
       "      <td>BI</td>\n",
       "      <td>01/01/2018</td>\n",
       "      <td>32,74</td>\n",
       "    </tr>\n",
       "    <tr>\n",
       "      <th>5</th>\n",
       "      <td>Chris Webb</td>\n",
       "      <td>Power Query for Power BI and Excel</td>\n",
       "      <td>Power Query</td>\n",
       "      <td>01/01/2014</td>\n",
       "      <td>24,41</td>\n",
       "    </tr>\n",
       "    <tr>\n",
       "      <th>6</th>\n",
       "      <td>Dan Clark</td>\n",
       "      <td>Beginning Microsoft Power BI</td>\n",
       "      <td>Informes</td>\n",
       "      <td>01/01/2020</td>\n",
       "      <td>33,78</td>\n",
       "    </tr>\n",
       "    <tr>\n",
       "      <th>7</th>\n",
       "      <td>Errin O'Connor</td>\n",
       "      <td>Microsoft Power BI Dashboards Step by Step</td>\n",
       "      <td>Power BI</td>\n",
       "      <td>01/01/2018</td>\n",
       "      <td>34,49</td>\n",
       "    </tr>\n",
       "    <tr>\n",
       "      <th>8</th>\n",
       "      <td>Ken Puls y Miguel Escobar</td>\n",
       "      <td>M for Data Monkey</td>\n",
       "      <td>Power Query</td>\n",
       "      <td>01/01/2015</td>\n",
       "      <td>21,48</td>\n",
       "    </tr>\n",
       "    <tr>\n",
       "      <th>9</th>\n",
       "      <td>Maslyuk Daniil</td>\n",
       "      <td>Exam Ref 70-778</td>\n",
       "      <td>Certificación</td>\n",
       "      <td>01/01/2018</td>\n",
       "      <td>21,62</td>\n",
       "    </tr>\n",
       "    <tr>\n",
       "      <th>10</th>\n",
       "      <td>Matt Allington</td>\n",
       "      <td>Super Charge Power BI</td>\n",
       "      <td>Power bI</td>\n",
       "      <td>01/01/2018</td>\n",
       "      <td>11,99</td>\n",
       "    </tr>\n",
       "    <tr>\n",
       "      <th>11</th>\n",
       "      <td>Raviv Gil</td>\n",
       "      <td>Collect, Combine, and Transform Data Using Pow...</td>\n",
       "      <td>Power Query</td>\n",
       "      <td>01/01/2019</td>\n",
       "      <td>22,63</td>\n",
       "    </tr>\n",
       "    <tr>\n",
       "      <th>12</th>\n",
       "      <td>Reza Rad</td>\n",
       "      <td>Basics of Power BI Modeling</td>\n",
       "      <td>Power BI Modelado</td>\n",
       "      <td>01/01/2020</td>\n",
       "      <td>52,77</td>\n",
       "    </tr>\n",
       "    <tr>\n",
       "      <th>13</th>\n",
       "      <td>Rob Collie</td>\n",
       "      <td>Power Pivot and Power BI</td>\n",
       "      <td>Excel y Power BI</td>\n",
       "      <td>01/01/2016</td>\n",
       "      <td>18,82</td>\n",
       "    </tr>\n",
       "    <tr>\n",
       "      <th>14</th>\n",
       "      <td>Rothua Demannu</td>\n",
       "      <td>Power BI in 24 Hours</td>\n",
       "      <td>Power bI</td>\n",
       "      <td>01/01/2017</td>\n",
       "      <td>10,7</td>\n",
       "    </tr>\n",
       "    <tr>\n",
       "      <th>15</th>\n",
       "      <td>Saransh Paliwal</td>\n",
       "      <td>Analyzing Data with Microsoft Power BI DA100</td>\n",
       "      <td>Certificación</td>\n",
       "      <td>01/01/2020</td>\n",
       "      <td>17,06</td>\n",
       "    </tr>\n",
       "  </tbody>\n",
       "</table>\n",
       "</div>"
      ],
      "text/plain": [
       "                            Autor  \\\n",
       "0   Alberto Ferrari y Marco Russo   \n",
       "1   Alberto Ferrari y Marco Russo   \n",
       "2   Alberto Ferrari y Marco Russo   \n",
       "3                    Brett Powell   \n",
       "4                    Brett Powell   \n",
       "5                      Chris Webb   \n",
       "6                       Dan Clark   \n",
       "7                  Errin O'Connor   \n",
       "8       Ken Puls y Miguel Escobar   \n",
       "9                  Maslyuk Daniil   \n",
       "10                 Matt Allington   \n",
       "11                      Raviv Gil   \n",
       "12                       Reza Rad   \n",
       "13                     Rob Collie   \n",
       "14                 Rothua Demannu   \n",
       "15                Saransh Paliwal   \n",
       "\n",
       "                                               Título               Tema  \\\n",
       "0        Analyzing Data with Power BI and Power Pivot   Power BI y Excel   \n",
       "1                                        DAX Patterns                DAX   \n",
       "2                             Definitive Guide to DAX                DAX   \n",
       "3                         Microsoft Power BI Cookbook           Power bI   \n",
       "4                        Mastering Microsoft Power BI                 BI   \n",
       "5                  Power Query for Power BI and Excel        Power Query   \n",
       "6                        Beginning Microsoft Power BI           Informes   \n",
       "7          Microsoft Power BI Dashboards Step by Step           Power BI   \n",
       "8                                   M for Data Monkey        Power Query   \n",
       "9                                     Exam Ref 70-778      Certificación   \n",
       "10                              Super Charge Power BI           Power bI   \n",
       "11  Collect, Combine, and Transform Data Using Pow...        Power Query   \n",
       "12                        Basics of Power BI Modeling  Power BI Modelado   \n",
       "13                           Power Pivot and Power BI   Excel y Power BI   \n",
       "14                               Power BI in 24 Hours           Power bI   \n",
       "15       Analyzing Data with Microsoft Power BI DA100      Certificación   \n",
       "\n",
       "         Fecha Precio  \n",
       "0   01/01/2017  28,68  \n",
       "1   01/01/2020   39,2  \n",
       "2   01/10/2019  29,73  \n",
       "3   01/01/2017  40,45  \n",
       "4   01/01/2018  32,74  \n",
       "5   01/01/2014  24,41  \n",
       "6   01/01/2020  33,78  \n",
       "7   01/01/2018  34,49  \n",
       "8   01/01/2015  21,48  \n",
       "9   01/01/2018  21,62  \n",
       "10  01/01/2018  11,99  \n",
       "11  01/01/2019  22,63  \n",
       "12  01/01/2020  52,77  \n",
       "13  01/01/2016  18,82  \n",
       "14  01/01/2017   10,7  \n",
       "15  01/01/2020  17,06  "
      ]
     },
     "execution_count": 2,
     "metadata": {},
     "output_type": "execute_result"
    }
   ],
   "source": [
    "# set the path\n",
    "path = \"../../../data/\"\n",
    "csv_i_name = \"LibrosMSN.csv\"\n",
    "\n",
    "# set out name\n",
    "csv_o_name = \"LibrosMSN_Clean.csv\"\n",
    "csv_o_grouped = \"LibrosMSN_Temas.csv\"\n",
    "\n",
    "# build the paths in and out\n",
    "path_name_in = path + csv_i_name\n",
    "path_clean_out = path + csv_o_name\n",
    "path_group_out = path + csv_o_grouped\n",
    "\n",
    "# open the file into a dataframe\n",
    "df=pd.read_csv(path_name_in)\n",
    "df"
   ]
  },
  {
   "cell_type": "markdown",
   "metadata": {},
   "source": [
    "## Lets group by Tema.\n",
    "Objective: build a df with tema, quantity, autors quantity, initial date, starting price"
   ]
  },
  {
   "cell_type": "markdown",
   "metadata": {},
   "source": [
    "### Clean the column tema first"
   ]
  },
  {
   "cell_type": "code",
   "execution_count": 3,
   "metadata": {},
   "outputs": [],
   "source": [
    "# a. convert to upper each word, b. replace Bi with BI c. remove leading and trailing charagters\n",
    "df.Tema = df.Tema.str.title().str.replace(\"Bi\", \"BI\").str.strip()"
   ]
  },
  {
   "cell_type": "markdown",
   "metadata": {},
   "source": [
    "## group"
   ]
  },
  {
   "cell_type": "code",
   "execution_count": 4,
   "metadata": {},
   "outputs": [
    {
     "data": {
      "text/plain": [
       "Tema               Autor                          Título                                                  Fecha       Precio\n",
       "BI                 Brett Powell                   Mastering Microsoft Power BI                            01/01/2018  32,74     1\n",
       "Certificación      Maslyuk Daniil                 Exam Ref 70-778                                         01/01/2018  21,62     1\n",
       "                   Saransh Paliwal                Analyzing Data with Microsoft Power BI DA100            01/01/2020  17,06     1\n",
       "Dax                Alberto Ferrari y Marco Russo  DAX Patterns                                            01/01/2020  39,2      1\n",
       "                                                  Definitive Guide to DAX                                 01/10/2019  29,73     1\n",
       "Excel Y Power BI   Rob Collie                     Power Pivot and Power BI                                01/01/2016  18,82     1\n",
       "Informes           Dan Clark                      Beginning Microsoft Power BI                            01/01/2020  33,78     1\n",
       "Power BI           Brett Powell                   Microsoft Power BI Cookbook                             01/01/2017  40,45     1\n",
       "                   Errin O'Connor                 Microsoft Power BI Dashboards Step by Step              01/01/2018  34,49     1\n",
       "                   Matt Allington                 Super Charge Power BI                                   01/01/2018  11,99     1\n",
       "                   Rothua Demannu                 Power BI in 24 Hours                                    01/01/2017  10,7      1\n",
       "Power BI Modelado  Reza Rad                       Basics of Power BI Modeling                             01/01/2020  52,77     1\n",
       "Power BI Y Excel   Alberto Ferrari y Marco Russo  Analyzing Data with Power BI and Power Pivot            01/01/2017  28,68     1\n",
       "Power Query        Chris Webb                     Power Query for Power BI and Excel                      01/01/2014  24,41     1\n",
       "                   Ken Puls y Miguel Escobar      M for Data Monkey                                       01/01/2015  21,48     1\n",
       "                   Raviv Gil                      Collect, Combine, and Transform Data Using Power Query  01/01/2019  22,63     1\n",
       "Name: count, dtype: int64"
      ]
     },
     "execution_count": 4,
     "metadata": {},
     "output_type": "execute_result"
    }
   ],
   "source": [
    "# take a look to groped values in df\n",
    "df.groupby('Tema').value_counts()"
   ]
  },
  {
   "cell_type": "code",
   "execution_count": 5,
   "metadata": {},
   "outputs": [
    {
     "data": {
      "text/plain": [
       "Tema\n",
       "BI                   1\n",
       "Certificación        2\n",
       "Dax                  2\n",
       "Excel Y Power BI     1\n",
       "Informes             1\n",
       "Power BI             4\n",
       "Power BI Modelado    1\n",
       "Power BI Y Excel     1\n",
       "Power Query          3\n",
       "Name: Tema, dtype: int64"
      ]
     },
     "execution_count": 5,
     "metadata": {},
     "output_type": "execute_result"
    }
   ],
   "source": [
    "# count rows by tema\n",
    "df.groupby('Tema').Tema.count()"
   ]
  },
  {
   "cell_type": "code",
   "execution_count": 6,
   "metadata": {},
   "outputs": [
    {
     "data": {
      "text/plain": [
       "Tema\n",
       "BI                   01/01/2018\n",
       "Certificación        01/01/2018\n",
       "Dax                  01/01/2020\n",
       "Excel Y Power BI     01/01/2016\n",
       "Informes             01/01/2020\n",
       "Power BI             01/01/2017\n",
       "Power BI Modelado    01/01/2020\n",
       "Power BI Y Excel     01/01/2017\n",
       "Power Query          01/01/2014\n",
       "Name: Fecha, dtype: object"
      ]
     },
     "execution_count": 6,
     "metadata": {},
     "output_type": "execute_result"
    }
   ],
   "source": [
    "# look for oldest date\n",
    "df.groupby('Tema').Fecha.min()"
   ]
  },
  {
   "cell_type": "code",
   "execution_count": 7,
   "metadata": {},
   "outputs": [
    {
     "data": {
      "text/plain": [
       "Tema\n",
       "BI                   32,74\n",
       "Certificación        17,06\n",
       "Dax                  29,73\n",
       "Excel Y Power BI     18,82\n",
       "Informes             33,78\n",
       "Power BI              10,7\n",
       "Power BI Modelado    52,77\n",
       "Power BI Y Excel     28,68\n",
       "Power Query          21,48\n",
       "Name: Precio, dtype: object"
      ]
     },
     "execution_count": 7,
     "metadata": {},
     "output_type": "execute_result"
    }
   ],
   "source": [
    "# look for starting price\n",
    "df.groupby('Tema').Precio.min()"
   ]
  },
  {
   "cell_type": "code",
   "execution_count": 8,
   "metadata": {},
   "outputs": [],
   "source": [
    "df_temas = df.groupby('Tema').agg(\n",
    "    C_Temas = pd.NamedAgg(column='Tema', aggfunc='count'),\n",
    "    Autores = pd.NamedAgg(column='Autor', aggfunc='nunique'),\n",
    "    F_Inicial = pd.NamedAgg(column='Fecha', aggfunc='min'),\n",
    "    Prec_Desde = pd.NamedAgg(column='Precio', aggfunc='min')\n",
    ")"
   ]
  },
  {
   "cell_type": "code",
   "execution_count": 9,
   "metadata": {},
   "outputs": [
    {
     "data": {
      "text/html": [
       "<div>\n",
       "<style scoped>\n",
       "    .dataframe tbody tr th:only-of-type {\n",
       "        vertical-align: middle;\n",
       "    }\n",
       "\n",
       "    .dataframe tbody tr th {\n",
       "        vertical-align: top;\n",
       "    }\n",
       "\n",
       "    .dataframe thead th {\n",
       "        text-align: right;\n",
       "    }\n",
       "</style>\n",
       "<table border=\"1\" class=\"dataframe\">\n",
       "  <thead>\n",
       "    <tr style=\"text-align: right;\">\n",
       "      <th></th>\n",
       "      <th>C_Temas</th>\n",
       "      <th>Autores</th>\n",
       "      <th>F_Inicial</th>\n",
       "      <th>Prec_Desde</th>\n",
       "    </tr>\n",
       "    <tr>\n",
       "      <th>Tema</th>\n",
       "      <th></th>\n",
       "      <th></th>\n",
       "      <th></th>\n",
       "      <th></th>\n",
       "    </tr>\n",
       "  </thead>\n",
       "  <tbody>\n",
       "    <tr>\n",
       "      <th>BI</th>\n",
       "      <td>1</td>\n",
       "      <td>1</td>\n",
       "      <td>01/01/2018</td>\n",
       "      <td>32,74</td>\n",
       "    </tr>\n",
       "    <tr>\n",
       "      <th>Certificación</th>\n",
       "      <td>2</td>\n",
       "      <td>2</td>\n",
       "      <td>01/01/2018</td>\n",
       "      <td>17,06</td>\n",
       "    </tr>\n",
       "    <tr>\n",
       "      <th>Dax</th>\n",
       "      <td>2</td>\n",
       "      <td>1</td>\n",
       "      <td>01/01/2020</td>\n",
       "      <td>29,73</td>\n",
       "    </tr>\n",
       "    <tr>\n",
       "      <th>Excel Y Power BI</th>\n",
       "      <td>1</td>\n",
       "      <td>1</td>\n",
       "      <td>01/01/2016</td>\n",
       "      <td>18,82</td>\n",
       "    </tr>\n",
       "    <tr>\n",
       "      <th>Informes</th>\n",
       "      <td>1</td>\n",
       "      <td>1</td>\n",
       "      <td>01/01/2020</td>\n",
       "      <td>33,78</td>\n",
       "    </tr>\n",
       "    <tr>\n",
       "      <th>Power BI</th>\n",
       "      <td>4</td>\n",
       "      <td>4</td>\n",
       "      <td>01/01/2017</td>\n",
       "      <td>10,7</td>\n",
       "    </tr>\n",
       "    <tr>\n",
       "      <th>Power BI Modelado</th>\n",
       "      <td>1</td>\n",
       "      <td>1</td>\n",
       "      <td>01/01/2020</td>\n",
       "      <td>52,77</td>\n",
       "    </tr>\n",
       "    <tr>\n",
       "      <th>Power BI Y Excel</th>\n",
       "      <td>1</td>\n",
       "      <td>1</td>\n",
       "      <td>01/01/2017</td>\n",
       "      <td>28,68</td>\n",
       "    </tr>\n",
       "    <tr>\n",
       "      <th>Power Query</th>\n",
       "      <td>3</td>\n",
       "      <td>3</td>\n",
       "      <td>01/01/2014</td>\n",
       "      <td>21,48</td>\n",
       "    </tr>\n",
       "  </tbody>\n",
       "</table>\n",
       "</div>"
      ],
      "text/plain": [
       "                   C_Temas  Autores   F_Inicial Prec_Desde\n",
       "Tema                                                      \n",
       "BI                       1        1  01/01/2018      32,74\n",
       "Certificación            2        2  01/01/2018      17,06\n",
       "Dax                      2        1  01/01/2020      29,73\n",
       "Excel Y Power BI         1        1  01/01/2016      18,82\n",
       "Informes                 1        1  01/01/2020      33,78\n",
       "Power BI                 4        4  01/01/2017       10,7\n",
       "Power BI Modelado        1        1  01/01/2020      52,77\n",
       "Power BI Y Excel         1        1  01/01/2017      28,68\n",
       "Power Query              3        3  01/01/2014      21,48"
      ]
     },
     "execution_count": 9,
     "metadata": {},
     "output_type": "execute_result"
    }
   ],
   "source": [
    "df_temas"
   ]
  },
  {
   "cell_type": "markdown",
   "metadata": {},
   "source": [
    "## Save the results"
   ]
  },
  {
   "cell_type": "code",
   "execution_count": 10,
   "metadata": {},
   "outputs": [],
   "source": [
    "## Save the files\n",
    "df.to_csv(path_clean_out, encoding=\"latin-1\")\n",
    "df_temas.to_csv(path_group_out, encoding=\"latin-1\")"
   ]
  }
 ],
 "metadata": {
  "kernelspec": {
   "display_name": ".venv",
   "language": "python",
   "name": "python3"
  },
  "language_info": {
   "codemirror_mode": {
    "name": "ipython",
    "version": 3
   },
   "file_extension": ".py",
   "mimetype": "text/x-python",
   "name": "python",
   "nbconvert_exporter": "python",
   "pygments_lexer": "ipython3",
   "version": "3.12.0"
  }
 },
 "nbformat": 4,
 "nbformat_minor": 2
}
