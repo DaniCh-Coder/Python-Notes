{
 "cells": [
  {
   "cell_type": "markdown",
   "metadata": {},
   "source": [
    "# Datetime and Timestamp"
   ]
  },
  {
   "cell_type": "code",
   "execution_count": 30,
   "metadata": {},
   "outputs": [],
   "source": [
    "import pandas as pd\n",
    "import numpy as numpy\n",
    "import datetime"
   ]
  },
  {
   "cell_type": "markdown",
   "metadata": {},
   "source": [
    "pandas captures 4 general time related concepts:\n",
    "\n",
    "1) **Date times**: **Timestamp** A specific date and time with timezone support. \n",
    "    * Similar to _datetime.datetime_ from the standard library.\n",
    "2) **Time spans**: **Period**: A span of time defined by a point in time and its associated frequency.\n",
    "3) **Time deltas**: **Timedelta**: An absolute time duration. \n",
    "    * Similar to _datetime.timedelta_ from the standard library.\n",
    "4) **Date offsets**: **DateOffset**: A relative time duration that respects calendar arithmetic. \n",
    "    * Similar to _dateutil.relativedelta.relativedelta_ from the dateutil package.\n",
    "###### https://pandas.pydata.org/docs/user_guide/timeseries.html#overview\n",
    "###### https://pandas.pydata.org/docs/user_guide/timeseries.html#time-date-components\n"
   ]
  },
  {
   "cell_type": "markdown",
   "metadata": {},
   "source": [
    "## 1) Timestamps\n",
    "###### Know the date and time stamps\n",
    "###### an instance of the Timestamp class represents a single point of time\n",
    "###### see also datetimes-periods-datespan"
   ]
  },
  {
   "cell_type": "code",
   "execution_count": 31,
   "metadata": {},
   "outputs": [
    {
     "data": {
      "text/plain": [
       "Timestamp('2024-01-02 16:12:15.164641')"
      ]
     },
     "execution_count": 31,
     "metadata": {},
     "output_type": "execute_result"
    }
   ],
   "source": [
    "# method now() from Timestamp returns date and time\n",
    "pd.Timestamp.now()"
   ]
  },
  {
   "cell_type": "code",
   "execution_count": 32,
   "metadata": {},
   "outputs": [
    {
     "data": {
      "text/plain": [
       "datetime.date(2024, 1, 2)"
      ]
     },
     "execution_count": 32,
     "metadata": {},
     "output_type": "execute_result"
    }
   ],
   "source": [
    "# method date() of a Timestamp object returns date\n",
    "pd.Timestamp.now().date()"
   ]
  },
  {
   "cell_type": "code",
   "execution_count": 33,
   "metadata": {},
   "outputs": [
    {
     "data": {
      "text/plain": [
       "datetime.time(16, 12, 15, 176447)"
      ]
     },
     "execution_count": 33,
     "metadata": {},
     "output_type": "execute_result"
    }
   ],
   "source": [
    "# method time() returns time()\n",
    "pd.Timestamp.now().time()"
   ]
  },
  {
   "cell_type": "markdown",
   "metadata": {},
   "source": [
    "### Timestamp format\n",
    "###### Timestamp are stamps over integers\n",
    "###### see also datetimes-periods-datespan"
   ]
  },
  {
   "cell_type": "code",
   "execution_count": 34,
   "metadata": {},
   "outputs": [
    {
     "name": "stdout",
     "output_type": "stream",
     "text": [
      "2023-02-01 00:00:00, 2017-01-01 12:00:00\n"
     ]
    }
   ],
   "source": [
    "# In this example takes int values and convert them into a date and time\n",
    "print(f\"{pd.Timestamp(2023,2,1)}, {pd.Timestamp(year=2017, month=1, day=1, hour=12)}\")"
   ]
  },
  {
   "cell_type": "code",
   "execution_count": 35,
   "metadata": {},
   "outputs": [
    {
     "name": "stdout",
     "output_type": "stream",
     "text": [
      "2022-02-09 00:00:00\n",
      "Wednesday, February 9, 2022\n"
     ]
    }
   ],
   "source": [
    "# in this example take str, then convert to a number and after format as a timestamp\n",
    "time_stamp = pd.Timestamp('2022-02-09')\n",
    "print(time_stamp)\n",
    "print('{}, {} {}, {}'.format(time_stamp.day_name(), time_stamp.month_name(), time_stamp.day, time_stamp.year))"
   ]
  },
  {
   "cell_type": "markdown",
   "metadata": {},
   "source": [
    "### Convert strings to timestamps\n",
    "###### date and times are integers"
   ]
  },
  {
   "cell_type": "code",
   "execution_count": 36,
   "metadata": {},
   "outputs": [
    {
     "data": {
      "text/plain": [
       "Timestamp('2024-01-02 00:00:00')"
      ]
     },
     "execution_count": 36,
     "metadata": {},
     "output_type": "execute_result"
    }
   ],
   "source": [
    "# A veri powerfull to convert to datetime from string is with pd.to_datetime(df['Date'], format='mixed')\n",
    "# It's no infalible but mostly works\n",
    "stringdate = \"'2024/01/02'\"\n",
    "pd.to_datetime(stringdate, format='mixed')\n"
   ]
  },
  {
   "cell_type": "code",
   "execution_count": 37,
   "metadata": {},
   "outputs": [
    {
     "data": {
      "text/plain": [
       "'2024-01-02'"
      ]
     },
     "execution_count": 37,
     "metadata": {},
     "output_type": "execute_result"
    }
   ],
   "source": [
    "# Get system date string: \n",
    "system_date_str = datetime.datetime.now().strftime(\"%Y-%m-%d\")  # Customize format as needed\n",
    "system_date_str     # this is a string, NOT a timestamp"
   ]
  },
  {
   "cell_type": "code",
   "execution_count": 38,
   "metadata": {},
   "outputs": [
    {
     "data": {
      "text/plain": [
       "Timestamp('2024-01-02 00:00:00')"
      ]
     },
     "execution_count": 38,
     "metadata": {},
     "output_type": "execute_result"
    }
   ],
   "source": [
    "# Convert the string into a timestamp\n",
    "date_timestamp = pd.to_datetime(system_date_str)\n",
    "date_timestamp  # this is a timestamp"
   ]
  },
  {
   "cell_type": "markdown",
   "metadata": {},
   "source": [
    "## 2) Periods\n",
    "###### Year, month, weeks. group, adding and other\n",
    "###### While an instance of the Timestamp class represents a single point of time, an instance of the Period object represents a period such as a year, a month, etc."
   ]
  },
  {
   "cell_type": "code",
   "execution_count": 39,
   "metadata": {},
   "outputs": [
    {
     "data": {
      "text/plain": [
       "Period('2021', 'A-DEC')"
      ]
     },
     "execution_count": 39,
     "metadata": {},
     "output_type": "execute_result"
    }
   ],
   "source": [
    "# Period object representing the YEAR 2021 period, and the 'A-DEC' means that the period is annual, which ends in December.\n",
    "year = pd.Period('2021')\n",
    "year"
   ]
  },
  {
   "cell_type": "code",
   "execution_count": 40,
   "metadata": {},
   "outputs": [
    {
     "name": "stdout",
     "output_type": "stream",
     "text": [
      "'Start Time:', 2021-01-01 00:00:00, 'End Time:', 2021-12-31 23:59:59.999999999\n"
     ]
    }
   ],
   "source": [
    "# Period object provides many useful methods and properties. \n",
    "# For example, if you want to return the start and end time of the period, use the properties:\n",
    "print(f\"'Start Time:', {year.start_time}, 'End Time:', {year.end_time}\")"
   ]
  },
  {
   "cell_type": "code",
   "execution_count": 41,
   "metadata": {},
   "outputs": [
    {
     "name": "stdout",
     "output_type": "stream",
     "text": [
      "2024-01\n",
      "'Start Time:', 2024-01-01 00:00:00, 'End Time:', 2024-01-31 23:59:59.999999999\n"
     ]
    }
   ],
   "source": [
    "# Period object representing MONTH january period of 2024 year\n",
    "month = pd.Period('2024-01')\n",
    "print(month)\n",
    "# For example, if you want to return the start and end time of the period, use the properties:\n",
    "print(f\"'Start Time:', {month.start_time}, 'End Time:', {month.end_time}\")"
   ]
  },
  {
   "cell_type": "code",
   "execution_count": 42,
   "metadata": {},
   "outputs": [
    {
     "data": {
      "text/plain": [
       "(Period('2024', 'A-DEC'),\n",
       " Period('2023-12', 'M'),\n",
       " Period('2024-12-09', 'D'),\n",
       " Period('2024-12-09 00:00', 'H'))"
      ]
     },
     "execution_count": 42,
     "metadata": {},
     "output_type": "execute_result"
    }
   ],
   "source": [
    "# Periods can be set by using letters like 'Y' or 'M' or 'D'\n",
    "year = pd.Period('2024', freq='Y')\n",
    "month = pd.Period('2023-12-09 10:00:00', freq='M')\n",
    "day = pd.Period('2024/12/09', freq='D')\n",
    "hour = pd.Period('2024/12/09', freq='H')\n",
    "\n",
    "year, month, day, hour"
   ]
  },
  {
   "cell_type": "code",
   "execution_count": 43,
   "metadata": {},
   "outputs": [
    {
     "name": "stdout",
     "output_type": "stream",
     "text": [
      "2023 2024 2025\n",
      "2023-11 2023-12 2024-01\n"
     ]
    }
   ],
   "source": [
    "# add and subtract in periods\n",
    "print(year -1, year, year +1)\n",
    "print(month -1, month, month +1)"
   ]
  },
  {
   "cell_type": "code",
   "execution_count": 44,
   "metadata": {},
   "outputs": [
    {
     "name": "stdout",
     "output_type": "stream",
     "text": [
      "2024-01-31 00:00:00\n",
      "2024-02-29 00:00:00\n",
      "2024-03-31 00:00:00\n",
      "2024-04-30 00:00:00\n",
      "2024-05-31 00:00:00\n",
      "2024-06-30 00:00:00\n"
     ]
    }
   ],
   "source": [
    "# construct an serie of dates\n",
    "# date_range()\n",
    "for i in pd.date_range(start='2024/01/01', freq='M', periods=6):\n",
    "    print(i)"
   ]
  },
  {
   "cell_type": "code",
   "execution_count": 45,
   "metadata": {},
   "outputs": [
    {
     "name": "stdout",
     "output_type": "stream",
     "text": [
      "2023-12-30 00:00:00\n",
      "2023-12-31 00:00:00\n",
      "2024-01-01 00:00:00\n",
      "2024-01-02 00:00:00\n",
      "2024-01-03 00:00:00\n"
     ]
    }
   ],
   "source": [
    "for i in pd.date_range(start='2023/12/30', freq='D', periods=5):\n",
    "    print(i)\n"
   ]
  },
  {
   "cell_type": "code",
   "execution_count": null,
   "metadata": {},
   "outputs": [],
   "source": []
  }
 ],
 "metadata": {
  "kernelspec": {
   "display_name": "Python 3",
   "language": "python",
   "name": "python3"
  },
  "language_info": {
   "codemirror_mode": {
    "name": "ipython",
    "version": 3
   },
   "file_extension": ".py",
   "mimetype": "text/x-python",
   "name": "python",
   "nbconvert_exporter": "python",
   "pygments_lexer": "ipython3",
   "version": "3.12.0"
  }
 },
 "nbformat": 4,
 "nbformat_minor": 2
}
