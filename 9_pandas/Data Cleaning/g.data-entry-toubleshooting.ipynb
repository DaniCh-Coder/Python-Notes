{
 "cells": [
  {
   "cell_type": "markdown",
   "metadata": {},
   "source": [
    "# Data entry corrections"
   ]
  },
  {
   "cell_type": "markdown",
   "metadata": {},
   "source": [
    "Let pretend we are interested in clean up some country list extracted from a file that we whant to clean."
   ]
  },
  {
   "cell_type": "code",
   "execution_count": 31,
   "metadata": {},
   "outputs": [],
   "source": [
    "import pandas as pd\n",
    "\n",
    "countries = [' Germany', 'Austrian',' New Zealand', ' Sweden', ' USA', 'Australia','Austria', \n",
    "             'Canada', 'China', 'Finland', 'France', 'Greece','HongKong', 'Ireland', \n",
    "             'Italy', 'cannada', 'Japan', 'Macau', 'Malaysia','Mauritius', 'Netherland', \n",
    "             'New Zealand', 'Norway', 'Pakistan','Portugal', 'Russian Federation', \n",
    "             'Saudi Arabia', 'Scotland','Singapore', 'South Korea', 'SouthKorea', 'Spain', 'Sweden',\n",
    "             'Thailand', 'Turkey', 'UK', 'USA', 'USofA', 'Urbana', 'germany']\n",
    "Country = pd.Series(countries)"
   ]
  },
  {
   "cell_type": "markdown",
   "metadata": {},
   "source": [
    "## 1) Preliminary text pre-processing"
   ]
  },
  {
   "cell_type": "markdown",
   "metadata": {},
   "source": [
    "Just looking at this, I can see some problems due to inconsistent data entry: ' Germany', and 'germany', for example, or ' New Zealand' and 'New Zealand'.\n",
    "* The first thing to do is make everything lower case (change it back at the end) and remove any white spaces at the beginning and end of cells.\n",
    "    * Inconsistencies in capitalizations and trailing white spaces are very common in text data and you can fix a good 80% of your text data entry inconsistencies by doing this."
   ]
  },
  {
   "cell_type": "code",
   "execution_count": 32,
   "metadata": {},
   "outputs": [
    {
     "data": {
      "text/plain": [
       "[' Germany',\n",
       " ' New Zealand',\n",
       " ' Sweden',\n",
       " ' USA',\n",
       " 'Australia',\n",
       " 'Austria',\n",
       " 'Austrian',\n",
       " 'Canada',\n",
       " 'China',\n",
       " 'Finland',\n",
       " 'France',\n",
       " 'Greece',\n",
       " 'HongKong',\n",
       " 'Ireland',\n",
       " 'Italy',\n",
       " 'Japan',\n",
       " 'Macau',\n",
       " 'Malaysia',\n",
       " 'Mauritius',\n",
       " 'Netherland',\n",
       " 'New Zealand',\n",
       " 'Norway',\n",
       " 'Pakistan',\n",
       " 'Portugal',\n",
       " 'Russian Federation',\n",
       " 'Saudi Arabia',\n",
       " 'Scotland',\n",
       " 'Singapore',\n",
       " 'South Korea',\n",
       " 'SouthKorea',\n",
       " 'Spain',\n",
       " 'Sweden',\n",
       " 'Thailand',\n",
       " 'Turkey',\n",
       " 'UK',\n",
       " 'USA',\n",
       " 'USofA',\n",
       " 'Urbana',\n",
       " 'cannada',\n",
       " 'germany']"
      ]
     },
     "execution_count": 32,
     "metadata": {},
     "output_type": "execute_result"
    }
   ],
   "source": [
    "# Take a look and see if the list is sorted\n",
    "countries.sort()\n",
    "countries\n",
    "# The list seems to be not sorted because it has mixed empty caracters ' '\n",
    "# Therefore the first thing to do with Country Serie is strip the ' '\n",
    "# The second thing to do with the Serie is lowercase it"
   ]
  },
  {
   "cell_type": "code",
   "execution_count": 33,
   "metadata": {},
   "outputs": [],
   "source": [
    "# sort and strip the countries serie\n",
    "Country = Country.str.strip()\n",
    "Country = Country.str.lower()\n",
    "Country.sort_values(ascending=True, inplace=True)\n",
    "countries = Country.tolist()\n"
   ]
  },
  {
   "cell_type": "markdown",
   "metadata": {},
   "source": [
    "## 2) Use TheFuzz to eliminate misspelling duplicates"
   ]
  },
  {
   "cell_type": "code",
   "execution_count": 34,
   "metadata": {},
   "outputs": [],
   "source": [
    "import thefuzz\n",
    "from thefuzz import process"
   ]
  },
  {
   "cell_type": "code",
   "execution_count": 35,
   "metadata": {},
   "outputs": [],
   "source": [
    "# Clean and remove duplicates using TheFuzz library\n",
    "cleaned_countries = []"
   ]
  },
  {
   "cell_type": "code",
   "execution_count": 36,
   "metadata": {},
   "outputs": [
    {
     "data": {
      "text/plain": [
       "['australia',\n",
       " 'cannada',\n",
       " 'china',\n",
       " 'france',\n",
       " 'germany',\n",
       " 'greece',\n",
       " 'hongkong',\n",
       " 'ireland',\n",
       " 'italy',\n",
       " 'japan',\n",
       " 'macau',\n",
       " 'malaysia',\n",
       " 'mauritius',\n",
       " 'netherland',\n",
       " 'new zealand',\n",
       " 'norway',\n",
       " 'pakistan',\n",
       " 'portugal',\n",
       " 'russian federation',\n",
       " 'saudi arabia',\n",
       " 'scotland',\n",
       " 'singapore',\n",
       " 'south korea',\n",
       " 'southkorea',\n",
       " 'spain',\n",
       " 'sweden',\n",
       " 'thailand',\n",
       " 'turkey',\n",
       " 'uk',\n",
       " 'urbana',\n",
       " 'usofa']"
      ]
     },
     "execution_count": 36,
     "metadata": {},
     "output_type": "execute_result"
    }
   ],
   "source": [
    "\n",
    "de_duplicated_names = process.dedupe(countries, threshold=70)\n",
    "de_duplicated_names.sort()\n",
    "de_duplicated_names"
   ]
  }
 ],
 "metadata": {
  "kernelspec": {
   "display_name": ".venv",
   "language": "python",
   "name": "python3"
  },
  "language_info": {
   "codemirror_mode": {
    "name": "ipython",
    "version": 3
   },
   "file_extension": ".py",
   "mimetype": "text/x-python",
   "name": "python",
   "nbconvert_exporter": "python",
   "pygments_lexer": "ipython3",
   "version": "3.12.0"
  }
 },
 "nbformat": 4,
 "nbformat_minor": 2
}
