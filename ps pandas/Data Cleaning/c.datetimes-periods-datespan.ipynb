{
 "cells": [
  {
   "cell_type": "markdown",
   "metadata": {},
   "source": [
    "# Timestamps vs. time spans"
   ]
  },
  {
   "cell_type": "code",
   "execution_count": 4,
   "metadata": {},
   "outputs": [],
   "source": [
    "import pandas as pd\n",
    "import numpy as numpy"
   ]
  },
  {
   "cell_type": "markdown",
   "metadata": {},
   "source": [
    "Timestamped data is the most basic type of time series data that associates values with points in time.\n",
    "Periods data represents time from and to, like hours of a day, or month of a year."
   ]
  },
  {
   "cell_type": "code",
   "execution_count": 33,
   "metadata": {},
   "outputs": [
    {
     "name": "stdout",
     "output_type": "stream",
     "text": [
      "Timestamp: 2012-05-01 00:00:00 is only one point in time.\n",
      "Period: 2012-05-01 is the time include in the entire day.\n",
      "Period: 2012-05-01 is the time include in the entire day.\n"
     ]
    }
   ],
   "source": [
    "print(f\"Timestamp: {pd.Timestamp(2012, 5, 1)} is only one point in time.\")\n",
    "print(f\"Period: {pd.Period('2012, 5, 1')} is the time include in the entire day.\")\n",
    "print(f\"Period: {pd.Period('2012, 5, 1', 'D')} is the time include in the entire day.\")"
   ]
  },
  {
   "cell_type": "code",
   "execution_count": 34,
   "metadata": {},
   "outputs": [
    {
     "name": "stdout",
     "output_type": "stream",
     "text": [
      "[Timestamp('2012-05-01 00:00:00'), Timestamp('2012-05-02 00:00:00'), Timestamp('2012-05-03 00:00:00')] \n",
      "\n",
      "2012-05-01    1\n",
      "2012-05-02    2\n",
      "2012-05-03    3\n",
      "dtype: int64 DatetimeIndex(['2012-05-01', '2012-05-02', '2012-05-03'], dtype='datetime64[ns]', freq=None)\n",
      "1   2012-05-01\n",
      "2   2012-05-02\n",
      "3   2012-05-03\n",
      "dtype: datetime64[ns] RangeIndex(start=1, stop=4, step=1)\n"
     ]
    }
   ],
   "source": [
    "# list of 3 days timestamp\n",
    "# Two equivalent options:\n",
    "# dates = [ pd.Timestamp(\"2012-05-01\"), pd.Timestamp(\"2012-05-02\"), pd.Timestamp(\"2012-05-03\")]\n",
    "# dates = [pd.Period(\"2012-01\"), pd.Period(\"2012-02\"), pd.Period(\"2012-03\")]\n",
    "\n",
    "dates = [ pd.Timestamp(\"2012-05-01\"), pd.Timestamp(\"2012-05-02\"), pd.Timestamp(\"2012-05-03\")]\n",
    "print(dates, \"\\n\")\n",
    "\n",
    "# convert to a serie of numbers - here dates are keys\n",
    "dataserie = pd.Series(range(1, 4), dates)\n",
    "print(dataserie, dataserie.index)\n",
    "\n",
    "# convert to a serie of dates - here numbers are keys\n",
    "dateserie = pd.Series(dates, range(1, 4))\n",
    "print(dateserie, dateserie.index)\n"
   ]
  },
  {
   "cell_type": "code",
   "execution_count": null,
   "metadata": {},
   "outputs": [],
   "source": []
  }
 ],
 "metadata": {
  "kernelspec": {
   "display_name": "Python 3",
   "language": "python",
   "name": "python3"
  },
  "language_info": {
   "codemirror_mode": {
    "name": "ipython",
    "version": 3
   },
   "file_extension": ".py",
   "mimetype": "text/x-python",
   "name": "python",
   "nbconvert_exporter": "python",
   "pygments_lexer": "ipython3",
   "version": "3.12.0"
  }
 },
 "nbformat": 4,
 "nbformat_minor": 2
}
