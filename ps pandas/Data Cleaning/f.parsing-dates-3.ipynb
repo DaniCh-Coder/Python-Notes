{
 "cells": [
  {
   "cell_type": "markdown",
   "metadata": {},
   "source": [
    "# Slice pd.Series"
   ]
  },
  {
   "cell_type": "code",
   "execution_count": 46,
   "metadata": {},
   "outputs": [],
   "source": [
    "import pandas as pd\n",
    "import numpy as np"
   ]
  },
  {
   "cell_type": "code",
   "execution_count": 47,
   "metadata": {},
   "outputs": [
    {
     "data": {
      "text/plain": [
       "2020-01-01    0\n",
       "2020-01-02    1\n",
       "2020-01-03    2\n",
       "2020-01-04    3\n",
       "2020-01-05    4\n",
       "Freq: D, dtype: int64"
      ]
     },
     "execution_count": 47,
     "metadata": {},
     "output_type": "execute_result"
    }
   ],
   "source": [
    "# build a serie with consecutive days index and integers 0 1 2 3 4\n",
    "s = pd.Series(range(5), index=pd.date_range('2020-01-01', periods=5, freq='1D'))\n",
    "s"
   ]
  },
  {
   "cell_type": "code",
   "execution_count": 48,
   "metadata": {},
   "outputs": [
    {
     "data": {
      "text/plain": [
       "0    2020-01-01\n",
       "1         sldjf\n",
       "2    2020-01-03\n",
       "3           NaN\n",
       "4    2020-01-05\n",
       "dtype: object"
      ]
     },
     "execution_count": 48,
     "metadata": {},
     "output_type": "execute_result"
    }
   ],
   "source": [
    "# 1. now create the serie with issues\n",
    "serie = pd.Series(['2020-01-01', 'sldjf', '2020-01-03', 'NaN', '2020-01-05'])\n",
    "serie\n"
   ]
  },
  {
   "cell_type": "code",
   "execution_count": 49,
   "metadata": {},
   "outputs": [],
   "source": [
    "# 2. Convert non-date strings to NaN\n",
    "serie = pd.to_datetime(serie, errors='coerce')\n",
    "\n",
    "# 2. Convert non-date strings to NaN\n",
    "serie = pd.to_datetime(serie, errors='coerce')"
   ]
  },
  {
   "cell_type": "code",
   "execution_count": 50,
   "metadata": {},
   "outputs": [],
   "source": [
    "# 3. Check for consecutive dates\n",
    "is_consecutive = (serie.isna().sum() == 0)"
   ]
  },
  {
   "cell_type": "code",
   "execution_count": 51,
   "metadata": {},
   "outputs": [],
   "source": [
    "# 4. Fill missing dates if necessary (corrected version)\n",
    "if not is_consecutive:\n",
    "    # Create a temporary DatetimeIndex with the desired range\n",
    "    date_range = pd.date_range(start=serie.min(), end=serie.max(), freq='D')\n",
    "\n",
    "    # Combine the series with the DatetimeIndex to create a DataFrame\n",
    "    df = pd.DataFrame({'date': serie, 'index': date_range})\n",
    "\n",
    "    # Set the 'date' column as the index\n",
    "    df = df.set_index('date')\n",
    "\n",
    "    # Forward-fill missing dates\n",
    "    df['index'] = df['index'].ffill()\n",
    "\n",
    "    # Optionally, back-fill any remaining missing dates\n",
    "    df['index'] = df['index'].bfill()  # Uncomment if desired\n",
    "\n",
    "    # Extract the filled series from the DataFrame\n",
    "    serie = df['index']"
   ]
  },
  {
   "cell_type": "code",
   "execution_count": 52,
   "metadata": {},
   "outputs": [
    {
     "name": "stdout",
     "output_type": "stream",
     "text": [
      "date\n",
      "2020-01-01   2020-01-01\n",
      "NaT          2020-01-02\n",
      "2020-01-03   2020-01-03\n",
      "NaT          2020-01-04\n",
      "2020-01-05   2020-01-05\n",
      "Name: index, dtype: datetime64[ns]\n"
     ]
    }
   ],
   "source": [
    "print(serie)"
   ]
  },
  {
   "cell_type": "code",
   "execution_count": null,
   "metadata": {},
   "outputs": [],
   "source": []
  }
 ],
 "metadata": {
  "kernelspec": {
   "display_name": ".venv",
   "language": "python",
   "name": "python3"
  },
  "language_info": {
   "codemirror_mode": {
    "name": "ipython",
    "version": 3
   },
   "file_extension": ".py",
   "mimetype": "text/x-python",
   "name": "python",
   "nbconvert_exporter": "python",
   "pygments_lexer": "ipython3",
   "version": "3.12.0"
  }
 },
 "nbformat": 4,
 "nbformat_minor": 2
}
