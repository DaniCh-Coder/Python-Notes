{
 "cells": [
  {
   "cell_type": "markdown",
   "metadata": {},
   "source": [
    "# Generator\n",
    "1. Generator functions\n",
    "2. Generator expressions"
   ]
  },
  {
   "cell_type": "markdown",
   "metadata": {},
   "source": [
    "1. A Generator function in Python is a function that returns an iterator using the Yield keyword.\n",
    "*  A generator function in Python is defined like a normal function, but whenever it needs to generate a value, it does so with the yield keyword rather than return. \n",
    "* If the body of a def contains yield, the function automatically becomes a Python generator function. "
   ]
  },
  {
   "cell_type": "code",
   "execution_count": 22,
   "metadata": {},
   "outputs": [],
   "source": [
    "# A generator function that yields 1 for first time, 2 second time and 3 third time\n",
    "# Works on the same instance of the function as an object\n",
    "# see generator object bellow\n",
    "def simpleGeneratorFun(): \n",
    "\tyield 1\t\t\t\n",
    "\tyield 2\t\t\t\n",
    "\tyield 3\t\t\t"
   ]
  },
  {
   "cell_type": "code",
   "execution_count": 23,
   "metadata": {},
   "outputs": [
    {
     "name": "stdout",
     "output_type": "stream",
     "text": [
      "<generator object simpleGeneratorFun at 0x0000015BE776D3F0>\n",
      "\n",
      "1\n",
      "1\n",
      "1\n",
      "\n"
     ]
    }
   ],
   "source": [
    "# Driver code to check above generator function\n",
    "# After checking this compare with generator object bellow \n",
    "print(simpleGeneratorFun())            # print the object instance\n",
    "print(\"\")\n",
    "\n",
    "# iterating over a new instance each time\n",
    "print(simpleGeneratorFun().__next__()) # 1 because in each call of print a new instance is created\n",
    "print(simpleGeneratorFun().__next__()) # 1 because in each call of print a new instance is created\n",
    "print(simpleGeneratorFun().__next__()) # 1 because in each call of print a new instance is created\n",
    "print(\"\")\n"
   ]
  },
  {
   "cell_type": "code",
   "execution_count": 24,
   "metadata": {},
   "outputs": [
    {
     "name": "stdout",
     "output_type": "stream",
     "text": [
      "1\n",
      "2\n",
      "3\n"
     ]
    }
   ],
   "source": [
    "# Generator object\n",
    "# iterating over the same instance as it is suppoused to do\n",
    "x = simpleGeneratorFun() \n",
    "print(next(x)) # 1 because x is the same instance created before\n",
    "print(next(x)) # 1 because x is the same instance created before\n",
    "print(next(x)) # 1 because x is the same instance created before"
   ]
  },
  {
   "cell_type": "markdown",
   "metadata": {},
   "source": [
    "2. Generator GenExps) expression is like a special king of list comprehension, but is not the same\n",
    "* Similarly to **list comprehensions**, in Python it is possible to define **generator expressions**.\n",
    "\n",
    "* Generator expressions use the **same** syntax as list comprehensions, \n",
    "but are enclosed in **parentheses** rather than **brackets**.\n",
    "    * If the generator expression is the single argument in a function call, \n",
    "there is no need to duplicate the enclosing parentheses.\n",
    "* Despite the very slight difference in the syntax, **generator expressions** save memory as they \n",
    "**yield** items one by one using the iterator protocol instead of building \n",
    "a whole list just to feed another constructor."
   ]
  },
  {
   "cell_type": "code",
   "execution_count": 34,
   "metadata": {},
   "outputs": [
    {
     "data": {
      "text/plain": [
       "[0, 10, 20]"
      ]
     },
     "execution_count": 34,
     "metadata": {},
     "output_type": "execute_result"
    }
   ],
   "source": [
    "# Example: List of numbers\n",
    "(i * 5 for i in range(5) if i%2==0)\n",
    "list((i * 5 for i in range(5) if i%2==0) )"
   ]
  },
  {
   "cell_type": "code",
   "execution_count": 29,
   "metadata": {},
   "outputs": [
    {
     "data": {
      "text/plain": [
       "(36, 162, 163, 165, 8364, 164)"
      ]
     },
     "execution_count": 29,
     "metadata": {},
     "output_type": "execute_result"
    }
   ],
   "source": [
    "# Example: Unicode caracter numbers\n",
    "symbols = '$¢£¥€¤'\n",
    "tuple(ord(symbol) for symbol in symbols)  # generator expression to initialise a tuple\n",
    "\n",
    "# The `ord` ([doc](https://docs.python.org/3/library/functions.html?highlight=ord#ord)) function\n",
    "# is a built-in function that returns the Unicode code point for a one-character string.\n",
    "# while this ord function is returning a value the tuple is forming the resulting expression"
   ]
  },
  {
   "cell_type": "markdown",
   "metadata": {},
   "source": [
    "**Applications of Generators in Python** \n",
    "* Suppose we create a stream of Fibonacci numbers, adopting the generator approach makes it trivial; we just have to call next(x) to get the next Fibonacci number without bothering about where or when the stream of numbers ends. \n",
    "* A more practical type of stream processing is handling large data files such as log files. \n",
    "    + Generators provide a space-efficient method for such data processing as only parts of the file are handled at one given point in time. \n",
    "    + We can also use Iterators for these purposes, but Generator provides a quick way (We don’t need to write __next__ and __iter__ methods here)."
   ]
  },
  {
   "cell_type": "markdown",
   "metadata": {},
   "source": []
  }
 ],
 "metadata": {
  "kernelspec": {
   "display_name": "base",
   "language": "python",
   "name": "python3"
  },
  "language_info": {
   "codemirror_mode": {
    "name": "ipython",
    "version": 3
   },
   "file_extension": ".py",
   "mimetype": "text/x-python",
   "name": "python",
   "nbconvert_exporter": "python",
   "pygments_lexer": "ipython3",
   "version": "3.10.9"
  }
 },
 "nbformat": 4,
 "nbformat_minor": 2
}
