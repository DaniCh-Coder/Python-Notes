{
 "cells": [
  {
   "cell_type": "markdown",
   "id": "af8456bc-7018-4fb0-823e-7e233e03d414",
   "metadata": {},
   "source": [
    "# List Comprehension"
   ]
  },
  {
   "cell_type": "markdown",
   "id": "d593f5c7-1980-484e-9b15-9d64642267af",
   "metadata": {},
   "source": [
    "List comprehension offers a shorter syntax when you want to create a new list based on the values of an existing list.<br>\n",
    "new_list = [expession for member in iterable if condition == True]"
   ]
  },
  {
   "cell_type": "markdown",
   "id": "777d131f-a06b-494e-817f-20397bd594c3",
   "metadata": {},
   "source": [
    "Example:\n",
    "\n",
    "Based on a list of fruits, you want a new list, containing only the fruits with the letter \"a\" in the name.<br>\n",
    "Without list comprehension you will have to write a for statement with a conditional test inside:"
   ]
  },
  {
   "cell_type": "code",
   "execution_count": 1,
   "id": "a2cd0790-794f-4d87-a667-7812543c2572",
   "metadata": {},
   "outputs": [
    {
     "name": "stdout",
     "output_type": "stream",
     "text": [
      "['apple', 'banana', 'mango']\n"
     ]
    }
   ],
   "source": [
    "fruits = [\"apple\", \"banana\", \"cherry\", \"kiwi\", \"mango\"] # this is a list\n",
    "newlist = []\n",
    "\n",
    "for x in fruits:                       # this iterate the list of fruits\n",
    "  if \"a\" in x:                         #\n",
    "    newlist.append(x)                  # this create a new list: newlist\n",
    "\n",
    "print(newlist)"
   ]
  },
  {
   "cell_type": "markdown",
   "id": "5950d5bc-6281-430f-893e-61be7976b927",
   "metadata": {},
   "source": [
    "With list comprehension you can do all that with only one line of code:"
   ]
  },
  {
   "cell_type": "code",
   "execution_count": 2,
   "id": "a7570d49-2a55-46cf-ad6b-3a8d798668d7",
   "metadata": {},
   "outputs": [
    {
     "name": "stdout",
     "output_type": "stream",
     "text": [
      "['apple', 'banana', 'mango']\n",
      "<class 'list'>\n",
      "['P', 'y', 't', 'h', 'o', 'n']\n"
     ]
    }
   ],
   "source": [
    "# same example as before but with list comprehension instead of for\n",
    "fruits = [\"apple\", \"banana\", \"cherry\", \"kiwi\", \"mango\"]\n",
    "\n",
    "# this creates a newlist with fruits with an 'a'\n",
    "newlist = [fruit for fruit in fruits if 'a' in fruit]\n",
    "\n",
    "print(newlist)\n",
    "\n",
    "# other example                        \n",
    "language = 'Python'                                 # this is a string\n",
    "lst = [i for i in language]                         # this creates a list\n",
    "print(type(lst))                                    # \n",
    "print(lst)       # ['P', 'y', 't', 'h', 'o', 'n']   # list of characters"
   ]
  },
  {
   "cell_type": "markdown",
   "id": "7f1c58a1-ae9d-4a7e-be8d-c32a4673e238",
   "metadata": {},
   "source": [
    "#### Using List Comprehensions\n",
    "* Define the list and its contents at the same time\n",
    "* new_list = [**expession** for **member** in **iterable** if condition == True]"
   ]
  },
  {
   "cell_type": "code",
   "execution_count": 3,
   "id": "b204dcce-e59c-4806-8f36-fbc40535ca52",
   "metadata": {},
   "outputs": [
    {
     "data": {
      "text/plain": [
       "['apple', 'banana', 'cherry', 'kiwi', 'mango']"
      ]
     },
     "execution_count": 3,
     "metadata": {},
     "output_type": "execute_result"
    }
   ],
   "source": [
    "# List the content of a list whithout conditions\n",
    "fruits = [\"apple\", \"banana\", \"cherry\", \"kiwi\", \"mango\"]\n",
    "newlist = [fruit for fruit in fruits]\n",
    "newlist"
   ]
  },
  {
   "cell_type": "code",
   "execution_count": 4,
   "id": "c60d824e-1817-479f-a60e-c0badb4ebf74",
   "metadata": {},
   "outputs": [
    {
     "data": {
      "text/plain": [
       "['banana', 'cherry', 'kiwi', 'mango']"
      ]
     },
     "execution_count": 4,
     "metadata": {},
     "output_type": "execute_result"
    }
   ],
   "source": [
    "# List the content of a list other than apple\n",
    "fruits = [\"apple\", \"banana\", \"cherry\", \"kiwi\", \"mango\"]\n",
    "newlist = [x for x in fruits if x != \"apple\"]\n",
    "newlist"
   ]
  },
  {
   "cell_type": "markdown",
   "id": "ddf53ad9-2a80-49fa-90f1-6317fc97b9cc",
   "metadata": {},
   "source": [
    "#### Iterable\n",
    "The iterable can be any iterable object, like a list, tuple, set etc."
   ]
  },
  {
   "cell_type": "code",
   "execution_count": 5,
   "id": "4b232021-c9e4-4253-a026-c3feb0945346",
   "metadata": {},
   "outputs": [
    {
     "data": {
      "text/plain": [
       "[0, 1, 2, 3, 4, 5, 6, 7, 8, 9]"
      ]
     },
     "execution_count": 5,
     "metadata": {},
     "output_type": "execute_result"
    }
   ],
   "source": [
    "# Using range() function to create an iterable\n",
    "newlist = [x for x in range(10)]\n",
    "newlist"
   ]
  },
  {
   "cell_type": "code",
   "execution_count": 6,
   "id": "548d05c3-cba9-4fff-8c8b-413e50b76410",
   "metadata": {},
   "outputs": [
    {
     "data": {
      "text/plain": [
       "[0, 1, 2, 3, 4]"
      ]
     },
     "execution_count": 6,
     "metadata": {},
     "output_type": "execute_result"
    }
   ],
   "source": [
    "# Using same range() example to create an iterable with condition\n",
    "newlist = [x for x in range(10) if x < 5]\n",
    "newlist"
   ]
  },
  {
   "cell_type": "markdown",
   "id": "51b0fe35-62e9-4a1d-b152-20e7cc39c7b2",
   "metadata": {},
   "source": [
    "#### Expression\n",
    "The expression is the current item in the iteration, but it is also the outcome, which you can manipulate before it ends up like a list item in the new list:"
   ]
  },
  {
   "cell_type": "code",
   "execution_count": 7,
   "id": "f9aaac82-407a-490b-b462-5e144017fe5c",
   "metadata": {},
   "outputs": [
    {
     "data": {
      "text/plain": [
       "['APPLE', 'BANANA', 'CHERRY', 'KIWI', 'MANGO']"
      ]
     },
     "execution_count": 7,
     "metadata": {},
     "output_type": "execute_result"
    }
   ],
   "source": [
    "# Set the values in the new list to upper case:\n",
    "fruits = [\"apple\", \"banana\", \"cherry\", \"kiwi\", \"mango\"]\n",
    "newlist = [fruit.upper() for fruit in fruits]\n",
    "newlist"
   ]
  },
  {
   "cell_type": "code",
   "execution_count": 8,
   "id": "f3706dda-f0b7-424f-bff0-9bc0eb9e934c",
   "metadata": {},
   "outputs": [
    {
     "data": {
      "text/plain": [
       "[0, 1, 4, 9, 16]"
      ]
     },
     "execution_count": 8,
     "metadata": {},
     "output_type": "execute_result"
    }
   ],
   "source": [
    "# Square list from range of 10 but < 5\n",
    "newlist= [ x * x for x in range(10) if x < 5]\n",
    "newlist"
   ]
  },
  {
   "cell_type": "markdown",
   "id": "d616036f-f8c4-445f-82ac-18c8fd32de95",
   "metadata": {},
   "source": [
    "The expression can also contain conditions, not like a filter, but as a way to manipulate the outcome:"
   ]
  },
  {
   "cell_type": "code",
   "execution_count": 9,
   "id": "b4222648-cde7-4fe9-9349-3d8109fad7f4",
   "metadata": {},
   "outputs": [
    {
     "data": {
      "text/plain": [
       "['apple', 'orange', 'cherry', 'kiwi', 'mango']"
      ]
     },
     "execution_count": 9,
     "metadata": {},
     "output_type": "execute_result"
    }
   ],
   "source": [
    "# Return \"orange\" instead of \"banana\":\n",
    "fruits = [\"apple\", \"banana\", \"cherry\", \"kiwi\", \"mango\"]\n",
    "newlist = [fruit if fruit != \"banana\" else \"orange\" for fruit in fruits]\n",
    "newlist"
   ]
  },
  {
   "cell_type": "code",
   "execution_count": 10,
   "id": "046031f9-6bf5-4249-8430-01d94b16d4f8",
   "metadata": {},
   "outputs": [
    {
     "data": {
      "text/plain": [
       "[0, 1, 4, 0, 0]"
      ]
     },
     "execution_count": 10,
     "metadata": {},
     "output_type": "execute_result"
    }
   ],
   "source": [
    "newlist= [ x * x if x < 3 else 0 for x in range(10) if x < 5]\n",
    "newlist"
   ]
  },
  {
   "cell_type": "code",
   "execution_count": 11,
   "id": "3f40e6c4-b401-4c39-b7e7-09467e12343b",
   "metadata": {},
   "outputs": [
    {
     "data": {
      "text/plain": [
       "[5, 6, 6, 4, 5]"
      ]
     },
     "execution_count": 11,
     "metadata": {},
     "output_type": "execute_result"
    }
   ],
   "source": [
    "lenlist = [len(fruit) for fruit in fruits]\n",
    "lenlist"
   ]
  },
  {
   "cell_type": "code",
   "execution_count": 12,
   "id": "e0e6321d",
   "metadata": {},
   "outputs": [
    {
     "name": "stdout",
     "output_type": "stream",
     "text": [
      "The original list is : [1, 3, 5, 6, 3, 5, 6, 1]\n",
      "The list after removing duplicates : [1, 3, 5, 6]\n"
     ]
    }
   ],
   "source": [
    "# removing duplicates form a list\n",
    "# using list comprehension\n",
    "test_list = [1, 3, 5, 6, 3, 5, 6, 1]\n",
    "print(\"The original list is : \" + str(test_list))\n",
    "\n",
    "# using list comprehension to remove duplicated from list\n",
    "res = []\n",
    "[res.append(x) for x in test_list if x not in res]\n",
    "\n",
    "# printing list after removal\n",
    "print (\"The list after removing duplicates : \" + str(res))\n"
   ]
  },
  {
   "cell_type": "code",
   "execution_count": 14,
   "id": "2ece4b2a",
   "metadata": {},
   "outputs": [
    {
     "name": "stdout",
     "output_type": "stream",
     "text": [
      "The original list is : [1, 5, 3, 6, 3, 5, 6, 1]\n",
      "The list after removing duplicates : [1, 3, 5, 6]\n"
     ]
    }
   ],
   "source": [
    "# remove duplicates form the list using set() method\n",
    "# initializing list\n",
    "test_list = [1, 5, 3, 6, 3, 5, 6, 1]\n",
    "print (\"The original list is : \" + str(test_list))\n",
    "\n",
    "# using set() to remove duplicated from list\n",
    "test_list = list(set(test_list))\n",
    "\n",
    "\n",
    "print (\"The list after removing duplicates : \" + str(test_list))\n"
   ]
  }
 ],
 "metadata": {
  "kernelspec": {
   "display_name": "base",
   "language": "python",
   "name": "python3"
  },
  "language_info": {
   "codemirror_mode": {
    "name": "ipython",
    "version": 3
   },
   "file_extension": ".py",
   "mimetype": "text/x-python",
   "name": "python",
   "nbconvert_exporter": "python",
   "pygments_lexer": "ipython3",
   "version": "3.10.9"
  }
 },
 "nbformat": 4,
 "nbformat_minor": 5
}
