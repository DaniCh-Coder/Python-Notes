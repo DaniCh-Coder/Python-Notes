{
 "cells": [
  {
   "cell_type": "markdown",
   "metadata": {},
   "source": [
    "# <a id='toc1_'></a>[Numpy](#toc0_)"
   ]
  },
  {
   "cell_type": "code",
   "execution_count": 2,
   "metadata": {},
   "outputs": [],
   "source": [
    "import numpy as np"
   ]
  },
  {
   "cell_type": "markdown",
   "metadata": {},
   "source": [
    "## <a id='toc1_1_'></a>[Create arrays](#toc0_)\n",
    "###### <a id='toc1_1_1_1_1_1_'></a>[https://numpy.org/doc/stable/user/how-to-partition.html](#toc0_)\n",
    "###### <a id='toc1_1_1_1_1_2_'></a>[https://numpy.org/doc/stable/user/basics.creation.html](#toc0_)"
   ]
  },
  {
   "cell_type": "markdown",
   "metadata": {},
   "source": [
    "### <a id='toc1_1_2_'></a>[Create arrays with regurlarly space values](#toc0_)"
   ]
  },
  {
   "cell_type": "markdown",
   "metadata": {},
   "source": [
    "#### <a id='toc1_1_2_1_'></a>[1D domains](#toc0_)"
   ]
  },
  {
   "cell_type": "markdown",
   "metadata": {},
   "source": [
    "##### <a id='toc1_1_2_1_1_'></a>[linspace vs. arange](#toc0_)"
   ]
  },
  {
   "cell_type": "markdown",
   "metadata": {},
   "source": [
    "* Both numpy.linspace and numpy.arange provide ways to partition an interval (a 1D domain) into equal-length subintervals. \n",
    "* These partitions will vary depending on the chosen starting and ending points, and the step (the length of the subintervals).\n",
    "    * Use numpy.arange if you want integer steps.\n",
    "    * Use numpy.linspace if you want the endpoint to be included in the result, or *if you are using a non-integer step size.*\n"
   ]
  },
  {
   "cell_type": "code",
   "execution_count": 3,
   "metadata": {},
   "outputs": [
    {
     "data": {
      "text/plain": [
       "array([0, 2, 4, 6, 8])"
      ]
     },
     "execution_count": 3,
     "metadata": {},
     "output_type": "execute_result"
    }
   ],
   "source": [
    "# np.arange(start, stop, step)\n",
    "np.arange(0, 10, 2)  \n",
    "# array([0, 2, 4, 6, 8])"
   ]
  },
  {
   "cell_type": "code",
   "execution_count": 4,
   "metadata": {},
   "outputs": [
    {
     "data": {
      "text/plain": [
       "array([0.1  , 0.125, 0.15 , 0.175, 0.2  ])"
      ]
     },
     "execution_count": 4,
     "metadata": {},
     "output_type": "execute_result"
    }
   ],
   "source": [
    "# np.linspace(start, end, quantity)\n",
    "np.linspace(0.1, 0.2, num=5)\n",
    "# array([0.1  , 0.125, 0.15 , 0.175, 0.2  ])"
   ]
  },
  {
   "cell_type": "code",
   "execution_count": 5,
   "metadata": {},
   "outputs": [
    {
     "data": {
      "text/plain": [
       "array([0.1 , 0.12, 0.14, 0.16, 0.18])"
      ]
     },
     "execution_count": 5,
     "metadata": {},
     "output_type": "execute_result"
    }
   ],
   "source": [
    "# np.linspace(start, end (not included), quantity)\n",
    "np.linspace(0.1, 0.2, num=5, endpoint=False)\n",
    "# array([0.1, 0.12, 0.14, 0.16, 0.18])"
   ]
  },
  {
   "cell_type": "markdown",
   "metadata": {},
   "source": [
    "### <a id='toc1_1_3_'></a>[Create arrays with random values](#toc0_)\n",
    "###### <a id='toc1_1_3_1_1_1_'></a>[Random sampling (numpy.random)](#toc0_)\n",
    "###### <a id='toc1_1_3_1_1_2_'></a>[https://numpy.org/doc/stable/reference/random/index.html#module-numpy.random](#toc0_)\n",
    "###### <a id='toc1_1_3_1_1_3_'></a>[https://numpy.org/doc/stable/reference/random/generator.html](#toc0_)"
   ]
  },
  {
   "cell_type": "markdown",
   "metadata": {},
   "source": [
    "### <a id='toc1_1_4_'></a>[1D domains](#toc0_)"
   ]
  },
  {
   "cell_type": "code",
   "execution_count": 6,
   "metadata": {},
   "outputs": [],
   "source": [
    "# Object generation - Create an objet of class random to generate random numbers\n",
    "rng = np.random.default_rng()"
   ]
  },
  {
   "cell_type": "code",
   "execution_count": 7,
   "metadata": {},
   "outputs": [
    {
     "name": "stdout",
     "output_type": "stream",
     "text": [
      "one random: 0.36923579641880044\n",
      "ten random: [0.43748514 0.04670317 0.99047526 0.56992933 0.07012299 0.88721504\n",
      " 0.18275163 0.8961204  0.05258189 0.36788637]\n",
      "ten random with normal distribution: [-0.21498161  1.57531635  0.00888367 -0.79416495 -2.47263728  2.43361184\n",
      "  0.98236768 -0.85156133  0.06541448 -1.92266432]\n"
     ]
    }
   ],
   "source": [
    "# generate one random number\n",
    "onerandom = rng.random()\n",
    "\n",
    "# generate random numbers \n",
    "tenrandom = rng.random(10)\n",
    "\n",
    "# ten random numbers inside a normal (gaussian) distribution.\n",
    "tengaussianrandom = rng.standard_normal(10)\n",
    "\n",
    "# print random numbers\n",
    "print(\"one random:\", onerandom)\n",
    "print(\"ten random:\", tenrandom)\n",
    "print(\"ten random with normal distribution:\", tengaussianrandom)\n"
   ]
  },
  {
   "cell_type": "code",
   "execution_count": 8,
   "metadata": {},
   "outputs": [
    {
     "data": {
      "text/plain": [
       "array([6, 2, 7], dtype=int64)"
      ]
     },
     "execution_count": 8,
     "metadata": {},
     "output_type": "execute_result"
    }
   ],
   "source": [
    "# seeds: np.random.defoult(seed) makes repeat the result\n",
    "rng = np.random.default_rng(12345)\n",
    "rints = rng.integers(low=0, high=10, size=3)\n",
    "rints # play this snippet several times"
   ]
  },
  {
   "cell_type": "code",
   "execution_count": 9,
   "metadata": {},
   "outputs": [
    {
     "data": {
      "text/plain": [
       "array([5, 8, 9], dtype=int64)"
      ]
     },
     "execution_count": 9,
     "metadata": {},
     "output_type": "execute_result"
    }
   ],
   "source": [
    "# no seeds: np.random.defoult(seed) makes repeat the result\n",
    "rng = np.random.default_rng()\n",
    "rints = rng.integers(low=0, high=10, size=3)\n",
    "rints # play this snippet several tims"
   ]
  },
  {
   "cell_type": "code",
   "execution_count": 10,
   "metadata": {},
   "outputs": [
    {
     "data": {
      "text/plain": [
       "array([69, 22, 78, 31, 20, 79, 64, 67, 98, 39], dtype=int64)"
      ]
     },
     "execution_count": 10,
     "metadata": {},
     "output_type": "execute_result"
    }
   ],
   "source": [
    "# genrate 10 random numbers between 0 and 100\n",
    "# imagine that is the age of people\n",
    "rng = np.random.default_rng(12345)\n",
    "ages = rng.integers(low=0, high=100, size=10)\n",
    "ages"
   ]
  },
  {
   "cell_type": "code",
   "execution_count": 12,
   "metadata": {},
   "outputs": [
    {
     "data": {
      "text/plain": [
       "array([729293, 304602, 809782, 385082, 283759, 817628, 678415, 708629,\n",
       "       989610, 451998], dtype=int64)"
      ]
     },
     "execution_count": 12,
     "metadata": {},
     "output_type": "execute_result"
    }
   ],
   "source": [
    "# genrate 10 random numbers between 100.000 and 1.000.000\n",
    "# imagine that is the salary of people\n",
    "rng = np.random.default_rng(12345)\n",
    "salary = rng.integers(low=100000, high=1000000, size=10)\n",
    "salary"
   ]
  },
  {
   "cell_type": "code",
   "execution_count": null,
   "metadata": {},
   "outputs": [],
   "source": []
  }
 ],
 "metadata": {
  "kernelspec": {
   "display_name": ".venv",
   "language": "python",
   "name": "python3"
  },
  "language_info": {
   "codemirror_mode": {
    "name": "ipython",
    "version": 3
   },
   "file_extension": ".py",
   "mimetype": "text/x-python",
   "name": "python",
   "nbconvert_exporter": "python",
   "pygments_lexer": "ipython3",
   "version": "3.12.0"
  }
 },
 "nbformat": 4,
 "nbformat_minor": 2
}
