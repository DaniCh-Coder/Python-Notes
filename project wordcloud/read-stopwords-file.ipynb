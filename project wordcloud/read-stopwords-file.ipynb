{
 "cells": [
  {
   "cell_type": "code",
   "execution_count": 1,
   "metadata": {},
   "outputs": [],
   "source": [
    "# leer lineas de un archivo que contiene palabras por líneas\n",
    "# para ser usadas como stop words\n",
    "# Este algoritmo lee las palabras y las pone en una lista"
   ]
  },
  {
   "cell_type": "code",
   "execution_count": 16,
   "metadata": {},
   "outputs": [
    {
     "data": {
      "text/plain": [
       "True"
      ]
     },
     "execution_count": 16,
     "metadata": {},
     "output_type": "execute_result"
    }
   ],
   "source": [
    "# open a text file\n",
    "with open(\"stoppalabras.txt\", 'r', encoding=\"utf-8\") as f:\n",
    "    palabras = f.read()\n",
    "\n",
    "# We can check that the file has been automatically closed.\n",
    "f.closed"
   ]
  },
  {
   "cell_type": "code",
   "execution_count": 17,
   "metadata": {},
   "outputs": [],
   "source": [
    "stoppalabras = palabras.split('\\n')"
   ]
  },
  {
   "cell_type": "code",
   "execution_count": 18,
   "metadata": {},
   "outputs": [
    {
     "data": {
      "text/plain": [
       "['el',\n",
       " 'la',\n",
       " 'de',\n",
       " 'en',\n",
       " 'a',\n",
       " 'que',\n",
       " 'se',\n",
       " 'los',\n",
       " 'las',\n",
       " 'y',\n",
       " 'o',\n",
       " 'un',\n",
       " 'una',\n",
       " 'con',\n",
       " 'para',\n",
       " 'su',\n",
       " 'por',\n",
       " 'pero',\n",
       " 'que',\n",
       " 'aún',\n",
       " 'también',\n",
       " 'ni',\n",
       " 'más',\n",
       " 'menos',\n",
       " 'como',\n",
       " 'sobre',\n",
       " 'bajo',\n",
       " 'tras',\n",
       " 'antes',\n",
       " 'después',\n",
       " 'entre',\n",
       " 'hacia',\n",
       " 'desde',\n",
       " 'durante',\n",
       " 'así',\n",
       " 'entonces',\n",
       " 'por eso',\n",
       " 'por lo tanto',\n",
       " 'porque',\n",
       " 'a pesar de',\n",
       " 'sin embargo',\n",
       " 'aunque',\n",
       " 'no obstante']"
      ]
     },
     "execution_count": 18,
     "metadata": {},
     "output_type": "execute_result"
    }
   ],
   "source": [
    "stoppalabras"
   ]
  },
  {
   "cell_type": "code",
   "execution_count": null,
   "metadata": {},
   "outputs": [],
   "source": []
  }
 ],
 "metadata": {
  "kernelspec": {
   "display_name": ".venv",
   "language": "python",
   "name": "python3"
  },
  "language_info": {
   "codemirror_mode": {
    "name": "ipython",
    "version": 3
   },
   "file_extension": ".py",
   "mimetype": "text/x-python",
   "name": "python",
   "nbconvert_exporter": "python",
   "pygments_lexer": "ipython3",
   "version": "3.12.0"
  }
 },
 "nbformat": 4,
 "nbformat_minor": 2
}
