{
 "cells": [
  {
   "cell_type": "markdown",
   "metadata": {},
   "source": [
    "# Packing and unpacking arguments inside one collection."
   ]
  },
  {
   "cell_type": "markdown",
   "metadata": {},
   "source": [
    "**Packing arguments:**\n",
    "* It refers to aggregating multiple arguments in a single collection so that the operations can be applied to the arguments combined. \n",
    "* It is helpful when the same operation is to be called with a different number of parameters."
   ]
  },
  {
   "cell_type": "markdown",
   "metadata": {},
   "source": [
    "**Unpacking arguments:**\n",
    "* It refers to deconstructing a collection into multiple arguments so that the operations can be applied to the arguments individually. \n",
    "* It is helpful when the arguments are required separately to perform operations."
   ]
  },
  {
   "cell_type": "markdown",
   "metadata": {},
   "source": [
    "# Benefits of packing arguments\n",
    "* Improved code reusability: The same function can handle a wide range of inputs without explicitly defining all parameters.\n",
    "* Concise function calls: In case of more arguments, all the arguments can be sent under in parameter.\n",
    "\n",
    "# Benefits of unpacking arguments\n",
    "* Improved code readability: Separately defining all the arguments explicitly makes it easier to understand the purpose of each value at a glance.\n",
    "* Simultaneous assignments: All the arguments can be separately assigned concurrently, improving time efficiency."
   ]
  },
  {
   "cell_type": "markdown",
   "metadata": {},
   "source": [
    "#### Note:\n",
    "Usually argumentes packed are written as:\n",
    "* *args for multiple argumentes\n",
    "* **kwargs for mutiple key arguments "
   ]
  },
  {
   "cell_type": "markdown",
   "metadata": {},
   "source": [
    "### Packing arguments using tuples"
   ]
  },
  {
   "cell_type": "markdown",
   "metadata": {},
   "source": [
    "Sometimes we never know how many arguments need to be passed to a python function. We can use the packing method to allow our function to take unlimited number or arbitrary number of arguments."
   ]
  },
  {
   "cell_type": "code",
   "execution_count": 10,
   "metadata": {},
   "outputs": [
    {
     "name": "stdout",
     "output_type": "stream",
     "text": [
      "<class 'tuple'>\n",
      "44\n",
      "<class 'tuple'>\n",
      "200\n"
     ]
    }
   ],
   "source": [
    "# Sum of variable args (numbers)\n",
    "def Add(*myTuple):\n",
    "    print(type(myTuple))\n",
    "    return sum(myTuple)\n",
    "\n",
    "# Call the function Add using differente quantity of arguments\n",
    "print(Add(2, 4, 5, 6, 7, 8, 12))\n",
    "print(Add(20, 40, 60, 80))"
   ]
  },
  {
   "cell_type": "code",
   "execution_count": 9,
   "metadata": {},
   "outputs": [
    {
     "name": "stdout",
     "output_type": "stream",
     "text": [
      "<class 'tuple'>\n",
      "abc\n",
      "<class 'tuple'>\n",
      "20406080\n"
     ]
    }
   ],
   "source": [
    "# Concat variable args (characters)\n",
    "def Add(*myTuple):\n",
    "    print(type(myTuple))\n",
    "    tt = \"\"\n",
    "    for t in myTuple:\n",
    "        tt += t\n",
    "    return (tt)\n",
    "\n",
    "# Call the functión Add using multiple arguments\n",
    "print(Add('a', 'b', 'c' ))\n",
    "print(Add('20', '40', '60', '80'))"
   ]
  },
  {
   "cell_type": "markdown",
   "metadata": {},
   "source": [
    "### Unpacking arguments using tuples"
   ]
  },
  {
   "cell_type": "markdown",
   "metadata": {},
   "source": [
    "In this example, we create a tuple and send it as a parameter to the Add function by adding the * operator before it. \n",
    "The Add function receives it as individual parameters and deconstructs it to map each argument on a parameter. The separated arguments are then summed and printed."
   ]
  },
  {
   "cell_type": "code",
   "execution_count": null,
   "metadata": {},
   "outputs": [],
   "source": [
    "def Add(num1 , num2 , num3):\n",
    "    print(num1 + num2 + num3)"
   ]
  },
  {
   "cell_type": "markdown",
   "metadata": {},
   "source": [
    "It is important to have the same number of tuple arguments and function parameters to map them well. Note that myTuple is unpacked and gives the correct output, but myTuple2 throw an error because the no. of arguments != no. of parameters."
   ]
  },
  {
   "cell_type": "code",
   "execution_count": null,
   "metadata": {},
   "outputs": [],
   "source": [
    "#works well\n",
    "myTuple = (2, 4, 6)\n",
    "Add(*myTuple)"
   ]
  },
  {
   "cell_type": "code",
   "execution_count": null,
   "metadata": {},
   "outputs": [],
   "source": [
    "#gives error\n",
    "myTuple2 = (8 , 12)\n",
    "Add(*myTuple2)"
   ]
  },
  {
   "cell_type": "markdown",
   "metadata": {},
   "source": [
    "### Paking Lists"
   ]
  },
  {
   "cell_type": "markdown",
   "metadata": {},
   "source": [
    "Sometimes we never know how many arguments need to be passed to a python function. We can use the packing method to allow our function to take unlimited number or arbitrary number of arguments."
   ]
  },
  {
   "cell_type": "code",
   "execution_count": 4,
   "metadata": {},
   "outputs": [
    {
     "name": "stdout",
     "output_type": "stream",
     "text": [
      "<class 'tuple'>\n",
      "44\n",
      "<class 'tuple'>\n",
      "200\n"
     ]
    }
   ],
   "source": [
    "# Sum of variable args (numbers)\n",
    "def Add(*myList):\n",
    "    print(type(myList))\n",
    "    return sum(myList)\n",
    "\n",
    "# Call the function Add using differente quantity of arguments\n",
    "print(Add(2, 4, 5, 6, 7, 8, 12))\n",
    "print(Add(20, 40, 60, 80))"
   ]
  },
  {
   "cell_type": "code",
   "execution_count": 10,
   "metadata": {},
   "outputs": [
    {
     "name": "stdout",
     "output_type": "stream",
     "text": [
      "<class 'tuple'>\n",
      "6\n",
      "<class 'tuple'>\n",
      "28\n"
     ]
    }
   ],
   "source": [
    "def sum_all(*args):\n",
    "    print(type(args))\n",
    "    s = 0\n",
    "    for i in args:\n",
    "        s += i\n",
    "    return s\n",
    "\n",
    "# Call the function with differente quantity of args\n",
    "print(sum_all(1, 2, 3))                # 6\n",
    "print(sum_all(*[1, 2, 3, 4, 5, 6, 7])) # 28"
   ]
  },
  {
   "cell_type": "markdown",
   "metadata": {},
   "source": [
    "### Unpacking lists"
   ]
  },
  {
   "cell_type": "code",
   "execution_count": 11,
   "metadata": {},
   "outputs": [
    {
     "name": "stdout",
     "output_type": "stream",
     "text": [
      "15\n"
     ]
    }
   ],
   "source": [
    "def sum_of_five_nums(a, b, c, d, e):\n",
    "    return a + b + c + d + e\n",
    "\n",
    "lst = [1, 2, 3, 4, 5]\n",
    "print(sum_of_five_nums(*lst))  # 15"
   ]
  },
  {
   "cell_type": "markdown",
   "metadata": {},
   "source": [
    "# Other way of unpaking"
   ]
  },
  {
   "cell_type": "code",
   "execution_count": 12,
   "metadata": {},
   "outputs": [
    {
     "name": "stdout",
     "output_type": "stream",
     "text": [
      "Finland Sweden Norway ['Denmark', 'Iceland']\n",
      "1 [2, 3, 4, 5, 6] 7\n"
     ]
    }
   ],
   "source": [
    "countries = ['Finland', 'Sweden', 'Norway', 'Denmark', 'Iceland']\n",
    "fin, sw, nor, *rest = countries\n",
    "print(fin, sw, nor, rest)   # Finland Sweden Norway ['Denmark', 'Iceland']\n",
    "numbers = [1, 2, 3, 4, 5, 6, 7]\n",
    "one, *middle, last = numbers\n",
    "print(one, middle, last)      #  1 [2, 3, 4, 5, 6] 7"
   ]
  },
  {
   "cell_type": "code",
   "execution_count": 13,
   "metadata": {},
   "outputs": [
    {
     "name": "stdout",
     "output_type": "stream",
     "text": [
      "Finland Sweden Norway Denmark Iceland\n"
     ]
    }
   ],
   "source": [
    "first, second, third, fourth, fifth = countries\n",
    "print (first, second, third, fourth, fifth)"
   ]
  },
  {
   "cell_type": "code",
   "execution_count": 16,
   "metadata": {},
   "outputs": [
    {
     "name": "stdout",
     "output_type": "stream",
     "text": [
      "1 2 3 4 5 6 7\n",
      "1 2 [3, 4, 5] 6 7\n"
     ]
    }
   ],
   "source": [
    "uno, dos, *middle, cinco, seis = numbers\n",
    "print(uno, dos, *middle, cinco, seis)\n",
    "print(uno, dos, middle, cinco, seis)"
   ]
  },
  {
   "cell_type": "markdown",
   "metadata": {},
   "source": [
    "### Packing Dictionaries"
   ]
  },
  {
   "cell_type": "markdown",
   "metadata": {},
   "source": [
    "In this example, we send a dynamic number of arguments as parameters to the printDetails function and access them through one dictionary collection parameter i.e. myDict by adding the ** operator before it. Note that the same printDetails function is called with a different number and type of parameters in it. The function loops through the keys in the dictionary and prints the key and its corresponding value."
   ]
  },
  {
   "cell_type": "markdown",
   "metadata": {},
   "source": []
  },
  {
   "cell_type": "code",
   "execution_count": 19,
   "metadata": {},
   "outputs": [
    {
     "name": "stdout",
     "output_type": "stream",
     "text": [
      "<class 'dict'>\n",
      "('num1', '2')\n",
      "('num2', '4')\n",
      "('num3', '6')\n",
      "\n",
      "\n",
      "<class 'dict'>\n",
      "('fruit', 'mango')\n",
      "('colour', 'purple')\n"
     ]
    }
   ],
   "source": [
    "def printDetails(**myDict):\n",
    "    print(type(myDict))\n",
    "\n",
    "    # Printing dictionary items\n",
    "    for key in myDict:\n",
    "        print((key, myDict[key]))\n",
    " \n",
    "printDetails(num1 = '2', num2 = '4', num3 = '6')\n",
    "print('\\n')\n",
    "printDetails(fruit = 'mango', colour = 'purple')"
   ]
  },
  {
   "cell_type": "markdown",
   "metadata": {},
   "source": [
    "### Unpacking Dictionaries"
   ]
  },
  {
   "cell_type": "code",
   "execution_count": 21,
   "metadata": {},
   "outputs": [
    {
     "name": "stdout",
     "output_type": "stream",
     "text": [
      "22\n"
     ]
    },
    {
     "ename": "TypeError",
     "evalue": "Add() missing 1 required positional argument: 'num3'",
     "output_type": "error",
     "traceback": [
      "\u001b[1;31m---------------------------------------------------------------------------\u001b[0m",
      "\u001b[1;31mTypeError\u001b[0m                                 Traceback (most recent call last)",
      "Cell \u001b[1;32mIn[21], line 11\u001b[0m\n\u001b[0;32m      8\u001b[0m \u001b[38;5;66;03m#gives error because the number of argumentes does not match\u001b[39;00m\n\u001b[0;32m      9\u001b[0m \u001b[38;5;66;03m# this is not a problem in packing functions but it is in unpacking arguments\u001b[39;00m\n\u001b[0;32m     10\u001b[0m myDict2 \u001b[38;5;241m=\u001b[39m {\u001b[38;5;124m'\u001b[39m\u001b[38;5;124mnum1\u001b[39m\u001b[38;5;124m'\u001b[39m : \u001b[38;5;241m12\u001b[39m, \u001b[38;5;124m'\u001b[39m\u001b[38;5;124mnum2\u001b[39m\u001b[38;5;124m'\u001b[39m : \u001b[38;5;241m8\u001b[39m}\n\u001b[1;32m---> 11\u001b[0m Add(\u001b[38;5;241m*\u001b[39m\u001b[38;5;241m*\u001b[39mmyDict2)\n",
      "\u001b[1;31mTypeError\u001b[0m: Add() missing 1 required positional argument: 'num3'"
     ]
    }
   ],
   "source": [
    "def Add(num1 , num2 , num3):\n",
    "    print(num1 + num2 + num3)\n",
    " \n",
    "#works well\n",
    "myDict = {'num1' : 12, 'num2' : 8, 'num3' : 2}\n",
    "Add(**myDict)\n",
    "\n",
    "#gives error because the number of argumentes does not match\n",
    "# this is not a problem in packing functions but it is in unpacking arguments\n",
    "myDict2 = {'num1' : 12, 'num2' : 8}\n",
    "Add(**myDict2)"
   ]
  },
  {
   "cell_type": "code",
   "execution_count": null,
   "metadata": {},
   "outputs": [],
   "source": []
  }
 ],
 "metadata": {
  "kernelspec": {
   "display_name": "base",
   "language": "python",
   "name": "python3"
  },
  "language_info": {
   "codemirror_mode": {
    "name": "ipython",
    "version": 3
   },
   "file_extension": ".py",
   "mimetype": "text/x-python",
   "name": "python",
   "nbconvert_exporter": "python",
   "pygments_lexer": "ipython3",
   "version": "3.10.9"
  }
 },
 "nbformat": 4,
 "nbformat_minor": 2
}
