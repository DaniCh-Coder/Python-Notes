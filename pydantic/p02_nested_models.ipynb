{
 "cells": [
  {
   "cell_type": "markdown",
   "metadata": {},
   "source": [
    "# 🚀 Modelos Anidados en Pydantic v2\n",
    "Este módulo muestra cómo definir modelos anidados en Pydantic v2. Pydantic es una librería de Python que permite definir modelos de datos y validarlos. En la versión 2 de Pydantic se introdujo la posibilidad de definir modelos anidados, es decir, modelos que contienen otros modelos. En este módulo se muestra cómo definir y utilizar modelos anidados en Pydantic v2."
   ]
  },
  {
   "cell_type": "code",
   "execution_count": null,
   "metadata": {},
   "outputs": [],
   "source": [
    "# Si pydantic no está instalado ejecuta la proxima línea quitándole la marca de comentario\n",
    "# pip install pydantic"
   ]
  },
  {
   "cell_type": "markdown",
   "metadata": {},
   "source": [
    "Pydantic v2 (lanzado en 2023) permite crear modelos anidados, lo que significa que puedes definir un modelo que contenga instancias de otros modelos como atributos. \n",
    "- Esto es extremadamente útil para representar datos con estructuras jerárquicas complejas."
   ]
  },
  {
   "cell_type": "markdown",
   "metadata": {},
   "source": [
    "Características importantes de los modelos anidados en Pydantic\n",
    "1. Validación en cascada: Las validaciones se aplican a todos los niveles, desde el modelo raíz hasta el más anidado.\n",
    "2. Serialización completa: Puedes convertir toda la estructura anidada a JSON u otros formatos.\n",
    "3. Rendimiento mejorado: Pydantic v2 está implementado en Rust (mediante PyO3), lo que lo hace mucho más rápido que la v1.\n",
    "4. Referencias circulares: Puedes crear modelos con referencias circulares usando strings para los tipos y model_rebuild().\n",
    "5. Actualización desde diccionarios: Puedes actualizar estructuras anidadas pasando diccionarios con la estructura correspondiente."
   ]
  },
  {
   "cell_type": "markdown",
   "metadata": {},
   "source": [
    "## 📌 Modelo anidado por composición\n",
    "En este ejemplo, definimos dos modelos anidados `Address` y `Person` utilizando la composición. \n",
    "- La clase `Address` define un modelo de dirección con los atributos `street`, `city` y `zip_code`. \n",
    "- La clase `Person` define un modelo de persona con los atributos `name`, `age` y `address` que es una instancia del modelo `Address`.\n",
    "- El modelo `Person` contiene una instancia del modelo `Address` como atributo."
   ]
  },
  {
   "cell_type": "code",
   "execution_count": 10,
   "metadata": {},
   "outputs": [
    {
     "name": "stdout",
     "output_type": "stream",
     "text": [
      "{\n",
      "  \"name\": \"Juan Pérez\",\n",
      "  \"email\": \"juan@ejemplo.com\",\n",
      "  \"address\": {\n",
      "    \"street\": \"Calle Principal 123\",\n",
      "    \"city\": \"Mendoza\",\n",
      "    \"zip_code\": \"5509\",\n",
      "    \"country\": \"Argentina\"\n",
      "  }\n",
      "}\n",
      "Acceso a campos anidados:\n",
      "Ciudad: Mendoza\n",
      "\n",
      "{\"name\":\"María López\",\"email\":\"maria@ejemplo.com\",\"address\":{\"street\":\"Avenida Central 456\",\"city\":\"Barcelona\",\"zip_code\":\"08001\",\"country\":\"España\"}}\n",
      "Nombre de pila: María\n"
     ]
    }
   ],
   "source": [
    "from pydantic import BaseModel\n",
    "\n",
    "class Address(BaseModel):\n",
    "    street: str\n",
    "    city: str\n",
    "    zip_code: str\n",
    "    country: str\n",
    "\n",
    "class Person(BaseModel):\n",
    "    name: str\n",
    "    email: str\n",
    "    address: Address\n",
    "\n",
    "# Uso del modelo\n",
    "address = Address(\n",
    "    street=\"Calle Principal 123\",\n",
    "    city=\"Mendoza\",\n",
    "    zip_code=\"5509\",\n",
    "    country=\"Argentina\"\n",
    ")\n",
    "\n",
    "user = Person(\n",
    "    name=\"Juan Pérez\",\n",
    "    email=\"juan@ejemplo.com\",\n",
    "    address=address\n",
    ")\n",
    "\n",
    "# También puedes crear directamente con un diccionario\n",
    "user2 = Person(\n",
    "    name=\"María López\",\n",
    "    email=\"maria@ejemplo.com\",\n",
    "    address={\n",
    "        \"street\": \"Avenida Central 456\",\n",
    "        \"city\": \"Barcelona\", \n",
    "        \"zip_code\": \"08001\",\n",
    "        \"country\": \"España\"\n",
    "    }\n",
    ")\n",
    "\n",
    "print(user.model_dump_json(indent=2))\n",
    "print(\"Acceso a campos anidados:\")\n",
    "print(f\"Ciudad: {user.address.city}\")\n",
    "print(f\"\\n{user2.model_dump_json()}\")\n",
    "print(f\"Nombre de pila: {user2.name.split()[0]}\")\n"
   ]
  },
  {
   "cell_type": "markdown",
   "metadata": {},
   "source": [
    "## 📌 Lista de modelos anidados"
   ]
  },
  {
   "cell_type": "markdown",
   "metadata": {},
   "source": [
    "En este caso se preve estructuras de datos anidadas, como una lista de direcciones en el modelo `Person`, donde cada dirección es una instancia del modelo `Address`.\n",
    "- Esto serviría para representar una persona con múltiples direcciones.\n",
    "\n",
    "Pero veamos este concepto con otro ejemplo.\n",
    "- Supongamos que tenemos un modelo `Post` que contiene una lista de tags, donde cada tag es una instancia del modelo `Tag` ."
   ]
  },
  {
   "cell_type": "code",
   "execution_count": 11,
   "metadata": {},
   "outputs": [
    {
     "name": "stdout",
     "output_type": "stream",
     "text": [
      "Título: Guía de Pydantic\n",
      "Etiquetas:\n",
      "  - python: programming\n",
      "  - pydantic: validation\n",
      "  - tutorial: guide\n"
     ]
    }
   ],
   "source": [
    "from typing import List\n",
    "from pydantic import BaseModel\n",
    "\n",
    "class Tag(BaseModel):\n",
    "    name: str\n",
    "    value: str\n",
    "\n",
    "class Post(BaseModel):\n",
    "    title: str\n",
    "    content: str\n",
    "    tags: List[Tag]  # Lista de modelos anidados\n",
    "\n",
    "# Creación de instancias\n",
    "post = Post(\n",
    "    title=\"Guía de Pydantic\",\n",
    "    content=\"Pydantic es una librería para validación de datos...\",\n",
    "    tags=[\n",
    "        {\"name\": \"python\", \"value\": \"programming\"},\n",
    "        {\"name\": \"pydantic\", \"value\": \"validation\"},\n",
    "        {\"name\": \"tutorial\", \"value\": \"guide\"}\n",
    "    ]\n",
    ")\n",
    "\n",
    "# Acceso a los elementos de la lista\n",
    "print(f\"Título: {post.title}\")\n",
    "print(\"Etiquetas:\")\n",
    "for tag in post.tags:\n",
    "    print(f\"  - {tag.name}: {tag.value}\")"
   ]
  },
  {
   "cell_type": "markdown",
   "metadata": {},
   "source": [
    "## 📌 Modelos anidados recursivos\n",
    "Recursivo significa que un modelo puede contener instancias de sí mismo.\n",
    "- Un ejemplo podría ser definir un modelo `Category` que contiene una lista de subcategorías, donde cada subcategoría es una instancia del modelo `Category`.\n",
    " \n",
    "En este caso, definimos un modelo `Comment` que contiene una lista de respuestas, donde cada respuesta es una instancia del modelo `Comment`."
   ]
  },
  {
   "cell_type": "code",
   "execution_count": 13,
   "metadata": {},
   "outputs": [
    {
     "name": "stdout",
     "output_type": "stream",
     "text": [
      "Comentario principal: Gran artículo, gracias por compartir! (por usuario1)\n",
      "Número de respuestas: 2\n",
      "Primer respuesta: Estoy de acuerdo, muy útil\n",
      "Respuesta a respuesta: La sección 3 trata sobre...\n"
     ]
    }
   ],
   "source": [
    "\n",
    "from typing import List, Optional\n",
    "from pydantic import BaseModel\n",
    "\n",
    "class Comment(BaseModel):\n",
    "    content: str\n",
    "    author: str\n",
    "    replies: List[\"Comment\"] = []  # Modelo recursivo\n",
    "    \n",
    "# Resolución de tipos hacia adelante\n",
    "Comment.model_rebuild()\n",
    "\n",
    "# Creación de una estructura de comentarios anidados\n",
    "comments = Comment(\n",
    "    content=\"Gran artículo, gracias por compartir!\",\n",
    "    author=\"usuario1\",\n",
    "    replies=[\n",
    "        Comment(\n",
    "            content=\"Estoy de acuerdo, muy útil\",\n",
    "            author=\"usuario2\",\n",
    "            replies=[]\n",
    "        ),\n",
    "        Comment(\n",
    "            content=\"¿Podrías explicar más sobre la sección 3?\",\n",
    "            author=\"usuario3\",\n",
    "            replies=[\n",
    "                Comment(\n",
    "                    content=\"La sección 3 trata sobre...\",\n",
    "                    author=\"usuario1\",\n",
    "                    replies=[]\n",
    "                )\n",
    "            ]\n",
    "        )\n",
    "    ]\n",
    ")\n",
    "\n",
    "# Acceso a la estructura anidada\n",
    "print(f\"Comentario principal: {comments.content} (por {comments.author})\")\n",
    "print(f\"Número de respuestas: {len(comments.replies)}\")\n",
    "print(f\"Primer respuesta: {comments.replies[0].content}\")\n",
    "print(f\"Respuesta a respuesta: {comments.replies[1].replies[0].content}\")"
   ]
  },
  {
   "cell_type": "markdown",
   "metadata": {},
   "source": [
    "## 📌 Modelos anidados con discriminadores"
   ]
  },
  {
   "cell_type": "code",
   "execution_count": 14,
   "metadata": {},
   "outputs": [
    {
     "name": "stdout",
     "output_type": "stream",
     "text": [
      "Dibujo: Formas básicas\n",
      "Formas:\n",
      "  - Círculo con radio 5.0, área: 78.54\n",
      "  - Rectángulo 10.0x20.0, área: 200.00\n",
      "  - Triángulo con base 15.0 y altura 8.0, área: 60.00\n"
     ]
    }
   ],
   "source": [
    "from typing import Literal, Union\n",
    "from pydantic import BaseModel, Field\n",
    "\n",
    "class Circle(BaseModel):\n",
    "    type: Literal[\"circle\"]\n",
    "    radius: float\n",
    "\n",
    "class Rectangle(BaseModel):\n",
    "    type: Literal[\"rectangle\"]\n",
    "    width: float\n",
    "    height: float\n",
    "\n",
    "class Triangle(BaseModel):\n",
    "    type: Literal[\"triangle\"]\n",
    "    base: float\n",
    "    height: float\n",
    "\n",
    "class Drawing(BaseModel):\n",
    "    name: str\n",
    "    shapes: list[Union[Circle, Rectangle, Triangle]]\n",
    "\n",
    "# Crear un dibujo con diferentes formas\n",
    "drawing = Drawing(\n",
    "    name=\"Formas básicas\",\n",
    "    shapes=[\n",
    "        {\"type\": \"circle\", \"radius\": 5.0},\n",
    "        {\"type\": \"rectangle\", \"width\": 10.0, \"height\": 20.0},\n",
    "        {\"type\": \"triangle\", \"base\": 15.0, \"height\": 8.0}\n",
    "    ]\n",
    ")\n",
    "\n",
    "# Acceso y procesamiento de las formas\n",
    "print(f\"Dibujo: {drawing.name}\")\n",
    "print(\"Formas:\")\n",
    "for shape in drawing.shapes:\n",
    "    if isinstance(shape, Circle):\n",
    "        area = 3.14159 * shape.radius ** 2\n",
    "        print(f\"  - Círculo con radio {shape.radius}, área: {area:.2f}\")\n",
    "    elif isinstance(shape, Rectangle):\n",
    "        area = shape.width * shape.height\n",
    "        print(f\"  - Rectángulo {shape.width}x{shape.height}, área: {area:.2f}\")\n",
    "    elif isinstance(shape, Triangle):\n",
    "        area = 0.5 * shape.base * shape.height\n",
    "        print(f\"  - Triángulo con base {shape.base} y altura {shape.height}, área: {area:.2f}\")"
   ]
  },
  {
   "cell_type": "markdown",
   "metadata": {},
   "source": [
    "## 📌 Vaidación en modelos anidados"
   ]
  },
  {
   "cell_type": "code",
   "execution_count": 16,
   "metadata": {},
   "outputs": [
    {
     "name": "stdout",
     "output_type": "stream",
     "text": [
      "Evento válido creado:\n",
      "Nombre: Conferencia de Python\n",
      "Número de sedes: 2\n",
      "Error de validación: 1 validation error for Event\n",
      "venues.0.location.latitude\n",
      "  Input should be less than or equal to 90 [type=less_than_equal, input_value=91, input_type=int]\n",
      "    For further information visit https://errors.pydantic.dev/2.10/v/less_than_equal\n"
     ]
    }
   ],
   "source": [
    "from typing import List\n",
    "from pydantic import BaseModel, Field, field_validator\n",
    "\n",
    "class Location(BaseModel):\n",
    "    latitude: float = Field(ge=-90, le=90)\n",
    "    longitude: float = Field(ge=-180, le=180)\n",
    "    \n",
    "    @field_validator('latitude')\n",
    "    @classmethod\n",
    "    def check_lat_precision(cls, v: float) -> float:\n",
    "        if abs(v) == 90 and v % 1 != 0:\n",
    "            raise ValueError(\"Latitudes of exactly +/-90 cannot have decimal places\")\n",
    "        return v\n",
    "\n",
    "class Venue(BaseModel):\n",
    "    name: str\n",
    "    location: Location\n",
    "    capacity: int = Field(gt=0)\n",
    "    \n",
    "class Event(BaseModel):\n",
    "    name: str\n",
    "    description: str = \"\"\n",
    "    venues: List[Venue]\n",
    "    \n",
    "    @field_validator('venues')\n",
    "    @classmethod\n",
    "    def at_least_one_venue(cls, venues: List[Venue]) -> List[Venue]:\n",
    "        if not venues:\n",
    "            raise ValueError(\"Event must have at least one venue\")\n",
    "        return venues\n",
    "\n",
    "# Uso de los modelos con validación\n",
    "try:\n",
    "    event = Event(\n",
    "        name=\"Conferencia de Python\",\n",
    "        description=\"Una gran conferencia sobre Python y sus bibliotecas\",\n",
    "        venues=[\n",
    "            {\n",
    "                \"name\": \"Teatro Principal\",\n",
    "                \"location\": {\"latitude\": 40.416775, \"longitude\": -3.703790},\n",
    "                \"capacity\": 500\n",
    "            },\n",
    "            {\n",
    "                \"name\": \"Sala de Talleres\", \n",
    "                \"location\": {\"latitude\": 40.415, \"longitude\": -3.705},\n",
    "                \"capacity\": 100\n",
    "            }\n",
    "        ]\n",
    "    )\n",
    "    print(\"Evento válido creado:\")\n",
    "    print(f\"Nombre: {event.name}\")\n",
    "    print(f\"Número de sedes: {len(event.venues)}\")\n",
    "    \n",
    "    # Esto fallará por la validación\n",
    "    invalid_event = Event(\n",
    "        name=\"Evento inválido\",\n",
    "        venues=[\n",
    "            {\n",
    "                \"name\": \"Sede con coordenadas inválidas\",\n",
    "                \"location\": {\"latitude\": 91, \"longitude\": 0},  # Latitud inválida\n",
    "                \"capacity\": 200\n",
    "            }\n",
    "        ]\n",
    "    )\n",
    "    \n",
    "except ValueError as e:\n",
    "    print(f\"Error de validación: {e}\")"
   ]
  },
  {
   "cell_type": "markdown",
   "metadata": {},
   "source": [
    "Autor: Daniel Christello\n",
    "______________________________________________________"
   ]
  }
 ],
 "metadata": {
  "kernelspec": {
   "display_name": ".venv",
   "language": "python",
   "name": "python3"
  },
  "language_info": {
   "codemirror_mode": {
    "name": "ipython",
    "version": 3
   },
   "file_extension": ".py",
   "mimetype": "text/x-python",
   "name": "python",
   "nbconvert_exporter": "python",
   "pygments_lexer": "ipython3",
   "version": "3.12.2"
  }
 },
 "nbformat": 4,
 "nbformat_minor": 2
}
