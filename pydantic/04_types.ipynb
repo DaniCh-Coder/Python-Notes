{
 "cells": [
  {
   "cell_type": "markdown",
   "metadata": {},
   "source": [
    "# 🚀 Pydantic Types\n",
    "##  Tipos de datos de Pydantic\n",
    "###### https://docs.pydantic.dev/latest/api/types/"
   ]
  },
  {
   "cell_type": "markdown",
   "metadata": {},
   "source": [
    "Pydantic adopta los tipos de datos nativos de python y los valida y los controla haciéndolos más consistentes.\n",
    "+ **Pero además tiene su propio set de tipos de datos**\n",
    "\n",
    "Por ejemplo:\n",
    "+ Supongamos que tenemos una clase de identificador de una persona y esta persona se identifica con un nombre, un email y numero identificador.\n",
    "    + Podemos asignar los dos primeros datos como stings y al terceo como entero.\n"
   ]
  },
  {
   "cell_type": "code",
   "execution_count": 4,
   "metadata": {},
   "outputs": [],
   "source": [
    "from pydantic import BaseModel\n",
    "class Persona(BaseModel):\n",
    "    name:str\n",
    "    email: str\n",
    "    account_id: int\n",
    "    \n",
    "user = Persona(name='Tulio C. Arnoldo', email ='tulio.arnolodo@some-email.com', account_id='123')"
   ]
  },
  {
   "cell_type": "markdown",
   "metadata": {},
   "source": [
    "Pydantic validara la ininicialización que se haga en user en base a la definición de la clase **Persona**.\n",
    "+ Podrá validar si los tipos son los correctos pero hasta ahí.\n",
    "  + Controla si name y email son strings y si account_id es un entero.\n",
    "+ No podra validar por ejemplo si la dirección de e-mail tiene sentido. (haga la prueba, por ejempo quitndo la @)\n",
    "  + Verá que no da error."
   ]
  },
  {
   "cell_type": "markdown",
   "metadata": {},
   "source": [
    "### Tipos básicos de python\n",
    "Pydantic soporta los tipos de datos básicos de python.\n",
    "+ int, float, str, bool, bytes\n",
    "+ list, set, tuple, dict\n",
    "+ none\n",
    "+ datetime, date, time, timedelta\n",
    "+ UUID\n",
    "\n",
    "Puntos importantes:\n",
    "- Es importante diferenciar entre los tipos de datos básicos\" (como int, str, list, etc.) y los tipos de datos que proporciona la \"biblioteca estándar\" (como datetime, uuid, bytes, etc.).\n",
    "- Los tipos de datos básicos son los pilares fundamentales del lenguaje, mientras que la biblioteca estándar amplía las capacidades de Python con módulos y tipos de datos adicionales.\n",
    "- Python tiene una gran cantidad de librerias, que extienden aun mas los tipos de datos disponibles.\n",
    "- Pydantic no soporta absolutamente todos los tipos de datos de las librerias, \n",
    "  - solo los tipos de datos básicos de python y algunos de la biblioteca estándar. \n",
    "    - Pydantic no soporta el tipo de dato **complex**.\n",
    "- Para un detalle mayor hay que revisar la documentación de Pydantic."
   ]
  },
  {
   "cell_type": "markdown",
   "metadata": {},
   "source": [
    "#### Incorporación de los tipos de datos a un modelo pydantic\n",
    "Los tipos de datos de python se pueden incorporar a un modelo Pydantic de dos maneras:\n",
    "+ **Como tipo de dato de python**\n",
    "  + Se incorporan directamente al modelo Pydantic.\n",
    "  + Por ejemplo, **int, str, list, etc.**\n",
    "+ **Como tipo de dato de Pydantic**\n",
    "+ Se incorporan a través de la clase **Field** de Pydantic.\n",
    "  + Por ejemplo, **constr, conint, conlist, etc.**\n",
    "  + Estos tipos de datos de Pydantic son más avanzados y permiten definir reglas de validación más complejas.\n",
    "+ **Como combinación de tipos**\n",
    "  + **int** es un tipo de dato de python.\n",
    "  + **conint** es un tipo de dato de Pydantic.\n",
    "##### Ejemplo: Modelo pydantic con tipos de datos de python\n",
    "```python"
   ]
  },
  {
   "cell_type": "code",
   "execution_count": null,
   "metadata": {},
   "outputs": [],
   "source": [
    "from pydantic import BaseModel\n",
    "from datetime import datetime\n",
    "from typing import List, Dict\n",
    "\n",
    "class Producto(BaseModel):\n",
    "    id: int\n",
    "    nombre: str\n",
    "    precio: float\n",
    "    tags: List[str]\n",
    "    creado: datetime\n",
    "    metadata: Dict[str, str] = {}\n",
    "    descripcion: str | None = None"
   ]
  },
  {
   "cell_type": "markdown",
   "metadata": {},
   "source": [
    "### Módulo typing de python\n",
    "El módulo typing proporciona una variedad de tipos que se pueden utilizar para anotar el código. Algunos ejemplos incluyen:\n",
    "- List: Para listas.\n",
    "- Literal: Para especificar que una lista puede contener solo ciertos valores específicos.\n",
    "- Set: Para conjuntos.\n",
    "- Dict: Para diccionarios.\n",
    "- Tuple: Para tuplas.\n",
    "- Union: Para indicar que una variable puede tener múltiples tipos.\n",
    "- Optional: Para indicar que una variable puede ser None.\n",
    "  Más información sobre el módulo typing se puede encontrar en la [documentación oficial de Python](https://docs.python.org/3/library/typing.html).\n",
    "\n",
    "Es importante destacar que las sugerencias de tipo son opcionales y no afectan la ejecución del código en tiempo de ejecución. \n",
    "- Python sigue siendo un lenguaje de tipado dinámico. \n",
    "- Las sugerencias de tipo son principalmente para herramientas de análisis estático y para mejorar la legibilidad del código.\n",
    "- **Pydantic entra en juego dandole control y validación a los tipos de datos de pydantic.**"
   ]
  },
  {
   "cell_type": "markdown",
   "metadata": {},
   "source": [
    "##  📌 Tipos de datos de pydantic\n",
    "Pydantic ofrece tipos adicionales que no están disponibles en Python, y que son propios de Pydantic.\n",
    "Por ejemplo el tipo StrictBool, que es un tipo de dato booleano que no acepta valores nulos.\n",
    "```python\n",
    "StrictBool = Annotated[bool, Strict()]\n",
    "```\n",
    "Observese que los tipos de datos de Pydantic que agregan restricciones a los de python utilizan Annotated y Strict.\n",
    "+ **Annotated** es una clase de Pydantic que permite añadir metadatos a un tipo de dato.\n",
    "+ **Strict** es una clase de Pydantic que permite definir reglas de validación más estrictas.\n",
    "\n",
    "El tipo **constr** es un tipo de dato de Pydantic que permite definir una cadena de texto con una expresión regular. Pero ojo, que este tipo ha sido despreciado o descartado en versiones recientes de Pydantic.\n",
    "\n",
    "También hay tipos más complejos que se pueden encontrar en el paquete [Pydantic Extra Types](https://github.com/pydantic/pydantic-extra-types/tree/main/pydantic_extra_types).\n",
    "##### Ejemplo: Modelo pydantic con tipos de datos de Pydantic y Pydantic"
   ]
  },
  {
   "cell_type": "code",
   "execution_count": null,
   "metadata": {},
   "outputs": [],
   "source": [
    "from pydantic import BaseModel, StrictBool, PositiveInt\n",
    "from datetime import datetime\n",
    "from typing import List, Dict\n",
    "\n",
    "class Producto(BaseModel):\n",
    "    id: int\n",
    "    nombre: str\n",
    "    precio: float\n",
    "    tags: List[str]\n",
    "    creado: datetime\n",
    "    metadata: Dict[str, str] = {}\n",
    "    descripcion: str | None = None\n",
    "    diplomado: StrictBool = True\n",
    "    dni: PositiveInt"
   ]
  },
  {
   "cell_type": "markdown",
   "metadata": {},
   "source": [
    "### Tipos de datos de Pydantic Avanzados\n",
    "Pydantic ofrece tipos de datos avanzados que permiten definir reglas de validación más complejas.\n",
    "En la documentación de API de Pydantic se pueden encontrar los tipos de datos de Pydantic.\n",
    "Allí pueden verse los tipos de datos: [Pydantic](https://docs.pydantic.dev/latest/api/types/) y [Network](https://docs.pydantic.dev/latest/api/networks/)."
   ]
  },
  {
   "cell_type": "markdown",
   "metadata": {},
   "source": [
    "### EmailStr\n",
    "Pydantic ofrece un tipo especial para **e-mail** que se más riguroso para estos casos.\n",
    "+ Su nombre es **EmailStr** y despues de importarlo, se puede controlar si una dirección de **e-mail** tiene un formato **válido**."
   ]
  },
  {
   "cell_type": "code",
   "execution_count": 5,
   "metadata": {},
   "outputs": [],
   "source": [
    "from pydantic import EmailStr\n",
    "\n",
    "class Persona(BaseModel):\n",
    "    name:str\n",
    "    email: EmailStr\n",
    "    account_id: int\n",
    "    \n",
    "user = Persona(name='Tulio C. Arnoldo', email ='tulio.arnolodo@some-email.com', account_id='123')"
   ]
  },
  {
   "cell_type": "markdown",
   "metadata": {},
   "source": [
    "Ahora se puede controlar si la dirección tiene un formato válido.\n",
    "+ Se puede probar por ejemplo quitando la '@' o reemplazando el '-' por el '_'."
   ]
  },
  {
   "cell_type": "markdown",
   "metadata": {},
   "source": [
    "##  📌 Anotaciones de tipo para definir campos\n",
    "#### Utilizando datos básicos de python\n",
    "* Usamos anotaciones de tipo para definir qué tipo de datos esperamos en cada campo de nuestro modelo. Esto es lo que le da a Pydantic su poder de validación.\n",
    "* Por ejemplo, `nombre: str` le dice a Pydantic que el campo `nombre` debe ser una cadena de texto. Si intentamos asignar un número o una lista a este campo, Pydantic generará un error.\n",
    "* Podemos usar anotaciones de tipo para todo tipo de datos, desde los tipos básicos de Python como `int`, `float`, `bool` y `str`, hasta tipos más complejos como listas, diccionarios y otros modelos de Pydantic.\n",
    "\n",
    "### Validación automática de datos\n",
    "\n",
    "* La validación en Pydantic es automática. Cuando creamos una instancia de un modelo, Pydantic verifica que los datos proporcionados cumplan con las anotaciones de tipo definidas.\n",
    "* Si los datos son válidos, Pydantic crea el objeto del modelo. Si no son válidos, Pydantic genera un `ValidationError` que nos indica qué campos tienen errores y por qué.\n",
    "* Esto nos ahorra mucho tiempo y esfuerzo, ya que no tenemos que escribir código de validación manual. Pydantic se encarga de todo por nosotros.\n",
    "\n",
    "### Ejemplos de validación de diferentes tipos de datos\n",
    "\n",
    "* Veamos algunos ejemplos para entender mejor cómo funciona la validación de Pydantic con diferentes tipos de datos.\n",
    "\n",
    "#### Cadenas (str)\n",
    "\n",
    "* Como ya vimos, `nombre: str` asegura que un campo sea una cadena de texto.\n",
    "\n",
    "#### Números (int, float)\n",
    "\n",
    "* Podemos usar `edad: int` para asegurarnos de que un campo sea un número entero, o `precio: float` para números decimales.\n",
    "\n",
    "#### Listas (List[tipo])\n",
    "\n",
    "* Si queremos un campo que sea una lista de cadenas de texto, podemos usar `habilidades: List[str]`. Esto asegura que el campo sea una lista y que todos los elementos de la lista sean cadenas de texto.\n",
    "* También podemos usar `List[int]`, `List[float]`, etc., para listas de otros tipos de datos.\n",
    "\n",
    "#### Diccionarios (Dict[tipo_clave, tipo_valor])\n",
    "\n",
    "* Para diccionarios, usamos `Dict[tipo_clave, tipo_valor]`. Por ejemplo, `configuracion: Dict[str, int]` asegura que el campo sea un diccionario donde las claves son cadenas de texto y los valores son números enteros.\n",
    "\n",
    "#### Modelos anidados\n",
    "\n",
    "* Pydantic también nos permite usar modelos dentro de otros modelos. Esto es muy útil para representar estructuras de datos complejas.\n",
    "* Por ejemplo, podríamos tener un modelo `Direccion` y usarlo como un campo en nuestro modelo `Persona`.\n",
    "\n",
    "```python\n",
    "from pydantic import BaseModel\n",
    "from typing import List, Dict\n",
    "\n",
    "class Direccion(BaseModel):\n",
    "    calle: str\n",
    "    ciudad: str\n",
    "    codigo_postal: str\n",
    "\n",
    "class Persona(BaseModel):\n",
    "    nombre: str\n",
    "    edad: int\n",
    "    habilidades: List[str]\n",
    "    configuracion: Dict[str, int]\n",
    "    direccion: Direccion"
   ]
  },
  {
   "cell_type": "markdown",
   "metadata": {},
   "source": [
    "##  📌 *Annotated vs Field!!*\n",
    "En Pydantic v1, se usaba Field para definir validaciones en los campos de un modelo.\n",
    "**En Pydantic v2, puedes usar Annotated para separar la definición del tipo de las validaciones.**\n",
    "\n",
    "Esto me parece genial, porque:\n",
    "* Separar la definición del tipo de las validaciones hace que el código sea más limpio y fácil de leer.\n",
    "* Esto me permite definir validaciones más complejas y reutilizables.\n",
    "* Annotated es más flexible y permite definir validaciones más complejas que Field.\n",
    "* Field todavía se puede usar en Pydantic v2, pero Annotated es la forma recomendada de definir validaciones."
   ]
  },
  {
   "cell_type": "code",
   "execution_count": 1,
   "metadata": {},
   "outputs": [],
   "source": [
    "from typing import Annotated\n",
    "from pydantic import BaseModel, Field\n",
    "\n",
    "# Usando Field directamente (sin usar Annotated)\n",
    "class ProductoField(BaseModel):\n",
    "    id: int = Field(gt=0)\n",
    "    nombre: str = Field(min_length=2)\n",
    "    precio: float = Field(gt=0)\n",
    "\n",
    "# Usando Annotated\n",
    "class ProductoAnnotated(BaseModel):\n",
    "    id: Annotated[int, Field(gt=0)]\n",
    "    nombre: Annotated[str, Field(min_length=2)]\n",
    "    precio: Annotated[float, Field(gt=0)]"
   ]
  },
  {
   "cell_type": "markdown",
   "metadata": {},
   "source": [
    "### Ejemplo (un poco más completo)\n",
    "Combinemos los tipos de *python* con los de *pydantic*\n",
    "+ Para ello utilizamos:\n",
    "  + 1. `enum` que es una librería interna de **python**.\n",
    "    + Se usa para:\n",
    "      + definir valores constantes y mejorar la legilibilidad del código\n",
    "      + evitar defin inconsistentes y disminuir riesgo de errores\n",
    "  + 2. `Anotated` que es una función de **python**\n",
    "    + Se utiliza para:\n",
    "      + agregar validaciones y metadatos a los tipos de datos.\n",
    "      + combinar con **pydantic** agregando así nuevos tipos y restricciones.\n",
    "  + 3. `Field` que es una función muy utilizada de **Pydantic**\n",
    "    + Se utiliza para:\n",
    "      + definir tipos de datos propios de pydantic dentro de un modelo\n",
    "      + definir tipos de datos propios de un desarrollo (o desaroolador)\n",
    "      + realizar validaciones en forma conjunta a la definición de un tipo\n",
    "    + Antes se usaba StringContraints de python pero fué reemplazado por Field de pydantic."
   ]
  },
  {
   "cell_type": "code",
   "execution_count": null,
   "metadata": {},
   "outputs": [
    {
     "name": "stdout",
     "output_type": "stream",
     "text": [
      "name='Daniel' account_id=123 email='dani@some-email.com' password=SecretStr('**********') role=<Role.Admin: 7>\n"
     ]
    }
   ],
   "source": [
    "from pydantic import BaseModel, Field, SecretStr, EmailStr\n",
    "from typing import Annotated\n",
    "from enum import auto, IntFlag\n",
    "\n",
    "# Clase complementaria que define roles posibles para una 'Persona'\n",
    "# Utiliza como clase base IntFlag que es un tipo propio de python.\n",
    "class Role(IntFlag):\n",
    "    Author = auto()                                     # asigna un valor univoco a autor\n",
    "    Editor = auto()                                     # asigna un valor univoco a editor\n",
    "    Developer = auto()                                  # asigna un valor univoco a developer\n",
    "    Admin = Author | Editor | Developer                 # admin podrá ser uno de los tres anteriores\n",
    "\n",
    "# Definición de una clase 'Persona' tulizando dipos de datos de pydantic 2.0\n",
    "# BaseModel implementa todas las bases de los controles y validaciones de los tipos de datos (python y propios de pydantic)\n",
    "class Persona(BaseModel):\n",
    "    name: Annotated[str, Field(min_length=1)]           # pydantic: min_lenth, especifica restricción de longitud mínima\n",
    "    account_id: Annotated[int, Field(gt=0)]             # pydantic: gt, especifica mayor que\n",
    "    email: Annotated[EmailStr, Field(                   # pydantic: EmailStr, que define un tipo de datos especial para e-mail\n",
    "        examples=[\"dani@some-email.com\"],               # pydantic: exapmples, opcional para contener un ejemplo\n",
    "        description=\"The email address of the user\",    # pydantic: desciption, opcional para aclarar de que se trata un dato\n",
    "        frozen=True                                     # pydantic: fronzen, fuerza un valor en un dato que no se puede cambiar durante la app\n",
    "    )]\n",
    "    password: Annotated[SecretStr, Field(               # pydantic: SecretStr, tipo de dato para almacenar y ocultar el contenido de un campo.\n",
    "        examples=[\"Password123\"],\n",
    "        description=\"The password of the user\"\n",
    "    )]\n",
    "    role: Annotated[Role, Field(                        # python: utiliza un tipo de datos previamente definido en la clase 'Role'\n",
    "        default=Role.Author,\n",
    "        description=\"The role of the user\"\n",
    "    )]\n",
    "\n",
    "\n",
    "# Ejemplo de uso\n",
    "persona = Persona(\n",
    "    name=\"Daniel\",\n",
    "    account_id=123,\n",
    "    email=\"dani@some-email.com\",\n",
    "    password=\"SuperSecret\",\n",
    "    role=Role.Admin\n",
    ")\n",
    "print(persona)"
   ]
  },
  {
   "cell_type": "markdown",
   "metadata": {},
   "source": [
    "#### Parámetros comunes de Field\n",
    "- **gt**, **ge**: Mayor que, Mayor o igual que\n",
    "- **lt**, **le**: Menor que, Menor o igual que\n",
    "- **min_length**, **max_length**: Longitud mínima/máxima para strings\n",
    "- **regex**: Validación con expresiones regulares\n",
    "- **default**: Valor por defecto\n",
    "- **default_factory**: Función para generar valor por defecto"
   ]
  },
  {
   "cell_type": "markdown",
   "metadata": {},
   "source": [
    "Estas definiciones de tipos de datos y su validación con pydantic se pueden ver muy bien con jupyter notebook.\n",
    "+ Pero son extremadamente utiles a la hora de desarrollar una aplicación y usar estas caracteristicas en tiempo de ejecución.\n",
    "    + Para ello copiemos el ultimo código, peguemoslo en un archivo con igual nombre que este con extensión .py\n",
    "    + Agregamos código para ejecutar y validar en tiempo de ejecución."
   ]
  },
  {
   "cell_type": "markdown",
   "metadata": {},
   "source": [
    "Autor: Daniel Christello. 2025\n",
    "_______________________________________"
   ]
  }
 ],
 "metadata": {
  "kernelspec": {
   "display_name": ".venv",
   "language": "python",
   "name": "python3"
  },
  "language_info": {
   "codemirror_mode": {
    "name": "ipython",
    "version": 3
   },
   "file_extension": ".py",
   "mimetype": "text/x-python",
   "name": "python",
   "nbconvert_exporter": "python",
   "pygments_lexer": "ipython3",
   "version": "3.12.2"
  }
 },
 "nbformat": 4,
 "nbformat_minor": 2
}
