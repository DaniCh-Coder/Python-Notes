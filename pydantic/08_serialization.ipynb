{
    "cells": [
        {
            "cell_type": "markdown",
            "metadata": {},
            "source": [
                "# 🚀 Serialización y Deserialización con Pydantic\n",
                "Este notebook muestra cómo serializar y deserializar **objetos** usando **Pydantic**.\n",
                "La serialización y deserialización son operaciones fundamentales cuando trabajamos con modelos de datos. \n",
                "- Pydantic v2 ofrece herramientas potentes para convertir entre objetos Python y formatos como JSON, diccionarios, etc.\n",
                "###### https://docs.pydantic.dev/latest/concepts/serialization/\n",
                "\n",
                "##  📌 Serialización y Deserialización\n",
                "- **Serialización**: Convertir un objeto Python en un formato que se pueda almacenar o transmitir.\n",
                "- **Deserialización**: Convertir un formato almacenado o transmitido en un objeto Python.\n",
                "\n",
                "Ambos (serialización y deserialización) son procesos que permiten convertir datos entre distintos formatos para utilizarlos, almacenarlos o transmitirlos."
            ]
        },
        {
            "cell_type": "code",
            "execution_count": null,
            "metadata": {},
            "outputs": [],
            "source": [
                "from pydantic import BaseModel, StrictBool\n",
                "from datetime import datetime\n",
                "from uuid import UUID, uuid4\n",
                "\n",
                "# Definir el modelo Pydantic\n",
                "class Usuario(BaseModel):\n",
                "    id: UUID\n",
                "    nombre: str\n",
                "    registrado_en: datetime\n",
                "    activo: StrictBool = True"
            ]
        },
        {
            "cell_type": "markdown",
            "metadata": {},
            "source": [
                "\n",
                "Normalmente, se llama **serializar** cuando se convierte de un *objeto* a un *formato de texto (como JSON)* y **deserializar** cuando se convierte de un formato de texto a un objeto. Es decir, que la acción se centra en el objeto, desde y hacia el."
            ]
        },
        {
            "cell_type": "code",
            "execution_count": 8,
            "metadata": {},
            "outputs": [],
            "source": [
                "# Crear un objeto Usuario\n",
                "usuario = Usuario(id=uuid4(), nombre=\"Juan Pérez\", registrado_en=datetime.now())"
            ]
        },
        {
            "cell_type": "markdown",
            "metadata": {},
            "source": [
                "## 📌 Serialización (Objeto → JSON)\n",
                "Convertimos un objeto Pydantic a un **diccionario** y **JSON**."
            ]
        },
        {
            "cell_type": "code",
            "execution_count": 9,
            "metadata": {},
            "outputs": [
                {
                    "name": "stdout",
                    "output_type": "stream",
                    "text": [
                        "Diccionario: {'id': UUID('03001601-a132-46f5-877e-e81709a7e97d'), 'nombre': 'Juan Pérez', 'registrado_en': datetime.datetime(2025, 3, 2, 13, 31, 31, 672717), 'activo': True}\n",
                        "\n",
                        "JSON: {\"id\":\"03001601-a132-46f5-877e-e81709a7e97d\",\"nombre\":\"Juan Pérez\",\"registrado_en\":\"2025-03-02T13:31:31.672717\",\"activo\":true}\n",
                        "\n"
                    ]
                }
            ],
            "source": [
                "# Serialización\n",
                "usuario_dict = usuario.model_dump()\n",
                "print(\"Diccionario:\", usuario_dict)\n",
                "print()\n",
                "\n",
                "usuario_json = usuario.model_dump_json()\n",
                "print(\"JSON:\", usuario_json)\n",
                "print()"
            ]
        },
        {
            "cell_type": "markdown",
            "metadata": {},
            "source": [
                "Por default, python almacena los datos de forma similar a un diccionario, por lo que la serialización a JSON es muy sencilla.\n",
                "- Observese la consulta al objeto `usuario` ."
            ]
        },
        {
            "cell_type": "code",
            "execution_count": 11,
            "metadata": {},
            "outputs": [
                {
                    "data": {
                        "text/plain": [
                            "Usuario(id=UUID('03001601-a132-46f5-877e-e81709a7e97d'), nombre='Juan Pérez', registrado_en=datetime.datetime(2025, 3, 2, 13, 31, 31, 672717), activo=True)"
                        ]
                    },
                    "execution_count": 11,
                    "metadata": {},
                    "output_type": "execute_result"
                }
            ],
            "source": [
                "usuario"
            ]
        },
        {
            "cell_type": "markdown",
            "metadata": {},
            "source": [
                "La respuesta es un objeto usuario de clase Usuario, con los atributos definidos en la clase."
            ]
        },
        {
            "cell_type": "markdown",
            "metadata": {},
            "source": [
                "## 📌 Deserialización (JSON → Objeto)\n",
                "Convertimos un diccionario o JSON en un objeto Pydantic.\n",
                "- Esto es, convertir una estructura de datos diccionario o JSON en un objeto **python**\n",
                "  -  con todos los atributos y métodos definidos en la clase.\n",
                "- Pero ademas tendrá todas las validaciones dadas por Pydantic."
            ]
        },
        {
            "cell_type": "code",
            "execution_count": 12,
            "metadata": {},
            "outputs": [
                {
                    "name": "stdout",
                    "output_type": "stream",
                    "text": [
                        "Objeto Usuario desde dict: id=UUID('550e8400-e29b-41d4-a716-446655440000') nombre='Tulio López' registrado_en=datetime.datetime(2024, 2, 29, 10, 0) activo=False\n",
                        "\n",
                        "Objeto Usuario desde JSON: id=UUID('550e8400-e29b-41d4-a716-446655440000') nombre='Tulio López' registrado_en=datetime.datetime(2024, 2, 29, 10, 0) activo=False\n",
                        "\n"
                    ]
                }
            ],
            "source": [
                "import json\n",
                "\n",
                "# Datos de prueba para deserialización\n",
                "usuario_data = {\n",
                "    \"id\": \"550e8400-e29b-41d4-a716-446655440000\",\n",
                "    \"nombre\": \"Tulio López\",\n",
                "    \"registrado_en\": \"2024-02-29T10:00:00\",\n",
                "    \"activo\": False\n",
                "}\n",
                "\n",
                "# Deserialización desde diccionario (con doble asterisco)\n",
                "usuario_obj = Usuario(**usuario_data)\n",
                "print(\"Objeto Usuario desde dict:\", usuario_obj)\n",
                "print()\n",
                "\n",
                "# Deserialización desde JSON\n",
                "#  primero con librería json convierto a string\n",
                "usuario_json_str = json.dumps(usuario_data)\n",
                "\n",
                "# luego utilizo pydantic para deserializar\n",
                "usuario_obj2 = Usuario.model_validate_json(usuario_json_str)\n",
                "\n",
                "print(\"Objeto Usuario desde JSON:\", usuario_obj2)\n",
                "print()"
            ]
        },
        {
            "cell_type": "markdown",
            "metadata": {},
            "source": [
                "## 🔥 Resumen\n",
                "| Acción | Método | Output |\n",
                "|--------|--------|--------|\n",
                "| **Serializar a diccionario** | `model_dump()` | `dict` |\n",
                "| **Serializar a JSON** | `model_dump_json()` | `str` (JSON) |\n",
                "| **Deserializar desde `dict`** | `Usuario(**data)` | Objeto Pydantic |\n",
                "| **Deserializar desde JSON** | `model_validate_json(json_str)` | Objeto Pydantic |"
            ]
        },
        {
            "cell_type": "markdown",
            "metadata": {},
            "source": [
                "## Opciones Avanzadas de Serialización\n",
                "Pydantic, con model_dump() y model_dump_json(), permite opciones avanzadas para serializar objetos.\n",
                "- **`exclude`**: Excluir atributos en la serialización.\n",
                "- **`include`**: Incluir solo los atributos especificados.\n",
                "- **`by_alias`**: Serializar usando alias en lugar de los nombres de los atributos.\n",
                "- **`exclude_unset`**: Excluir atributos no establecidos.\n",
                "- **`exclude_defaults`**: Excluir atributos que tienen valores predeterminados.\n",
                "- **`exclude_none`**: Excluir atributos con valor `None`.\n",
                "- **`exclude_hidden`**: Excluir atributos que comienzan con `_`.\n",
                "\n",
                "### Excluir atributos\n",
                "Veamos la exclusión de campos en la serialización.\n",
                "- En el ejemplo excluimos un par de campos: `descripción` y `fecha_creación`."
            ]
        },
        {
            "cell_type": "code",
            "execution_count": 13,
            "metadata": {},
            "outputs": [
                {
                    "name": "stdout",
                    "output_type": "stream",
                    "text": [
                        "{'id': 1, 'titulo': 'Aprender Pydantic', 'completada': False, 'etiquetas': ['python', 'pydantic']}\n"
                    ]
                }
            ],
            "source": [
                "from pydantic import BaseModel, Field\n",
                "from datetime import datetime\n",
                "from typing import List, Optional\n",
                "\n",
                "class Tarea(BaseModel):\n",
                "    id: int\n",
                "    titulo: str\n",
                "    completada: bool = False\n",
                "    fecha_creacion: datetime\n",
                "    etiquetas: List[str] = []\n",
                "    descripcion: Optional[str] = None\n",
                "\n",
                "tarea = Tarea(\n",
                "    id=1,\n",
                "    titulo=\"Aprender Pydantic\",\n",
                "    fecha_creacion=datetime.now(),\n",
                "    etiquetas=[\"python\", \"pydantic\"],\n",
                "    descripcion=\"Estudiar serialización con Pydantic\"\n",
                ")\n",
                "\n",
                "# Serialización con exclusión de campos\n",
                "dict_parcial = tarea.model_dump(exclude={\"descripcion\", \"fecha_creacion\"})\n",
                "print(dict_parcial)\n",
                "# {'id': 1, 'titulo': 'Aprender Pydantic', 'completada': False, 'etiquetas': ['python', 'pydantic']}"
            ]
        },
        {
            "cell_type": "markdown",
            "metadata": {},
            "source": [
                "### Inclusión selectiva de campos\n",
                "- En el ejemplo, incluimos solo los campos `id` y `titulo`."
            ]
        },
        {
            "cell_type": "code",
            "execution_count": 14,
            "metadata": {},
            "outputs": [
                {
                    "name": "stdout",
                    "output_type": "stream",
                    "text": [
                        "{'id': 1, 'titulo': 'Aprender Pydantic'}\n"
                    ]
                }
            ],
            "source": [
                "# Inclusión selectiva de campos\n",
                "dict_solo_id_titulo = tarea.model_dump(include={\"id\", \"titulo\"})\n",
                "print(dict_solo_id_titulo)\n",
                "# {'id': 1, 'titulo': 'Aprender Pydantic'}"
            ]
        },
        {
            "cell_type": "markdown",
            "metadata": {},
            "source": [
                "### Exclusión de valores nulos o por defecto"
            ]
        },
        {
            "cell_type": "code",
            "execution_count": 23,
            "metadata": {},
            "outputs": [
                {
                    "name": "stdout",
                    "output_type": "stream",
                    "text": [
                        "{'id': 2, 'titulo': 'Otra tarea', 'fecha_creacion': datetime.datetime(2025, 3, 2, 18, 18, 13, 401185), 'campos_por_defecto': 'otro campo por defecto'}\n",
                        "{'id': 2, 'titulo': 'Otra tarea', 'completada': False, 'fecha_creacion': datetime.datetime(2025, 3, 2, 18, 18, 13, 401185), 'etiquetas': [], 'campos_por_defecto': 'otro campo por defecto'}\n"
                    ]
                }
            ],
            "source": [
                "# Excluir valores nulos o por defecto\n",
                "class Tarea(BaseModel):\n",
                "    id: int\n",
                "    titulo: str\n",
                "    completada: bool = False\n",
                "    fecha_creacion: datetime\n",
                "    etiquetas: List[str] = []\n",
                "    descripcion: Optional[str] = None\n",
                "    campos_nulos: Optional[str] = None\n",
                "    campos_por_defecto: str = \"campo por defecto\"\n",
                "    \n",
                "otra_tarea = Tarea(\n",
                "    id=2,\n",
                "    titulo=\"Otra tarea\",\n",
                "    fecha_creacion=datetime.now(),\n",
                "    campos_nulos=None,\n",
                "    campos_por_defecto=\"otro campo por defecto\"\n",
                ")\n",
                "print(otra_tarea.model_dump(exclude_defaults=True))\n",
                "\n",
                "\n",
                "print(otra_tarea.model_dump(exclude_none=True))"
            ]
        },
        {
            "cell_type": "markdown",
            "metadata": {},
            "source": [
                "Para el primer print con exclude_defaults=True:\n",
                "+ No se imprimirán los siguientes campos:\n",
                "  + completada: porque tiene el valor por defecto False\n",
                "  + etiquetas: porque tiene el valor por defecto [] (lista vacía)\n",
                "  + descripcion: porque tiene el valor por defecto None\n",
                "  + campos_nulos: porque tiene el valor por defecto None\n",
                "  + campos_por_defecto: aunque su valor actual es \"otro campo por defecto\", no es su valor por defecto, por lo que SÍ se imprimirá.\n",
                "\n",
                "En el segundo print con exclude_none=True:\n",
                "+ No se imprimirán los siguientes campos:\n",
                "  + campos_nulos: porque su valor es None\n",
                "  + descripcion: porque su valor es None\n",
                "+ Se imprimirán los demás campos, aunque tengan valores por defecto."
            ]
        },
        {
            "cell_type": "markdown",
            "metadata": {},
            "source": [
                "### Personalización Avanzada de Serialización y Deserialización\n",
                "Pydantic facilita la personalización de la serialización y deserialización de datos mediante la definición de métodos especiales en el modelo. \n",
                "+ A continuación, se presentan algunos de los métodos especiales más comunes que se pueden definir en un modelo Pydantic:"
            ]
        },
        {
            "cell_type": "code",
            "execution_count": null,
            "metadata": {},
            "outputs": [
                {
                    "name": "stdout",
                    "output_type": "stream",
                    "text": [
                        "usuario\n",
                        "{\"nombre\":\"usuario\",\"fecha\":\"01-03-2025\",\"activo\":true}\n"
                    ]
                }
            ],
            "source": [
                "from pydantic import BaseModel, ConfigDict\n",
                "from datetime import datetime\n",
                "\n",
                "class Configuracion(BaseModel):\n",
                "    model_config = ConfigDict(\n",
                "        str_strip_whitespace=True,  # Eliminar espacios en strings\n",
                "        validate_default=True,      # Validar los valores por defecto\n",
                "        extra=\"ignore\",             # Ignorar campos extra\n",
                "        str_to_lower=True,          # Convertir strings a minúsculas\n",
                "        json_encoders={             # Encoders personalizados\n",
                "            datetime: lambda dt: dt.strftime(\"%d-%m-%Y\")\n",
                "        }\n",
                "    )\n",
                "    \n",
                "    nombre: str\n",
                "    fecha: datetime\n",
                "    activo: bool = True\n",
                "\n",
                "datos = {\n",
                "    \"nombre\": \"  USUARIO  \",\n",
                "    \"fecha\": \"2025-03-01T10:00:00\",\n",
                "    \"campo_extra\": \"valor ignorado\"\n",
                "}\n",
                "\n",
                "config = Configuracion.model_validate(datos)\n",
                "print(config.nombre)  # \"usuario\" (minúsculas y sin espacios)\n",
                "print(config.model_dump_json())\n",
                "# {\"nombre\":\"usuario\",\"fecha\":\"2025-03-01\",\"activo\":true}"
            ]
        },
        {
            "cell_type": "markdown",
            "metadata": {},
            "source": [
                "###  Alias y Serializadores Personalizados"
            ]
        },
        {
            "cell_type": "code",
            "execution_count": 26,
            "metadata": {},
            "outputs": [
                {
                    "name": "stdout",
                    "output_type": "stream",
                    "text": [
                        "{'id': 101, 'nombre': 'Laptop', 'precio': 999.99}\n",
                        "\n",
                        "{'id': 101, 'nombre': 'Laptop', 'precio_venta': 999.99}\n"
                    ]
                }
            ],
            "source": [
                "from pydantic import BaseModel, Field\n",
                "from datetime import datetime\n",
                "from typing import Any, Dict\n",
                "\n",
                "class Producto(BaseModel):\n",
                "    id: int\n",
                "    nombre: str\n",
                "    # El campo se llama 'precio_venta' en Python pero 'precio' en JSON\n",
                "    precio_venta: float = Field(serialization_alias=\"precio\")\n",
                "    # Excluir este campo de la serialización por defecto\n",
                "    stock_interno: int = Field(exclude=True)\n",
                "    # Personalizar la serialización con alias e inclusión condicional\n",
                "    fecha_actualizacion: datetime = Field(\n",
                "        serialization_alias=\"ultima_actualizacion\",\n",
                "        exclude=lambda _: False  # Siempre incluir en la serialización\n",
                "    )\n",
                "\n",
                "producto = Producto(\n",
                "    id=101,\n",
                "    nombre=\"Laptop\",\n",
                "    precio_venta=999.99,\n",
                "    stock_interno=50,\n",
                "    fecha_actualizacion=datetime.now()\n",
                ")\n",
                "\n",
                "print(producto.model_dump(by_alias=True))\n",
                "# {'id': 101, 'nombre': 'Laptop', 'precio': 999.99, 'ultima_actualizacion': datetime(...)}\n",
                "print()\n",
                "print(producto.model_dump())"
            ]
        },
        {
            "cell_type": "markdown",
            "metadata": {},
            "source": [
                "### Validación y Transformación de Campos durante la Deserialización\n",
                "- Pydantic permite definir métodos especiales para validar y transformar los campos durante la deserialización."
            ]
        },
        {
            "cell_type": "code",
            "execution_count": 20,
            "metadata": {},
            "outputs": [
                {
                    "name": "stdout",
                    "output_type": "stream",
                    "text": [
                        "{'nombre': 'Juan Pérez', 'email': 'juan@empresa.com', 'rol': 'admin'}\n"
                    ]
                }
            ],
            "source": [
                "\n",
                "from pydantic import BaseModel, field_validator, model_validator, BeforeValidator, AfterValidator\n",
                "from typing import Annotated\n",
                "\n",
                "def normalizar_email(email: str) -> str:\n",
                "    return email.strip().lower()\n",
                "\n",
                "class Usuario(BaseModel):\n",
                "    nombre: str\n",
                "    # Transformación durante la validación\n",
                "    email: Annotated[str, BeforeValidator(normalizar_email)]\n",
                "    rol: str\n",
                "\n",
                "    @field_validator('rol')\n",
                "    @classmethod\n",
                "    def validar_rol(cls, v):\n",
                "        valid_roles = [\"admin\", \"usuario\", \"editor\"]\n",
                "        if v.lower() not in valid_roles:\n",
                "            raise ValueError(f\"Rol inválido. Debe ser uno de: {valid_roles}\")\n",
                "        return v.lower()\n",
                "\n",
                "    @model_validator(mode='after')\n",
                "    def verificar_admin(self):\n",
                "        if self.rol == \"admin\" and not self.email.endswith(\"@empresa.com\"):\n",
                "            raise ValueError(\"Los administradores deben usar email corporativo\")\n",
                "        return self\n",
                "\n",
                "# Deserialización con transformaciones\n",
                "datos_usuario = {\n",
                "    \"nombre\": \"Juan Pérez\",\n",
                "    \"email\": \"  JUAN@Empresa.com  \",\n",
                "    \"rol\": \"ADMIN\"\n",
                "}\n",
                "\n",
                "usuario = Usuario.model_validate(datos_usuario)\n",
                "print(usuario.model_dump())\n",
                "# {'nombre': 'Juan Pérez', 'email': 'juan@empresa.com', 'rol': 'admin'}"
            ]
        },
        {
            "cell_type": "markdown",
            "metadata": {},
            "source": [
                "## Serialización y deserialización de objetos anidados\n",
                "### Serialización de Objetos Anidados"
            ]
        },
        {
            "cell_type": "code",
            "execution_count": 28,
            "metadata": {},
            "outputs": [
                {
                    "name": "stdout",
                    "output_type": "stream",
                    "text": [
                        "{'id': 1, 'nombre': 'Elena Rodríguez', 'direcciones': [{'calle': 'Calle Mayor 10', 'ciudad': 'Madrid', 'codigo_postal': '28001'}, {'calle': 'Avenida Principal 5', 'ciudad': 'Barcelona', 'codigo_postal': '08001'}], 'pedidos': [{'id': 101, 'productos': ['Laptop', 'Mouse'], 'cantidad': 1}, {'id': 102, 'productos': ['Monitor'], 'cantidad': 2}], 'metadata': {'preferencia': 'digital', 'idioma': 'es'}}\n"
                    ]
                }
            ],
            "source": [
                "from pydantic import BaseModel\n",
                "from typing import List, Dict, Optional\n",
                "\n",
                "class Direccion(BaseModel):\n",
                "    calle: str\n",
                "    ciudad: str\n",
                "    codigo_postal: str\n",
                "\n",
                "class Pedido(BaseModel):\n",
                "    id: int\n",
                "    productos: List[str]\n",
                "    cantidad: int\n",
                "\n",
                "class Cliente(BaseModel):\n",
                "    id: int\n",
                "    nombre: str\n",
                "    direcciones: List[Direccion]\n",
                "    pedidos: List[Pedido] = []\n",
                "    metadata: Dict[str, str] = {}\n",
                "\n",
                "# Crear un cliente con datos anidados\n",
                "cliente = Cliente(\n",
                "    id=1,\n",
                "    nombre=\"Elena Rodríguez\",\n",
                "    direcciones=[\n",
                "        Direccion(calle=\"Calle Mayor 10\", ciudad=\"Madrid\", codigo_postal=\"28001\"),\n",
                "        Direccion(calle=\"Avenida Principal 5\", ciudad=\"Barcelona\", codigo_postal=\"08001\")\n",
                "    ],\n",
                "    pedidos=[\n",
                "        Pedido(id=101, productos=[\"Laptop\", \"Mouse\"], cantidad=1),\n",
                "        Pedido(id=102, productos=[\"Monitor\"], cantidad=2)\n",
                "    ],\n",
                "    metadata={\"preferencia\": \"digital\", \"idioma\": \"es\"}\n",
                ")\n",
                "\n",
                "# Serialización completa con modelos anidados\n",
                "datos_cliente = cliente.model_dump()\n",
                "print(datos_cliente)"
            ]
        },
        {
            "cell_type": "markdown",
            "metadata": {},
            "source": [
                "### Deserialización de datos anidados"
            ]
        },
        {
            "cell_type": "code",
            "execution_count": 29,
            "metadata": {},
            "outputs": [
                {
                    "name": "stdout",
                    "output_type": "stream",
                    "text": [
                        "id=2 nombre='Carlos Gómez' direcciones=[Direccion(calle='Paseo Central 20', ciudad='Valencia', codigo_postal='46001')] pedidos=[Pedido(id=201, productos=['Teclado'], cantidad=1)] metadata={}\n",
                        "Valencia\n"
                    ]
                }
            ],
            "source": [
                "# Datos anidados\n",
                "datos = {\n",
                "    \"id\": 2,\n",
                "    \"nombre\": \"Carlos Gómez\",\n",
                "    \"direcciones\": [\n",
                "        {\"calle\": \"Paseo Central 20\", \"ciudad\": \"Valencia\", \"codigo_postal\": \"46001\"}\n",
                "    ],\n",
                "    \"pedidos\": [\n",
                "        {\"id\": 201, \"productos\": [\"Teclado\"], \"cantidad\": 1}\n",
                "    ]\n",
                "}\n",
                "\n",
                "# Deserialización de datos anidados\n",
                "nuevo_cliente = Cliente.model_validate(datos)\n",
                "print(nuevo_cliente)\n",
                "\n",
                "# Acceso a los modelos anidados\n",
                "print(nuevo_cliente.direcciones[0].ciudad)  # \"Valencia\""
            ]
        },
        {
            "cell_type": "markdown",
            "metadata": {},
            "source": [
                "## Serialización y Deserialización de Formatos Personalizados\n",
                "### Serializacion a XML"
            ]
        },
        {
            "cell_type": "code",
            "execution_count": 30,
            "metadata": {},
            "outputs": [
                {
                    "name": "stdout",
                    "output_type": "stream",
                    "text": [
                        "<product><id>1</id><name>Laptop</name><price>999.99</price><created_at>2025-03-02T18:41:29.105414</created_at></product>\n"
                    ]
                }
            ],
            "source": [
                "from pydantic import BaseModel\n",
                "import xml.etree.ElementTree as ET\n",
                "from datetime import datetime\n",
                "\n",
                "class Product(BaseModel):\n",
                "    id: int\n",
                "    name: str\n",
                "    price: float\n",
                "    created_at: datetime = Field(default_factory=datetime.now)\n",
                "    \n",
                "    def to_xml(self):\n",
                "        \"\"\"Convierte el modelo a XML\"\"\"\n",
                "        root = ET.Element(\"product\")\n",
                "        for field_name, field_value in self.model_dump().items():\n",
                "            # Convertir valores a string para XML\n",
                "            if isinstance(field_value, datetime):\n",
                "                field_value = field_value.isoformat()\n",
                "            \n",
                "            element = ET.SubElement(root, field_name)\n",
                "            element.text = str(field_value)\n",
                "        \n",
                "        return ET.tostring(root, encoding=\"unicode\")\n",
                "\n",
                "# Uso\n",
                "product = Product(id=1, name=\"Laptop\", price=999.99)\n",
                "xml_data = product.to_xml()\n",
                "print(xml_data)\n",
                "# <product><id>1</id><name>Laptop</name><price>999.99</price><created_at>2025-03-02T12:34:56</created_at></product>"
            ]
        },
        {
            "cell_type": "markdown",
            "metadata": {},
            "source": [
                "Autor: Daniel Christello\n",
                "__________________________________________________________"
            ]
        }
    ],
    "metadata": {
        "kernelspec": {
            "display_name": ".venv",
            "language": "python",
            "name": "python3"
        },
        "language_info": {
            "codemirror_mode": {
                "name": "ipython",
                "version": 3
            },
            "file_extension": ".py",
            "mimetype": "text/x-python",
            "name": "python",
            "nbconvert_exporter": "python",
            "pygments_lexer": "ipython3",
            "version": "3.12.2"
        }
    },
    "nbformat": 4,
    "nbformat_minor": 4
}
