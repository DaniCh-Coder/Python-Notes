{
 "cells": [
  {
   "cell_type": "markdown",
   "metadata": {},
   "source": [
    "# 🚀 JSON con pydantic\n",
    "###### https://docs.pydantic.dev/latest/concepts/json_schema/"
   ]
  },
  {
   "cell_type": "markdown",
   "metadata": {},
   "source": [
    "## 📌 Introducción\n",
    "### JSON (JavaScript Object Notation):\n",
    "JSON, Es un formato de intercambio de datos ligero y fácil de leer para humanos y máquinas.\n",
    "+ Es una de las tantas formas de representar datos estructurados e intercambiarlos entre aplicaciones.\n",
    "  + Vea también serialización y deserialización en este mismo trabajo y repositorio.\n",
    "+ Se basa en una estructura de pares clave-valor y listas, lo que lo hace muy versátil para representar objetos y datos complejos.\n",
    "+ Es ampliamente utilizado en APIs web, configuraciones y almacenamiento de datos.\n",
    "\n",
    "### JSON Schema:\n",
    "###### https://learn.openapis.org/\n",
    "Es un estándar que define la estructura de un documento JSON.\n",
    "+ Funciona como un \"contrato\" que especifica qué propiedades son requeridas, qué tipos de datos se esperan y otras restricciones.\n",
    "+ Permite validar que un documento JSON cumpla con un formato específico.\n",
    "\n",
    "Es muy útil para:\n",
    "+ Validar datos de entrada y salida en APIs.\n",
    "+ Generar documentación automática.\n",
    "+ Garantizar la integridad de los datos.\n",
    "  \n",
    "### Pydantic 2.0 y JSON Schema:\n",
    "Pydantic es una biblioteca de Python que permite definir modelos de datos utilizando anotaciones de tipo.\n",
    "+ En su versión 2.0, Pydantic ha mejorado significativamente su soporte para JSON Schema.\n",
    "+ Pydantic puede generar automáticamente esquemas JSON a partir de tus modelos de datos.\n",
    "+ Esto significa que puedes definir tus modelos de datos en Python \n",
    "  + y obtener automáticamente una especificación JSON Schema que describe la estructura de esos datos.\n",
    "+ Pydantic 2.0, Utiliza una nueva arquitectura basada en Rust, \n",
    "  + lo que mejora significativamente el rendimiento y la eficiencia en la validación de datos y la generación de esquemas JSON."
   ]
  },
  {
   "cell_type": "markdown",
   "metadata": {},
   "source": [
    "\n",
    "#### Pydantic proporciona análisis JSON integrado, que ayuda a lograr:\n",
    "###### https://docs.pydantic.dev/2.10/concepts/json/#json-parsing\n",
    "+ Mejoras significativas en el rendimiento sin el costo de utilizar una biblioteca de terceros\n",
    "+ Soporte para errores personalizados\n",
    "+ Soporte para especificaciones estrictas\n",
    "\n",
    "A continuación se muestra un ejemplo del análisis JSON integrado de Pydantic a través del método model_validate_json, que muestra el soporte para especificaciones estrictas mientras se analizan datos JSON que no coinciden con las anotaciones de tipo del modelo:"
   ]
  },
  {
   "cell_type": "code",
   "execution_count": 2,
   "metadata": {},
   "outputs": [
    {
     "name": "stdout",
     "output_type": "stream",
     "text": [
      "when=datetime.date(1987, 1, 28) where=(51, -1)\n",
      "2 validation errors for Event\n",
      "when\n",
      "  Input should be a valid date [type=date_type, input_value='1987-01-28', input_type=str]\n",
      "    For further information visit https://errors.pydantic.dev/2.10/v/date_type\n",
      "where\n",
      "  Input should be a valid tuple [type=tuple_type, input_value=[51, -1], input_type=list]\n",
      "    For further information visit https://errors.pydantic.dev/2.10/v/tuple_type\n"
     ]
    }
   ],
   "source": [
    "from datetime import date\n",
    "\n",
    "from pydantic import BaseModel, ConfigDict, ValidationError\n",
    "\n",
    "\n",
    "class Event(BaseModel):\n",
    "    model_config = ConfigDict(strict=True)\n",
    "\n",
    "    when: date\n",
    "    where: tuple[int, int]\n",
    "\n",
    "\n",
    "json_data = '{\"when\": \"1987-01-28\", \"where\": [51, -1]}'\n",
    "print(Event.model_validate_json(json_data))  \n",
    "#> when=datetime.date(1987, 1, 28) where=(51, -1)\n",
    "\n",
    "try:\n",
    "    Event.model_validate({'when': '1987-01-28', 'where': [51, -1]})  \n",
    "except ValidationError as e:\n",
    "    print(e)\n",
    "    \"\"\"\n",
    "    2 validation errors for Event\n",
    "    when\n",
    "      Input should be a valid date [type=date_type, input_value='1987-01-28', input_type=str]\n",
    "    where\n",
    "      Input should be a valid tuple [type=tuple_type, input_value=[51, -1], input_type=list]\n",
    "    \"\"\""
   ]
  },
  {
   "cell_type": "markdown",
   "metadata": {},
   "source": [
    "Autor: Daniel Christello\n",
    "______________________________"
   ]
  }
 ],
 "metadata": {
  "kernelspec": {
   "display_name": ".venv",
   "language": "python",
   "name": "python3"
  },
  "language_info": {
   "codemirror_mode": {
    "name": "ipython",
    "version": 3
   },
   "file_extension": ".py",
   "mimetype": "text/x-python",
   "name": "python",
   "nbconvert_exporter": "python",
   "pygments_lexer": "ipython3",
   "version": "3.12.2"
  }
 },
 "nbformat": 4,
 "nbformat_minor": 2
}
