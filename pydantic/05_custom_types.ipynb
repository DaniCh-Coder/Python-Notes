{
 "cells": [
  {
   "cell_type": "markdown",
   "metadata": {},
   "source": [
    "# Pydantic Custom Validaton\n",
    "## Customización de tipos propios con Pydantic"
   ]
  },
  {
   "cell_type": "markdown",
   "metadata": {},
   "source": [
    "Pydantic permite construir los tipos de datos que quiera al programador.\n",
    "Por ejemplo:\n",
    "+ Supongamos que tenemos una clase de identificador de una persona y esta persona se identifica con un nombre, un email y numero identificador.\n",
    "    + Podemos asignar los dos primeros datos como stings y al terceo como entero."
   ]
  },
  {
   "cell_type": "code",
   "execution_count": 9,
   "metadata": {},
   "outputs": [],
   "source": [
    "from pydantic import BaseModel, EmailStr\n",
    "\n",
    "class Persona(BaseModel):\n",
    "    name:str\n",
    "    email: EmailStr\n",
    "    account_id: int\n",
    "    \n",
    "user = Persona(name='Tulio C. Arnoldo', email ='tulio.arnolodo@some-email.com', account_id=123)"
   ]
  },
  {
   "cell_type": "markdown",
   "metadata": {},
   "source": [
    "Y ahora queremos controlar que **account_id** sea un entero no negativo (positivo o cero)\n",
    "+ Para esto construimos nuestro propio método agregandolo en la clase al set de validación de pydantic\n",
    "  + por medio de un decorador"
   ]
  },
  {
   "cell_type": "code",
   "execution_count": 5,
   "metadata": {},
   "outputs": [],
   "source": [
    "from pydantic import BaseModel, EmailStr, field_validator\n",
    "\n",
    "class Persona(BaseModel):\n",
    "    name:str\n",
    "    email: EmailStr\n",
    "    account_id: int\n",
    "    \n",
    "    @field_validator('account_id')\n",
    "    def validate_account_id(value):\n",
    "      if value <= 0:\n",
    "        raise ValueError(f\"account_id debe ser no negativo: {value}\")\n",
    "      return value\n",
    "\n",
    "\n",
    "\n",
    "user = Persona(name='Tulio C. Arnoldo', email ='tulio.arnolodo@some-email.com', account_id=564)"
   ]
  },
  {
   "cell_type": "markdown",
   "metadata": {},
   "source": [
    "Ahora asignar un valor negativo a **account_id**, no será posible. Se arrojará un error.\n",
    "+ Se sugiere probar, por ejemplo agregando un signo negativo al valor entero de account_id.\n"
   ]
  }
 ],
 "metadata": {
  "kernelspec": {
   "display_name": ".venv",
   "language": "python",
   "name": "python3"
  },
  "language_info": {
   "codemirror_mode": {
    "name": "ipython",
    "version": 3
   },
   "file_extension": ".py",
   "mimetype": "text/x-python",
   "name": "python",
   "nbconvert_exporter": "python",
   "pygments_lexer": "ipython3",
   "version": "3.12.2"
  }
 },
 "nbformat": 4,
 "nbformat_minor": 2
}
