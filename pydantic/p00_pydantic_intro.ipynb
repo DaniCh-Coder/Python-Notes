{
 "cells": [
  {
   "cell_type": "markdown",
   "metadata": {},
   "source": [
    "# 🚀 1. Pydantic\n",
    "###### Al momento de hacer este trabajo, la documentación de pydantic se encuentra en la siguiente dirección: https://pydantic-docs.helpmanual.io/\n",
    "Pydantic es una biblioteca de Python que permite validar datos y gestionar configuraciones de manera sencilla y potente. Es especialmente útil en aplicaciones web, APIs y para cualquier situación donde necesitemos validar estructuras de datos.\n",
    "\n",
    "⚡ Para comenzar, no olvides generar un entorno virtual e instalar pydantic con pip:\n",
    "```bash\n",
    "pip install pydantic\n",
    "```\n",
    "Luego, se irán importantdo las clases `BaseModel` y todas aquellas que se vayan necesitando.       \n",
    "\n",
    "***Pydantic*** es una biblioteca para validación de datos basada en anotaciones de tipo de Python. Permite definir la estructura, los tipos y las validaciones de tus datos de forma clara y concisa. Una de sus principales ventajas es que aprovecha el sistema de tipado estático de Python, lo que facilita la detección de errores en tiempo de desarrollo.\n"
   ]
  },
  {
   "cell_type": "code",
   "execution_count": 2,
   "metadata": {},
   "outputs": [],
   "source": [
    "# 1. INTRODUCCIÓN A PYDANTIC\n",
    "from pydantic import BaseModel, Field, ValidationError, field_validator, model_validator\n",
    "from typing import List, Optional, Dict, Union\n",
    "from datetime import datetime"
   ]
  },
  {
   "cell_type": "markdown",
   "metadata": {},
   "source": [
    "## 📌 2. Módelos Básicos\n",
    "Para definir un modelo en Pydantic, simplemente creamos una clase que herede de `BaseModel` y definimos los campos que queremos validar. \n",
    "- Por ejemplo, si queremos validar un modelo de usuario con un nombre y una edad, podemos hacerlo de la siguiente manera:"
   ]
  },
  {
   "cell_type": "code",
   "execution_count": 3,
   "metadata": {},
   "outputs": [
    {
     "name": "stdout",
     "output_type": "stream",
     "text": [
      "Usuario creado: {'id': 1, 'nombre': 'Juan', 'apellido': 'Pérez', 'edad': 30, 'email': 'juan.perez@ejemplo.com', 'activo': True}\n"
     ]
    }
   ],
   "source": [
    "# 2. MODELO BÁSICO\n",
    "class Usuario(BaseModel):\n",
    "    id: int\n",
    "    nombre: str\n",
    "    apellido: str\n",
    "    edad: int\n",
    "    email: str\n",
    "    activo: bool = True  # Campo con valor por defecto\n",
    "\n",
    "# Crear instancia\n",
    "usuario = Usuario(\n",
    "    id=1,\n",
    "    nombre=\"Juan\",\n",
    "    apellido=\"Pérez\",\n",
    "    edad=30,\n",
    "    email=\"juan.perez@ejemplo.com\"\n",
    ")\n",
    "\n",
    "print(f\"Usuario creado: {usuario.model_dump()}\")"
   ]
  },
  {
   "cell_type": "markdown",
   "metadata": {},
   "source": [
    "## 📌 3. Validación de tipos\n",
    "Pydantic nos permite definir los tipos de los campos de nuestros modelos de forma sencilla. \n",
    "- Por ejemplo, si queremos que el campo `name` sea de tipo `str` y el campo `age` sea de tipo `int`, simplemente tenemos que añadir la anotación de tipo correspondiente a cada campo.\n",
    "- Pydantic se encargará de validar que los datos que le pasemos cumplan con los tipos definidos en el modelo.\n",
    "  - Si los datos **no cumplen** con los tipos definidos, Pydantic lanzará una excepción `ValidationError` con un mensaje de error detallado.\n",
    "  - Si los datos **cumplen** con los tipos definidos, Pydantic devolverá una instancia del modelo con los datos validados.\n"
   ]
  },
  {
   "cell_type": "code",
   "execution_count": 4,
   "metadata": {},
   "outputs": [
    {
     "name": "stdout",
     "output_type": "stream",
     "text": [
      "Error de validación: 1 validation error for Usuario\n",
      "email\n",
      "  Field required [type=missing, input_value={'id': 2, 'nombre': 'Ana'...: 'García', 'edad': 25}, input_type=dict]\n",
      "    For further information visit https://errors.pydantic.dev/2.10/v/missing\n"
     ]
    }
   ],
   "source": [
    "# 3. VALIDACIÓN DE DATOS\n",
    "# Esto causará una ValidationError porque 'email' es requerido\n",
    "try:\n",
    "    usuario_invalido = Usuario(\n",
    "        id=2,\n",
    "        nombre=\"Ana\",\n",
    "        apellido=\"García\",\n",
    "        edad=25\n",
    "    )\n",
    "except ValidationError as e:\n",
    "    print(f\"Error de validación: {e}\")"
   ]
  },
  {
   "cell_type": "markdown",
   "metadata": {},
   "source": [
    "## 📌 4. Tipos Complejos\n",
    "Pydantic es capaz de manejar estructuras de datos complejas. Podemos definir modelos anidados, listas, diccionarios y otros tipos complejos.\n",
    "Acá estamos usando tipos como `Optional`, `List`, `Dict` y modelos anidados como `Dirección`.\n",
    "- Por ejemplo, si queremos validar un modelo de usuario con un nombre, una edad y una dirección, podemos hacerlo de la siguiente manera:"
   ]
  },
  {
   "cell_type": "code",
   "execution_count": 5,
   "metadata": {},
   "outputs": [
    {
     "name": "stdout",
     "output_type": "stream",
     "text": [
      "\n",
      "Usuario detallado: {'id': 3, 'nombre': 'Carlos', 'apellido': 'Rodríguez', 'edad': 35, 'email': 'carlos@ejemplo.com', 'dirección': {'calle': 'Calle Mayor 123', 'ciudad': 'Madrid', 'código_postal': '28001', 'país': 'España'}, 'etiquetas': ['premium', 'desarrollador'], 'metadatos': {'plan': 'pro', 'días_activo': 120, 'descuentos': True}, 'fecha_registro': datetime.datetime(2025, 3, 3, 8, 49, 31, 823321), 'activo': True}\n",
      "Fecha de registro: 2025-03-03 08:49:31.823321\n"
     ]
    }
   ],
   "source": [
    "# 4. TIPOS COMPLEJOS\n",
    "class Dirección(BaseModel):\n",
    "    calle: str\n",
    "    ciudad: str\n",
    "    código_postal: str\n",
    "    país: str = \"España\"\n",
    "\n",
    "class UsuarioDetallado(BaseModel):\n",
    "    id: int\n",
    "    nombre: str\n",
    "    apellido: str\n",
    "    edad: int\n",
    "    email: str\n",
    "    dirección: Optional[Dirección] = None\n",
    "    etiquetas: List[str] = []\n",
    "    metadatos: Dict[str, Union[str, int, bool]] = {}\n",
    "    fecha_registro: datetime = Field(default_factory=datetime.now)\n",
    "    activo: bool = True\n",
    "    \n",
    "# Crear usuario con tipos complejos\n",
    "usuario_detallado = UsuarioDetallado(\n",
    "    id=3,\n",
    "    nombre=\"Carlos\",\n",
    "    apellido=\"Rodríguez\",\n",
    "    edad=35,\n",
    "    email=\"carlos@ejemplo.com\",\n",
    "    dirección={\n",
    "        \"calle\": \"Calle Mayor 123\",\n",
    "        \"ciudad\": \"Madrid\",\n",
    "        \"código_postal\": \"28001\"\n",
    "    },\n",
    "    etiquetas=[\"premium\", \"desarrollador\"],\n",
    "    metadatos={\"plan\": \"pro\", \"días_activo\": 120, \"descuentos\": True}\n",
    ")\n",
    "\n",
    "print(f\"\\nUsuario detallado: {usuario_detallado.model_dump()}\")\n",
    "print(f\"Fecha de registro: {usuario_detallado.fecha_registro}\")"
   ]
  },
  {
   "cell_type": "markdown",
   "metadata": {},
   "source": [
    "## 📌 5. Validadores Personalizados\n",
    "Frecuentemente necesitamos reglas de validación específicas. \n",
    "- Pydantic nos permite crear validadores personalizados a nivel de campo y a nivel de modelo completo."
   ]
  },
  {
   "cell_type": "code",
   "execution_count": 6,
   "metadata": {},
   "outputs": [
    {
     "name": "stdout",
     "output_type": "stream",
     "text": [
      "\n",
      "Producto válido: {'id': 1, 'nombre': 'Laptop', 'precio': 1299.99, 'stock': 10}\n",
      "\n",
      "Error de validación en producto: 1 validation error for ProductoModel\n",
      "precio\n",
      "  Value error, El precio debe ser mayor que cero [type=value_error, input_value=-500, input_type=int]\n",
      "    For further information visit https://errors.pydantic.dev/2.10/v/value_error\n",
      "\n",
      "Pedido con precio total calculado: {'id': 1, 'producto_id': 1, 'cantidad': 3, 'precio_unitario': 1299.99, 'precio_total': 3899.97}\n"
     ]
    }
   ],
   "source": [
    "# 5. VALIDADORES DE CAMPO\n",
    "class ProductoModel(BaseModel):\n",
    "    id: int\n",
    "    nombre: str\n",
    "    precio: float\n",
    "    stock: int\n",
    "    \n",
    "    @field_validator('precio')\n",
    "    @classmethod\n",
    "    def validar_precio(cls, v):\n",
    "        if v <= 0:\n",
    "            raise ValueError('El precio debe ser mayor que cero')\n",
    "        return round(v, 2)  # Redondear a 2 decimales\n",
    "    \n",
    "    @field_validator('stock')\n",
    "    @classmethod\n",
    "    def validar_stock(cls, v):\n",
    "        if v < 0:\n",
    "            raise ValueError('El stock no puede ser negativo')\n",
    "        return v\n",
    "\n",
    "try:\n",
    "    producto_valido = ProductoModel(id=1, nombre=\"Laptop\", precio=1299.99, stock=10)\n",
    "    print(f\"\\nProducto válido: {producto_valido.model_dump()}\")\n",
    "    \n",
    "    producto_invalido = ProductoModel(id=2, nombre=\"Smartphone\", precio=-500, stock=5)\n",
    "except ValidationError as e:\n",
    "    print(f\"\\nError de validación en producto: {e}\")\n",
    "\n",
    "# 6. VALIDADORES DE MODELO\n",
    "class Pedido(BaseModel):\n",
    "    id: int\n",
    "    producto_id: int\n",
    "    cantidad: int\n",
    "    precio_unitario: float\n",
    "    precio_total: float = 0\n",
    "    \n",
    "    @model_validator(mode='after')\n",
    "    def calcular_precio_total(self):\n",
    "        self.precio_total = round(self.cantidad * self.precio_unitario, 2)\n",
    "        return self\n",
    "\n",
    "pedido = Pedido(id=1, producto_id=1, cantidad=3, precio_unitario=1299.99)\n",
    "print(f\"\\nPedido con precio total calculado: {pedido.model_dump()}\")"
   ]
  },
  {
   "cell_type": "markdown",
   "metadata": {},
   "source": [
    "## 📌 6. Serialización y Deserialización\n",
    "Pydantic facilita la conversión entre objetos Python y formatos como JSON, lo que es esencial para APIs.\n",
    "- Podemos convertir nuestros modelos a JSON y viceversa de forma muy sencilla."
   ]
  },
  {
   "cell_type": "code",
   "execution_count": 7,
   "metadata": {},
   "outputs": [
    {
     "name": "stdout",
     "output_type": "stream",
     "text": [
      "\n",
      "Usuario en JSON:\n",
      "{\"id\":3,\"nombre\":\"Carlos\",\"apellido\":\"Rodríguez\",\"edad\":35,\"email\":\"carlos@ejemplo.com\",\"dirección\":{\"calle\":\"Calle Mayor 123\",\"ciudad\":\"Madrid\",\"código_postal\":\"28001\",\"país\":\"España\"},\"etiquetas\":[\"premium\",\"desarrollador\"],\"metadatos\":{\"plan\":\"pro\",\"días_activo\":120,\"descuentos\":true},\"fecha_registro\":\"2025-03-03T08:49:31.823321\",\"activo\":true}\n",
      "\n",
      "Usuario creado desde JSON: {'id': 4, 'nombre': 'Laura', 'apellido': 'Martínez', 'edad': 28, 'email': 'laura@ejemplo.com', 'dirección': {'calle': 'Avenida Libertad 456', 'ciudad': 'Barcelona', 'código_postal': '08001', 'país': 'España'}, 'etiquetas': [], 'metadatos': {}, 'fecha_registro': datetime.datetime(2025, 3, 3, 8, 49, 31, 854389), 'activo': True}\n",
      "\n",
      "Config demo: {'nombre_usuario': 'admin', 'contraseña': 'segura123'}\n",
      "Acceso por alias: admin\n"
     ]
    }
   ],
   "source": [
    "# 7. SERIALIZACIÓN (JSON)\n",
    "usuario_json = usuario_detallado.model_dump_json()\n",
    "print(f\"\\nUsuario en JSON:\\n{usuario_json}\")\n",
    "\n",
    "# 8. DESERIALIZACIÓN\n",
    "datos_json = '''\n",
    "{\n",
    "    \"id\": 4,\n",
    "    \"nombre\": \"Laura\",\n",
    "    \"apellido\": \"Martínez\",\n",
    "    \"edad\": 28,\n",
    "    \"email\": \"laura@ejemplo.com\",\n",
    "    \"dirección\": {\n",
    "        \"calle\": \"Avenida Libertad 456\",\n",
    "        \"ciudad\": \"Barcelona\",\n",
    "        \"código_postal\": \"08001\"\n",
    "    }\n",
    "}\n",
    "'''\n",
    "\n",
    "usuario_desde_json = UsuarioDetallado.model_validate_json(datos_json)\n",
    "print(f\"\\nUsuario creado desde JSON: {usuario_desde_json.model_dump()}\")\n",
    "\n",
    "# 9. CONFIG Y ALIAS\n",
    "class ConfigDemo(BaseModel):\n",
    "    nombre_usuario: str = Field(alias=\"userName\")\n",
    "    contraseña: str = Field(alias=\"password\")\n",
    "    \n",
    "    model_config = {\n",
    "        \"populate_by_name\": True,\n",
    "        \"str_strip_whitespace\": True,\n",
    "        \"validate_assignment\": True\n",
    "    }\n",
    "\n",
    "config_demo = ConfigDemo(userName=\"admin\", contraseña=\"segura123\")\n",
    "print(f\"\\nConfig demo: {config_demo.model_dump()}\")\n",
    "print(f\"Acceso por alias: {config_demo.nombre_usuario}\")"
   ]
  },
  {
   "cell_type": "markdown",
   "metadata": {},
   "source": [
    "## 📌 7. Configuración y Alias\n",
    "Pydantic permite personalizar el comportamiento de nuestros modelos y usar alias para nuestros campos.\n",
    "- Podemos configurar nuestros modelos para que ignoren campos desconocidos, para que conviertan automáticamente los nombres de los campos a snake_case, para que conviertan automáticamente los valores de los campos a mayúsculas, etc.\n",
    "- También podemos usar alias para que nuestros campos tengan nombres diferentes en Python y en JSON.  \n",
    "-Esto es especialmente útil cuando trabajamos con APIs externas que usan convenciones de nombres diferentes."
   ]
  },
  {
   "cell_type": "code",
   "execution_count": 8,
   "metadata": {},
   "outputs": [
    {
     "name": "stdout",
     "output_type": "stream",
     "text": [
      "\n",
      "Config demo: {'nombre_usuario': 'admin', 'contraseña': 'segura123'}\n",
      "Acceso por alias: admin\n"
     ]
    }
   ],
   "source": [
    "# 9. CONFIG Y ALIAS\n",
    "class ConfigDemo(BaseModel):\n",
    "    nombre_usuario: str = Field(alias=\"userName\")\n",
    "    contraseña: str = Field(alias=\"password\")\n",
    "    \n",
    "    model_config = {\n",
    "        \"populate_by_name\": True,\n",
    "        \"str_strip_whitespace\": True,\n",
    "        \"validate_assignment\": True\n",
    "    }\n",
    "config_demo = ConfigDemo(userName=\"admin\", contraseña=\"segura123\")\n",
    "print(f\"\\nConfig demo: {config_demo.model_dump()}\")\n",
    "print(f\"Acceso por alias: {config_demo.nombre_usuario}\")"
   ]
  },
  {
   "cell_type": "markdown",
   "metadata": {},
   "source": [
    "## 8. 📌 Herencia de Modelos\n",
    "Podemos aprovechar la herencia para reutilizar campos comunes en diferentes modelos.\n",
    "- Esto nos ayuda a mantener nuestro código DRY (Don't Repeat Yourself)."
   ]
  },
  {
   "cell_type": "code",
   "execution_count": 9,
   "metadata": {},
   "outputs": [
    {
     "name": "stdout",
     "output_type": "stream",
     "text": [
      "\n",
      "Producto heredado: {'id': 1, 'fecha_creación': datetime.datetime(2025, 3, 3, 8, 49, 31, 878643), 'nombre': 'Monitor', 'precio': 249.99}\n",
      "Cliente heredado: {'id': 1, 'fecha_creación': datetime.datetime(2025, 3, 3, 8, 49, 31, 878643), 'nombre': 'Pedro', 'email': 'pedro@ejemplo.com'}\n"
     ]
    }
   ],
   "source": [
    "# 10. HERENCIA DE MODELOS\n",
    "class ModeloBase(BaseModel):\n",
    "    id: int\n",
    "    fecha_creación: datetime = Field(default_factory=datetime.now)\n",
    "\n",
    "class Producto(ModeloBase):\n",
    "    nombre: str\n",
    "    precio: float\n",
    "\n",
    "class Cliente(ModeloBase):\n",
    "    nombre: str\n",
    "    email: str\n",
    "\n",
    "producto = Producto(id=1, nombre=\"Monitor\", precio=249.99)\n",
    "cliente = Cliente(id=1, nombre=\"Pedro\", email=\"pedro@ejemplo.com\")\n",
    "\n",
    "print(f\"\\nProducto heredado: {producto.model_dump()}\")\n",
    "print(f\"Cliente heredado: {cliente.model_dump()}\")"
   ]
  },
  {
   "cell_type": "markdown",
   "metadata": {},
   "source": [
    "## 9. 📌 Casos de Uso Reales: Schemas para APIs\n",
    "Pydantic es ampliamente utilizado en frameworks como FastAPI. \n",
    "- Vamos a ver un ejemplo de cómo usar Pydantic para definir schemas de API.\"\n",
    "- Típicamente tendríamos schemas separados para creación, actualización y respuestas de API."
   ]
  },
  {
   "cell_type": "code",
   "execution_count": 10,
   "metadata": {},
   "outputs": [
    {
     "name": "stdout",
     "output_type": "stream",
     "text": [
      "\n",
      "Producto creado en API: {'id': 100, 'fecha_creación': datetime.datetime(2025, 3, 3, 8, 49, 31, 890984), 'nombre': 'Teclado', 'precio': 89.99, 'stock': 20}\n"
     ]
    }
   ],
   "source": [
    "# 📌 11. SCHEMAS PARA API (PARA ILUSTRAR CASOS DE USO REALES)\n",
    "class ProductoCrear(BaseModel):\n",
    "    nombre: str\n",
    "    precio: float\n",
    "    stock: int\n",
    "\n",
    "class ProductoActualizar(BaseModel):\n",
    "    nombre: Optional[str] = None\n",
    "    precio: Optional[float] = None\n",
    "    stock: Optional[int] = None\n",
    "\n",
    "class ProductoRespuesta(ModeloBase):\n",
    "    nombre: str\n",
    "    precio: float\n",
    "    stock: int\n",
    "\n",
    "# Simular API\n",
    "def crear_producto(datos: ProductoCrear) -> ProductoRespuesta:\n",
    "    # Aquí iría lógica para guardar en base de datos\n",
    "    return ProductoRespuesta(\n",
    "        id=100,\n",
    "        nombre=datos.nombre,\n",
    "        precio=datos.precio,\n",
    "        stock=datos.stock\n",
    "    )\n",
    "\n",
    "datos_producto = ProductoCrear(nombre=\"Teclado\", precio=89.99, stock=20)\n",
    "producto_creado = crear_producto(datos_producto)\n",
    "print(f\"\\nProducto creado en API: {producto_creado.model_dump()}\")"
   ]
  },
  {
   "cell_type": "markdown",
   "metadata": {},
   "source": [
    "Autor: Daniel Christello\n",
    "_____________________________________________________________"
   ]
  }
 ],
 "metadata": {
  "kernelspec": {
   "display_name": ".venv",
   "language": "python",
   "name": "python3"
  },
  "language_info": {
   "codemirror_mode": {
    "name": "ipython",
    "version": 3
   },
   "file_extension": ".py",
   "mimetype": "text/x-python",
   "name": "python",
   "nbconvert_exporter": "python",
   "pygments_lexer": "ipython3",
   "version": "3.12.2"
  }
 },
 "nbformat": 4,
 "nbformat_minor": 2
}
