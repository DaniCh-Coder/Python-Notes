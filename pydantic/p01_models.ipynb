{
 "cells": [
  {
   "cell_type": "markdown",
   "metadata": {},
   "source": [
    "# 🚀 Pydantic Models -Modelos en Pydantic\n",
    "###### Al momento de escribir estas lineas la documentación oficial de este tema se encuentra en [Pydantic](https://docs.pydantic.dev/2.10/concepts/models/) website."
   ]
  },
  {
   "cell_type": "markdown",
   "metadata": {},
   "source": [
    "* **Definición**:\n",
    "    * En Pydantic, un modelo es básicamente una clase de Python que hereda de `BaseModel`. \n",
    "      * Esta clase define la 'forma' que deben tener tus datos. Es como crear un plano o un esquema que especifica qué tipo de información esperas y cómo debe ser esa información.\"\n",
    "    * Paa usar pydantic:\n",
    "      * Hay que especificar claramente la estructura y el comportamiento de los datos.\n",
    "      * Pydantic se encarga de verificar que los datos cumplan con lo especificado.\"\n",
    "* **Propósito**:\n",
    "    * Los modelos de Pydantic nos permiten validar y estructurar datos de manera eficiente. \n",
    "      * Esto es crucial cuando trabajamos con datos provenientes de fuentes externas, como APIs, archivos JSON o formularios web.\n",
    "    * Al definir un modelo, nos aseguramos de que nuestros datos sean consistentes y cumplan con las reglas que hemos establecido. \n",
    "      * Esto reduce errores y hace que nuestro código sea más robusto.\n",
    "\n",
    "Pydantic es una biblioteca de Python que permite validar datos y gestionar configuraciones de manera sencilla y potente. \n",
    "+ Está especialmente diseñada para trabajar con el sistema de tipado estático de Python, facilitando la detección de errores en tiempo de desarrollo.\n",
    "\n",
    "Para comenzar, necesitamos instalar Pydantic:\n",
    "\n",
    "```bash\n",
    "pip install pydantic\n",
    "```\n",
    "Luego, se irán importantdo las clases `BaseModel` y todas aquellas que se vayan necesitando.       "
   ]
  },
  {
   "cell_type": "code",
   "execution_count": 1,
   "metadata": {},
   "outputs": [],
   "source": [
    "from pydantic import BaseModel, Field, ValidationError"
   ]
  },
  {
   "cell_type": "markdown",
   "metadata": {},
   "source": [
    "## 📌 Elementos esenciales en la definición de un modelo en Pydantic\n",
    "### ¿Cómo se definen los modelos de Pydantic?\n",
    "\n",
    "Los modelos pydantic se definen con dos elementos esenciales:\n",
    "1. **Herencia de `BaseModel`**:\n",
    "    * \"Para crear un modelo de Pydantic, simplemente definimos una clase que hereda de `BaseModel`. \n",
    "      * Esto nos da acceso a todas las funcionalidades de validación de Pydantic.\"\n",
    "2. **Anotaciones de tipo**:\n",
    "    * Se utilizan las anotaciones de tipo de Python para definir los campos de un nuevo modelo. \n",
    "      * Esto le dice a Pydantic qué tipo de datos esperamos para cada campo.\"\n",
    "    * Por ejemplo, si esperamos un nombre que sea una cadena de texto, usamos `nombre: str`. Si esperamos una edad que sea un número entero, usamos `edad: int`.\n",
    "* **Ejemplo práctico**:\n",
    "    * Vamos a ver un ejemplo sencillo: Crear un modelo para representar a una persona. \n",
    "      * Podríamos definirlo como sigue a continuación:\n",
    "        * Modelo `Persona` con tres campos: `nombre`, `edad` y `email`"
   ]
  },
  {
   "cell_type": "code",
   "execution_count": 2,
   "metadata": {},
   "outputs": [],
   "source": [
    "# Modelo `Persona` con tres campos: `nombre`, `edad` y `email`\n",
    "# from pydantic import BaseModel\n",
    "\n",
    "class Persona(BaseModel):\n",
    "    nombre: str\n",
    "    edad: int\n",
    "    email: str"
   ]
  },
  {
   "cell_type": "markdown",
   "metadata": {},
   "source": [
    "En el ejemplo (anterior):\n",
    "+ se ven la herencia del modelo de *BaseModel*\n",
    "+ las anotaciones de tipos (*int, str*)\n",
    "  \n",
    "Pydantic se encargará de verificar que los datos que al momento de cear una instancia de `Persona`\n",
    "+ para que cumplan con estos tipos definidos en la clase.\n",
    "\n",
    "**Validación automática**:\n",
    "* Una de las grandes ventajas de Pydantic es que la validación es automática. \n",
    "   * Cuando intentamos crear una instancia de nuestro modelo con datos que no cumplen con los tipos definidos, Pydantic genera un error.\n",
    "* Por ejemplo, si intentamos crear una `Persona` con una edad que no sea un número entero, Pydantic nos avisará de que hay un error."
   ]
  },
  {
   "cell_type": "markdown",
   "metadata": {},
   "source": [
    "## 📌 Modelos Básicos\n",
    "La forma más básica de utilizar Pydantic es definir modelos que hereden de `BaseModel`. \n",
    "- Estos modelos especifican la estructura y tipos de datos esperados.\n",
    "\n",
    "Primero creamos un modelo `Persona` con tres campos: `nombre`, `edad` y `email`.\n",
    "- y creamos una instancia de manera correcta para que no de error."
   ]
  },
  {
   "cell_type": "code",
   "execution_count": 7,
   "metadata": {},
   "outputs": [
    {
     "name": "stdout",
     "output_type": "stream",
     "text": [
      "Usuario creado: {'id': 1, 'nombre': 'Juan', 'apellido': 'Pérez', 'edad': 30, 'email': 'juan.perez@ejemplo.com', 'activo': True}\n"
     ]
    }
   ],
   "source": [
    "class Usuario(BaseModel):\n",
    "    id: int\n",
    "    nombre: str\n",
    "    apellido: str\n",
    "    edad: int\n",
    "    email: str\n",
    "    activo: bool = True  # Campo con valor por defecto\n",
    "\n",
    "# Crear instancia\n",
    "usuario = Usuario(\n",
    "    id=1,\n",
    "    nombre=\"Juan\",\n",
    "    apellido=\"Pérez\",\n",
    "    edad=30,\n",
    "    email=\"juan.perez@ejemplo.com\"\n",
    ")\n",
    "\n",
    "print(f\"Usuario creado: {usuario.model_dump()}\")"
   ]
  },
  {
   "cell_type": "code",
   "execution_count": 6,
   "metadata": {},
   "outputs": [
    {
     "ename": "ValidationError",
     "evalue": "1 validation error for Usuario\nemail\n  Field required [type=missing, input_value={'id': 2, 'nombre': 'Ana'...: 'García', 'edad': 25}, input_type=dict]\n    For further information visit https://errors.pydantic.dev/2.10/v/missing",
     "output_type": "error",
     "traceback": [
      "\u001b[1;31m---------------------------------------------------------------------------\u001b[0m",
      "\u001b[1;31mValidationError\u001b[0m                           Traceback (most recent call last)",
      "Cell \u001b[1;32mIn[6], line 2\u001b[0m\n\u001b[0;32m      1\u001b[0m \u001b[38;5;66;03m# Esto causará una ValidationError porque 'email' es requerido\u001b[39;00m\n\u001b[1;32m----> 2\u001b[0m usuario_invalido \u001b[38;5;241m=\u001b[39m \u001b[43mUsuario\u001b[49m\u001b[43m(\u001b[49m\n\u001b[0;32m      3\u001b[0m \u001b[43m    \u001b[49m\u001b[38;5;28;43mid\u001b[39;49m\u001b[38;5;241;43m=\u001b[39;49m\u001b[38;5;241;43m2\u001b[39;49m\u001b[43m,\u001b[49m\n\u001b[0;32m      4\u001b[0m \u001b[43m    \u001b[49m\u001b[43mnombre\u001b[49m\u001b[38;5;241;43m=\u001b[39;49m\u001b[38;5;124;43m\"\u001b[39;49m\u001b[38;5;124;43mAna\u001b[39;49m\u001b[38;5;124;43m\"\u001b[39;49m\u001b[43m,\u001b[49m\n\u001b[0;32m      5\u001b[0m \u001b[43m    \u001b[49m\u001b[43mapellido\u001b[49m\u001b[38;5;241;43m=\u001b[39;49m\u001b[38;5;124;43m\"\u001b[39;49m\u001b[38;5;124;43mGarcía\u001b[39;49m\u001b[38;5;124;43m\"\u001b[39;49m\u001b[43m,\u001b[49m\n\u001b[0;32m      6\u001b[0m \u001b[43m    \u001b[49m\u001b[43medad\u001b[49m\u001b[38;5;241;43m=\u001b[39;49m\u001b[38;5;241;43m25\u001b[39;49m\n\u001b[0;32m      7\u001b[0m \u001b[43m)\u001b[49m\n\u001b[0;32m      9\u001b[0m \u001b[38;5;66;03m# ValidationError: 1 validation error for Usuario\u001b[39;00m\n\u001b[0;32m     10\u001b[0m \u001b[38;5;66;03m# email\u001b[39;00m\n\u001b[0;32m     11\u001b[0m \u001b[38;5;66;03m#...\u001b[39;00m\n",
      "File \u001b[1;32mc:\\Users\\Dani\\GitHUb\\Python-Notes\\.venv\\Lib\\site-packages\\pydantic\\main.py:214\u001b[0m, in \u001b[0;36mBaseModel.__init__\u001b[1;34m(self, **data)\u001b[0m\n\u001b[0;32m    212\u001b[0m \u001b[38;5;66;03m# `__tracebackhide__` tells pytest and some other tools to omit this function from tracebacks\u001b[39;00m\n\u001b[0;32m    213\u001b[0m __tracebackhide__ \u001b[38;5;241m=\u001b[39m \u001b[38;5;28;01mTrue\u001b[39;00m\n\u001b[1;32m--> 214\u001b[0m validated_self \u001b[38;5;241m=\u001b[39m \u001b[38;5;28;43mself\u001b[39;49m\u001b[38;5;241;43m.\u001b[39;49m\u001b[43m__pydantic_validator__\u001b[49m\u001b[38;5;241;43m.\u001b[39;49m\u001b[43mvalidate_python\u001b[49m\u001b[43m(\u001b[49m\u001b[43mdata\u001b[49m\u001b[43m,\u001b[49m\u001b[43m \u001b[49m\u001b[43mself_instance\u001b[49m\u001b[38;5;241;43m=\u001b[39;49m\u001b[38;5;28;43mself\u001b[39;49m\u001b[43m)\u001b[49m\n\u001b[0;32m    215\u001b[0m \u001b[38;5;28;01mif\u001b[39;00m \u001b[38;5;28mself\u001b[39m \u001b[38;5;129;01mis\u001b[39;00m \u001b[38;5;129;01mnot\u001b[39;00m validated_self:\n\u001b[0;32m    216\u001b[0m     warnings\u001b[38;5;241m.\u001b[39mwarn(\n\u001b[0;32m    217\u001b[0m         \u001b[38;5;124m'\u001b[39m\u001b[38;5;124mA custom validator is returning a value other than `self`.\u001b[39m\u001b[38;5;130;01m\\n\u001b[39;00m\u001b[38;5;124m'\u001b[39m\n\u001b[0;32m    218\u001b[0m         \u001b[38;5;124m\"\u001b[39m\u001b[38;5;124mReturning anything other than `self` from a top level model validator isn\u001b[39m\u001b[38;5;124m'\u001b[39m\u001b[38;5;124mt supported when validating via `__init__`.\u001b[39m\u001b[38;5;130;01m\\n\u001b[39;00m\u001b[38;5;124m\"\u001b[39m\n\u001b[0;32m    219\u001b[0m         \u001b[38;5;124m'\u001b[39m\u001b[38;5;124mSee the `model_validator` docs (https://docs.pydantic.dev/latest/concepts/validators/#model-validators) for more details.\u001b[39m\u001b[38;5;124m'\u001b[39m,\n\u001b[0;32m    220\u001b[0m         stacklevel\u001b[38;5;241m=\u001b[39m\u001b[38;5;241m2\u001b[39m,\n\u001b[0;32m    221\u001b[0m     )\n",
      "\u001b[1;31mValidationError\u001b[0m: 1 validation error for Usuario\nemail\n  Field required [type=missing, input_value={'id': 2, 'nombre': 'Ana'...: 'García', 'edad': 25}, input_type=dict]\n    For further information visit https://errors.pydantic.dev/2.10/v/missing"
     ]
    }
   ],
   "source": [
    "# Esto causará una ValidationError porque 'email' es requerido\n",
    "usuario_invalido = Usuario(\n",
    "    id=2,\n",
    "    nombre=\"Ana\",\n",
    "    apellido=\"García\",\n",
    "    edad=25\n",
    ")\n",
    "\n",
    "# ValidationError: 1 validation error for Usuario\n",
    "# email\n",
    "#...\n"
   ]
  },
  {
   "cell_type": "markdown",
   "metadata": {},
   "source": [
    "## 📌 Modelos Avanzados\n",
    "\n",
    "### Enumeraciones\n",
    "\n",
    "Las enumeraciones permiten limitar los valores posibles que puede tomar un campo, proporcionando validación adicional."
   ]
  },
  {
   "cell_type": "code",
   "execution_count": 8,
   "metadata": {},
   "outputs": [],
   "source": [
    "from enum import Enum\n",
    "\n",
    "class TipoUsuario(str, Enum):\n",
    "    ADMIN = \"admin\"\n",
    "    CLIENTE = \"cliente\"\n",
    "    INVITADO = \"invitado\"\n",
    "\n",
    "class EstadoPedido(str, Enum):\n",
    "    PENDIENTE = \"pendiente\"\n",
    "    EN_PROCESO = \"en_proceso\"\n",
    "    ENVIADO = \"enviado\"\n",
    "    ENTREGADO = \"entregado\"\n",
    "    CANCELADO = \"cancelado\""
   ]
  },
  {
   "cell_type": "code",
   "execution_count": 20,
   "metadata": {},
   "outputs": [
    {
     "name": "stdout",
     "output_type": "stream",
     "text": [
      "TipoUsuario.ADMIN\n",
      "TipoUsuario.CLIENTE\n"
     ]
    }
   ],
   "source": [
    "# Veamos como reacciona pydantic cuando se intenta asignar valores válidos y no validos\n",
    "usuario_tipo1 = TipoUsuario.ADMIN\n",
    "print(usuario_tipo1)\n",
    "\n",
    "usuario_tipo_2 = TipoUsuario(\"cliente\")\n",
    "print(usuario_tipo_2)\n",
    "\n",
    "# usuario_tipo_3 = TipoUsuario(\"otro\")  # ValueError: 'otro' is not a valid TipoUsuario"
   ]
  },
  {
   "cell_type": "markdown",
   "metadata": {},
   "source": [
    "### Campos Avanzados - Field Falidations\n",
    "\n",
    "Pydantic permite definir restricciones adicionales usando el parámetro Field:"
   ]
  },
  {
   "cell_type": "code",
   "execution_count": null,
   "metadata": {},
   "outputs": [],
   "source": [
    "# Creación de un modelo con Field\n",
    "from pydantic import BaseModel, Field\n",
    "from typing import Optional, Dict, Any\n",
    "from datetime import date\n",
    "from uuid import UUID, uuid4\n",
    "\n",
    "class UsuarioAvanzado(BaseModel):\n",
    "    id: UUID = Field(default_factory=uuid4)\n",
    "    nombre: str = Field(..., min_length=2, max_length=50)\n",
    "    email: str = Field(..., pattern=r\"^[a-zA-Z0-9_.+-]+@[a-zA-Z0-9-]+\\.[a-zA-Z0-9-.]+$\")\n",
    "    tipo: TipoUsuario = Field(default=TipoUsuario.CLIENTE)\n",
    "    fecha_nacimiento: Optional[date] = None\n",
    "    puntuacion: float = Field(default=0.0, ge=0.0, le=10.0)  # greater equal, less equal\n",
    "    preferencias: Dict[str, Any] = Field(default_factory=dict)"
   ]
  },
  {
   "cell_type": "markdown",
   "metadata": {},
   "source": [
    "Observa cómo podemos definir:\n",
    "- IDs automáticos usando UUID\n",
    "- Restricciones de longitud para strings\n",
    "- Validación de formato con expresiones regulares\n",
    "- Valores por defecto usando enumeraciones"
   ]
  },
  {
   "cell_type": "markdown",
   "metadata": {},
   "source": [
    "+ Desde Pydantic v2, la forma más moderna y recomendada de definir modelos es utilizando type hints directamente, sin necesidad de Field(...)\n",
    "    - cuando no es estrictamente necesario. \n",
    "+ También se usa Annotated de typing para agregar metadatos adicionales, como validaciones. (typing de Python), nativo en Python 3.9+.)"
   ]
  },
  {
   "cell_type": "code",
   "execution_count": 28,
   "metadata": {},
   "outputs": [],
   "source": [
    "from pydantic import BaseModel, EmailStr, UUID4, field_validator\n",
    "from typing import Annotated, Optional, Dict, Any\n",
    "from uuid import uuid4\n",
    "\n",
    "class UsuarioAvanzado(BaseModel):\n",
    "    id: UUID4 = uuid4()  # Se usa directamente el tipo de dato UUID4\n",
    "    nombre: Annotated[str, 2:50]  # Atajo para definir longitud mínima y máxima\n",
    "    email: EmailStr  # Usa el tipo especializado de Pydantic en lugar de un patrón regex\n",
    "    tipo: TipoUsuario = TipoUsuario.CLIENTE\n",
    "    fecha_nacimiento: Optional[date] = None\n",
    "    puntuacion: Annotated[float, 0.0:10.0]  # Define el rango con slice notation\n",
    "    preferencias: Dict[str, Any] = {}  # `default_factory=dict` ya no es necesario\n",
    "\n",
    "    @field_validator(\"nombre\")\n",
    "    def validar_nombre(v: str) -> str:\n",
    "        return v.strip().title()  # Normaliza el nombre"
   ]
  },
  {
   "cell_type": "markdown",
   "metadata": {},
   "source": [
    "Cambios Claves en Pydantic v2:\n",
    "+ Uso de Annotated: Permite definir validaciones como la longitud de cadenas o rangos numéricos de forma más concisa.\n",
    "+ EmailStr en lugar de Field(..., pattern=...): \n",
    "  + Pydantic tiene tipos especializados como EmailStr, UUID4, etc., que mejoran la validación sin expresiones regulares.\n",
    "+ Valores por defecto sin Field: Ahora, uuid4() y {} se pueden usar directamente sin default_factory.\n",
    "+ Validadores con @field_validator: Reemplaza @validator de Pydantic v1 y es más eficiente."
   ]
  },
  {
   "cell_type": "markdown",
   "metadata": {},
   "source": [
    "### Custom validations (Pydantic) + Propiedades Calculadas (Python)\n",
    "Podemos agregar propiedades calculadas a nuestros modelos que no forman parte de los datos a validar:"
   ]
  },
  {
   "cell_type": "code",
   "execution_count": 29,
   "metadata": {},
   "outputs": [],
   "source": [
    "@property\n",
    "def edad(self) -> Optional[int]:\n",
    "    if self.fecha_nacimiento:\n",
    "        hoy = date.today()\n",
    "        return hoy.year - self.fecha_nacimiento.year - ((hoy.month, hoy.day) < (self.fecha_nacimiento.month, self.fecha_nacimiento.day))\n",
    "    return None"
   ]
  },
  {
   "cell_type": "markdown",
   "metadata": {},
   "source": [
    "Estas propiedades se calculan dinámicamente y no se serializar por defecto. Sin embargo, podemos personalizar el método model_dump para incluirlas en la serialización:"
   ]
  },
  {
   "cell_type": "code",
   "execution_count": null,
   "metadata": {},
   "outputs": [],
   "source": [
    "def model_dump(self, **kwargs):\n",
    "    data = super().model_dump(**kwargs)\n",
    "    if self.edad is not None:\n",
    "        data[\"edad\"] = self.edad\n",
    "    return data"
   ]
  },
  {
   "cell_type": "markdown",
   "metadata": {},
   "source": [
    "### Herencia Simple\n",
    "La forma más básica de herencia permite que los modelos hijo hereden todos los campos y validadores del padre:\n",
    "```python\t\n",
    "class Producto(EntidadBase):\n",
    "    nombre: str\n",
    "    descripcion: Optional[str] = None\n",
    "    precio: float\n",
    "    # ... más campos y validadores específicos\n",
    "´´´\n",
    "El modelo Producto hereda todos los campos de EntidadBase y añade sus propios campos específicos."
   ]
  },
  {
   "cell_type": "markdown",
   "metadata": {},
   "source": [
    "\n",
    "### Herencia Múltiple\n",
    "Pydantic también permite la herencia múltiple, lo que significa que un modelo puede heredar de varios modelos padres:\n",
    "```python\n",
    "class ConDimensiones:\n",
    "    def calcular_volumen(self):\n",
    "        return self.alto * self.ancho * self.profundidad\n",
    "\n",
    "class ProductoFisico(Producto, ConDimensiones):\n",
    "    peso: float\n",
    "    alto: float\n",
    "    ancho: float\n",
    "    profundidad: float\n",
    "    # ... más campos y validadores específicos\n",
    "´´´\n",
    "En este caso, ProductoFisico hereda de Producto y ConDimensiones, lo que le permite acceder a los campos y métodos de ambos modelos."
   ]
  },
  {
   "cell_type": "markdown",
   "metadata": {},
   "source": [
    "### Herencia para Especialización\n",
    "Un caso de uso común es la especialización, donde creamos subtipos específicos de un modelo base:\n",
    "```python\t\n",
    "class ProductoDigital(Producto):\n",
    "    url_descarga: str\n",
    "    tamaño_archivo: float\n",
    "    formato: str\n",
    "\n",
    "class Suscripcion(Producto):\n",
    "    duracion_meses: int\n",
    "    renovacion_automatica: bool = False\n",
    "´´´\n",
    "En este caso, ProductoDigital y Suscripcion son subtipos de Producto, con campos y validadores específicos para cada tipo de producto.\n",
    "Estos modelos especializados heredan todos los campos y comportamientos del modelo base, pero añaden sus propios campos específicos."
   ]
  },
  {
   "cell_type": "markdown",
   "metadata": {},
   "source": [
    "## 📌 Composición vs Herencia\n",
    "\"A veces, la composición es mejor que la herencia para modelos flexibles:\"\n",
    "```python\n",
    "class Descuento(BaseModel):\n",
    "    porcentaje: float = Field(ge=0.0, le=100.0)\n",
    "    # ... lógica de descuento\n",
    "\n",
    "class ProductoConDescuento(BaseModel):\n",
    "    producto: Producto\n",
    "    descuento: Optional[Descuento] = None\n",
    "    # ... lógica de producto con descuento\n",
    "´´´\n",
    "En lugar de crear un ProductoConDescuento que hereda de Producto, usamos composición para mantener una separación clara de responsabilidades."
   ]
  },
  {
   "cell_type": "markdown",
   "metadata": {},
   "source": [
    "Autor: Daniel Christello. 2025."
   ]
  },
  {
   "cell_type": "markdown",
   "metadata": {},
   "source": [
    "________________________________________________________________________"
   ]
  }
 ],
 "metadata": {
  "kernelspec": {
   "display_name": ".venv",
   "language": "python",
   "name": "python3"
  },
  "language_info": {
   "codemirror_mode": {
    "name": "ipython",
    "version": 3
   },
   "file_extension": ".py",
   "mimetype": "text/x-python",
   "name": "python",
   "nbconvert_exporter": "python",
   "pygments_lexer": "ipython3",
   "version": "3.12.2"
  }
 },
 "nbformat": 4,
 "nbformat_minor": 2
}
