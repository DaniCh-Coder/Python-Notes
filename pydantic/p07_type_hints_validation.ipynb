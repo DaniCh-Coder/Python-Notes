{
 "cells": [
  {
   "cell_type": "markdown",
   "metadata": {},
   "source": [
    "# Pydantic - Type hints powering schema validaton\n",
    "## Tipos, consejos y sugerencias\n",
    "###### https://docs.pydantic.dev/latest/\n",
    "### Why use pydantic\n",
    "Pydantic is the most widely used data validation library for Python.\n",
    "- It's hard to know why so many people have adopted Pydantic since its inception six years ago, but here are a few guesses.\n"
   ]
  },
  {
   "cell_type": "code",
   "execution_count": 1,
   "metadata": {},
   "outputs": [],
   "source": [
    "# Si pydantic no está instalado ejecuta la proxima línea quitándole la marca de comentario\n",
    "# pip install pydantic"
   ]
  },
  {
   "cell_type": "markdown",
   "metadata": {},
   "source": [
    "####  📌 Introducción: Tipos de datos en python\n",
    "+ Una de las características que tiene python en su forma nativa y sin librerías de validación de por medio es que es un lenguale de tipo de datos dinámico.\n",
    "  - Esto significa que cuando un utiliza una variable, no es necesario declarar previamente su tipo.\n",
    "  - En cambio, en otros programas como en C o C++, por ejemplo, primero es peciso declarar su tipo, antes de empezar a usar una variable."
   ]
  },
  {
   "cell_type": "code",
   "execution_count": 2,
   "metadata": {},
   "outputs": [
    {
     "data": {
      "text/plain": [
       "int"
      ]
     },
     "execution_count": 2,
     "metadata": {},
     "output_type": "execute_result"
    }
   ],
   "source": [
    "x = 10 # utilizo x como variable y le asigno un valor sin previamente declarar su tipo\n",
    "type(x)"
   ]
  },
  {
   "cell_type": "markdown",
   "metadata": {},
   "source": [
    "\n",
    "Inclusive en python se puede sobre la marcha sobreescribir una variable y también el tipo de la misma.\n"
   ]
  },
  {
   "cell_type": "code",
   "execution_count": 3,
   "metadata": {},
   "outputs": [
    {
     "data": {
      "text/plain": [
       "str"
      ]
     },
     "execution_count": 3,
     "metadata": {},
     "output_type": "execute_result"
    }
   ],
   "source": [
    "x = \"Hola\"\n",
    "type(x)"
   ]
  },
  {
   "cell_type": "markdown",
   "metadata": {},
   "source": [
    "####  📌 Type hints powering schema validation\n",
    "The schema that Pydantic validates against is generally defined by Python type hints.\n",
    "- Type hints are great for this since, if you're writing modern Python, you already know how to use them. \n",
    "- Using type hints also means that Pydantic integrates well with static typing tools (like mypy and Pyright) and IDEs (like PyCharm and VSCode).\n",
    "######  https://docs.python.org/3/glossary.html#term-type-hint"
   ]
  },
  {
   "cell_type": "markdown",
   "metadata": {},
   "source": [
    "##### Validación\n",
    "Pydantic agrega a python, distintos tipos y validaciones que son extremadamente útiles para una diversidad de aplicaciones.\n",
    "######  https://docs.pydantic.dev/latest/concepts/validators/#model-val\n",
    "Esto hace que además ofrezca ayuda en la creación de esquemas de datos en forma de clases, proponiendo tipos en función de la escritura.\n",
    "+ Primero veamos la validación. En el siguiente cógigo:\n",
    "  - Pasemos el cursor por los distintos tipos y veamos de que se trata.\n",
    "  - Luego hagamos un ejercicio de validaciones introduciendo en el código algún error."
   ]
  },
  {
   "cell_type": "code",
   "execution_count": 4,
   "metadata": {},
   "outputs": [
    {
     "name": "stdout",
     "output_type": "stream",
     "text": [
      "name='Apple' color='red' weight=4.2 bazam={'foobar': [(2, True, 0.1)]}\n"
     ]
    }
   ],
   "source": [
    "from typing import Annotated, Literal\n",
    "from pydantic import BaseModel, Field\n",
    "\n",
    "\n",
    "class Fruit(BaseModel):\n",
    "    name: str  \n",
    "    color: Literal['red', 'green']  \n",
    "    weight: Annotated[float, Field(gt=0)]  \n",
    "    bazam: dict[str, list[tuple[int, bool, float]]]  \n",
    "\n",
    "\n",
    "print(\n",
    "    Fruit(\n",
    "        name='Apple',\n",
    "        color='red',\n",
    "        weight=4.2,\n",
    "        bazam={'foobar': [(2, True, 0.1)]},\n",
    "    )\n",
    ")\n",
    "#> name='Apple' color='red' weight=4.2 bazam={'foobar': [(1, True, 0.1)]}\n"
   ]
  },
  {
   "cell_type": "markdown",
   "metadata": {},
   "source": [
    "Validation exercise: Take a look what happend if you make a mistake with some data.\n",
    "+ For instance:\n",
    "  +  change the int number 1 in tuple and replace it with \"hola\" (see the error message)\n",
    "  +  change the number 4.2 and replace it with \"hola\" (see the error message)\n",
    "    + ValidationError: 1 validation error for Fruit. weight. \n",
    "      + Input should be greater than 0 [type=greater_than, input_value=-4.2, input_type=float]\n",
    "      + For further information visit https://errors.pydantic.dev/2.10/v/greater_than\n",
    "\n",
    "Prueba de validacón: Observemos que sucede si se comete algun error.\n",
    "+ Cambie algún dato correctamente cargado por algún error forzado."
   ]
  },
  {
   "cell_type": "markdown",
   "metadata": {},
   "source": [
    "Veamos los hints al momento de usar el objeto que hemos creado.\n",
    "Por ejemplo al escribir Fruit. (en especial el punto \".\")."
   ]
  },
  {
   "cell_type": "code",
   "execution_count": 5,
   "metadata": {},
   "outputs": [
    {
     "data": {
      "text/plain": [
       "'banana'"
      ]
     },
     "execution_count": 5,
     "metadata": {},
     "output_type": "execute_result"
    }
   ],
   "source": [
    "# Crear una instancia fruta de Fruit cuyo nombre sea 'banana'\n",
    "fruta = Fruit\n",
    "fruta.name = 'banana'\n",
    "fruta.name"
   ]
  },
  {
   "cell_type": "markdown",
   "metadata": {},
   "source": [
    "####  📌 Consejos y sugerencias (hints)\n",
    "Los distintos tipos de pydantic y sus validaciones están tan prolijamente escritos que brindan mucha ayuda para codificar\n",
    "Para notar esto, empecemos por escribir nuevamente un esquema de clase similar al anterior.\n",
    "Por ejemplo tomemos una clase destinada a definir el esquema de datos de bebidas.\n",
    "``` python\n",
    "from pydantic import field_validator\n",
    "from typing import Dict\n",
    "\n",
    "\n",
    "class Bebida(BaseModel):\n",
    "    nombre: str = Field(..., min_lengh=3, max_length=50, description=\"Nombre de la bebida\")\n",
    "    color: str = Field(..., description=\"Color de la bebida\")\n",
    "    volumen_litros: float = Field(..., gt=0, lt=2, description=\"Volumen en litros, debe ser mayor a 0\")\n",
    "    envase: Literal[\"vidrio\",\"plastico\", \"lata\", \"carton\"] = Field(..., description=\"Tipo de envase permitido.\")\n",
    "    formula: Dict[str, float] =Field(..., description=\"Composición de la bebida con cantidades en gramos o mililitros\")\n",
    "    \n",
    "@field_validator(\"formula\")\n",
    "def validar_formula(cantindad, formula):\n",
    "    if not formula:\n",
    "        raise ValueError(\"La fórmula no puede estar vacía.\")\n",
    "    if any(cantidad <= 0 for cantidad in formula.values()):\n",
    "        raise ValueError(\"Todas las cantidades de los componentes deben ser  mayores a 0\")\n",
    "\n",
    "# Ejemplo de uso\n",
    "bebida = Bebida(\n",
    "    nombre=\"Jugo de Naranja\",\n",
    "    color = \"Naranja\",\n",
    "    volumen_litros= 1.5,\n",
    "    envase = \"plastico\",\n",
    "    formula = {\"azucar\":10, \"fruta\": 200, \"agua\": 1290}\n",
    ")\n",
    "\n",
    "\n",
    "print(bebida)\n",
    "```\n",
    "Escribamos la definicion de la clase y observemos que sucede con la ayuda y los consejos, mientras escribimos."
   ]
  },
  {
   "cell_type": "code",
   "execution_count": 6,
   "metadata": {},
   "outputs": [
    {
     "name": "stdout",
     "output_type": "stream",
     "text": [
      "nombre='Jugo de Naranja' color='Naranja' volumen_litros=1.5 envase='plastico' formula={'azucar': 10.0, 'fruta': 200.0, 'agua': 1290.0}\n"
     ]
    }
   ],
   "source": [
    "from pydantic import field_validator\n",
    "from typing import Dict\n",
    "\n",
    "\n",
    "class Bebida(BaseModel):\n",
    "    nombre: str = Field(..., min_lengh=3, max_length=50, description=\"Nombre de la bebida\")\n",
    "    color: str = Field(..., description=\"Color de la bebida\")\n",
    "    volumen_litros: float = Field(..., gt=0, lt=2, description=\"Volumen en litros, debe ser mayor a 0\")\n",
    "    envase: Literal[\"vidrio\",\"plastico\", \"lata\", \"carton\"] = Field(..., description=\"Tipo de envase permitido.\")\n",
    "    formula: Dict[str, float] =Field(..., description=\"Composición de la bebida con cantidades en gramos o mililitros\")\n",
    "    \n",
    "@field_validator(\"formula\")\n",
    "def validar_formula(cantindad, formula):\n",
    "    if not formula:\n",
    "        raise ValueError(\"La fórmula no puede estar vacía.\")\n",
    "    if any(cantidad <= 0 for cantidad in formula.values()):\n",
    "        raise ValueError(\"Todas las cantidades de los componentes deben ser  mayores a 0\")\n",
    "\n",
    "# Ejemplo de uso\n",
    "bebida = Bebida(\n",
    "    nombre=\"Jugo de Naranja\",\n",
    "    color = \"Naranja\",\n",
    "    volumen_litros= 1.5,\n",
    "    envase = \"plastico\",\n",
    "    formula = {\"azucar\":10, \"fruta\": 200, \"agua\": 1290}\n",
    ")\n",
    "\n",
    "\n",
    "print(bebida)"
   ]
  },
  {
   "cell_type": "markdown",
   "metadata": {},
   "source": [
    "Author: Daniel Christello\n",
    "2025\n",
    "___________________________________________________________________________________________________________________________________________________________________________"
   ]
  }
 ],
 "metadata": {
  "kernelspec": {
   "display_name": "Python 3",
   "language": "python",
   "name": "python3"
  },
  "language_info": {
   "codemirror_mode": {
    "name": "ipython",
    "version": 3
   },
   "file_extension": ".py",
   "mimetype": "text/x-python",
   "name": "python",
   "nbconvert_exporter": "python",
   "pygments_lexer": "ipython3",
   "version": "3.12.2"
  }
 },
 "nbformat": 4,
 "nbformat_minor": 2
}
