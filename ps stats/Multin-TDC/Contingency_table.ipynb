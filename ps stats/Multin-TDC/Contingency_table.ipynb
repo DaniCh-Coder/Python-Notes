{
 "cells": [
  {
   "cell_type": "markdown",
   "metadata": {},
   "source": [
    "# Tablas de contingentia"
   ]
  },
  {
   "cell_type": "markdown",
   "metadata": {},
   "source": [
    "+ Un investigador desea estudiar si existe una relación significativa entre el sexo de las personas y su preferencia por dos deportes populares: fútbol y baloncesto. Para ello, selecciona una muestra de 100 personas, donde se registra el sexo (masculino o femenino) y la preferencia deportiva de cada individuo (fútbol o baloncesto).\n",
    "\n",
    "+ Los datos recogidos se organizan en una tabla de contingencia, y el investigador realiza una prueba de independencia Chi-cuadrado para evaluar si la preferencia deportiva depende del sexo o si ambas variables son independientes.\n",
    "\n",
    "+ Con base en los resultados de la prueba Chi-cuadrado, el investigador debe concluir si existe una asociación significativa entre el sexo y la preferencia por fútbol o baloncesto en la muestra analizada.\n",
    "\n",
    "+ Pregunta principal: ¿Existe una relación significativa entre el sexo y la preferencia por un deporte en esta población?"
   ]
  },
  {
   "cell_type": "code",
   "execution_count": 4,
   "metadata": {},
   "outputs": [],
   "source": [
    "# Importar las librerías necesarias\n",
    "import pandas as pd\n",
    "import numpy as np\n",
    "import seaborn as sns\n",
    "import matplotlib.pyplot as plt\n",
    "from scipy.stats import chi2_contingency"
   ]
  },
  {
   "cell_type": "code",
   "execution_count": 5,
   "metadata": {},
   "outputs": [
    {
     "data": {
      "text/html": [
       "<div>\n",
       "<style scoped>\n",
       "    .dataframe tbody tr th:only-of-type {\n",
       "        vertical-align: middle;\n",
       "    }\n",
       "\n",
       "    .dataframe tbody tr th {\n",
       "        vertical-align: top;\n",
       "    }\n",
       "\n",
       "    .dataframe thead th {\n",
       "        text-align: right;\n",
       "    }\n",
       "</style>\n",
       "<table border=\"1\" class=\"dataframe\">\n",
       "  <thead>\n",
       "    <tr style=\"text-align: right;\">\n",
       "      <th></th>\n",
       "      <th>Sexo</th>\n",
       "      <th>Deporte</th>\n",
       "    </tr>\n",
       "  </thead>\n",
       "  <tbody>\n",
       "    <tr>\n",
       "      <th>0</th>\n",
       "      <td>Masculino</td>\n",
       "      <td>Fútbol</td>\n",
       "    </tr>\n",
       "    <tr>\n",
       "      <th>1</th>\n",
       "      <td>Masculino</td>\n",
       "      <td>Fútbol</td>\n",
       "    </tr>\n",
       "    <tr>\n",
       "      <th>2</th>\n",
       "      <td>Masculino</td>\n",
       "      <td>Fútbol</td>\n",
       "    </tr>\n",
       "    <tr>\n",
       "      <th>3</th>\n",
       "      <td>Masculino</td>\n",
       "      <td>Fútbol</td>\n",
       "    </tr>\n",
       "    <tr>\n",
       "      <th>4</th>\n",
       "      <td>Masculino</td>\n",
       "      <td>Fútbol</td>\n",
       "    </tr>\n",
       "    <tr>\n",
       "      <th>...</th>\n",
       "      <td>...</td>\n",
       "      <td>...</td>\n",
       "    </tr>\n",
       "    <tr>\n",
       "      <th>95</th>\n",
       "      <td>Femenino</td>\n",
       "      <td>Baloncesto</td>\n",
       "    </tr>\n",
       "    <tr>\n",
       "      <th>96</th>\n",
       "      <td>Femenino</td>\n",
       "      <td>Baloncesto</td>\n",
       "    </tr>\n",
       "    <tr>\n",
       "      <th>97</th>\n",
       "      <td>Femenino</td>\n",
       "      <td>Baloncesto</td>\n",
       "    </tr>\n",
       "    <tr>\n",
       "      <th>98</th>\n",
       "      <td>Femenino</td>\n",
       "      <td>Baloncesto</td>\n",
       "    </tr>\n",
       "    <tr>\n",
       "      <th>99</th>\n",
       "      <td>Femenino</td>\n",
       "      <td>Baloncesto</td>\n",
       "    </tr>\n",
       "  </tbody>\n",
       "</table>\n",
       "<p>100 rows × 2 columns</p>\n",
       "</div>"
      ],
      "text/plain": [
       "         Sexo     Deporte\n",
       "0   Masculino      Fútbol\n",
       "1   Masculino      Fútbol\n",
       "2   Masculino      Fútbol\n",
       "3   Masculino      Fútbol\n",
       "4   Masculino      Fútbol\n",
       "..        ...         ...\n",
       "95   Femenino  Baloncesto\n",
       "96   Femenino  Baloncesto\n",
       "97   Femenino  Baloncesto\n",
       "98   Femenino  Baloncesto\n",
       "99   Femenino  Baloncesto\n",
       "\n",
       "[100 rows x 2 columns]"
      ]
     },
     "execution_count": 5,
     "metadata": {},
     "output_type": "execute_result"
    }
   ],
   "source": [
    "# Crear los datos de ejemplo (sexo y preferencia deportiva)\n",
    "data = {\n",
    "    'Sexo': ['Masculino'] * 30 + ['Masculino'] * 10 + ['Femenino'] * 20 + ['Femenino'] * 40,\n",
    "    'Deporte': ['Fútbol'] * 30 + ['Baloncesto'] * 10 + ['Fútbol'] * 20 + ['Baloncesto'] * 40\n",
    "}\n",
    "\n",
    "# Crear un DataFrame con los datos\n",
    "df = pd.DataFrame(data)\n",
    "df"
   ]
  },
  {
   "cell_type": "code",
   "execution_count": 6,
   "metadata": {},
   "outputs": [
    {
     "data": {
      "text/html": [
       "<div>\n",
       "<style scoped>\n",
       "    .dataframe tbody tr th:only-of-type {\n",
       "        vertical-align: middle;\n",
       "    }\n",
       "\n",
       "    .dataframe tbody tr th {\n",
       "        vertical-align: top;\n",
       "    }\n",
       "\n",
       "    .dataframe thead th {\n",
       "        text-align: right;\n",
       "    }\n",
       "</style>\n",
       "<table border=\"1\" class=\"dataframe\">\n",
       "  <thead>\n",
       "    <tr style=\"text-align: right;\">\n",
       "      <th>Deporte</th>\n",
       "      <th>Baloncesto</th>\n",
       "      <th>Fútbol</th>\n",
       "    </tr>\n",
       "    <tr>\n",
       "      <th>Sexo</th>\n",
       "      <th></th>\n",
       "      <th></th>\n",
       "    </tr>\n",
       "  </thead>\n",
       "  <tbody>\n",
       "    <tr>\n",
       "      <th>Femenino</th>\n",
       "      <td>40</td>\n",
       "      <td>20</td>\n",
       "    </tr>\n",
       "    <tr>\n",
       "      <th>Masculino</th>\n",
       "      <td>10</td>\n",
       "      <td>30</td>\n",
       "    </tr>\n",
       "  </tbody>\n",
       "</table>\n",
       "</div>"
      ],
      "text/plain": [
       "Deporte    Baloncesto  Fútbol\n",
       "Sexo                         \n",
       "Femenino           40      20\n",
       "Masculino          10      30"
      ]
     },
     "execution_count": 6,
     "metadata": {},
     "output_type": "execute_result"
    }
   ],
   "source": [
    "\n",
    "# Crear la tabla de contingencia\n",
    "tabla_contingencia = pd.crosstab(df['Sexo'], df['Deporte'])\n",
    "tabla_contingencia"
   ]
  },
  {
   "cell_type": "code",
   "execution_count": 7,
   "metadata": {},
   "outputs": [
    {
     "name": "stdout",
     "output_type": "stream",
     "text": [
      "\n",
      "Resultados de la prueba Chi-cuadrado:\n",
      "Chi-cuadrado: 15.041666666666668\n",
      "P-valor: 0.00010516355403363114\n",
      "Grados de libertad: 1\n",
      "Frecuencias esperadas:\n",
      " [[30. 30.]\n",
      " [20. 20.]]\n"
     ]
    },
    {
     "data": {
      "image/png": "[encoded data removed]",
      "text/plain": [
       "<Figure size 800x600 with 2 Axes>"
      ]
     },
     "metadata": {},
     "output_type": "display_data"
    }
   ],
   "source": [
    "# Realizar la prueba de Chi-cuadrado\n",
    "chi2, p, dof, expected = chi2_contingency(tabla_contingencia)\n",
    "\n",
    "# Mostrar los resultados de la prueba Chi-cuadrado\n",
    "print(\"\\nResultados de la prueba Chi-cuadrado:\")\n",
    "print(f\"Chi-cuadrado: {chi2}\")\n",
    "print(f\"P-valor: {p}\")\n",
    "print(f\"Grados de libertad: {dof}\")\n",
    "print(f\"Frecuencias esperadas:\\n {expected}\")\n",
    "\n",
    "# Crear un gráfico de mapa de calor para visualizar la tabla de contingencia\n",
    "plt.figure(figsize=(8, 6))\n",
    "sns.heatmap(tabla_contingencia, annot=True, cmap=\"Blues\", fmt=\"d\")\n",
    "plt.title(\"Tabla de Contingencia: Sexo vs Deporte\")\n",
    "plt.ylabel(\"Sexo\")\n",
    "plt.xlabel(\"Deporte\")\n",
    "plt.show()"
   ]
  },
  {
   "cell_type": "markdown",
   "metadata": {},
   "source": [
    "**Interpretación**\n",
    "1. Tabla de contingencia:\n",
    "+ La tabla de contingencia refleja la distribución de la muestra de 100 personas con respecto a las dos variables categóricas:\n",
    "    +  **sexo** y **preferencia deportiva** (fútbol o baloncesto).\n",
    "+ Los datos observados muestran que:\n",
    "    + **30 hombres** prefieren fútbol y **10 hombres** prefieren baloncesto.\n",
    "    + **20 mujeres** prefieren fútbol y **40 mujeres** prefieren baloncesto.\n",
    "+ Esto sugiere inicialmente que más hombres prefieren fútbol y más mujeres prefieren baloncesto, pero necesitamos una prueba estadística para evaluar si esta diferencia es significativa.\n",
    "\n",
    "2. Prueba Chi-cuadrado:\n",
    "+ El **valor de Chi-cuadrado** calculado es **15.04**, lo que indica la magnitud de la desviación entre las frecuencias observadas y las esperadas bajo la hipótesis nula de independencia.\n",
    "    + El **p-valor** resultante es **0.0001**, mucho menor que el umbral común de significancia de 0.05. \n",
    "        + Esto nos permite **rechazar la hipótesis nula**, que establece que no existe relación entre el sexo y la preferencia deportiva.\n",
    "        + Los **grados de libertad** son 1, ya que cada variable tiene 2 niveles. \n",
    "    + Las **frecuencias esperadas** asumen que no hay relación entre las variables:\n",
    "    + Para las mujeres, se esperarían 30 personas en cada categoría (fútbol y baloncesto).\n",
    "    + Para los hombres, se esperarían también 20 personas en cada categoría. \n",
    "+   Sin embargo, las frecuencias observadas difieren notablemente de las esperadas, lo que sugiere una **asociación significativa** entre el sexo y la preferencia deportiva.\n",
    "\n",
    "3. Mapa de calor:\n",
    "+ El gráfico muestra de manera visual las frecuencias observadas para cada combinación de sexo y preferencia deportiva.\n",
    "+ Los valores en cada celda corresponden a las frecuencias absolutas: el número de personas en cada categoría.\n",
    "+ El color azul más oscuro indica frecuencias más altas. \n",
    "    + En este caso, las **mujeres que prefieren baloncesto** (40) es el grupo más numeroso, seguido de los **hombres que prefieren fútbol** (30).\n",
    "+ La diferencia visual es evidente: hay una clara tendencia de **los hombres hacia el fútbol** y **las mujeres hacia el baloncesto**, \n",
    "    + lo que refuerza la interpretación de los resultados de la prueba estadística.\n",
    "\n",
    "**Resumen:**\n",
    "+ La prueba Chi-cuadrado y el mapa de calor nos permiten concluir que **existe una relación significativa entre el sexo y la preferencia por deportes** en esta muestra. \n",
    "+ En términos más simples, las preferencias deportivas no son independientes del sexo: \n",
    "    + los hombres tienden a preferir el fútbol, mientras que las mujeres muestran una mayor preferencia por el baloncesto."
   ]
  },
  {
   "cell_type": "markdown",
   "metadata": {},
   "source": [
    "__________________________________________________________________________________________________________________________________________"
   ]
  },
  {
   "cell_type": "markdown",
   "metadata": {},
   "source": []
  }
 ],
 "metadata": {
  "kernelspec": {
   "display_name": "Python 3",
   "language": "python",
   "name": "python3"
  },
  "language_info": {
   "codemirror_mode": {
    "name": "ipython",
    "version": 3
   },
   "file_extension": ".py",
   "mimetype": "text/x-python",
   "name": "python",
   "nbconvert_exporter": "python",
   "pygments_lexer": "ipython3",
   "version": "3.12.2"
  }
 },
 "nbformat": 4,
 "nbformat_minor": 2
}
