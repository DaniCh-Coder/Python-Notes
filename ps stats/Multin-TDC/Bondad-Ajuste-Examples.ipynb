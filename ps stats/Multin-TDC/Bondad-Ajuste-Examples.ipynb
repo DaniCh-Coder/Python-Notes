{
 "cells": [
  {
   "cell_type": "markdown",
   "metadata": {},
   "source": [
    "# Bondad de Ajuste"
   ]
  },
  {
   "cell_type": "markdown",
   "metadata": {},
   "source": [
    "## Ejemplo Dado balanceado correctamente\n",
    "+ Se tienen los resultados de lanzar un dado y se quiere verificar si el dado es justo \n",
    "    + (es decir, si las probabilidades de obtener cualquier número del 1 al 6 son iguales). Una prueba de bondad de ajuste (como Chi-cuadrado) \n",
    "    + permite comparar las frecuencias observadas de cada número con las frecuencias esperadas bajo la hipótesis de un dado justo. \n",
    "+ En este ejemplo las frecuencias observadas y eséradas al lanzar un dado 60 veces son:\n",
    "    + Observado=[8,12,10,15,9,6]\n",
    "    + Esperado=[10,10,10,10,10,10]"
   ]
  },
  {
   "cell_type": "code",
   "execution_count": 1,
   "metadata": {},
   "outputs": [
    {
     "name": "stdout",
     "output_type": "stream",
     "text": [
      "Estadístico Chi-cuadrado: 5.0000\n",
      "Valor p: 0.4159\n",
      "No se rechaza la hipótesis nula: el dado parece ser justo.\n"
     ]
    }
   ],
   "source": [
    "import scipy.stats as stats\n",
    "\n",
    "# Frecuencias observadas (resultados de lanzar un dado 60 veces)\n",
    "observed = [8, 12, 10, 15, 9, 6]\n",
    "\n",
    "# Frecuencias esperadas (si el dado es justo)\n",
    "expected = [10, 10, 10, 10, 10, 10]\n",
    "\n",
    "# Realizar la prueba de Chi-cuadrado de bondad de ajuste\n",
    "chi2_stat, p_value = stats.chisquare(f_obs=observed, f_exp=expected)\n",
    "\n",
    "# Mostrar los resultados\n",
    "print(f\"Estadístico Chi-cuadrado: {chi2_stat:.4f}\")\n",
    "print(f\"Valor p: {p_value:.4f}\")\n",
    "\n",
    "# Interpretación\n",
    "if p_value > 0.05:\n",
    "    print(\"No se rechaza la hipótesis nula: el dado parece ser justo.\")\n",
    "else:\n",
    "    print(\"Se rechaza la hipótesis nula: el dado no es justo.\")\n"
   ]
  },
  {
   "cell_type": "markdown",
   "metadata": {},
   "source": [
    "____________________________________________________________________________________________________________________________________________"
   ]
  }
 ],
 "metadata": {
  "kernelspec": {
   "display_name": "Python 3",
   "language": "python",
   "name": "python3"
  },
  "language_info": {
   "codemirror_mode": {
    "name": "ipython",
    "version": 3
   },
   "file_extension": ".py",
   "mimetype": "text/x-python",
   "name": "python",
   "nbconvert_exporter": "python",
   "pygments_lexer": "ipython3",
   "version": "3.12.2"
  }
 },
 "nbformat": 4,
 "nbformat_minor": 2
}
