{
 "cells": [
  {
   "cell_type": "markdown",
   "metadata": {},
   "source": [
    "# Distribución Binomial"
   ]
  },
  {
   "cell_type": "code",
   "execution_count": 18,
   "metadata": {},
   "outputs": [],
   "source": [
    "import math\n",
    "import pandas as pd\n",
    "import numpy as np  # generación aleatoria de numeros\n",
    "from scipy.stats import binom\n",
    "import matplotlib.pyplot as plt # generación de gráficos"
   ]
  },
  {
   "cell_type": "markdown",
   "metadata": {},
   "source": [
    "### Generación de muestras\n",
    "Generamos 1000 muestras de una distribució binomial con 10 ensayos y una probabilidad de éxito de 0,5 en cada ensayo"
   ]
  },
  {
   "cell_type": "code",
   "execution_count": 19,
   "metadata": {},
   "outputs": [
    {
     "data": {
      "text/html": [
       "<div>\n",
       "<style scoped>\n",
       "    .dataframe tbody tr th:only-of-type {\n",
       "        vertical-align: middle;\n",
       "    }\n",
       "\n",
       "    .dataframe tbody tr th {\n",
       "        vertical-align: top;\n",
       "    }\n",
       "\n",
       "    .dataframe thead th {\n",
       "        text-align: right;\n",
       "    }\n",
       "</style>\n",
       "<table border=\"1\" class=\"dataframe\">\n",
       "  <thead>\n",
       "    <tr style=\"text-align: right;\">\n",
       "      <th></th>\n",
       "      <th>Samples</th>\n",
       "    </tr>\n",
       "  </thead>\n",
       "  <tbody>\n",
       "    <tr>\n",
       "      <th>0</th>\n",
       "      <td>7</td>\n",
       "    </tr>\n",
       "    <tr>\n",
       "      <th>1</th>\n",
       "      <td>7</td>\n",
       "    </tr>\n",
       "    <tr>\n",
       "      <th>2</th>\n",
       "      <td>3</td>\n",
       "    </tr>\n",
       "    <tr>\n",
       "      <th>3</th>\n",
       "      <td>4</td>\n",
       "    </tr>\n",
       "    <tr>\n",
       "      <th>4</th>\n",
       "      <td>6</td>\n",
       "    </tr>\n",
       "    <tr>\n",
       "      <th>...</th>\n",
       "      <td>...</td>\n",
       "    </tr>\n",
       "    <tr>\n",
       "      <th>995</th>\n",
       "      <td>5</td>\n",
       "    </tr>\n",
       "    <tr>\n",
       "      <th>996</th>\n",
       "      <td>4</td>\n",
       "    </tr>\n",
       "    <tr>\n",
       "      <th>997</th>\n",
       "      <td>5</td>\n",
       "    </tr>\n",
       "    <tr>\n",
       "      <th>998</th>\n",
       "      <td>5</td>\n",
       "    </tr>\n",
       "    <tr>\n",
       "      <th>999</th>\n",
       "      <td>6</td>\n",
       "    </tr>\n",
       "  </tbody>\n",
       "</table>\n",
       "<p>1000 rows × 1 columns</p>\n",
       "</div>"
      ],
      "text/plain": [
       "     Samples\n",
       "0          7\n",
       "1          7\n",
       "2          3\n",
       "3          4\n",
       "4          6\n",
       "..       ...\n",
       "995        5\n",
       "996        4\n",
       "997        5\n",
       "998        5\n",
       "999        6\n",
       "\n",
       "[1000 rows x 1 columns]"
      ]
     },
     "execution_count": 19,
     "metadata": {},
     "output_type": "execute_result"
    }
   ],
   "source": [
    "# Generación de muestras con distribución binomial\n",
    "# Parámetros:\n",
    "n = 10    # Número de ensayos\n",
    "p = 0.5   # Probabilidad de éxito en cada ensayo\n",
    "size = 1000  # Número de simulaciones\n",
    "# cada muestra (size = 1000) es un experimento de (n=10) ensayos\n",
    "# cada ensayo tiene una probabilidad d 0.5 de éxito\n",
    "\n",
    "# Simulación\n",
    "binomial_samples = np.random.binomial(n, p, size)\n",
    "\n",
    "# Crear el DataFrame inicial con las muestras\n",
    "df = pd.DataFrame(binomial_samples, columns=['Samples'])\n",
    "df"
   ]
  },
  {
   "cell_type": "code",
   "execution_count": 20,
   "metadata": {},
   "outputs": [],
   "source": [
    "# Calcular la frecuencia de cada valor (cada valor está entre 0 y 10)\n",
    "frequency = df.Samples.value_counts().sort_index()"
   ]
  },
  {
   "cell_type": "code",
   "execution_count": 21,
   "metadata": {},
   "outputs": [],
   "source": [
    "# Calcular las probabilidades teóricas ()\n",
    "probabilities = [binom.pmf(k, n, p) for k in range(n + 1)]"
   ]
  },
  {
   "cell_type": "code",
   "execution_count": 22,
   "metadata": {},
   "outputs": [
    {
     "data": {
      "text/html": [
       "<div>\n",
       "<style scoped>\n",
       "    .dataframe tbody tr th:only-of-type {\n",
       "        vertical-align: middle;\n",
       "    }\n",
       "\n",
       "    .dataframe tbody tr th {\n",
       "        vertical-align: top;\n",
       "    }\n",
       "\n",
       "    .dataframe thead th {\n",
       "        text-align: right;\n",
       "    }\n",
       "</style>\n",
       "<table border=\"1\" class=\"dataframe\">\n",
       "  <thead>\n",
       "    <tr style=\"text-align: right;\">\n",
       "      <th></th>\n",
       "      <th>Sample</th>\n",
       "      <th>Frequency</th>\n",
       "      <th>RelativeFrequency</th>\n",
       "      <th>Probability</th>\n",
       "      <th>x*f</th>\n",
       "      <th>x*rf</th>\n",
       "      <th>x*p</th>\n",
       "    </tr>\n",
       "  </thead>\n",
       "  <tbody>\n",
       "    <tr>\n",
       "      <th>0</th>\n",
       "      <td>0</td>\n",
       "      <td>1</td>\n",
       "      <td>0.001</td>\n",
       "      <td>0.000977</td>\n",
       "      <td>0</td>\n",
       "      <td>0.000</td>\n",
       "      <td>0.000000</td>\n",
       "    </tr>\n",
       "    <tr>\n",
       "      <th>1</th>\n",
       "      <td>1</td>\n",
       "      <td>8</td>\n",
       "      <td>0.008</td>\n",
       "      <td>0.009766</td>\n",
       "      <td>8</td>\n",
       "      <td>0.008</td>\n",
       "      <td>0.009766</td>\n",
       "    </tr>\n",
       "    <tr>\n",
       "      <th>2</th>\n",
       "      <td>2</td>\n",
       "      <td>41</td>\n",
       "      <td>0.041</td>\n",
       "      <td>0.043945</td>\n",
       "      <td>82</td>\n",
       "      <td>0.082</td>\n",
       "      <td>0.087891</td>\n",
       "    </tr>\n",
       "    <tr>\n",
       "      <th>3</th>\n",
       "      <td>3</td>\n",
       "      <td>114</td>\n",
       "      <td>0.114</td>\n",
       "      <td>0.117187</td>\n",
       "      <td>342</td>\n",
       "      <td>0.342</td>\n",
       "      <td>0.351562</td>\n",
       "    </tr>\n",
       "    <tr>\n",
       "      <th>4</th>\n",
       "      <td>4</td>\n",
       "      <td>209</td>\n",
       "      <td>0.209</td>\n",
       "      <td>0.205078</td>\n",
       "      <td>836</td>\n",
       "      <td>0.836</td>\n",
       "      <td>0.820312</td>\n",
       "    </tr>\n",
       "    <tr>\n",
       "      <th>5</th>\n",
       "      <td>5</td>\n",
       "      <td>253</td>\n",
       "      <td>0.253</td>\n",
       "      <td>0.246094</td>\n",
       "      <td>1265</td>\n",
       "      <td>1.265</td>\n",
       "      <td>1.230469</td>\n",
       "    </tr>\n",
       "    <tr>\n",
       "      <th>6</th>\n",
       "      <td>6</td>\n",
       "      <td>201</td>\n",
       "      <td>0.201</td>\n",
       "      <td>0.205078</td>\n",
       "      <td>1206</td>\n",
       "      <td>1.206</td>\n",
       "      <td>1.230469</td>\n",
       "    </tr>\n",
       "    <tr>\n",
       "      <th>7</th>\n",
       "      <td>7</td>\n",
       "      <td>112</td>\n",
       "      <td>0.112</td>\n",
       "      <td>0.117187</td>\n",
       "      <td>784</td>\n",
       "      <td>0.784</td>\n",
       "      <td>0.820312</td>\n",
       "    </tr>\n",
       "    <tr>\n",
       "      <th>8</th>\n",
       "      <td>8</td>\n",
       "      <td>49</td>\n",
       "      <td>0.049</td>\n",
       "      <td>0.043945</td>\n",
       "      <td>392</td>\n",
       "      <td>0.392</td>\n",
       "      <td>0.351563</td>\n",
       "    </tr>\n",
       "    <tr>\n",
       "      <th>9</th>\n",
       "      <td>9</td>\n",
       "      <td>12</td>\n",
       "      <td>0.012</td>\n",
       "      <td>0.009766</td>\n",
       "      <td>108</td>\n",
       "      <td>0.108</td>\n",
       "      <td>0.087891</td>\n",
       "    </tr>\n",
       "  </tbody>\n",
       "</table>\n",
       "</div>"
      ],
      "text/plain": [
       "   Sample  Frequency  RelativeFrequency  Probability   x*f   x*rf       x*p\n",
       "0       0          1              0.001     0.000977     0  0.000  0.000000\n",
       "1       1          8              0.008     0.009766     8  0.008  0.009766\n",
       "2       2         41              0.041     0.043945    82  0.082  0.087891\n",
       "3       3        114              0.114     0.117187   342  0.342  0.351562\n",
       "4       4        209              0.209     0.205078   836  0.836  0.820312\n",
       "5       5        253              0.253     0.246094  1265  1.265  1.230469\n",
       "6       6        201              0.201     0.205078  1206  1.206  1.230469\n",
       "7       7        112              0.112     0.117187   784  0.784  0.820312\n",
       "8       8         49              0.049     0.043945   392  0.392  0.351563\n",
       "9       9         12              0.012     0.009766   108  0.108  0.087891"
      ]
     },
     "execution_count": 22,
     "metadata": {},
     "output_type": "execute_result"
    }
   ],
   "source": [
    "# Crear el DataFrame final con las muestras, la frecuencia y la probabilidad\n",
    "# Puede observarse como las probabilidades teóricas se asemejan a la distribución d frecuencia relativa\n",
    "# También se ve que la frequencia aobsoluta tiene la misma forma que las distribuciones relativas y de probabilidad\n",
    "df_SampProb = pd.DataFrame({\n",
    "    'Sample': frequency.index,\n",
    "    'Frequency': frequency.values,\n",
    "    'RelativeFrequency': frequency.values / size,\n",
    "    'Probability': probabilities[:len(frequency)],\n",
    "    'x*f' : frequency.index * frequency.values,\n",
    "    'x*rf': frequency.index * frequency.values / size,\n",
    "    'x*p' : frequency.index * probabilities[:len(frequency)]\n",
    "})\n",
    "df_SampProb"
   ]
  },
  {
   "cell_type": "code",
   "execution_count": 23,
   "metadata": {},
   "outputs": [
    {
     "data": {
      "image/png": "[encoded data removed]",
      "text/plain": [
       "<Figure size 640x480 with 1 Axes>"
      ]
     },
     "metadata": {},
     "output_type": "display_data"
    }
   ],
   "source": [
    "# Visualización (opcional)\n",
    "plt.hist(binomial_samples, bins=range(n + 2), edgecolor='black', density=True, alpha=0.6, color='g', label='Frecuencia relativa')\n",
    "plt.plot(df_SampProb['Sample'], df_SampProb['Probability'], 'r-', lw=2, label='Probabilidad teórica')\n",
    "plt.title('Distribución Binomial')\n",
    "plt.xlabel('Número de éxitos')\n",
    "plt.ylabel('Frecuencia relativa / Probabilidad')\n",
    "plt.legend()\n",
    "plt.show()"
   ]
  },
  {
   "cell_type": "code",
   "execution_count": 24,
   "metadata": {},
   "outputs": [
    {
     "data": {
      "text/html": [
       "<div>\n",
       "<style scoped>\n",
       "    .dataframe tbody tr th:only-of-type {\n",
       "        vertical-align: middle;\n",
       "    }\n",
       "\n",
       "    .dataframe tbody tr th {\n",
       "        vertical-align: top;\n",
       "    }\n",
       "\n",
       "    .dataframe thead th {\n",
       "        text-align: right;\n",
       "    }\n",
       "</style>\n",
       "<table border=\"1\" class=\"dataframe\">\n",
       "  <thead>\n",
       "    <tr style=\"text-align: right;\">\n",
       "      <th></th>\n",
       "      <th>Sample</th>\n",
       "      <th>Frequency</th>\n",
       "      <th>RelativeFrequency</th>\n",
       "      <th>Probability</th>\n",
       "      <th>x*f</th>\n",
       "      <th>x*rf</th>\n",
       "      <th>x*p</th>\n",
       "    </tr>\n",
       "  </thead>\n",
       "  <tbody>\n",
       "    <tr>\n",
       "      <th>count</th>\n",
       "      <td>10.00000</td>\n",
       "      <td>10.000000</td>\n",
       "      <td>10.000000</td>\n",
       "      <td>10.000000</td>\n",
       "      <td>10.000000</td>\n",
       "      <td>10.000000</td>\n",
       "      <td>10.000000</td>\n",
       "    </tr>\n",
       "    <tr>\n",
       "      <th>mean</th>\n",
       "      <td>4.50000</td>\n",
       "      <td>100.000000</td>\n",
       "      <td>0.100000</td>\n",
       "      <td>0.099902</td>\n",
       "      <td>502.300000</td>\n",
       "      <td>0.502300</td>\n",
       "      <td>0.499023</td>\n",
       "    </tr>\n",
       "    <tr>\n",
       "      <th>std</th>\n",
       "      <td>3.02765</td>\n",
       "      <td>93.048375</td>\n",
       "      <td>0.093048</td>\n",
       "      <td>0.092130</td>\n",
       "      <td>486.967955</td>\n",
       "      <td>0.486968</td>\n",
       "      <td>0.488356</td>\n",
       "    </tr>\n",
       "    <tr>\n",
       "      <th>min</th>\n",
       "      <td>0.00000</td>\n",
       "      <td>1.000000</td>\n",
       "      <td>0.001000</td>\n",
       "      <td>0.000977</td>\n",
       "      <td>0.000000</td>\n",
       "      <td>0.000000</td>\n",
       "      <td>0.000000</td>\n",
       "    </tr>\n",
       "    <tr>\n",
       "      <th>25%</th>\n",
       "      <td>2.25000</td>\n",
       "      <td>19.250000</td>\n",
       "      <td>0.019250</td>\n",
       "      <td>0.018311</td>\n",
       "      <td>88.500000</td>\n",
       "      <td>0.088500</td>\n",
       "      <td>0.087891</td>\n",
       "    </tr>\n",
       "    <tr>\n",
       "      <th>50%</th>\n",
       "      <td>4.50000</td>\n",
       "      <td>80.500000</td>\n",
       "      <td>0.080500</td>\n",
       "      <td>0.080566</td>\n",
       "      <td>367.000000</td>\n",
       "      <td>0.367000</td>\n",
       "      <td>0.351563</td>\n",
       "    </tr>\n",
       "    <tr>\n",
       "      <th>75%</th>\n",
       "      <td>6.75000</td>\n",
       "      <td>179.250000</td>\n",
       "      <td>0.179250</td>\n",
       "      <td>0.183105</td>\n",
       "      <td>823.000000</td>\n",
       "      <td>0.823000</td>\n",
       "      <td>0.820312</td>\n",
       "    </tr>\n",
       "    <tr>\n",
       "      <th>max</th>\n",
       "      <td>9.00000</td>\n",
       "      <td>253.000000</td>\n",
       "      <td>0.253000</td>\n",
       "      <td>0.246094</td>\n",
       "      <td>1265.000000</td>\n",
       "      <td>1.265000</td>\n",
       "      <td>1.230469</td>\n",
       "    </tr>\n",
       "  </tbody>\n",
       "</table>\n",
       "</div>"
      ],
      "text/plain": [
       "         Sample   Frequency  RelativeFrequency  Probability          x*f  \\\n",
       "count  10.00000   10.000000          10.000000    10.000000    10.000000   \n",
       "mean    4.50000  100.000000           0.100000     0.099902   502.300000   \n",
       "std     3.02765   93.048375           0.093048     0.092130   486.967955   \n",
       "min     0.00000    1.000000           0.001000     0.000977     0.000000   \n",
       "25%     2.25000   19.250000           0.019250     0.018311    88.500000   \n",
       "50%     4.50000   80.500000           0.080500     0.080566   367.000000   \n",
       "75%     6.75000  179.250000           0.179250     0.183105   823.000000   \n",
       "max     9.00000  253.000000           0.253000     0.246094  1265.000000   \n",
       "\n",
       "            x*rf        x*p  \n",
       "count  10.000000  10.000000  \n",
       "mean    0.502300   0.499023  \n",
       "std     0.486968   0.488356  \n",
       "min     0.000000   0.000000  \n",
       "25%     0.088500   0.087891  \n",
       "50%     0.367000   0.351563  \n",
       "75%     0.823000   0.820312  \n",
       "max     1.265000   1.230469  "
      ]
     },
     "execution_count": 24,
     "metadata": {},
     "output_type": "execute_result"
    }
   ],
   "source": [
    "df_SampProb.describe()"
   ]
  },
  {
   "cell_type": "code",
   "execution_count": 25,
   "metadata": {},
   "outputs": [
    {
     "data": {
      "text/html": [
       "<div>\n",
       "<style scoped>\n",
       "    .dataframe tbody tr th:only-of-type {\n",
       "        vertical-align: middle;\n",
       "    }\n",
       "\n",
       "    .dataframe tbody tr th {\n",
       "        vertical-align: top;\n",
       "    }\n",
       "\n",
       "    .dataframe thead th {\n",
       "        text-align: right;\n",
       "    }\n",
       "</style>\n",
       "<table border=\"1\" class=\"dataframe\">\n",
       "  <thead>\n",
       "    <tr style=\"text-align: right;\">\n",
       "      <th></th>\n",
       "      <th>Sample</th>\n",
       "      <th>Frequency</th>\n",
       "      <th>RelativeFrequency</th>\n",
       "      <th>Probability</th>\n",
       "      <th>x*f</th>\n",
       "      <th>x*rf</th>\n",
       "      <th>x*p</th>\n",
       "    </tr>\n",
       "  </thead>\n",
       "  <tbody>\n",
       "    <tr>\n",
       "      <th>0</th>\n",
       "      <td>0</td>\n",
       "      <td>1</td>\n",
       "      <td>0.001</td>\n",
       "      <td>0.000977</td>\n",
       "      <td>0</td>\n",
       "      <td>0.000</td>\n",
       "      <td>0.000000</td>\n",
       "    </tr>\n",
       "    <tr>\n",
       "      <th>1</th>\n",
       "      <td>1</td>\n",
       "      <td>8</td>\n",
       "      <td>0.008</td>\n",
       "      <td>0.009766</td>\n",
       "      <td>8</td>\n",
       "      <td>0.008</td>\n",
       "      <td>0.009766</td>\n",
       "    </tr>\n",
       "    <tr>\n",
       "      <th>2</th>\n",
       "      <td>2</td>\n",
       "      <td>41</td>\n",
       "      <td>0.041</td>\n",
       "      <td>0.043945</td>\n",
       "      <td>82</td>\n",
       "      <td>0.082</td>\n",
       "      <td>0.087891</td>\n",
       "    </tr>\n",
       "    <tr>\n",
       "      <th>3</th>\n",
       "      <td>3</td>\n",
       "      <td>114</td>\n",
       "      <td>0.114</td>\n",
       "      <td>0.117187</td>\n",
       "      <td>342</td>\n",
       "      <td>0.342</td>\n",
       "      <td>0.351562</td>\n",
       "    </tr>\n",
       "    <tr>\n",
       "      <th>4</th>\n",
       "      <td>4</td>\n",
       "      <td>209</td>\n",
       "      <td>0.209</td>\n",
       "      <td>0.205078</td>\n",
       "      <td>836</td>\n",
       "      <td>0.836</td>\n",
       "      <td>0.820312</td>\n",
       "    </tr>\n",
       "    <tr>\n",
       "      <th>5</th>\n",
       "      <td>5</td>\n",
       "      <td>253</td>\n",
       "      <td>0.253</td>\n",
       "      <td>0.246094</td>\n",
       "      <td>1265</td>\n",
       "      <td>1.265</td>\n",
       "      <td>1.230469</td>\n",
       "    </tr>\n",
       "    <tr>\n",
       "      <th>6</th>\n",
       "      <td>6</td>\n",
       "      <td>201</td>\n",
       "      <td>0.201</td>\n",
       "      <td>0.205078</td>\n",
       "      <td>1206</td>\n",
       "      <td>1.206</td>\n",
       "      <td>1.230469</td>\n",
       "    </tr>\n",
       "    <tr>\n",
       "      <th>7</th>\n",
       "      <td>7</td>\n",
       "      <td>112</td>\n",
       "      <td>0.112</td>\n",
       "      <td>0.117187</td>\n",
       "      <td>784</td>\n",
       "      <td>0.784</td>\n",
       "      <td>0.820312</td>\n",
       "    </tr>\n",
       "    <tr>\n",
       "      <th>8</th>\n",
       "      <td>8</td>\n",
       "      <td>49</td>\n",
       "      <td>0.049</td>\n",
       "      <td>0.043945</td>\n",
       "      <td>392</td>\n",
       "      <td>0.392</td>\n",
       "      <td>0.351563</td>\n",
       "    </tr>\n",
       "    <tr>\n",
       "      <th>9</th>\n",
       "      <td>9</td>\n",
       "      <td>12</td>\n",
       "      <td>0.012</td>\n",
       "      <td>0.009766</td>\n",
       "      <td>108</td>\n",
       "      <td>0.108</td>\n",
       "      <td>0.087891</td>\n",
       "    </tr>\n",
       "  </tbody>\n",
       "</table>\n",
       "</div>"
      ],
      "text/plain": [
       "   Sample  Frequency  RelativeFrequency  Probability   x*f   x*rf       x*p\n",
       "0       0          1              0.001     0.000977     0  0.000  0.000000\n",
       "1       1          8              0.008     0.009766     8  0.008  0.009766\n",
       "2       2         41              0.041     0.043945    82  0.082  0.087891\n",
       "3       3        114              0.114     0.117187   342  0.342  0.351562\n",
       "4       4        209              0.209     0.205078   836  0.836  0.820312\n",
       "5       5        253              0.253     0.246094  1265  1.265  1.230469\n",
       "6       6        201              0.201     0.205078  1206  1.206  1.230469\n",
       "7       7        112              0.112     0.117187   784  0.784  0.820312\n",
       "8       8         49              0.049     0.043945   392  0.392  0.351563\n",
       "9       9         12              0.012     0.009766   108  0.108  0.087891"
      ]
     },
     "execution_count": 25,
     "metadata": {},
     "output_type": "execute_result"
    }
   ],
   "source": [
    "df_SampProb"
   ]
  },
  {
   "cell_type": "markdown",
   "metadata": {},
   "source": [
    "#### Suma de las frecuencias relativas y probabilidades\n",
    "Tanto las frecuencias relativas (estimaciones de campo de probabilidades) como las probabilidades teoricas deben sumar 1."
   ]
  },
  {
   "cell_type": "code",
   "execution_count": 26,
   "metadata": {},
   "outputs": [
    {
     "data": {
      "text/plain": [
       "(1.0, 0.9990234374999998)"
      ]
     },
     "execution_count": 26,
     "metadata": {},
     "output_type": "execute_result"
    }
   ],
   "source": [
    "df_SampProb.RelativeFrequency.sum(), df_SampProb.Probability.sum()"
   ]
  },
  {
   "cell_type": "markdown",
   "metadata": {},
   "source": [
    "#### Media de la distribución de frecuencias\n",
    "La media se puede calcular de dos formas:\n",
    "- como la suma producto se x por f, dividido la cantidad total de experimentos.\n",
    "- como la suma dde las frecuencias relativas ya calculadas"
   ]
  },
  {
   "cell_type": "code",
   "execution_count": 27,
   "metadata": {},
   "outputs": [
    {
     "data": {
      "text/plain": [
       "(5.023, 5.023000000000001)"
      ]
     },
     "execution_count": 27,
     "metadata": {},
     "output_type": "execute_result"
    }
   ],
   "source": [
    "# Calcular la media de la distribución de frecuencias de las dos formas\n",
    "# Es una media ponderada de las x por el peso de la fecuencia\n",
    "df_SampProb['x*f'].sum()/size, df_SampProb['x*rf'].sum()"
   ]
  },
  {
   "cell_type": "markdown",
   "metadata": {},
   "source": [
    "#### Calculo de la varianza de la distribución de frecuencias binomial\n",
    "##### Opción 1"
   ]
  },
  {
   "cell_type": "code",
   "execution_count": 28,
   "metadata": {},
   "outputs": [
    {
     "data": {
      "text/plain": [
       "0   -5.023\n",
       "1   -4.023\n",
       "2   -3.023\n",
       "3   -2.023\n",
       "4   -1.023\n",
       "5   -0.023\n",
       "6    0.977\n",
       "7    1.977\n",
       "8    2.977\n",
       "9    3.977\n",
       "Name: Sample, dtype: float64"
      ]
     },
     "execution_count": 28,
     "metadata": {},
     "output_type": "execute_result"
    }
   ],
   "source": [
    "# primero calculamos las diferencia entre x y la media de la distribución de frecuencias\n",
    "df_SampProb.Sample - df_SampProb['x*rf'].sum()"
   ]
  },
  {
   "cell_type": "code",
   "execution_count": 29,
   "metadata": {},
   "outputs": [
    {
     "data": {
      "text/plain": [
       "0    25.230529\n",
       "1    16.184529\n",
       "2     9.138529\n",
       "3     4.092529\n",
       "4     1.046529\n",
       "5     0.000529\n",
       "6     0.954529\n",
       "7     3.908529\n",
       "8     8.862529\n",
       "9    15.816529\n",
       "Name: Sample, dtype: float64"
      ]
     },
     "execution_count": 29,
     "metadata": {},
     "output_type": "execute_result"
    }
   ],
   "source": [
    "# segundo elevemos estas diferencias\n",
    "(df_SampProb.Sample - df_SampProb['x*rf'].sum()) **2"
   ]
  },
  {
   "cell_type": "code",
   "execution_count": 30,
   "metadata": {},
   "outputs": [
    {
     "data": {
      "text/plain": [
       "0    0.025231\n",
       "1    0.129476\n",
       "2    0.374680\n",
       "3    0.466548\n",
       "4    0.218725\n",
       "5    0.000134\n",
       "6    0.191860\n",
       "7    0.437755\n",
       "8    0.434264\n",
       "9    0.189798\n",
       "dtype: float64"
      ]
     },
     "execution_count": 30,
     "metadata": {},
     "output_type": "execute_result"
    }
   ],
   "source": [
    "# tercero multiplicamos el cuadrado de las diferencias por la frecuencia relativa\n",
    "((df_SampProb.Sample - df_SampProb['x*rf'].sum()) **2) * df_SampProb.RelativeFrequency"
   ]
  },
  {
   "cell_type": "code",
   "execution_count": 31,
   "metadata": {},
   "outputs": [
    {
     "data": {
      "text/plain": [
       "2.468471"
      ]
     },
     "execution_count": 31,
     "metadata": {},
     "output_type": "execute_result"
    }
   ],
   "source": [
    "# cuarto realizar la sumatoria\n",
    "(((df_SampProb.Sample - df_SampProb['x*rf'].sum()) **2) * df_SampProb.RelativeFrequency).sum()"
   ]
  },
  {
   "cell_type": "markdown",
   "metadata": {},
   "source": [
    "#### Calculo de la varianza de la distribución de frecuencias binomial\n",
    "##### Opción 2"
   ]
  },
  {
   "cell_type": "code",
   "execution_count": 32,
   "metadata": {},
   "outputs": [
    {
     "data": {
      "text/plain": [
       "0    0.000\n",
       "1    0.008\n",
       "2    0.164\n",
       "3    1.026\n",
       "4    3.344\n",
       "5    6.325\n",
       "6    7.236\n",
       "7    5.488\n",
       "8    3.136\n",
       "9    0.972\n",
       "dtype: float64"
      ]
     },
     "execution_count": 32,
     "metadata": {},
     "output_type": "execute_result"
    }
   ],
   "source": [
    "# Primero. Calculo del cuadrado de cada observación n por su frecuencia relativa\n",
    "df_SampProb.Sample ** 2 * df_SampProb.RelativeFrequency"
   ]
  },
  {
   "cell_type": "code",
   "execution_count": 33,
   "metadata": {},
   "outputs": [
    {
     "data": {
      "text/plain": [
       "27.699"
      ]
     },
     "execution_count": 33,
     "metadata": {},
     "output_type": "execute_result"
    }
   ],
   "source": [
    "# Segundo. Calculo de la sumatoria del producto anterior\n",
    "(df_SampProb.Sample ** 2 * df_SampProb.RelativeFrequency).sum()"
   ]
  },
  {
   "cell_type": "code",
   "execution_count": 34,
   "metadata": {},
   "outputs": [
    {
     "data": {
      "text/plain": [
       "2.4684709999999974"
      ]
     },
     "execution_count": 34,
     "metadata": {},
     "output_type": "execute_result"
    }
   ],
   "source": [
    "# Tercero. Calculo de la diferencia de la sumatoria anterior con el cuadrado de la media\n",
    "(df_SampProb.Sample ** 2 * df_SampProb.RelativeFrequency).sum() - df_SampProb['x*rf'].sum() ** 2"
   ]
  },
  {
   "cell_type": "markdown",
   "metadata": {},
   "source": [
    "#### Desviación Estandard\n",
    "Se trata de la raiz cuadrada que se calcula por cualquiera de las dos opciones anteriores"
   ]
  },
  {
   "cell_type": "code",
   "execution_count": 35,
   "metadata": {},
   "outputs": [
    {
     "data": {
      "text/plain": [
       "(1.5711368495455766, 1.5711368495455758)"
      ]
     },
     "execution_count": 35,
     "metadata": {},
     "output_type": "execute_result"
    }
   ],
   "source": [
    "math.sqrt((((df_SampProb.Sample - df_SampProb['x*rf'].sum()) **2) * df_SampProb.RelativeFrequency).sum()), math.sqrt((df_SampProb.Sample ** 2 * df_SampProb.RelativeFrequency).sum() - df_SampProb['x*rf'].sum() ** 2)"
   ]
  },
  {
   "cell_type": "markdown",
   "metadata": {},
   "source": [
    "#### Indicadores de spycy"
   ]
  },
  {
   "cell_type": "code",
   "execution_count": 36,
   "metadata": {},
   "outputs": [],
   "source": [
    "mean, var, skew, kurt = binom.stats(n, p, moments='mvsk')"
   ]
  },
  {
   "cell_type": "code",
   "execution_count": 37,
   "metadata": {},
   "outputs": [
    {
     "data": {
      "text/plain": [
       "(5.0, 2.5, 0.0, -0.2)"
      ]
     },
     "execution_count": 37,
     "metadata": {},
     "output_type": "execute_result"
    }
   ],
   "source": [
    "mean, var, skew, kurt"
   ]
  }
 ],
 "metadata": {
  "kernelspec": {
   "display_name": "Python 3",
   "language": "python",
   "name": "python3"
  },
  "language_info": {
   "codemirror_mode": {
    "name": "ipython",
    "version": 3
   },
   "file_extension": ".py",
   "mimetype": "text/x-python",
   "name": "python",
   "nbconvert_exporter": "python",
   "pygments_lexer": "ipython3",
   "version": "3.12.2"
  }
 },
 "nbformat": 4,
 "nbformat_minor": 2
}
