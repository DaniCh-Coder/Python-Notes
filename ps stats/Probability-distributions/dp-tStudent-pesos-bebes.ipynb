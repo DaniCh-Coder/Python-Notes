{
 "cells": [
  {
   "cell_type": "markdown",
   "metadata": {},
   "source": [
    "# t-Student\n",
    "Distribución y estadístico que aproxmiman a la normal cuando no se conoce el desvío de la muestra\n",
    "###### https://docs.scipy.org/doc/scipy/reference/generated/scipy.stats.t.html#scipy.stats.t\n",
    "###### For the noncentral t distribution, see nct.\n",
    "## Pesos de bebes al nacer - Efectos de bebés que consumieron cocaína"
   ]
  },
  {
   "cell_type": "code",
   "execution_count": 1,
   "metadata": {},
   "outputs": [],
   "source": [
    "import numpy as np\n",
    "from scipy.stats import t\n",
    "import matplotlib.pyplot as plt"
   ]
  },
  {
   "cell_type": "markdown",
   "metadata": {},
   "source": [
    "### Pesos de bebes al nacer\n",
    "#### Pesos de bebés de madres que consumen cocaína\n",
    "+ En un estudio de los efectos sobre los bebés del consumo de cocaína durante el embarazo, se obtuvieron los siguientes datos de pesos al nacer:\n",
    "    + n=190, X̅=2700 g, s=645 g \n",
    "    + (según datos de “Cognitive Outcomes of Preschool Children with Prenatal Cocaine Exposure”, \n",
    "       + de Singer et al., Journal of the American Medical Association, vol. 291, núm. 20). \n",
    "    + El diseño del estudio justifica el supuesto de que la muestra puede tratarse como una muestra aleatoria simple. \n",
    "+ Utilice los datos muestrales para construir un estimado del intervalo de confianza del 95% de µ, \n",
    "    + el peso medio al nacer de todos los bebés hijos de madres que consumieron cocaína durante el embarazo."
   ]
  },
  {
   "cell_type": "code",
   "execution_count": 2,
   "metadata": {},
   "outputs": [
    {
     "name": "stdout",
     "output_type": "stream",
     "text": [
      "Los datos dados y calculados son:\n",
      "Tamaño muestra: 190, Grados de Libertad: 189, Desvío Std: 645, Error Std:46.79321813209575\n",
      "Resultado: Intevalo de confianza 2608 < µ < 2792\n"
     ]
    }
   ],
   "source": [
    "# Primero verificar los requisitos de t-Student\n",
    "# a. Muestra aleatoria simple: cada posible muestra del mismo tamaño n tiene la misma posibilidad de ser elegida.\n",
    "# b. n = 190. => n > 30. Aunque el problema no dice que la población está normalmente distribuida. n > 30 y se cumple el TCL.\n",
    "# c. No hay datos de 𝞂, pero si de s.\n",
    "n = 190\n",
    "x = 2700\n",
    "df = n -1\n",
    "s = 645\n",
    "se = s /n**0.5\n",
    "confidence_level = 0.95\n",
    "\n",
    "# Hay una función concreta para esto que es .interval()\n",
    "print(f\"Los datos dados y calculados son:\")\n",
    "print(f\"Tamaño muestra: {n}, Grados de Libertad: {df}, Desvío Std: {s}, Error Std:{se}\")\n",
    "tmin, tmax = t.interval(confidence_level, df, loc=x, scale=se)\n",
    "print(f\"Resultado: Intevalo de confianza {tmin:.0f} < µ < {tmax:.0f}\")"
   ]
  },
  {
   "cell_type": "markdown",
   "metadata": {},
   "source": [
    "**Interpretación**\n",
    "+ Con base en los datos muestrales, tenemos una confianza del 95% de que los límites de 2608 g y 2792 g realmente contienen el valor del peso medio al nacer. \n",
    "+ Ahora podemos comparar este resultado con un intervalo de confianza construido para los pesos al nacer de niños cuyas madres no consumieron cocaína.\n",
    "+   (a continuación...)."
   ]
  },
  {
   "cell_type": "markdown",
   "metadata": {},
   "source": [
    "### Pesos de bebés al nacer\n",
    "#### Pesos de bebés de madres que NO consumen cocaína\n",
    "+ Una muestra aleatoria de los pesos al nacer de 186 bebés tiene una media de 3103 g y una desviación estándar de 696 g \n",
    "    + (según datos de “Cognitive Outcomes of Preschool Children with Prenatal Cocaine Exposure”, \n",
    "        + de Singer et al., Journal of the American Medical Association, vol. 291, núm. 20). \n",
    "+ Estos bebés son hijos de madres que no consumieron cocaína durante el embarazo. \n",
    "+ Construya un estimado del intervalo de confianza del 95% del peso medio al nacer de todos estos bebés. "
   ]
  },
  {
   "cell_type": "code",
   "execution_count": 3,
   "metadata": {},
   "outputs": [
    {
     "name": "stdout",
     "output_type": "stream",
     "text": [
      "Los datos dados y calculados son:\n",
      "Tamaño muestra: 186, Grados de Libertad: 185, Desvío Std: 696, Error Std:51.03319602743095\n",
      "Resultado: Intevalo de confianza 3002 < µ < 3204\n"
     ]
    }
   ],
   "source": [
    "# Primero verificar los requisitos de t-Student\n",
    "# a. Muestra aleatoria simple: cada posible muestra del mismo tamaño n tiene la misma posibilidad de ser elegida.\n",
    "# b. n = 186. => n > 30. Aunque el problema no dice que la población está normalmente distribuida. n > 30 y se cumple el TCL.\n",
    "# c. No hay datos de 𝞂, pero si de s.\n",
    "n=186\n",
    "df = n-1\n",
    "x = 3103\n",
    "s=696\n",
    "se = s / n ** 0.5\n",
    "confidence_level = 0.95\n",
    "# Hay una función concreta para esto que es .interval()\n",
    "print(f\"Los datos dados y calculados son:\")\n",
    "print(f\"Tamaño muestra: {n}, Grados de Libertad: {df}, Desvío Std: {s}, Error Std:{se}\")\n",
    "tmin, tmax = t.interval(confidence_level, df, loc=x, scale=se)\n",
    "print(f\"Resultado: Intevalo de confianza {tmin:.0f} < µ < {tmax:.0f}\")"
   ]
  },
  {
   "cell_type": "markdown",
   "metadata": {},
   "source": [
    "## Comparación de los resultados\n",
    "+ Se compara el resultado con el intervalo de confianza obtenido en la muestra de bebés de madres que no consumieron cocaína,\n",
    "    + con los pesos al nacer de hijos de madres que consumieron cocaína durante el embarazo. \n",
    "+ **Conclusiones**\n",
    "+ Los intervalos de confianza no están ni siquiera solapados\n",
    "    + son claramente mayores los peros de los bebés hijos de madres que no consumieron.\n",
    "+ Al parecer si existen diferencias y estas diferencias sugieren que:\n",
    "    + Los bebés hijos de madres que no consumen cocaína son más pesados\n",
    "    + Los hijos de madres que sí consumen cocaína nacen con menor peso"
   ]
  },
  {
   "cell_type": "markdown",
   "metadata": {},
   "source": [
    "___________________________________________________________________________________________________________________________________________________________"
   ]
  },
  {
   "cell_type": "markdown",
   "metadata": {},
   "source": []
  }
 ],
 "metadata": {
  "kernelspec": {
   "display_name": "Python 3",
   "language": "python",
   "name": "python3"
  },
  "language_info": {
   "codemirror_mode": {
    "name": "ipython",
    "version": 3
   },
   "file_extension": ".py",
   "mimetype": "text/x-python",
   "name": "python",
   "nbconvert_exporter": "python",
   "pygments_lexer": "ipython3",
   "version": "3.12.2"
  }
 },
 "nbformat": 4,
 "nbformat_minor": 2
}
