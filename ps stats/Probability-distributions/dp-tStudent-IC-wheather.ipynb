{
 "cells": [
  {
   "cell_type": "code",
   "execution_count": 39,
   "metadata": {},
   "outputs": [],
   "source": [
    "import pandas as pd\n",
    "from scipy.stats import t\n",
    "from pd_read_excels import read_and_rename_excel"
   ]
  },
  {
   "cell_type": "markdown",
   "metadata": {},
   "source": [
    "## Temperaturas pronosticadas y reales. \n",
    "+ El conjunto de datos \"Wheather\" incluye una lista de temperaturas máximas reales y la lista correspondiente del pronóstico de temperaturas máximas para tres días. \n",
    "+ Si la diferencia para cada día se obtiene restando la temperatura máxima pronosticada para tres días de la temperatura máxima real, \n",
    "    + el resultado es una lista de 35 valores con una media de -1.3° y una desviación estándar de 4.7°. \n",
    "        + a. Construya un estimado del intervalo de confianza del 99% para la media de la diferencia \n",
    "            + entre todas las temperaturas máximas reales y las temperaturas máximas pronosticadas para tres días.\n",
    "        + b. ¿El intervalo de confianza incluye 0°? \n",
    "            + Si un meteorólogo afirma que el pronóstico de temperaturas máximas para tres días tiende a ser muy alto \n",
    "                + puesto que la diferencia media de la muestra es -1.3° \n",
    "                    + ¿parece ser válida esa afirmación? ¿Por qué?"
   ]
  },
  {
   "cell_type": "markdown",
   "metadata": {},
   "source": [
    "1. Abro el archivo"
   ]
  },
  {
   "cell_type": "code",
   "execution_count": 40,
   "metadata": {},
   "outputs": [
    {
     "name": "stdout",
     "output_type": "stream",
     "text": [
      "Archivo Excel leído y columnas renombradas exitosamente.\n"
     ]
    }
   ],
   "source": [
    "# Apertura de archivo de clima - temperaturas\n",
    "file_path = \"../../data/Wheather.xlsx\"\n",
    "new_colum = ['Fecha', 'Tmax', 'Tmin', 'P1Max', 'P1Min', 'P3Max', 'P3Min','P5Max', 'P5Min', 'Precip']\n",
    "# Llamar a la función desde el módulo\n",
    "result = read_and_rename_excel(file_path, new_colum)\n",
    "\n",
    "# Verificar si el resultado es un DataFrame o un mensaje de error\n",
    "if isinstance(result, pd.DataFrame):\n",
    "    print(\"Archivo Excel leído y columnas renombradas exitosamente.\")\n",
    "    df = result\n",
    "else:\n",
    "    print(result)"
   ]
  },
  {
   "cell_type": "markdown",
   "metadata": {},
   "source": [
    "2. Calculo las diferencias de temperaturas enre las reales y las pronosticadas y su perfil estadíestico\n",
    "    + promedio o media\n",
    "    + desvio estandard"
   ]
  },
  {
   "cell_type": "code",
   "execution_count": 41,
   "metadata": {},
   "outputs": [
    {
     "name": "stdout",
     "output_type": "stream",
     "text": [
      "Las temperaturas reales menos las pronosticadas 3 días antes tienen: media: -1.3428571428571427 y desvío estandard : 4.677498433632945\n"
     ]
    }
   ],
   "source": [
    "# Calculo de la media y el desvío estandard de las diferencias de temperaturas reales vs 3 días antes\n",
    "m=(df.Tmax - df.P3Max).mean()\n",
    "s=(df.Tmax - df.P3Max).std()\n",
    "print(f\"Las temperaturas reales menos las pronosticadas 3 días antes tienen: media: {m} y desvío estandard : {s}\")"
   ]
  },
  {
   "cell_type": "markdown",
   "metadata": {},
   "source": [
    "3. Calculo del intervalo de confianza"
   ]
  },
  {
   "cell_type": "code",
   "execution_count": 44,
   "metadata": {},
   "outputs": [
    {
     "name": "stdout",
     "output_type": "stream",
     "text": [
      "Los datos dados y calculados son:\n",
      "Tamaño muestra: 35, Grados de Libertad: 34, Desvío Std: 4.677498433632945, Error Std:0.790641540534171\n",
      "Resultado: Intevalo de confianza -2.949634072446214 < µ < 0.2639197867319285\n"
     ]
    }
   ],
   "source": [
    "# Primero verificar los requisitos de t-Student\n",
    "# a. Muestra aleatoria simple: cada posible muestra del mismo tamaño n tiene la misma posibilidad de ser elegida.\n",
    "# b. n = 35. => n > 30. Aunque el problema no dice que la población está normalmente distribuida. n > 30 y se cumple el TCL.\n",
    "# c. No hay datos de 𝞂, pero si de s.\n",
    "n = 35      # tamaño de la muestra\n",
    "df = n -1   # grados de libertad\n",
    "# La media de la muestra x raya es m. \n",
    "# El devío de la muestra es s\n",
    "se = s /n**0.5\n",
    "confidence_level = 0.95\n",
    "\n",
    "# Hay una función concreta para esto que es .interval()\n",
    "print(f\"Los datos dados y calculados son:\")\n",
    "print(f\"Tamaño muestra: {n}, Grados de Libertad: {df}, Desvío Std: {s}, Error Std:{se}\")\n",
    "tmin, tmax = t.interval(confidence_level, df, loc=m, scale=se)\n",
    "print(f\"Resultado: Intevalo de confianza {tmin} < µ < {tmax}\")"
   ]
  },
  {
   "cell_type": "markdown",
   "metadata": {},
   "source": [
    "**Interpretación**\n",
    "+ El intervalo de confianza nos dice que las sucesivas muestras que se tomen tendran una media que estará entre los valores del intervalo de confianza.\n",
    "+ El IC sí incluye el 0. Esto significa que la media de la población (y de las sucesivas muestras) podría valer 0, efectivamente."
   ]
  },
  {
   "cell_type": "markdown",
   "metadata": {},
   "source": [
    "4. Respuestas\n",
    "+ ¿El intervalo de confianza incluye 0°? \n",
    "    + **SI incluye al cero**\n",
    "+ Si un meteorólogo afirma que el pronóstico de temperaturas máximas para tres días tiende a ser muy alto \n",
    "    + puesto que la diferencia media de la muestra es -1.3° ¿parece ser válida esa afirmación? ¿Por qué?\n",
    "        + **NO parece valida la afirmación porque la temperatura -1.3° es muy baja para sostener la afirmación.**"
   ]
  },
  {
   "cell_type": "markdown",
   "metadata": {},
   "source": [
    "____________________________________________________________________________________________________________________________________________________"
   ]
  }
 ],
 "metadata": {
  "kernelspec": {
   "display_name": "Python 3",
   "language": "python",
   "name": "python3"
  },
  "language_info": {
   "codemirror_mode": {
    "name": "ipython",
    "version": 3
   },
   "file_extension": ".py",
   "mimetype": "text/x-python",
   "name": "python",
   "nbconvert_exporter": "python",
   "pygments_lexer": "ipython3",
   "version": "3.12.2"
  }
 },
 "nbformat": 4,
 "nbformat_minor": 2
}
