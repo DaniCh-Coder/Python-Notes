{
 "cells": [
  {
   "cell_type": "markdown",
   "metadata": {},
   "source": [
    "# Pruebas de hipotesis de 2 o más varianzas\n",
    "## Pruebas F de Fisher, Levene y Barlett"
   ]
  },
  {
   "cell_type": "markdown",
   "metadata": {},
   "source": [
    "### 1. Prueba F de Ficher\n",
    "+ Sirve para determinar si las varianzas de dos poblaciones son significativamente diferentes."
   ]
  },
  {
   "cell_type": "code",
   "execution_count": 1,
   "metadata": {},
   "outputs": [
    {
     "name": "stdout",
     "output_type": "stream",
     "text": [
      "Estadístico F: 1.6667\n",
      "Valor p: 0.2050\n"
     ]
    }
   ],
   "source": [
    "from scipy.stats import f\n",
    "\n",
    "# Datos simulados (varianzas y tamaños muestrales)\n",
    "var1 = 5.0  # Varianza de la muestra 1\n",
    "var2 = 3.0  # Varianza de la muestra 2\n",
    "n1 = 30     # Tamaño de la muestra 1\n",
    "n2 = 25     # Tamaño de la muestra 2\n",
    "\n",
    "# Estadístico F\n",
    "F = var1 / var2\n",
    "\n",
    "# Grados de libertad\n",
    "dfn = n1 - 1\n",
    "dfd = n2 - 1\n",
    "\n",
    "# Valor p\n",
    "p_value = 2 * min(f.cdf(F, dfn, dfd), 1 - f.cdf(F, dfn, dfd))\n",
    "\n",
    "print(f\"Estadístico F: {F:.4f}\")\n",
    "print(f\"Valor p: {p_value:.4f}\")\n"
   ]
  },
  {
   "cell_type": "markdown",
   "metadata": {},
   "source": [
    "**Interpretación**\n",
    "+ Si el valor p asociado con el estadístico F es menor que el nivel de significancia (𝛼), \n",
    "    + se rechaza la hipótesis nula, indicando que hay una diferencia significativa entre las varianzas.\n",
    "\n",
    "+ En este puede aceptarse la hipótesis nula (0.2 > 𝛼)\n",
    "    + indicando que no hay una diferencia significativa entre las varianzas."
   ]
  },
  {
   "cell_type": "markdown",
   "metadata": {},
   "source": [
    "### 2. Prueba de Levene\n",
    "+ Permite probar la igualdad de varianzas en dos o más grupos cuando los datos **no necesariamente siguen una distribución normal**."
   ]
  },
  {
   "cell_type": "code",
   "execution_count": 2,
   "metadata": {},
   "outputs": [
    {
     "name": "stdout",
     "output_type": "stream",
     "text": [
      "Estadístico de Levene: 0.0519\n",
      "Valor p: 0.8256\n"
     ]
    }
   ],
   "source": [
    "### Pueba de Levene\n",
    "from scipy.stats import levene\n",
    "\n",
    "# Datos simulados\n",
    "muestra1 = [20.1, 21.2, 23.4, 19.7, 18.9]\n",
    "muestra2 = [22.4, 24.1, 23.8, 21.5, 25.0]\n",
    "\n",
    "# Prueba de Levene\n",
    "stat, p_value = levene(muestra1, muestra2)\n",
    "\n",
    "print(f\"Estadístico de Levene: {stat:.4f}\")\n",
    "print(f\"Valor p: {p_value:.4f}\")\n"
   ]
  },
  {
   "cell_type": "markdown",
   "metadata": {},
   "source": [
    "**Interpretación**\n",
    "+ La prueba de Levene utiliza la dispersión absoluta de cada valor respecto a la media (o la mediana) de su grupo. \n",
    "    + Se calcula un estadístico F a partir de estas dispersiones, que se denomina de Levene.\n",
    "+ Si el valor p asociado con el estadístico de Levene (F) es menor que el nivel de significancia (𝛼), \n",
    "    + se rechaza la hipótesis nula, indicando que hay una diferencia significativa entre las varianzas.\n",
    "\n",
    "+ En este ejemplo podría aceptarse la hipótesis nula indicando que no hay diferencia significativa entre las varianzas."
   ]
  },
  {
   "cell_type": "markdown",
   "metadata": {},
   "source": [
    "### 3. Prueba de Brown-Forsythe\n",
    "+ La prueba de Brown-Forsythe es una versión robusta de la prueba de Levene, utilizada para evaluar la igualdad de varianzas en diferentes grupos.\n",
    "+ Es particularmente útil cuando se sospecha que los datos no cumplen con la suposición de normalidad o cuando hay outliers presentes."
   ]
  },
  {
   "cell_type": "code",
   "execution_count": 1,
   "metadata": {},
   "outputs": [
    {
     "name": "stdout",
     "output_type": "stream",
     "text": [
      "Estadístico de Brown-Forsythe: 0.0302\n",
      "Valor p: 0.9703\n"
     ]
    }
   ],
   "source": [
    "from scipy.stats import levene\n",
    "\n",
    "# Datos simulados\n",
    "muestra1 = [20.1, 21.2, 23.4, 19.7, 18.9]\n",
    "muestra2 = [22.4, 24.1, 23.8, 21.5, 25.0]\n",
    "muestra3 = [19.9, 20.5, 21.1, 22.8, 23.2]\n",
    "\n",
    "# Prueba de Brown-Forsythe (utilizando la mediana)\n",
    "stat, p_value = levene(muestra1, muestra2, muestra3, center='median')\n",
    "\n",
    "print(f\"Estadístico de Brown-Forsythe: {stat:.4f}\")\n",
    "print(f\"Valor p: {p_value:.4f}\")\n"
   ]
  },
  {
   "cell_type": "markdown",
   "metadata": {},
   "source": [
    "**Interpretación**\n",
    "+ Si el valor p es menor que el nivel de significancia (𝛼), se rechaza la hipótesis nula, sugiriendo que hay una diferencia significativa en la varianza entre los grupos.\n",
    "+ Valor p (0.2674): Dado que el valor p es mayor que 0.05, no se rechaza la hipótesis nula. \n",
    "    + Esto significa que no hay evidencia suficiente para concluir que las varianzas de las tres muestras son diferentes. \n",
    "+ En otras palabras, podemos asumir que las tres muestras tienen varianzas similares."
   ]
  },
  {
   "cell_type": "markdown",
   "metadata": {},
   "source": [
    "### 4. Prueba de Barlett\n",
    "+ Permite comparar la igualdad de varianzas entre dos o más grupos asumiendo que los datos siguen una distribución normal."
   ]
  },
  {
   "cell_type": "code",
   "execution_count": 6,
   "metadata": {},
   "outputs": [
    {
     "name": "stdout",
     "output_type": "stream",
     "text": [
      "Estadístico de Bartlett: 0.1709\n",
      "Valor p: 0.6793\n"
     ]
    }
   ],
   "source": [
    "from scipy.stats import bartlett\n",
    "\n",
    "# Prueba de Bartlett\n",
    "stat, p_value = bartlett(muestra1, muestra2)\n",
    "\n",
    "print(f\"Estadístico de Bartlett: {stat:.4f}\")\n",
    "print(f\"Valor p: {p_value:.4f}\")\n"
   ]
  },
  {
   "cell_type": "markdown",
   "metadata": {},
   "source": [
    "**Interpretación**\n",
    "+ Si el valor p es menor que α, se rechaza la hipótesis nula, lo que sugiere que al menos una de las varianzas es diferente.\n",
    "+ En el ejemplo se ve que p > 𝛼, entonces puede aceptarse la hipótesis nula.\n",
    "    + Esto sugiere que ninguna varianza es diferente."
   ]
  },
  {
   "cell_type": "markdown",
   "metadata": {},
   "source": [
    "___________________________________________________________________________________________________________________________________________________________________________"
   ]
  }
 ],
 "metadata": {
  "kernelspec": {
   "display_name": "Python 3",
   "language": "python",
   "name": "python3"
  },
  "language_info": {
   "codemirror_mode": {
    "name": "ipython",
    "version": 3
   },
   "file_extension": ".py",
   "mimetype": "text/x-python",
   "name": "python",
   "nbconvert_exporter": "python",
   "pygments_lexer": "ipython3",
   "version": "3.12.2"
  }
 },
 "nbformat": 4,
 "nbformat_minor": 2
}
