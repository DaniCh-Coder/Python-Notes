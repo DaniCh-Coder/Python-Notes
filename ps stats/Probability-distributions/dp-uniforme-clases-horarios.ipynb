{
 "cells": [
  {
   "cell_type": "markdown",
   "metadata": {},
   "source": [
    "# Distribución Uniforme"
   ]
  },
  {
   "cell_type": "code",
   "execution_count": 85,
   "metadata": {},
   "outputs": [],
   "source": [
    "import numpy as np\n",
    "import pandas as pd\n",
    "import matplotlib as mpl\n",
    "import seaborn.objects as so\n",
    "from scipy.stats import uniform"
   ]
  },
  {
   "cell_type": "markdown",
   "metadata": {},
   "source": [
    "En la forma estándar, la distribución es uniforme en x=0 e y=1. \n",
    "+ Utilizando los parámetros \"loc\" and \"scale y , se obtiene la distribución uniforme en loc y loc+scale.\n",
    "+ por eso en su forma estandard uniform devuelve los estadisticos de [0,1]"
   ]
  },
  {
   "cell_type": "markdown",
   "metadata": {},
   "source": [
    "### Duración de la clase\n",
    "Un profesor de estadística planea sus clases con tanto cuidado que sus duraciones están distribuidas uniformemente entre 50.0 y 52.0 min.  \n",
    "+ Esto es, cualquier tiempo entre 50.0 y 52.0 min es posible, y todos los valores posibles tienen la misma probabilidad. \n",
    "+ Si seleccionamos aleatoriamente una de las clases y permitimos que x sea la variable aleatoria que representa la duración de esa clase, \n",
    "    + entonces todos los valores entre 50 y 52, tienen la misma probabilidad y esta probabilidad es....\n",
    "\n",
    "Para resover este problema tengamos en cuenta que:\n",
    "+ a = 50\n",
    "+ b = 52\n",
    "+ b - a = 2\n",
    "\n",
    "Es decir que la función de distribución no es estandard sino que:\n",
    "+ está corrida a x = a o (x = 50).\n",
    "+ tiene un rango de b - a = 2\n",
    "+ los valores de x van de a hasta b con la granularidad deseada por ser continua (ej. 1000)"
   ]
  },
  {
   "cell_type": "code",
   "execution_count": 86,
   "metadata": {},
   "outputs": [],
   "source": [
    "# Parámetros de la distribución uniforme\n",
    "a = 50.0  # límite inferior\n",
    "b = 52.0  # límite superior\n",
    "loc = a\n",
    "scale = b - a\n",
    "\n",
    "# Generar valores de x\n",
    "x = np.linspace(a, b, 1000)"
   ]
  },
  {
   "cell_type": "markdown",
   "metadata": {},
   "source": [
    "En Scipy la distribución uniforme se crea con estos parametros a y b-a."
   ]
  },
  {
   "cell_type": "code",
   "execution_count": 87,
   "metadata": {},
   "outputs": [],
   "source": [
    "# Crear la distribución uniforme\n",
    "dist = uniform(loc, scale)\n",
    "\n",
    "# Calcular por ejemplo la distribución de probabilidad PDF\n",
    "pdf = dist.pdf(x)\n"
   ]
  },
  {
   "cell_type": "markdown",
   "metadata": {},
   "source": [
    "Con la función de distribución creada es posible crear las distribuciones:\n",
    "+ Probabilidad\n",
    "+ Acumulada\n",
    "+ Supervivencia\n",
    "+ otras."
   ]
  },
  {
   "cell_type": "code",
   "execution_count": 88,
   "metadata": {},
   "outputs": [
    {
     "data": {
      "text/html": [
       "<div>\n",
       "<style scoped>\n",
       "    .dataframe tbody tr th:only-of-type {\n",
       "        vertical-align: middle;\n",
       "    }\n",
       "\n",
       "    .dataframe tbody tr th {\n",
       "        vertical-align: top;\n",
       "    }\n",
       "\n",
       "    .dataframe thead th {\n",
       "        text-align: right;\n",
       "    }\n",
       "</style>\n",
       "<table border=\"1\" class=\"dataframe\">\n",
       "  <thead>\n",
       "    <tr style=\"text-align: right;\">\n",
       "      <th></th>\n",
       "      <th>x</th>\n",
       "      <th>p</th>\n",
       "      <th>ac</th>\n",
       "      <th>1-ac</th>\n",
       "    </tr>\n",
       "  </thead>\n",
       "  <tbody>\n",
       "    <tr>\n",
       "      <th>0</th>\n",
       "      <td>50.000</td>\n",
       "      <td>0.5</td>\n",
       "      <td>0.000</td>\n",
       "      <td>1.000</td>\n",
       "    </tr>\n",
       "    <tr>\n",
       "      <th>1</th>\n",
       "      <td>50.002</td>\n",
       "      <td>0.5</td>\n",
       "      <td>0.001</td>\n",
       "      <td>0.999</td>\n",
       "    </tr>\n",
       "    <tr>\n",
       "      <th>2</th>\n",
       "      <td>50.004</td>\n",
       "      <td>0.5</td>\n",
       "      <td>0.002</td>\n",
       "      <td>0.998</td>\n",
       "    </tr>\n",
       "    <tr>\n",
       "      <th>3</th>\n",
       "      <td>50.006</td>\n",
       "      <td>0.5</td>\n",
       "      <td>0.003</td>\n",
       "      <td>0.997</td>\n",
       "    </tr>\n",
       "    <tr>\n",
       "      <th>4</th>\n",
       "      <td>50.008</td>\n",
       "      <td>0.5</td>\n",
       "      <td>0.004</td>\n",
       "      <td>0.996</td>\n",
       "    </tr>\n",
       "    <tr>\n",
       "      <th>...</th>\n",
       "      <td>...</td>\n",
       "      <td>...</td>\n",
       "      <td>...</td>\n",
       "      <td>...</td>\n",
       "    </tr>\n",
       "    <tr>\n",
       "      <th>995</th>\n",
       "      <td>51.992</td>\n",
       "      <td>0.5</td>\n",
       "      <td>0.996</td>\n",
       "      <td>0.004</td>\n",
       "    </tr>\n",
       "    <tr>\n",
       "      <th>996</th>\n",
       "      <td>51.994</td>\n",
       "      <td>0.5</td>\n",
       "      <td>0.997</td>\n",
       "      <td>0.003</td>\n",
       "    </tr>\n",
       "    <tr>\n",
       "      <th>997</th>\n",
       "      <td>51.996</td>\n",
       "      <td>0.5</td>\n",
       "      <td>0.998</td>\n",
       "      <td>0.002</td>\n",
       "    </tr>\n",
       "    <tr>\n",
       "      <th>998</th>\n",
       "      <td>51.998</td>\n",
       "      <td>0.5</td>\n",
       "      <td>0.999</td>\n",
       "      <td>0.001</td>\n",
       "    </tr>\n",
       "    <tr>\n",
       "      <th>999</th>\n",
       "      <td>52.000</td>\n",
       "      <td>0.5</td>\n",
       "      <td>1.000</td>\n",
       "      <td>0.000</td>\n",
       "    </tr>\n",
       "  </tbody>\n",
       "</table>\n",
       "<p>1000 rows × 4 columns</p>\n",
       "</div>"
      ],
      "text/plain": [
       "          x    p     ac   1-ac\n",
       "0    50.000  0.5  0.000  1.000\n",
       "1    50.002  0.5  0.001  0.999\n",
       "2    50.004  0.5  0.002  0.998\n",
       "3    50.006  0.5  0.003  0.997\n",
       "4    50.008  0.5  0.004  0.996\n",
       "..      ...  ...    ...    ...\n",
       "995  51.992  0.5  0.996  0.004\n",
       "996  51.994  0.5  0.997  0.003\n",
       "997  51.996  0.5  0.998  0.002\n",
       "998  51.998  0.5  0.999  0.001\n",
       "999  52.000  0.5  1.000  0.000\n",
       "\n",
       "[1000 rows x 4 columns]"
      ]
     },
     "execution_count": 88,
     "metadata": {},
     "output_type": "execute_result"
    }
   ],
   "source": [
    "# Creación de un dataframe con los valores de x, probabilidad, acumulada y supervivencia\n",
    "df = pd.DataFrame(\n",
    "    {\n",
    "        \"x\"   : x,\n",
    "        \"p\"   : dist.pdf(x),\n",
    "        \"ac\"  : dist.cdf(x),\n",
    "        \"1-ac\": dist.sf(x),\n",
    "    }\n",
    ")\n",
    "df.round(4)"
   ]
  },
  {
   "cell_type": "markdown",
   "metadata": {},
   "source": [
    "+ Si seleccionamos aleatoriamente una de las clases y permitimos que x sea la variable aleatoria que representa la duración de esa clase, entonces x tiene una distribución que puede graficarse como en la figura."
   ]
  },
  {
   "cell_type": "code",
   "execution_count": 89,
   "metadata": {},
   "outputs": [
    {
     "data": {
      "image/png": "[encoded data removed]",
      "text/plain": [
       "<Figure size 1500x500 with 3 Axes>"
      ]
     },
     "metadata": {},
     "output_type": "display_data"
    }
   ],
   "source": [
    "# Creación del grafico con seaborn objects y matplotlib\n",
    "import matplotlib.pyplot as plt\n",
    "from matplotlib import style\n",
    "\n",
    "# Aplicar un estilo\n",
    "# print(style.available) # use esta línea para ver estilos disponible junto con from matplotlib import style\n",
    "plt.style.use('ggplot')\n",
    "# Crear la figura con subfiguras\n",
    "fig, (sf1, sf2, sf3) = plt.subplots(1, 3, figsize=(15, 5))\n",
    "\n",
    "# Graficar en la primera subfigura\n",
    "plot1 = (\n",
    "    so.Plot(df, x=\"x\", y=\"p\")\n",
    "    .add(so.Area())\n",
    "    .label(x=\"x\", y=\"Prob.pdf\")\n",
    "    .on(sf1)\n",
    ")\n",
    "plot1.plot()\n",
    "sf1.set_ylim(0, 1)\n",
    "\n",
    "# Graficar en la segunda subfigura\n",
    "plot2 = (\n",
    "    so.Plot(df, x=\"x\", y=\"ac\")\n",
    "    .add(so.Area(color='C2'))\n",
    "    .label(x=\"x\", y=\"Prob.cdf\")\n",
    "    .on(sf2)\n",
    ")\n",
    "plot2.plot()\n",
    "\n",
    "# Graficar en la tercera subfigura\n",
    "plot3 = (\n",
    "    so.Plot(df, x=\"x\", y=\"1-ac\")\n",
    "    .add(so.Area(color='C3'))\n",
    "    .label(x=\"x\", y=\"Prob.sf\")\n",
    "    .on(sf3)\n",
    ")\n",
    "plot3.plot()\n",
    "sf3.set_ylim(0, 1)\n",
    "\n",
    "# Ajustar diseño\n",
    "fig.tight_layout()\n",
    "plt.show()"
   ]
  },
  {
   "cell_type": "markdown",
   "metadata": {},
   "source": [
    "#### Consulta\n",
    "Kim, quien tiene el hábito de vivir siempre de prisa, se comprometió a acudir a una entrevista de trabajo inmediatamente después de su clase de estadística. \n",
    "+ Si la clase dura más de 51.5 minutos, llegará tarde a la entrevista de trabajo. \n",
    "+ Dada la distribución uniforme de la figura, calcule la probabilidad de que una clase seleccionada al azar dure más de 51.5 minutos."
   ]
  },
  {
   "cell_type": "markdown",
   "metadata": {},
   "source": [
    "Si observamos el gráfico, la distribución se divide en 8 octavos (8/8) o cuatro cuartos (4/4) a lo largo de x.\n",
    "+ 2 minutos divididos en cuatro partes da 0,5.\n",
    "    + mas de 51,5 minutos implica el area que va de 51,5 hasta 52. Esto implica 0,5 minutos.\n",
    "    + y 0,5 minutos por una probabilidad de 0,5 es igual a 0,25."
   ]
  },
  {
   "cell_type": "code",
   "execution_count": 90,
   "metadata": {},
   "outputs": [
    {
     "name": "stdout",
     "output_type": "stream",
     "text": [
      "Cálculo de la Probabilidad mayor o igual a 51.5:\n",
      "a. Por función Survival (sf)            : 0.249\n",
      "b. Por función Acumulada Inversa (1-cdf): 0.25\n"
     ]
    }
   ],
   "source": [
    "# Cálculo de la probabilidad de tardar más de 51,5 minutos\n",
    "\n",
    "t = 51.5\n",
    "# a. Mediante la función inversa a la acumulada\n",
    "t_sf = df[df[\"x\"] > 51.5]['1-ac'].max().round(3)\n",
    "\n",
    "# b. Mediante la función acumulada\n",
    "t_ac = df[df[\"x\"] <= 51.5]['ac'].max().round(3)\n",
    "t_ac_inv = 1- t_ac\n",
    "\n",
    "print(f\"Cálculo de la Probabilidad mayor o igual a {t}:\")\n",
    "print(f\"a. Por función Survival (sf)            : {t_sf}\")\n",
    "print(f\"b. Por función Acumulada Inversa (1-cdf): {t_ac_inv}\")\n",
    "# df[\"x\"] < 51.5\n",
    "df['t'] = df.apply(lambda row: 0 if row['x'] < t else row['p'], axis=1)"
   ]
  },
  {
   "cell_type": "code",
   "execution_count": 96,
   "metadata": {},
   "outputs": [
    {
     "data": {
      "image/png": "[encoded data removed]",
      "text/plain": [
       "<Figure size 500x400 with 1 Axes>"
      ]
     },
     "metadata": {},
     "output_type": "display_data"
    }
   ],
   "source": [
    "# Creación del grafico con seaborn objects y matplotlib\n",
    "import matplotlib.pyplot as plt\n",
    "from matplotlib import style\n",
    "\n",
    "# Aplicar un estilo\n",
    "# print(style.available) # use esta línea para ver estilos disponible junto con from matplotlib import style\n",
    "plt.style.use('ggplot')\n",
    "# Crear la figura con subfiguras\n",
    "fig, (sf1) = plt.subplots(1, figsize=(5, 4))\n",
    "\n",
    "# Graficar en la primera subfigura\n",
    "plot1 = (\n",
    "    so.Plot(df, x=\"x\", y=\"p\")\n",
    "    .add(so.Area(color='g'))\n",
    "    .label(x=\"x\", y=\"Prob.pdf\")\n",
    "    .on(sf1)\n",
    ")\n",
    "plot1.plot()\n",
    "sf1.set_ylim(0, 1)\n",
    "\n",
    "# Graficar en la segunda subfigura\n",
    "plot2 = (\n",
    "    so.Plot(df, x=\"x\", y=\"t\")\n",
    "    .add(so.Area(color='r'))\n",
    "    .label(x=\"x > \" + str(t), y=\"Prob(x)\")\n",
    "    .on(sf1)\n",
    ")\n",
    "plot2.plot()\n",
    "\n",
    "# Ajustar diseño\n",
    "fig.tight_layout()\n",
    "plt.show()"
   ]
  },
  {
   "cell_type": "markdown",
   "metadata": {},
   "source": [
    "__________________________________________________________________________________________________________________________________________________________________________"
   ]
  }
 ],
 "metadata": {
  "kernelspec": {
   "display_name": "Python 3",
   "language": "python",
   "name": "python3"
  },
  "language_info": {
   "codemirror_mode": {
    "name": "ipython",
    "version": 3
   },
   "file_extension": ".py",
   "mimetype": "text/x-python",
   "name": "python",
   "nbconvert_exporter": "python",
   "pygments_lexer": "ipython3",
   "version": "3.12.2"
  }
 },
 "nbformat": 4,
 "nbformat_minor": 2
}
