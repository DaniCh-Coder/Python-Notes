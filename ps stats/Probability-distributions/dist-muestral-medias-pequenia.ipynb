{
 "cells": [
  {
   "cell_type": "markdown",
   "metadata": {},
   "source": [
    "# Distribución muestral de las medias\n",
    "+ Un mariscal de campo lanzó:\n",
    "    + 1 intercepción en su primer juego, \n",
    "    + 2 intercepciones en su segundo juego, \n",
    "    + 5 intercepciones en su tercer juego y después se retiró. \n",
    "+ Considere la población consistente en los valores 1, 2, 5. \n",
    "    + Observe que dos de los valores (1 y 5) son impares, de manera que la mediai en la población es **8/3**.\n",
    "\n",
    "+ a.   Liste todas las muestras diferentes posibles de tamaño n 2 seleccionadas con reemplazo. \n",
    "    + Para cada muestra, calcule la media.\n",
    "    + Utilice una tabla para representar la distribución muestral de las medias.\n",
    "+ b.   Calcule la media de la distribución muestral de las medias.\n",
    "+ c.   Para la población de 1, 2, 5, la media poblacional es: 8/3.\n",
    "    + ¿La media de la distribución muestral de las medias también es igual a 8/3?   \n",
    "    + ¿Las medias muestrales coinciden con el valor de la media poblacional? \n",
    "        + Es decir, ¿las medias de la muestra tienen una media igual a la mediai poblacional?\n"
   ]
  },
  {
   "cell_type": "code",
   "execution_count": 7,
   "metadata": {},
   "outputs": [],
   "source": [
    "import pandas as pd\n",
    "import itertools\n",
    "import matplotlib.pyplot as plt\n",
    "from statistics import mean"
   ]
  },
  {
   "cell_type": "markdown",
   "metadata": {},
   "source": [
    "a. Construcción de las muestras posibles del caso"
   ]
  },
  {
   "cell_type": "code",
   "execution_count": 8,
   "metadata": {},
   "outputs": [
    {
     "name": "stdout",
     "output_type": "stream",
     "text": [
      "Permutation with repetitions of [1, 2, 5] = 3 elements, grouped by 2: 9 samples\n",
      "       sample  mean  P(sample)\n",
      "index                         \n",
      "0      (1, 1)   1.0   0.111111\n",
      "1      (1, 2)   1.5   0.111111\n",
      "2      (1, 5)   3.0   0.111111\n",
      "3      (2, 1)   1.5   0.111111\n",
      "4      (2, 2)   2.0   0.111111\n",
      "5      (2, 5)   3.5   0.111111\n",
      "6      (5, 1)   3.0   0.111111\n",
      "7      (5, 2)   3.5   0.111111\n",
      "8      (5, 5)   5.0   0.111111\n",
      "La media de las medias que aparecen en las muestras (mean) es igual a: 2.6666666666666665.\n"
     ]
    }
   ],
   "source": [
    "# a. Create permutations of elements in data (ej 1, 2, 5) grouped by 2\n",
    "# It also counts how many odd element are in each permutation.\n",
    "# After, it print each permutation adding the mean in each tuple\n",
    "# Permutations are with repetitions or replacement\n",
    "\n",
    "# data\n",
    "data=[1,2,5]\n",
    "size_data = len(data)\n",
    "grouped= sum(1 for numero in data if numero % 2 != 0)\n",
    "tot_perm = size_data**grouped\n",
    "print(f\"Permutation with repetitions of {data} = {size_data} elements, grouped by {grouped}: {tot_perm} samples\")\n",
    "\n",
    "# Create permutation with replacement\n",
    "permutationwrepeat = itertools.product(data, repeat=grouped)\n",
    "\n",
    "rows= []\n",
    "# Print each permutation whith replacement and the quantity of odds\n",
    "for i, permutation in enumerate(permutationwrepeat):\n",
    "    \n",
    "    mean_sample = mean(permutation)\n",
    "    rows.append({'index': i, 'sample': permutation, 'mean': mean_sample, 'P(sample)': 1/tot_perm })    \n",
    "\n",
    "# Create DataFrame\n",
    "df = pd.DataFrame(rows, columns=['index', 'sample', 'mean', 'P(sample)'])\n",
    "df.set_index('index', inplace=True)\n",
    "# df.reset_index(inplace=True)\n",
    "print(df)\n",
    "print(f\"La media de las medias que aparecen en las muestras (mean) es igual a: {df['mean'].mean()}.\")"
   ]
  },
  {
   "cell_type": "markdown",
   "metadata": {},
   "source": [
    "+ a. En la tabla **df** se listan las nueve muestras diferentes posibles de tamaño **n=2** (sample), \n",
    "    + obtenidas con reemplazo de la población de 1, 2, 5, de tamaño igual a 3.\n",
    "    + Esta tabla también contiene:\n",
    "        + 'sample'        : los números (elementos) que componen la muestra.\n",
    "        + 'mean' : **la media** de la muestra. (observe que varía según los valores de la muestra).\n",
    "        + 'P(sample)': probabilidad de encontrar una muestra como esta entre todas las muestras posibles. (1/9)\n",
    "    + Observe que: Como existen 9 muestras igualmente probables, cada muestra tiene una probabilidad de 1/9.\n",
    "    + Observe que: **La media de las medias que aparecen en las muestras es igual a 8/3 (2.6666)**\n",
    "        + Esta es una **media** que se calcula como la **𝜇=∑ 𝑥 / m**, dónde m es la cantidad de muestras (en este caso 9)\n",
    "        + Con pandas dataframe se puede ver simplemente con df.describe()"
   ]
  },
  {
   "cell_type": "markdown",
   "metadata": {},
   "source": [
    "b. Construcción de la distribución de frecuencias y probabilidades"
   ]
  },
  {
   "cell_type": "code",
   "execution_count": 9,
   "metadata": {},
   "outputs": [
    {
     "name": "stdout",
     "output_type": "stream",
     "text": [
      "Datos agrupados y sumarizados (grouped_df):\n"
     ]
    },
    {
     "data": {
      "text/html": [
       "<div>\n",
       "<style scoped>\n",
       "    .dataframe tbody tr th:only-of-type {\n",
       "        vertical-align: middle;\n",
       "    }\n",
       "\n",
       "    .dataframe tbody tr th {\n",
       "        vertical-align: top;\n",
       "    }\n",
       "\n",
       "    .dataframe thead th {\n",
       "        text-align: right;\n",
       "    }\n",
       "</style>\n",
       "<table border=\"1\" class=\"dataframe\">\n",
       "  <thead>\n",
       "    <tr style=\"text-align: right;\">\n",
       "      <th></th>\n",
       "      <th>mean</th>\n",
       "      <th>P(sample)</th>\n",
       "      <th>#rep</th>\n",
       "    </tr>\n",
       "  </thead>\n",
       "  <tbody>\n",
       "    <tr>\n",
       "      <th>0</th>\n",
       "      <td>1.0</td>\n",
       "      <td>0.111111</td>\n",
       "      <td>1</td>\n",
       "    </tr>\n",
       "    <tr>\n",
       "      <th>1</th>\n",
       "      <td>1.5</td>\n",
       "      <td>0.222222</td>\n",
       "      <td>2</td>\n",
       "    </tr>\n",
       "    <tr>\n",
       "      <th>2</th>\n",
       "      <td>2.0</td>\n",
       "      <td>0.111111</td>\n",
       "      <td>1</td>\n",
       "    </tr>\n",
       "    <tr>\n",
       "      <th>3</th>\n",
       "      <td>3.0</td>\n",
       "      <td>0.222222</td>\n",
       "      <td>2</td>\n",
       "    </tr>\n",
       "    <tr>\n",
       "      <th>4</th>\n",
       "      <td>3.5</td>\n",
       "      <td>0.222222</td>\n",
       "      <td>2</td>\n",
       "    </tr>\n",
       "    <tr>\n",
       "      <th>5</th>\n",
       "      <td>5.0</td>\n",
       "      <td>0.111111</td>\n",
       "      <td>1</td>\n",
       "    </tr>\n",
       "  </tbody>\n",
       "</table>\n",
       "</div>"
      ],
      "text/plain": [
       "   mean  P(sample)  #rep\n",
       "0   1.0   0.111111     1\n",
       "1   1.5   0.222222     2\n",
       "2   2.0   0.111111     1\n",
       "3   3.0   0.222222     2\n",
       "4   3.5   0.222222     2\n",
       "5   5.0   0.111111     1"
      ]
     },
     "execution_count": 9,
     "metadata": {},
     "output_type": "execute_result"
    }
   ],
   "source": [
    "# b. Create a summary and a grouped dataframe\n",
    "# count how many times each quantity of odds can be found on all the samples.\n",
    "summary_df = df.groupby('mean').size().reset_index(name='count')\n",
    "\n",
    "# Agrupar por 'mean' y calcular \n",
    "grouped_df = df.groupby('mean').agg({\n",
    "    'P(sample)': 'sum'\n",
    "}).reset_index()\n",
    "grouped_df['#rep']=summary_df['count']\n",
    "\n",
    "print(\"Datos agrupados y sumarizados (grouped_df):\")\n",
    "grouped_df"
   ]
  },
  {
   "cell_type": "markdown",
   "metadata": {},
   "source": [
    "+ b. En la tabla **grouped_df** se resumen los resultados de las muestras que se pueden tomar.\n",
    "    + Esto es porque la media que puede encotrarse al tomar cada muestra puede variar.\n",
    "        + En las 9 muestras que se pueden sacar, se pueden encontar medias que varían entre 1 y 5.\n",
    "        + En resumen, se pueden tomar 9 muestras distintas:\n",
    "            + Hay sólo una muestra dónde las medias serán 1, 2 y 5.\n",
    "            + En dos muestras las medias valdrán 1.5, 3 y 3.5.\n",
    "    + La tabla df, nos da el detalle.\n",
    "    + La tabla summary_df nos da el resumen."
   ]
  },
  {
   "cell_type": "code",
   "execution_count": 10,
   "metadata": {},
   "outputs": [
    {
     "data": {
      "image/png": "[encoded data removed]",
      "text/plain": [
       "<Figure size 800x400 with 2 Axes>"
      ]
     },
     "metadata": {},
     "output_type": "display_data"
    }
   ],
   "source": [
    "\n",
    "# b. Plotting the histograms\n",
    "fig, axes = plt.subplots(1, 2, figsize=(8, 4), sharex=True)\n",
    "\n",
    "# First subplot for count\n",
    "axes[0].bar(grouped_df['mean'], grouped_df['#rep'], color='green')\n",
    "axes[0].set_ylabel('Repeticiones')\n",
    "axes[0].set_xlabel('Valor de cada media',fontsize=10)\n",
    "axes[0].set_title('Frecuencia de Medias', fontsize=10)\n",
    "\n",
    "# Second subplot for percentage\n",
    "axes[1].bar(grouped_df['mean'], grouped_df['P(sample)'], color='salmon')\n",
    "axes[1].set_ylabel('Probabilidad')\n",
    "axes[1].set_xlabel('Valor de cada media',fontsize=10)\n",
    "axes[1].set_title('Probabilidades de las medias', fontsize=10)\n",
    "\n",
    "plt.tight_layout()\n",
    "plt.show()\n"
   ]
  },
  {
   "cell_type": "markdown",
   "metadata": {},
   "source": [
    "+ b. Frecuencias de Impares y probabiliddes de impaeres\n",
    "+ El gráfico de frecuencias nos da las cantidades de medias que pueden encontrarse dentro de la muestra en el total de las muestras.\n",
    "    + Si miramos la frecuencias vemos:\n",
    "        + La media vale 1 2 y 5 una vez cada una respectivamente.\n",
    "        + 2 veces la media vale 1.5, 3 y 3.5.\n",
    "        + La media nunca vale 2.5, 4 o 4.5.\n",
    "        + Eje y: Repeticiones o cantidad de veces que se repita la cantidad de impares.\n",
    "        + Eje x: Cantidad de impares que pueden encontrarse dentro de una muestra.\n",
    "+ El grafico de proporciones nos da la probabilidad de encontrar una una determinada media dentro del total de las muestras.\n",
    "    + Si obsevamos las probabilidades vemos:\n",
    "        + 0.111111 es la probabilidad de encontrar medias que valen 1, 2 y 5, dentro de las 9 muestras.\n",
    "        + 0.222222 es la probabilidad de encontrar medias que valen 1.5, 3 y 3.5,  dentro de las 9 muestras.\n",
    "        + 0.000000 es la probabilidad de encontrar medias que valen 2.5, 4 y 4.5, dentro de las 9 muestras.\n",
    "        + Eje y: La suma de las probabilidaddes da 1 como debe ser.\n",
    "        + Eje x: Tiene los valores posibles de medias para cada muestra."
   ]
  },
  {
   "cell_type": "markdown",
   "metadata": {},
   "source": [
    "+ C. ¿La media de la distribución muestral de las medias también es igual a 8/3?\n",
    "    + Calculamos la media\n",
    "        + 1. sumaproducto de todas las medias por la probabilidad de encontrar esas medias.\n",
    "        + En este caso la media se ve a simple vista porque:\n",
    "            + recordamos que la media de una distribución es : 𝜇=∑〖[𝑥 . 𝑃(𝑥)]〗"
   ]
  },
  {
   "cell_type": "code",
   "execution_count": 11,
   "metadata": {},
   "outputs": [
    {
     "data": {
      "text/html": [
       "<div>\n",
       "<style scoped>\n",
       "    .dataframe tbody tr th:only-of-type {\n",
       "        vertical-align: middle;\n",
       "    }\n",
       "\n",
       "    .dataframe tbody tr th {\n",
       "        vertical-align: top;\n",
       "    }\n",
       "\n",
       "    .dataframe thead th {\n",
       "        text-align: right;\n",
       "    }\n",
       "</style>\n",
       "<table border=\"1\" class=\"dataframe\">\n",
       "  <thead>\n",
       "    <tr style=\"text-align: right;\">\n",
       "      <th></th>\n",
       "      <th>mean</th>\n",
       "      <th>P(sample)</th>\n",
       "      <th>#rep</th>\n",
       "    </tr>\n",
       "  </thead>\n",
       "  <tbody>\n",
       "    <tr>\n",
       "      <th>0</th>\n",
       "      <td>1.0</td>\n",
       "      <td>0.111111</td>\n",
       "      <td>1</td>\n",
       "    </tr>\n",
       "    <tr>\n",
       "      <th>1</th>\n",
       "      <td>1.5</td>\n",
       "      <td>0.222222</td>\n",
       "      <td>2</td>\n",
       "    </tr>\n",
       "    <tr>\n",
       "      <th>2</th>\n",
       "      <td>2.0</td>\n",
       "      <td>0.111111</td>\n",
       "      <td>1</td>\n",
       "    </tr>\n",
       "    <tr>\n",
       "      <th>3</th>\n",
       "      <td>3.0</td>\n",
       "      <td>0.222222</td>\n",
       "      <td>2</td>\n",
       "    </tr>\n",
       "    <tr>\n",
       "      <th>4</th>\n",
       "      <td>3.5</td>\n",
       "      <td>0.222222</td>\n",
       "      <td>2</td>\n",
       "    </tr>\n",
       "    <tr>\n",
       "      <th>5</th>\n",
       "      <td>5.0</td>\n",
       "      <td>0.111111</td>\n",
       "      <td>1</td>\n",
       "    </tr>\n",
       "  </tbody>\n",
       "</table>\n",
       "</div>"
      ],
      "text/plain": [
       "   mean  P(sample)  #rep\n",
       "0   1.0   0.111111     1\n",
       "1   1.5   0.222222     2\n",
       "2   2.0   0.111111     1\n",
       "3   3.0   0.222222     2\n",
       "4   3.5   0.222222     2\n",
       "5   5.0   0.111111     1"
      ]
     },
     "execution_count": 11,
     "metadata": {},
     "output_type": "execute_result"
    }
   ],
   "source": [
    "grouped_df"
   ]
  },
  {
   "cell_type": "code",
   "execution_count": 12,
   "metadata": {},
   "outputs": [
    {
     "name": "stdout",
     "output_type": "stream",
     "text": [
      "El producto de las medias dentro de cada muestra por la probabilidad de obtener esa media es:\n",
      "0    0.111111\n",
      "1    0.333333\n",
      "2    0.222222\n",
      "3    0.666667\n",
      "4    0.777778\n",
      "5    0.555556\n",
      "dtype: float64-\n",
      "La media de las medias aparecen en las muestras (#odds/data) es igual a: 2.666666666666666.\n"
     ]
    }
   ],
   "source": [
    "\n",
    "sumaproducto = (grouped_df['mean']* grouped_df['P(sample)'])\n",
    "media_proporcion_de_impares=sumaproducto.sum()\n",
    "print(f\"El producto de las medias dentro de cada muestra por la probabilidad de obtener esa media es:\\n{sumaproducto}-\")\n",
    "print(f\"La media de las medias aparecen en las muestras (#odds/data) es igual a: {media_proporcion_de_impares}.\")\n"
   ]
  },
  {
   "cell_type": "markdown",
   "metadata": {},
   "source": [
    "#### Conclusiones\n",
    "1. El la definición de este problema al ver los datos [1, 2, 5] se observa que la media es 0.66666 o 8/3.\n",
    "2. En el punto a, al armar la tabla de datos se observa que la media de las medias de las muestras es 8/3.\n",
    "2. En el punto c, se revisa la media de las medias y una vez mas se observa que la media de las proporciones es 8/3.\n",
    "+ Por lo tanto, **las medias muestrales tienden a coincidir con la media poblacional** "
   ]
  },
  {
   "cell_type": "markdown",
   "metadata": {},
   "source": [
    "_____________________________________________________________________________________________________________________________________________________________"
   ]
  }
 ],
 "metadata": {
  "kernelspec": {
   "display_name": "Python 3",
   "language": "python",
   "name": "python3"
  },
  "language_info": {
   "codemirror_mode": {
    "name": "ipython",
    "version": 3
   },
   "file_extension": ".py",
   "mimetype": "text/x-python",
   "name": "python",
   "nbconvert_exporter": "python",
   "pygments_lexer": "ipython3",
   "version": "3.12.2"
  }
 },
 "nbformat": 4,
 "nbformat_minor": 2
}
