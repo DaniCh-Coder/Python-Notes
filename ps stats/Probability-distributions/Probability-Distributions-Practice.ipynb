{
 "cells": [
  {
   "cell_type": "markdown",
   "metadata": {},
   "source": [
    "# Distribuciones de Probabilidad\n",
    "## Ejemplos, Ejercicios y Conceptos\n",
    "### Los conceptos que conviene ser conocidos por el lector para este trabajo son:\n",
    "+ Variable aleatoria: tiene un valor numérico asociado a cada resultado de algún procedimiento aleatorio, \n",
    "+ Distribución de probabilidad: tiene una probabilidad asociada a cada valor de una variable aleatoria. \n",
    "+ Métodos para calcular la media, la varianza y la desviación estándar de una distribución de probabilidad. \n",
    "+ Valor esperado de una variable aleatoria: es igual a la media. \n",
    "+ Resultado infrecuente, un concepto sumamente importante  para determinar cuándo los resultados son poco comunes.\n",
    "+ Ver estos conceptos en: https://www.chreinvent.com/recursos/distribuci%C3%B3n-de-probabilidad"
   ]
  },
  {
   "cell_type": "code",
   "execution_count": 106,
   "metadata": {},
   "outputs": [],
   "source": [
    "import math\n",
    "import pandas as pd"
   ]
  },
  {
   "cell_type": "markdown",
   "metadata": {},
   "source": [
    "### Lotería Kentucky Pick 4. Esperanza Matemática.\n",
    "+ Si usted apuesta $1 en el juego de lotería Kentucky Pick 4, pierde $1 o gana $4999. \n",
    "    + (El premio ganador es de $5,000, pero no le devuelven su apuesta de $1, por lo que la ganancia neta es de $4999). \n",
    "+ El juego consiste en seleccionar un número de cuatro dígitos entre 0000 y 9999. \n",
    "+ Si usted apuesta $1 al 1234, ¿cuál es el valor esperado de ganar o perder?"
   ]
  },
  {
   "cell_type": "code",
   "execution_count": 107,
   "metadata": {},
   "outputs": [
    {
     "data": {
      "text/html": [
       "<div>\n",
       "<style scoped>\n",
       "    .dataframe tbody tr th:only-of-type {\n",
       "        vertical-align: middle;\n",
       "    }\n",
       "\n",
       "    .dataframe tbody tr th {\n",
       "        vertical-align: top;\n",
       "    }\n",
       "\n",
       "    .dataframe thead th {\n",
       "        text-align: right;\n",
       "    }\n",
       "</style>\n",
       "<table border=\"1\" class=\"dataframe\">\n",
       "  <thead>\n",
       "    <tr style=\"text-align: right;\">\n",
       "      <th></th>\n",
       "      <th>Suceso</th>\n",
       "      <th>x</th>\n",
       "      <th>P(x)</th>\n",
       "      <th>x.P(x)</th>\n",
       "    </tr>\n",
       "  </thead>\n",
       "  <tbody>\n",
       "    <tr>\n",
       "      <th>0</th>\n",
       "      <td>Ganar</td>\n",
       "      <td>4999</td>\n",
       "      <td>0.0001</td>\n",
       "      <td>0.4999</td>\n",
       "    </tr>\n",
       "    <tr>\n",
       "      <th>1</th>\n",
       "      <td>Perder</td>\n",
       "      <td>-1</td>\n",
       "      <td>0.9999</td>\n",
       "      <td>-0.9999</td>\n",
       "    </tr>\n",
       "    <tr>\n",
       "      <th>2</th>\n",
       "      <td>Total</td>\n",
       "      <td>5000</td>\n",
       "      <td>1.0000</td>\n",
       "      <td>-0.5000</td>\n",
       "    </tr>\n",
       "  </tbody>\n",
       "</table>\n",
       "</div>"
      ],
      "text/plain": [
       "   Suceso     x    P(x)  x.P(x)\n",
       "0   Ganar  4999  0.0001  0.4999\n",
       "1  Perder    -1  0.9999 -0.9999\n",
       "2   Total  5000  1.0000 -0.5000"
      ]
     },
     "execution_count": 107,
     "metadata": {},
     "output_type": "execute_result"
    }
   ],
   "source": [
    "# Analisis del problema:\n",
    "# I. Probabilidades: \n",
    "#   a. Suceso favorable: \n",
    "#       Probabilidad de ganar apostando a 1234.\n",
    "#       Un solo suceso favorable. \n",
    "#   b. Sucesos posibles: \n",
    "#       Variaciones con repetición. (ej 1111, 1123)\n",
    "#           Si importa el orden porque son numeros distintos. (ej 1234 <> 1243).\n",
    "#           Con reemplazo porque cada bolilla que saco con un numero la tengo que volver a poner.\n",
    "#           Al ser con reemplazo se trata de sucesos independientes.\n",
    "#           Vcr(10, 4) = 10^4 = 10000\n",
    "#   1. Probabilidad de ganar apostando a 1234:\n",
    "#      Suceso Faborable/Sucesos posibles (a/b)\n",
    "#       P(x) = P(1234) = 1/10000 = 0,0001\n",
    "#   2. Probabilidad de perder apostando a 1234: 9999\n",
    "#       P(x) = P(<>1234) = 9999/10000 = 0,9999 = 1 - P(1234)\n",
    "# II. Esperanzas\n",
    "#   a. Esperanza de ganar : x . P(x) = $4999 . 0,0001 = +$0,4999\n",
    "#   b. Esperanza de perder: x . P(x) = $  -1 . 0.9999 = -$0.9999\n",
    "#   c. Esperanza Matemática del problema (a+b):  neto =  -$0.5\n",
    "# III. Conclusión\n",
    "#   Es de esperar que luego de jugar muchisimo este juego, resulte que se pierda medio dólar!!\n",
    "dfEspMat = pd.DataFrame(\n",
    "    {\n",
    "        \"Suceso\": ['Ganar', 'Perder', 'Total'],\n",
    "        \"x\"     : [4999, -1, 5000],\n",
    "        \"P(x)\"  : [0.0001, 0.9999, 1],\n",
    "        \"x.P(x)\": [0.4999, -0.9999, -0.5],    \n",
    "    }\n",
    ")\n",
    "dfEspMat"
   ]
  },
  {
   "cell_type": "markdown",
   "metadata": {},
   "source": [
    "##### Conslusiones\n",
    "+ En cualquier juego individual de esta lotería, se pierde $1 u obtiene una ganancia neta de $4999, \n",
    "    + pero el valor esperado indica que, a largo plazo, se espera perder un promedio de 50 centavos por cada apuesta de $1. \n",
    "+ Tal vez esta lotería tenga cierto valor de entretenimiento limitado, \n",
    "    + pero, sin duda, se trata de una inversión económica extremadamente inadecuada."
   ]
  },
  {
   "cell_type": "markdown",
   "metadata": {},
   "source": [
    "### Distribución de probabilidad. \n",
    "#### Distribución Uniforme.\n",
    "Considere el ensayo de lanzar un dado, con los resultados 1, 2, 3, 4, 5 y 6. Construya la tabla que represente la distribución de probabilidad."
   ]
  },
  {
   "cell_type": "code",
   "execution_count": 108,
   "metadata": {},
   "outputs": [
    {
     "data": {
      "text/html": [
       "<div>\n",
       "<style scoped>\n",
       "    .dataframe tbody tr th:only-of-type {\n",
       "        vertical-align: middle;\n",
       "    }\n",
       "\n",
       "    .dataframe tbody tr th {\n",
       "        vertical-align: top;\n",
       "    }\n",
       "\n",
       "    .dataframe thead th {\n",
       "        text-align: right;\n",
       "    }\n",
       "</style>\n",
       "<table border=\"1\" class=\"dataframe\">\n",
       "  <thead>\n",
       "    <tr style=\"text-align: right;\">\n",
       "      <th></th>\n",
       "      <th>Dado</th>\n",
       "      <th>Probabilidad</th>\n",
       "    </tr>\n",
       "  </thead>\n",
       "  <tbody>\n",
       "    <tr>\n",
       "      <th>0</th>\n",
       "      <td>1</td>\n",
       "      <td>0.166667</td>\n",
       "    </tr>\n",
       "    <tr>\n",
       "      <th>1</th>\n",
       "      <td>2</td>\n",
       "      <td>0.166667</td>\n",
       "    </tr>\n",
       "    <tr>\n",
       "      <th>2</th>\n",
       "      <td>3</td>\n",
       "      <td>0.166667</td>\n",
       "    </tr>\n",
       "    <tr>\n",
       "      <th>3</th>\n",
       "      <td>4</td>\n",
       "      <td>0.166667</td>\n",
       "    </tr>\n",
       "    <tr>\n",
       "      <th>4</th>\n",
       "      <td>5</td>\n",
       "      <td>0.166667</td>\n",
       "    </tr>\n",
       "    <tr>\n",
       "      <th>5</th>\n",
       "      <td>6</td>\n",
       "      <td>0.166667</td>\n",
       "    </tr>\n",
       "  </tbody>\n",
       "</table>\n",
       "</div>"
      ],
      "text/plain": [
       "   Dado  Probabilidad\n",
       "0     1      0.166667\n",
       "1     2      0.166667\n",
       "2     3      0.166667\n",
       "3     4      0.166667\n",
       "4     5      0.166667\n",
       "5     6      0.166667"
      ]
     },
     "execution_count": 108,
     "metadata": {},
     "output_type": "execute_result"
    }
   ],
   "source": [
    "pd_dado = pd.DataFrame (\n",
    "    {\n",
    "        \"Dado\"         : [1, 2, 3, 4, 5, 6],\n",
    "        \"Probabilidad\" : [1/6, 1/6, 1/6, 1/6, 1/6, 1/6]  \n",
    "    },\n",
    ")\n",
    "pd_dado"
   ]
  },
  {
   "cell_type": "markdown",
   "metadata": {},
   "source": [
    "Se trata de una distribución de probabilidad uniforme dado que las 6 caras del dado tienen la misma probabilidad de salir, si el dado está perfectamente balanceado."
   ]
  },
  {
   "cell_type": "markdown",
   "metadata": {},
   "source": []
  },
  {
   "cell_type": "markdown",
   "metadata": {},
   "source": [
    "#### Suma de probabilidades.\n",
    "a) Uno de los requisitos de una distribución de probabilidad es que la suma de las probabilidades debe ser 1 (se permite una pequeña cantidad de variación por errores de redondeo). ¿Cuál es la justificación de este requisito?"
   ]
  },
  {
   "cell_type": "code",
   "execution_count": 109,
   "metadata": {},
   "outputs": [],
   "source": [
    "# Uno de los requisitos de la distribución de probabilidades es que la suma de las probabilidades para todos los valores de la variable aleatoria es uno. \n",
    "# Esto tiene sentido ya que para que las probabilidades estén distribuidas coherentemente la suma debe ser uno que es el suceso seguro."
   ]
  },
  {
   "cell_type": "markdown",
   "metadata": {},
   "source": [
    "b) Un jugador profesional afirma que cargó un dado para que los resultados de 1, 2, 3, 4, 5, 6 tengan probabilidades correspondientes de 0.1, 0.2, 0.3, 0.4, 0.5 y 0.6. ¿Realmente será cierto lo que dice? ¿Una distribución de probabilidad se describe haciendo una lista de los resultados junto con sus probabilidades correspondientes?"
   ]
  },
  {
   "cell_type": "code",
   "execution_count": 110,
   "metadata": {},
   "outputs": [],
   "source": [
    "# No. Lo cierto es que si un jugador carga un dado para que salga con mayor probabilidad una cara que otras, lo puede hacer en detrimento de las probabilidades de las otras caras y siempre la suma de las probabilidades dará uno ya que es imposible que la suma de la distribución de probabilidad sea mayor que uno. Por ejemplo si carga el dado para que salga siempre 6, entonces la probabilidad de que salgan valores como 1,2,3,4,5 es cero.\n",
    "# Una distribución de probabilidad discreta se describe por una lista de resultados posibles junto con sus probabilidades correspondientes. Para que sea válida, debe cumplir con dos condiciones:\n",
    "# 1.\tCada probabilidad debe ser un número entre 0 y 1 (inclusivo).\n",
    "# 2.\tLa suma de todas las probabilidades debe ser igual a 1.\n",
    "# La suma de las probabilidades es 2.1, que es mayor que 1. \n",
    "# Por lo tanto, las probabilidades proporcionadas no forman una distribución de probabilidad válida. \n",
    "# La suma de las probabilidades debe ser exactamente 1, pero en este caso, es 2.1.\n",
    "# Por lo tanto, la afirmación del jugador profesional no puede ser cierta si las probabilidades asignadas a los resultados\n",
    "# son realmente las que él menciona."
   ]
  },
  {
   "cell_type": "markdown",
   "metadata": {},
   "source": [
    "### Nacimientos. Valor esperado.  \n",
    "+ Un investigador calcula el valor esperado del número de niñas en cinco nacimientos y obtiene un resultado de 2.5. \n",
    "+ Luego, redondea los resultados a 3, al afirmar que no es posible que nazcan 2.5 niñas en cinco nacimientos. \n",
    "+ ¿Es correcto este razonamiento?"
   ]
  },
  {
   "cell_type": "code",
   "execution_count": 111,
   "metadata": {},
   "outputs": [],
   "source": [
    "# No parece ser correcto. \n",
    "# Esto se debe a que si el valor esperado o esperanza matemática da como resultado 2.5, \n",
    "#   significaría mas bien que es esperable que nazcan entre 2 y 3 niñas con igual probabilidad en este caso de nacimientos considerado. \n",
    "# El valor esperado de 2.5 es una medida teórica de la media del número de niñas en un gran número de experimentos de cinco nacimientos cada uno. No significa que en un único experimento o en un único conjunto de cinco nacimientos esperemos ver exactamente 2.5 niñas. \n",
    "# En cada conjunto de cinco nacimientos, el número real de niñas será un número entero (0, 1, 2, 3, 4, o 5).\n",
    "# Redondear el valor esperado a 3 para decir que no es posible que nazcan 2.5 niñas es incorrecto \n",
    "#   porque el valor esperado es una media teórica, no un valor real que necesariamente ocurre en un solo experimento. \n",
    "# El redondeo podría ser útil en algunos contextos prácticos, \n",
    "#   pero no cambia el significado teórico del valor esperado en la distribución de probabilidad.\n"
   ]
  },
  {
   "cell_type": "markdown",
   "metadata": {},
   "source": [
    "### Estadisticos Basicos y Factibilidad de Distribución de probabilidad.\n",
    "+ Comprobar varios planteos para definir si son distribuciones de probabilidad\n",
    "+ Para esto hacer una función \n",
    "+   que controle si la P(x) = 1\n",
    "+   defina si la función es correcta o no\n",
    "+   haga los cálculos de media, varianza y desvío estandard"
   ]
  },
  {
   "cell_type": "code",
   "execution_count": 138,
   "metadata": {},
   "outputs": [],
   "source": [
    "# Función Distribución de Probabilidad#\n",
    "def DistProb(x = [], Px = []):\n",
    "    \"\"\"Función que controla si la distribución de probabilidad es correcta\"\"\"\n",
    "    # Crea dos vectores con x y P(x)\n",
    "    # x = [0, 1, 2, 3]\n",
    "    # Px = [0.4219, 0.4219, 0.1406, 0.0156]\n",
    "    # Multiplica cada elemento de un vector por elemento correspondiente del otro\n",
    "    xPx = [x[i] * Px[i] for i in range(len(x))]\n",
    "    xxPx = [x[i]**2 * Px[i] for i in range(len(x))]\n",
    "\n",
    "    # Crea el dataframe\n",
    "    df_genX = pd.DataFrame(\n",
    "        {\n",
    "            \"x\": x,\n",
    "            \"P(x)\": Px,\n",
    "            \"x.P(x)\" : xPx,\n",
    "            \"xx.P(x)\": xxPx\n",
    "        }\n",
    "    )\n",
    "    print(df_genX.to_string(index=False))\n",
    "\n",
    "    oki = 1 if sum(Px) == 1 else 0\n",
    "    # print(f\"\\noki = {oki}\\n\")\n",
    "    print(f\"\\na. La suma de las probabilidades {['si' if oki else 'no']} es igual a 1. :  {df_genX['P(x)'].sum()} \")\n",
    "    if oki:\n",
    "        mu =  df_genX['x.P(x)'].sum()\n",
    "        xxPxsum = df_genX['xx.P(x)'].sum()\n",
    "        print(f\"b. 𝜇   = ∑[𝑥 . 𝑃(𝑥)]         = {mu:.2f}\")\n",
    "        print(f\"c. 𝜎^2 = ∑[𝑥^2. 𝑃(𝑥)]−𝜇^2    = {xxPxsum:.2f} - {mu**2:.2f} = {xxPxsum - mu**2:.2f}\")\n",
    "        print(f\"d. 𝜎   = √(∑[𝑥^2. 𝑃(𝑥)]−𝜇^2) = {math.sqrt(xxPxsum - mu**2):.2f}\")"
   ]
  },
  {
   "cell_type": "markdown",
   "metadata": {},
   "source": [
    "#### a. Trastorno genético. \n",
    "Cada uno de tres hombres que tienen un trastorno genético relacionado con el cromosoma X tiene un hijo. \n",
    "+ La variable aleatoria x es el número de hijos de los tres hombres que heredan el trastorno genético relacionado con el cromosoma X.\n",
    "- x\tP(x)\n",
    "- 0\t0.4219\n",
    "- 1\t0.4219\n",
    "- 2\t0.1406\n",
    "- 3\t0.0156"
   ]
  },
  {
   "cell_type": "code",
   "execution_count": 139,
   "metadata": {},
   "outputs": [
    {
     "name": "stdout",
     "output_type": "stream",
     "text": [
      " x   P(x)  x.P(x)  xx.P(x)\n",
      " 0 0.4219  0.0000   0.0000\n",
      " 1 0.4219  0.4219   0.4219\n",
      " 2 0.1406  0.2812   0.5624\n",
      " 3 0.0156  0.0468   0.1404\n",
      "\n",
      "a. La suma de las probabilidades ['si'] es igual a 1. :  0.9999999999999999 \n",
      "b. 𝜇   = ∑[𝑥 . 𝑃(𝑥)]         = 0.75\n",
      "c. 𝜎^2 = ∑[𝑥^2. 𝑃(𝑥)]−𝜇^2    = 1.12 - 0.56 = 0.56\n",
      "d. 𝜎   = √(∑[𝑥^2. 𝑃(𝑥)]−𝜇^2) = 0.75\n"
     ]
    }
   ],
   "source": [
    "DistProb([0, 1, 2, 3], [0.4219, 0.4219, 0.1406, 0.0156])"
   ]
  },
  {
   "cell_type": "markdown",
   "metadata": {},
   "source": [
    "#### b. Números de niñas. \n",
    "Un investigador reporta que, cuando se seleccionan al azar grupos de cuatro niños de una población de parejas que cumplen ciertos criterios, la distribución de probabilidad del número de niñas es como la que se presenta en la siguiente tabla:\n",
    "+  x\tP(x)\n",
    "+  0\t0.502\n",
    "+  1\t0.365\n",
    "+  2\t0.098\n",
    "+  3\t0.011\n",
    "+  4\t0.001"
   ]
  },
  {
   "cell_type": "code",
   "execution_count": 140,
   "metadata": {},
   "outputs": [
    {
     "name": "stdout",
     "output_type": "stream",
     "text": [
      " x  P(x)  x.P(x)  xx.P(x)\n",
      " 0 0.502   0.000    0.000\n",
      " 1 0.365   0.365    0.365\n",
      " 2 0.098   0.196    0.392\n",
      " 3 0.011   0.033    0.099\n",
      " 4 0.001   0.004    0.016\n",
      "\n",
      "a. La suma de las probabilidades ['no'] es igual a 1. :  0.977 \n"
     ]
    }
   ],
   "source": [
    "DistProb([0,1,2,3,4], [0.502, 0.365, 0.098, 0.011, 0.001])"
   ]
  },
  {
   "cell_type": "markdown",
   "metadata": {},
   "source": [
    "#### c.\tExperimento de genética.  \n",
    "Un experimento de genética incluye vástagos de guisantes en grupos de cuatro. \n",
    "+ Un investigador reporta que, para un grupo, el número de plantas de guisantes con flores blancas tiene una distribución de probabilidad como la que se presenta en la siguiente tabla:\n",
    "+ x\tP(x)\n",
    "+ 0\t0.04\n",
    "+ 1\t0.16\n",
    "+ 2\t0.80\n",
    "+ 3\t0.16\n",
    "+ 4\t0.04\n",
    "\n"
   ]
  },
  {
   "cell_type": "code",
   "execution_count": 141,
   "metadata": {},
   "outputs": [
    {
     "name": "stdout",
     "output_type": "stream",
     "text": [
      " x  P(x)  x.P(x)  xx.P(x)\n",
      " 0  0.04    0.00     0.00\n",
      " 1  0.16    0.16     0.16\n",
      " 2  0.80    1.60     3.20\n",
      " 3  0.16    0.48     1.44\n",
      " 4  0.04    0.16     0.64\n",
      "\n",
      "a. La suma de las probabilidades ['no'] es igual a 1. :  1.2 \n"
     ]
    }
   ],
   "source": [
    "DistProb([0,1,2,3,4], [0.04,0.16,0.80,0.16,0.04])"
   ]
  },
  {
   "cell_type": "markdown",
   "metadata": {},
   "source": [
    "#### d.\tEstudio de mortalidad.  \n",
    "Para un grupo de cuatro hombres, la distribución de probabilidad del número x que sobreviven al año siguiente es como la que se presenta la siguiente tabla:\n",
    "+ x\tP(x)\n",
    "+ 0\t0.0000\n",
    "+ 1\t0.0001\n",
    "+ 2\t0.0006\n",
    "+ 3\t0.0387\n",
    "+ 4\t0.9606"
   ]
  },
  {
   "cell_type": "code",
   "execution_count": 142,
   "metadata": {},
   "outputs": [
    {
     "name": "stdout",
     "output_type": "stream",
     "text": [
      " x   P(x)  x.P(x)  xx.P(x)\n",
      " 0 0.0000  0.0000   0.0000\n",
      " 1 0.0001  0.0001   0.0001\n",
      " 2 0.0006  0.0012   0.0024\n",
      " 3 0.0387  0.1161   0.3483\n",
      " 4 0.9606  3.8424  15.3696\n",
      "\n",
      "a. La suma de las probabilidades ['si'] es igual a 1. :  1.0 \n",
      "b. 𝜇   = ∑[𝑥 . 𝑃(𝑥)]         = 3.96\n",
      "c. 𝜎^2 = ∑[𝑥^2. 𝑃(𝑥)]−𝜇^2    = 15.72 - 15.68 = 0.04\n",
      "d. 𝜎   = √(∑[𝑥^2. 𝑃(𝑥)]−𝜇^2) = 0.20\n"
     ]
    }
   ],
   "source": [
    "DistProb([0,1,2,3,4], [0.0000,0.0001,0.0006,0.0387,0.9606])"
   ]
  },
  {
   "cell_type": "markdown",
   "metadata": {},
   "source": [
    "#### e.\tNúmero de juegos en una Serie Mundial de béisbol.  \n",
    "Con base en resultados pasados encontrados en el Information Please Almanac, existe:\n",
    "+ una probabilidad del 0.1818 de que la Serie Mundial de béisbol dure cuatro juegos, \n",
    "+ una probabilidad del  0.2121 de que dure cinco juegos, \n",
    "+ una probabilidad de 0.2323 de que dure seis juegos y \n",
    "+ una probabilidad del 0.3737 de que dure siete juegos. \n",
    "* ¿Será infrecuente que un equipo “arrase” al ganar cuatro juegos? "
   ]
  },
  {
   "cell_type": "code",
   "execution_count": 150,
   "metadata": {},
   "outputs": [
    {
     "name": "stdout",
     "output_type": "stream",
     "text": [
      " x     P(x)   x.P(x)   xx.P(x)\n",
      " 4 0.181818 0.727273  2.909091\n",
      " 5 0.212121 1.060606  5.303030\n",
      " 6 0.232323 1.393939  8.363636\n",
      " 7 0.373737 2.616162 18.313131\n",
      "\n",
      "a. La suma de las probabilidades ['si'] es igual a 1. :  1.0 \n",
      "b. 𝜇   = ∑[𝑥 . 𝑃(𝑥)]         = 5.80\n",
      "c. 𝜎^2 = ∑[𝑥^2. 𝑃(𝑥)]−𝜇^2    = 34.89 - 33.62 = 1.27\n",
      "d. 𝜎   = √(∑[𝑥^2. 𝑃(𝑥)]−𝜇^2) = 1.13\n"
     ]
    }
   ],
   "source": [
    "DistProb([4,5,6,7], [0.18181818181818181818,0.21212121212121212121,0.23232323232323232323,0.37373737373737373737])"
   ]
  },
  {
   "cell_type": "markdown",
   "metadata": {},
   "source": [
    "Es más probable que el números de juegos sea 7 a que sea 4.\n",
    "+ Sin embargo, la probabilidad de juegos igual a 4 no es baja, sino que es mayor que el 5%.\n",
    "+ Por lo tanto la probabilidad que puedan haber sólo 4 juegos igual a 18% es alta y **no** es un suceso improbable o infrecuente."
   ]
  },
  {
   "cell_type": "markdown",
   "metadata": {},
   "source": [
    "#### f.\tReconocimiento de marca. \n",
    "En un estudio de reconocimiento de la marca Sony se entrevistaron grupos de cuatro consumidores. \n",
    "+ Si x es el número de personas en el grupo que reconocen la marca Sony, entonces x puede ser 0, 1, 2, 3 o 4, y las probabilidades correspondientes son 0.0016, 0.0250, 0.1432, 0.3892 y 0.4096. \n",
    "+ ¿Será infrecuente seleccionar al azar a cuatro consumidores y descubrir que ninguno de ellos reconoce la marca Sony?"
   ]
  },
  {
   "cell_type": "code",
   "execution_count": 153,
   "metadata": {},
   "outputs": [
    {
     "name": "stdout",
     "output_type": "stream",
     "text": [
      " x   P(x)  x.P(x)  xx.P(x)\n",
      " 0 0.0016  0.0000   0.0000\n",
      " 1 0.0250  0.0250   0.0250\n",
      " 2 0.1432  0.2864   0.5728\n",
      " 3 0.3892  1.1676   3.5028\n",
      " 4 0.4096  1.6384   6.5536\n",
      "\n",
      "a. La suma de las probabilidades ['no'] es igual a 1. :  0.9685999999999999 \n"
     ]
    }
   ],
   "source": [
    "DistProb([0,1,2,3,4], [0.0016, 0.0250, 0.1432, 0.3892, 0.4096])"
   ]
  },
  {
   "cell_type": "markdown",
   "metadata": {},
   "source": []
  }
 ],
 "metadata": {
  "kernelspec": {
   "display_name": "Python 3",
   "language": "python",
   "name": "python3"
  },
  "language_info": {
   "codemirror_mode": {
    "name": "ipython",
    "version": 3
   },
   "file_extension": ".py",
   "mimetype": "text/x-python",
   "name": "python",
   "nbconvert_exporter": "python",
   "pygments_lexer": "ipython3",
   "version": "3.12.2"
  }
 },
 "nbformat": 4,
 "nbformat_minor": 2
}
