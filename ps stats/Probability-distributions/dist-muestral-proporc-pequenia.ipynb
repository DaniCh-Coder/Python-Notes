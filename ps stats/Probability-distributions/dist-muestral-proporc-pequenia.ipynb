{
 "cells": [
  {
   "cell_type": "code",
   "execution_count": 15,
   "metadata": {},
   "outputs": [],
   "source": [
    "import pandas as pd\n",
    "import itertools\n",
    "import matplotlib.pyplot as plt"
   ]
  },
  {
   "cell_type": "markdown",
   "metadata": {},
   "source": [
    "# Distribución  muestral de  proporciones   \n",
    "+ Un mariscal de campo lanzó:\n",
    "    +  1 intercepción en su primer juego, \n",
    "    + 2 intercepciones en su segundo juego, \n",
    "    + 5 intercepciones en su tercer juego y después se retiró. \n",
    "+ Considere la población consistente en los valores 1, 2, 5. \n",
    "    + Observe que dos de los valores (1 y 5) son impares, de manera que la proporción de números impares en la población es **2/3**.\n",
    "\n",
    "+ a.   Liste todas las muestras diferentes posibles de tamaño n 2 seleccionadas con reemplazo. \n",
    "    + Para cada muestra, calcule la proporción de números impares. \n",
    "    + Utilice una tabla para representar la distribución muestral de la proporción de números impares.\n",
    "+ b.   Calcule la media de la distribución muestral para la proporción de números impares.\n",
    "+ c.   Para la población de 1, 2, 5, la proporción de números impares es 2/3. \n",
    "    + ¿La media de la distribución muestral de la proporción de números impares también es igual a 2/3?   \n",
    "    + ¿Las proporciones muestrales coinciden con el valor de la proporción poblacional? \n",
    "        + Es decir, ¿las proporciones de la muestra tienen una media igual a la proporción poblacional?\n"
   ]
  },
  {
   "cell_type": "markdown",
   "metadata": {},
   "source": [
    "a. Construcción de las muestras posibles del caso"
   ]
  },
  {
   "cell_type": "code",
   "execution_count": 16,
   "metadata": {},
   "outputs": [
    {
     "name": "stdout",
     "output_type": "stream",
     "text": [
      "Permutation with repetitions of [1, 2, 5] = 3 elements, grouped by 2: 9 samples\n",
      "       sample  #odds  #odds/t_odds  #odds/data  #odds/samples\n",
      "index                                                        \n",
      "0      (1, 1)      2           1.0    0.666667       0.111111\n",
      "1      (1, 2)      1           0.5    0.333333       0.111111\n",
      "2      (1, 5)      2           1.0    0.666667       0.111111\n",
      "3      (2, 1)      1           0.5    0.333333       0.111111\n",
      "4      (2, 2)      0           0.0    0.000000       0.111111\n",
      "5      (2, 5)      1           0.5    0.333333       0.111111\n",
      "6      (5, 1)      2           1.0    0.666667       0.111111\n",
      "7      (5, 2)      1           0.5    0.333333       0.111111\n",
      "8      (5, 5)      2           1.0    0.666667       0.111111\n",
      "La media de la proporción de impares que aparecen en las muestras (#odds/data) es igual a: 0.6666666666666666.\n"
     ]
    }
   ],
   "source": [
    "# a. Create permutations of elements in data (ej 1, 2, 5) grouped by 2\n",
    "# It also counts how many odd element are in each permutation.\n",
    "# After, it print each permutation adding the number of odds in each tuple\n",
    "# Permutations are with repetitions or replacement\n",
    "\n",
    "# data\n",
    "data=[1,2,5]\n",
    "size_data = len(data)\n",
    "grouped= sum(1 for numero in data if numero % 2 != 0)\n",
    "tot_perm = size_data**grouped\n",
    "print(f\"Permutation with repetitions of {data} = {size_data} elements, grouped by {grouped}: {tot_perm} samples\")\n",
    "\n",
    "# Create permutation with replacement\n",
    "permutationwrepeat = itertools.product(data, repeat=grouped)\n",
    "\n",
    "rows= []\n",
    "# Print each permutation whith replacement and the quantity of odds\n",
    "for i, permutation in enumerate(permutationwrepeat):\n",
    "    \n",
    "    impares = sum(1 for numero in permutation if numero % 2 != 0)\n",
    "    rows.append({'index': i, 'sample': permutation, '#odds': impares, '#odds/t_odds': impares/grouped, '#odds/data': impares/size_data, '#odds/samples': 1/tot_perm })    \n",
    "\n",
    "# Create DataFrame\n",
    "df = pd.DataFrame(rows, columns=['index', 'sample', '#odds', '#odds/t_odds', '#odds/data', '#odds/samples'])\n",
    "df.set_index('index', inplace=True)\n",
    "# df.reset_index(inplace=True)\n",
    "print(df)\n",
    "print(f\"La media de la proporción de impares que aparecen en las muestras (#odds/data) es igual a: {df['#odds/t_odds'].mean()}.\")"
   ]
  },
  {
   "cell_type": "markdown",
   "metadata": {},
   "source": [
    "+ a. En la tabla **df** se listan las nueve muestras diferentes posibles de tamaño **n=2** (sample), \n",
    "    + obtenidas con reemplazo de la población de 1, 2, 5, de tamaño igual a 3.\n",
    "    + Esta tabla también contiene:\n",
    "        + '#odds'        : el número de valores impares que aperecen en cada muestra.\n",
    "        + '#odds/t_odds' : **proporción de impares sobre el total de impares** de la muestra. (Varíará entre 0 y 1).\n",
    "        + '#odds/data'   : proporción de impares sobre el total de datos de la muestra. (puede ser 0, 1/3, 2/3)\n",
    "        + '#odds/samples': probabilidad de encontrar una muestra como esta entre todas las muestras posibles. (1/9)\n",
    "    + Observe que: Como existen 9 muestras igualmente probables, cada muestra tiene una probabilidad de 1/9.\n",
    "    + Observe que: **La media de la proporción de impares que aparecen en las muestras es igual a 2/3 (0.6666)**\n",
    "        + Esta es una **proporcional** que se calcula como la **𝜇=∑ 𝑥 / m**, dónde m es la cantidad de muestras (en este caso 9)\n",
    "        + Con pandas dataframe se puede ver simplemente con df.describe()"
   ]
  },
  {
   "cell_type": "markdown",
   "metadata": {},
   "source": [
    "b. Construcción de la distribución de frecuencias y probabilidades"
   ]
  },
  {
   "cell_type": "code",
   "execution_count": 17,
   "metadata": {},
   "outputs": [
    {
     "name": "stdout",
     "output_type": "stream",
     "text": [
      "Datos agrupados y sumarizados (grouped_df):\n"
     ]
    },
    {
     "data": {
      "text/html": [
       "<div>\n",
       "<style scoped>\n",
       "    .dataframe tbody tr th:only-of-type {\n",
       "        vertical-align: middle;\n",
       "    }\n",
       "\n",
       "    .dataframe tbody tr th {\n",
       "        vertical-align: top;\n",
       "    }\n",
       "\n",
       "    .dataframe thead th {\n",
       "        text-align: right;\n",
       "    }\n",
       "</style>\n",
       "<table border=\"1\" class=\"dataframe\">\n",
       "  <thead>\n",
       "    <tr style=\"text-align: right;\">\n",
       "      <th></th>\n",
       "      <th>#odds</th>\n",
       "      <th>#odds/t_odds</th>\n",
       "      <th>#odds/data</th>\n",
       "      <th>#odds/samples</th>\n",
       "      <th>#rep</th>\n",
       "    </tr>\n",
       "  </thead>\n",
       "  <tbody>\n",
       "    <tr>\n",
       "      <th>0</th>\n",
       "      <td>0</td>\n",
       "      <td>0.0</td>\n",
       "      <td>0.000000</td>\n",
       "      <td>0.111111</td>\n",
       "      <td>1</td>\n",
       "    </tr>\n",
       "    <tr>\n",
       "      <th>1</th>\n",
       "      <td>1</td>\n",
       "      <td>0.5</td>\n",
       "      <td>0.333333</td>\n",
       "      <td>0.444444</td>\n",
       "      <td>4</td>\n",
       "    </tr>\n",
       "    <tr>\n",
       "      <th>2</th>\n",
       "      <td>2</td>\n",
       "      <td>1.0</td>\n",
       "      <td>0.666667</td>\n",
       "      <td>0.444444</td>\n",
       "      <td>4</td>\n",
       "    </tr>\n",
       "  </tbody>\n",
       "</table>\n",
       "</div>"
      ],
      "text/plain": [
       "   #odds  #odds/t_odds  #odds/data  #odds/samples  #rep\n",
       "0      0           0.0    0.000000       0.111111     1\n",
       "1      1           0.5    0.333333       0.444444     4\n",
       "2      2           1.0    0.666667       0.444444     4"
      ]
     },
     "execution_count": 17,
     "metadata": {},
     "output_type": "execute_result"
    }
   ],
   "source": [
    "\n",
    "# b. Create a summary and a grouped dataframe\n",
    "# count how many times each quantity of odds can be found on all the samples.\n",
    "summary_df = df.groupby('#odds').size().reset_index(name='count')\n",
    "\n",
    "# Agrupar por '#odds' y calcular la mediana de '#odds/t_odds', '#odds/data', '#odds/samples' y el tamaño del grupo\n",
    "grouped_df = df.groupby('#odds').agg({\n",
    "    '#odds/t_odds': 'median',\n",
    "    '#odds/data': 'median',\n",
    "    '#odds/samples': 'sum'\n",
    "}).reset_index()\n",
    "grouped_df['#rep']=summary_df['count']\n",
    "\n",
    "print(\"Datos agrupados y sumarizados (grouped_df):\")\n",
    "grouped_df"
   ]
  },
  {
   "cell_type": "markdown",
   "metadata": {},
   "source": [
    "+ b. En la tabla **grouped_df** se resumen los resultados de las muestras que se pueden tomar.\n",
    "    + Esto es porque la cantidad de impares qeu pueden encotrarse al tomar distintas muestras puede varia.\n",
    "        + En las 9 muestras que se pueden sacar, se pueden encontar 0, 1 o dos impares. Como se ve en df.\n",
    "    + En resumen, se pueden tomar 9 muestrs distintas:\n",
    "        + En una muestra no habrá ningún impar.\n",
    "        + En cuatro muestras habrá sólo un impar.\n",
    "        + En cuatro muestras habrán dos impares.\n",
    "    + La tabla df, nos da el detalle.\n",
    "    + La tabla summary_df nos da el resumen."
   ]
  },
  {
   "cell_type": "code",
   "execution_count": 18,
   "metadata": {},
   "outputs": [
    {
     "data": {
      "image/png": "[encoded data removed]",
      "text/plain": [
       "<Figure size 800x400 with 2 Axes>"
      ]
     },
     "metadata": {},
     "output_type": "display_data"
    }
   ],
   "source": [
    "\n",
    "# b. Plotting the histograms\n",
    "fig, axes = plt.subplots(1, 2, figsize=(8, 4), sharex=True)\n",
    "\n",
    "# First subplot for count\n",
    "axes[0].bar(grouped_df['#odds'], grouped_df['#rep'], color='skyblue')\n",
    "axes[0].set_ylabel('Repeticiones')\n",
    "axes[0].set_xlabel('Cantidad de Impares',fontsize=10)\n",
    "axes[0].set_title('Frecuencia de Impares', fontsize=10)\n",
    "\n",
    "# Second subplot for percentage\n",
    "axes[1].bar(grouped_df['#odds/t_odds'], grouped_df['#odds/samples'], color='salmon')\n",
    "axes[1].set_ylabel('Probabilidad')\n",
    "axes[1].set_xlabel('Proporción Varía entre 0 y 1',fontsize=10)\n",
    "axes[1].set_title('Proporciones de Impares', fontsize=10)\n",
    "\n",
    "plt.tight_layout()\n",
    "plt.show()\n"
   ]
  },
  {
   "cell_type": "markdown",
   "metadata": {},
   "source": [
    "+ b. Frecuencias de Impares y probabiliddes de impaeres\n",
    "+ El gráfico de frecuencias nos da las cantidades de impares que pueden encontrarse dentro de la muestra en el total de las muestras.\n",
    "    + Si miramos la frecuencias vemos:\n",
    "        + 1/9 veces se no se encontrarán ningun impares\n",
    "        + 4/9 veces se encontrará 1 solo impares\n",
    "        + 4/9 veces se encontrarán 2 impares\n",
    "        + Eje y: Repeticiones o cantidad de veces que se repita la cantidad de impares.\n",
    "        + Eje x: Cantidad de impares que pueden encontrarse dentro de una muestra.\n",
    "+ El grafico de proporciones nos da la probabilidad de encontrar una determinada proporción del total de impares dentro del total de las muestras.\n",
    "    + Si obsevamos las probabilidades vemos:\n",
    "        + 0.111111 es la probabilidad de encontrar 0 de dos impares dentro de las 9 muestras.\n",
    "        + 0.444444 es la probabilidad de encontrar 1 de dos impares dentro de las 9 muestras.\n",
    "        + 0.444444 es la probabilidad de encontrar 2 de dos impares dentro de las 9 muestras.\n",
    "        + Eje y: La suma de las probabilidaddes da 1 como debe ser.\n",
    "        + Eje x: La proporción de impares también varía entre 0 y 1 como debe ser."
   ]
  },
  {
   "cell_type": "markdown",
   "metadata": {},
   "source": [
    "+ C. ¿La media de la distribución muestral de la proporción de números impares también es igual a 2/3?\n",
    "    + Calculamos la media\n",
    "        + 1. sumaproducto de 0, 1 y 2 impares por la probabilidad de encontrar esos impares.\n",
    "        + 2. dividimos la sumaproducto por la cantidad de muestras.\n",
    "        + En este caso la media se ve a simple vista porque:\n",
    "            + recordamos que la media de una distribución es : 𝜇=∑〖[𝑥 . 𝑃(𝑥)]〗\n",
    "            + en este caso x='#odds/t_odds' y P(x)='#odds/samples'\n",
    "            + la sumaproducto dará  (0 * 0.11 + 0.5* 0.44 + 1* 0.44) = 0.66"
   ]
  },
  {
   "cell_type": "code",
   "execution_count": 19,
   "metadata": {},
   "outputs": [
    {
     "data": {
      "text/html": [
       "<div>\n",
       "<style scoped>\n",
       "    .dataframe tbody tr th:only-of-type {\n",
       "        vertical-align: middle;\n",
       "    }\n",
       "\n",
       "    .dataframe tbody tr th {\n",
       "        vertical-align: top;\n",
       "    }\n",
       "\n",
       "    .dataframe thead th {\n",
       "        text-align: right;\n",
       "    }\n",
       "</style>\n",
       "<table border=\"1\" class=\"dataframe\">\n",
       "  <thead>\n",
       "    <tr style=\"text-align: right;\">\n",
       "      <th></th>\n",
       "      <th>#odds</th>\n",
       "      <th>#odds/t_odds</th>\n",
       "      <th>#odds/data</th>\n",
       "      <th>#odds/samples</th>\n",
       "      <th>#rep</th>\n",
       "    </tr>\n",
       "  </thead>\n",
       "  <tbody>\n",
       "    <tr>\n",
       "      <th>0</th>\n",
       "      <td>0</td>\n",
       "      <td>0.0</td>\n",
       "      <td>0.000000</td>\n",
       "      <td>0.111111</td>\n",
       "      <td>1</td>\n",
       "    </tr>\n",
       "    <tr>\n",
       "      <th>1</th>\n",
       "      <td>1</td>\n",
       "      <td>0.5</td>\n",
       "      <td>0.333333</td>\n",
       "      <td>0.444444</td>\n",
       "      <td>4</td>\n",
       "    </tr>\n",
       "    <tr>\n",
       "      <th>2</th>\n",
       "      <td>2</td>\n",
       "      <td>1.0</td>\n",
       "      <td>0.666667</td>\n",
       "      <td>0.444444</td>\n",
       "      <td>4</td>\n",
       "    </tr>\n",
       "  </tbody>\n",
       "</table>\n",
       "</div>"
      ],
      "text/plain": [
       "   #odds  #odds/t_odds  #odds/data  #odds/samples  #rep\n",
       "0      0           0.0    0.000000       0.111111     1\n",
       "1      1           0.5    0.333333       0.444444     4\n",
       "2      2           1.0    0.666667       0.444444     4"
      ]
     },
     "execution_count": 19,
     "metadata": {},
     "output_type": "execute_result"
    }
   ],
   "source": [
    "grouped_df"
   ]
  },
  {
   "cell_type": "code",
   "execution_count": 20,
   "metadata": {},
   "outputs": [
    {
     "name": "stdout",
     "output_type": "stream",
     "text": [
      "El producto de la proporción de impares dentro de cada muestra por la probabilidad de obtener esa muestra es:\n",
      "0    0.000000\n",
      "1    0.222222\n",
      "2    0.444444\n",
      "dtype: float64-\n",
      "La media de la proporción de impares que aparecen en las muestras (#odds/data) es igual a: 0.6666666666666666.\n"
     ]
    }
   ],
   "source": [
    "\n",
    "sumaproducto = (grouped_df['#odds/t_odds']* grouped_df['#odds/samples'])\n",
    "media_proporcion_de_impares=sumaproducto.sum()\n",
    "print(f\"El producto de la proporción de impares dentro de cada muestra por la probabilidad de obtener esa muestra es:\\n{sumaproducto}-\")\n",
    "print(f\"La media de la proporción de impares que aparecen en las muestras (#odds/data) es igual a: {media_proporcion_de_impares}.\")\n"
   ]
  },
  {
   "cell_type": "markdown",
   "metadata": {},
   "source": [
    "#### Conclusiones\n",
    "1. El la definición de este problema al ver los datos [1, 2, 5] se observa que la proporción de impares es 0.66666 o 2/3.\n",
    "2. En el punto a, al armar la tabla de datos se observa que la media de las proporcones de impares sobre las muestras es 2/3.\n",
    "2. En el punto c, se revisa la media de las proporciones y una vez mas se observa que la media de las proporciones es 2/3.\n",
    "+ Por lo tanto, **las proporciones muestrales tienden a coincidir con la proporción poblacional** \n",
    "    + (en lugar de tender sistemáticamente a subestimar o sobreestimar ese valor)\n"
   ]
  },
  {
   "cell_type": "markdown",
   "metadata": {},
   "source": [
    "_____________________________________________________________________________________________________________________________________________________________"
   ]
  }
 ],
 "metadata": {
  "kernelspec": {
   "display_name": "Python 3",
   "language": "python",
   "name": "python3"
  },
  "language_info": {
   "codemirror_mode": {
    "name": "ipython",
    "version": 3
   },
   "file_extension": ".py",
   "mimetype": "text/x-python",
   "name": "python",
   "nbconvert_exporter": "python",
   "pygments_lexer": "ipython3",
   "version": "3.12.2"
  }
 },
 "nbformat": 4,
 "nbformat_minor": 2
}
