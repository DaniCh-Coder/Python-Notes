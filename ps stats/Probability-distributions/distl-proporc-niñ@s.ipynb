{
 "cells": [
  {
   "cell_type": "markdown",
   "metadata": {},
   "source": [
    "# Distribución  muestral de  proporciones   \n",
    "### Distribución muestral de la proporción  de niñas  en dos nacimientos \n",
    "- Cuando se eligen dos nacimientos al azar, el espacio muestral es hh, hm, mh, mm, donde h es hombre y m es mujer. \n",
    "+ Esto tambien lo pordíamos escribir como un espacio muestral de (0,1) donde 0 es mujer y 1 hombre, \n",
    "    + es decir [(0,0),(0,1),(1,0),(1,1)].\n",
    "+ a. Analizar las muestras posibles y sus probabilidades de ocurrencia.\n",
    "+ b. Calcular la media de la distribución de frecuencias y la media de la distribución de proporciones.\n",
    "+ c. Revisar la media de las proporciones y compararla con la proporción de mujeres de la muestra"
   ]
  },
  {
   "cell_type": "code",
   "execution_count": 1,
   "metadata": {},
   "outputs": [],
   "source": [
    "import pandas as pd\n",
    "import itertools\n",
    "import matplotlib.pyplot as plt"
   ]
  },
  {
   "cell_type": "markdown",
   "metadata": {},
   "source": [
    "+ a. Construcción de las muestras posibles del caso\n",
    "    + Antes que nada observemos y recordemos que la proporción de mujeres (que vamos a estudiar) en la población es 1/2.\n",
    "        + de esta población tomaremos muestras de 2."
   ]
  },
  {
   "cell_type": "code",
   "execution_count": 2,
   "metadata": {},
   "outputs": [
    {
     "name": "stdout",
     "output_type": "stream",
     "text": [
      "Permutation with repetitions of ['h', 'm'] = 2 elements, grouped by 2: 4 samples\n",
      "       sample  #nenas  #nenas/t_nenas  #nenas/data  #nenas/samples\n",
      "index                                                             \n",
      "0      (h, h)       0             0.0          0.0            0.25\n",
      "1      (h, m)       1             0.5          0.5            0.25\n",
      "2      (m, h)       1             0.5          0.5            0.25\n",
      "3      (m, m)       2             1.0          1.0            0.25\n",
      "La media de la proporción de nenas que aparecen en las muestras (#nenas/data) es igual a: 0.5.\n"
     ]
    }
   ],
   "source": [
    "# a. Create permutations of elements in data (ej 0,1) grouped by 2\n",
    "# It also counts how many odd element are in each permutation.\n",
    "# After, it print each permutation adding the number of odds in each tuple\n",
    "# Permutations are with repetitions or replacement\n",
    "\n",
    "# data\n",
    "data=['h','m']\n",
    "size_data = len(data)\n",
    "grouped= 2\n",
    "tot_perm = size_data**grouped\n",
    "print(f\"Permutation with repetitions of {data} = {size_data} elements, grouped by {grouped}: {tot_perm} samples\")\n",
    "\n",
    "# Create permutation with replacement\n",
    "permutationwrepeat = itertools.product(data, repeat=grouped)\n",
    "\n",
    "rows= []\n",
    "# Print each permutation whith replacement and the quantity of odds\n",
    "for i, permutation in enumerate(permutationwrepeat):\n",
    "    \n",
    "    mujeres = sum(1 for numero in permutation if numero == 'm')\n",
    "    rows.append({'index': i, 'sample': permutation, '#nenas': mujeres, '#nenas/t_nenas': mujeres/grouped, '#nenas/data': mujeres/size_data, '#nenas/samples': 1/tot_perm })    \n",
    "\n",
    "# Create DataFrame\n",
    "df = pd.DataFrame(rows, columns=['index', 'sample', '#nenas', '#nenas/t_nenas', '#nenas/data', '#nenas/samples'])\n",
    "df.set_index('index', inplace=True)\n",
    "# df.reset_index(inplace=True)\n",
    "print(df)\n",
    "print(f\"La media de la proporción de nenas que aparecen en las muestras (#nenas/data) es igual a: {df['#nenas/t_nenas'].mean()}.\")"
   ]
  },
  {
   "cell_type": "markdown",
   "metadata": {},
   "source": [
    "+ a. En la tabla **df** se listan las **cuatro* muestras diferentes posibles de tamaño **n=2** (sample), \n",
    "    + obtenidas con reemplazo de la población de ['h','m'] de tamaño igual a 2.\n",
    "    + Esta tabla también contiene:\n",
    "        + '#nenas'        : el número de mujeres que aperecen en cada muestra.\n",
    "        + '#nenas/t_nenas': **proporción de mujeres sobre el total de mujeres** de la muestra. (Varíará entre 0 y 1).\n",
    "        + '#nenas/data'   : proporción de mujeres sobre el total de mujeres de la muestra. (puede ser 0, 1/2, 1)\n",
    "        + '#nenas/samples': probabilidad de encontrar una muestra como esta entre todas las muestras posibles. (1/4)\n",
    "    + Observe que: Como existen 4 muestras igualmente probables, cada muestra tiene una probabilidad de 1/4.\n",
    "    + Observe que: **La media de la proporción de mujeres que aparecen en las muestras es igual a 1/2 (0.5)**\n",
    "        + Esta es una distribución **proporcional** que se calcula como la **𝜇=∑ 𝑥 / m**, dónde m es la cantidad de muestras (en este caso 4)\n",
    "        + Con pandas dataframe se puede ver simplemente con df.describe()"
   ]
  },
  {
   "cell_type": "markdown",
   "metadata": {},
   "source": [
    "b. Construcción de la distribución de frecuencias y probabilidades"
   ]
  },
  {
   "cell_type": "code",
   "execution_count": 3,
   "metadata": {},
   "outputs": [
    {
     "name": "stdout",
     "output_type": "stream",
     "text": [
      "Datos agrupados y sumarizados (grouped_df):\n"
     ]
    },
    {
     "data": {
      "text/html": [
       "<div>\n",
       "<style scoped>\n",
       "    .dataframe tbody tr th:only-of-type {\n",
       "        vertical-align: middle;\n",
       "    }\n",
       "\n",
       "    .dataframe tbody tr th {\n",
       "        vertical-align: top;\n",
       "    }\n",
       "\n",
       "    .dataframe thead th {\n",
       "        text-align: right;\n",
       "    }\n",
       "</style>\n",
       "<table border=\"1\" class=\"dataframe\">\n",
       "  <thead>\n",
       "    <tr style=\"text-align: right;\">\n",
       "      <th></th>\n",
       "      <th>#nenas</th>\n",
       "      <th>#nenas/t_nenas</th>\n",
       "      <th>#nenas/data</th>\n",
       "      <th>#nenas/samples</th>\n",
       "      <th>#rep</th>\n",
       "    </tr>\n",
       "  </thead>\n",
       "  <tbody>\n",
       "    <tr>\n",
       "      <th>0</th>\n",
       "      <td>0</td>\n",
       "      <td>0.0</td>\n",
       "      <td>0.0</td>\n",
       "      <td>0.25</td>\n",
       "      <td>1</td>\n",
       "    </tr>\n",
       "    <tr>\n",
       "      <th>1</th>\n",
       "      <td>1</td>\n",
       "      <td>0.5</td>\n",
       "      <td>0.5</td>\n",
       "      <td>0.50</td>\n",
       "      <td>2</td>\n",
       "    </tr>\n",
       "    <tr>\n",
       "      <th>2</th>\n",
       "      <td>2</td>\n",
       "      <td>1.0</td>\n",
       "      <td>1.0</td>\n",
       "      <td>0.25</td>\n",
       "      <td>1</td>\n",
       "    </tr>\n",
       "  </tbody>\n",
       "</table>\n",
       "</div>"
      ],
      "text/plain": [
       "   #nenas  #nenas/t_nenas  #nenas/data  #nenas/samples  #rep\n",
       "0       0             0.0          0.0            0.25     1\n",
       "1       1             0.5          0.5            0.50     2\n",
       "2       2             1.0          1.0            0.25     1"
      ]
     },
     "execution_count": 3,
     "metadata": {},
     "output_type": "execute_result"
    }
   ],
   "source": [
    "# b. Create a summary and a grouped dataframe\n",
    "# count how many times each quantity of odds can be found on all the samples.\n",
    "summary_df = df.groupby('#nenas').size().reset_index(name='count')\n",
    "\n",
    "# Agrupar por '#nenas' y calcular la mediana de '#nenas/t_nenas', '#nenas/data', '#nenas/samples' y el tamaño del grupo\n",
    "grouped_df = df.groupby('#nenas').agg({\n",
    "    '#nenas/t_nenas': 'median',\n",
    "    '#nenas/data': 'median',\n",
    "    '#nenas/samples': 'sum'\n",
    "}).reset_index()\n",
    "grouped_df['#rep']=summary_df['count']\n",
    "\n",
    "print(\"Datos agrupados y sumarizados (grouped_df):\")\n",
    "grouped_df"
   ]
  },
  {
   "cell_type": "markdown",
   "metadata": {},
   "source": [
    "+ b. En la tabla **grouped_df** se resumen los resultados de las muestras que se pueden tomar.\n",
    "    + Esto es porque la cantidad de mujeres que pueden encotrarse al tomar distintas muestras puede variar.\n",
    "        + En las 4 muestras que se pueden sacar, se pueden encontar 0, 1 o dos mujeres. Como se ve en df.\n",
    "    + En resumen, se pueden tomar 4 muestras distintas:\n",
    "        + En una muestra no habrá ningúna mujer.\n",
    "        + En dos muestras habrá solo una mujer.\n",
    "        + En una muestra habrán dos mujeres.\n",
    "    + La tabla df, nos da el detalle.\n",
    "    + La tabla summary_df nos da el resumen."
   ]
  },
  {
   "cell_type": "code",
   "execution_count": 4,
   "metadata": {},
   "outputs": [
    {
     "data": {
      "image/png": "[encoded data removed]",
      "text/plain": [
       "<Figure size 800x400 with 2 Axes>"
      ]
     },
     "metadata": {},
     "output_type": "display_data"
    }
   ],
   "source": [
    "\n",
    "# b. Plotting the histograms\n",
    "fig, axes = plt.subplots(1, 2, figsize=(8, 4), sharex=True)\n",
    "\n",
    "# First subplot for count\n",
    "axes[0].bar(grouped_df['#nenas'], grouped_df['#rep'], color='skyblue')\n",
    "axes[0].set_ylabel('Repeticiones')\n",
    "axes[0].set_xlabel('Cantidad de nenas',fontsize=10)\n",
    "axes[0].set_title('Frecuencia de Mujeres', fontsize=10)\n",
    "\n",
    "# Second subplot for percentage\n",
    "axes[1].bar(grouped_df['#nenas/t_nenas'], grouped_df['#nenas/samples'], color='salmon')\n",
    "axes[1].set_ylabel('Probabilidad')\n",
    "axes[1].set_xlabel('Proporción varía entre 0 y 1',fontsize=10)\n",
    "axes[1].set_title('Proporciones de Mujeres', fontsize=10)\n",
    "\n",
    "plt.tight_layout()\n",
    "plt.show()\n"
   ]
  },
  {
   "cell_type": "markdown",
   "metadata": {},
   "source": [
    "+ b. Frecuencias de Mujeres y probabiliddes de mujeres\n",
    "+ El gráfico de frecuencias nos da las cantidades de mujeres que pueden encontrarse dentro de la muestra en el total de las muestras.\n",
    "    + Si miramos la frecuencias vemos:\n",
    "        + 1/4 veces se no se encontrarán ningun mujeres\n",
    "        + 2/4 veces se encontrará 1 sola mujer\n",
    "        + 1/4 veces se encontrarán 2 mujeres\n",
    "        + Eje y: Repeticiones o cantidad de veces que se repita la cantidad de mujeres.\n",
    "        + Eje x: Cantidad de mujeres que pueden encontrarse dentro de una muestra.\n",
    "+ El grafico de proporciones nos da la probabilidad de encontrar una determinada proporción del total de mujeres dentro del total de las muestras.\n",
    "    + Si obsevamos las probabilidades vemos:\n",
    "        + 0.25 es la probabilidad de encontrar 0 de dos posibles mujeres dentro de las 4 muestras.\n",
    "        + 0.5 es la probabilidad de encontrar 1 de dos mujeres posibles dentro de las 4 muestras.\n",
    "        + 0.25 es la probabilidad de encontrar 2 de dos mujeres dentro posibles en las 4 muestras.\n",
    "        + Eje y: La suma de las probabilidaddes da 1 como debe ser.\n",
    "        + Eje x: La proporción de mujeres también varía entre 0 y 1 como debe ser."
   ]
  },
  {
   "cell_type": "markdown",
   "metadata": {},
   "source": [
    "+ C. ¿La media de la distribución muestral de la proporción de números mujeres también es igual a 1/2?\n",
    "    + Calculamos la media\n",
    "        + 1. sumaproducto de 0, 1 y 2 mujeres por la probabilidad de encontrar esas mujeres.\n",
    "        + 2. dividimos la sumaproducto por la cantidad de muestras.\n",
    "        + En este caso la media se ve a simple vista porque:\n",
    "            + recordamos que la media de una distribución es : 𝜇=∑〖[𝑥 . 𝑃(𝑥)]〗\n",
    "            + en este caso x='#odds/t_nenas' y P(x)='#odds/samples'\n",
    "            + la sumaproducto dará  (0 * 0.25 + 0.5* 0.5 + 1* 0.25) = 0.5"
   ]
  },
  {
   "cell_type": "code",
   "execution_count": 5,
   "metadata": {},
   "outputs": [
    {
     "name": "stdout",
     "output_type": "stream",
     "text": [
      "   #nenas  #nenas/t_nenas  #nenas/data  #nenas/samples  #rep\n",
      "0       0             0.0          0.0            0.25     1\n",
      "1       1             0.5          0.5            0.50     2\n",
      "2       2             1.0          1.0            0.25     1\n",
      "El producto de la proporción de mujeres dentro de cada muestra por la probabilidad de obtener esa muestra es:\n",
      "0    0.00\n",
      "1    0.25\n",
      "2    0.25\n",
      "dtype: float64-\n",
      "La media de la proporción de mujeres que aparecen en las muestras (#nenas/data) es igual a: 0.5.\n"
     ]
    }
   ],
   "source": [
    "print(grouped_df)\n",
    "sumaproducto = (grouped_df['#nenas/t_nenas']* grouped_df['#nenas/samples'])\n",
    "media_proporcion_de_mujeres=sumaproducto.sum()\n",
    "print(f\"El producto de la proporción de mujeres dentro de cada muestra por la probabilidad de obtener esa muestra es:\\n{sumaproducto}-\")\n",
    "print(f\"La media de la proporción de mujeres que aparecen en las muestras (#nenas/data) es igual a: {media_proporcion_de_mujeres}.\")"
   ]
  },
  {
   "cell_type": "markdown",
   "metadata": {},
   "source": [
    "#### Conclusiones\n",
    "1. El la definición de este problema, al ver los datos ['h','m'] se observa que la proporción de mujeres es 0.5 o 1/2.\n",
    "2. En el punto a, al armar la tabla de datos se observa que la media de las proporcones de mujeres sobre las muestras es 1/2.\n",
    "2. En el punto c, se revisa la media de las proporciones y una vez mas se observa que la media de las proporciones es 0.5 o 1/2.\n",
    "+ Por lo tanto, **las proporciones muestrales tienden a coincidir con la proporción poblacional** \n",
    "    + (en lugar de tender sistemáticamente a subestimar o sobreestimar ese valor)"
   ]
  },
  {
   "cell_type": "markdown",
   "metadata": {},
   "source": [
    "_____________________________________________________________________________________________________________________________________________________________"
   ]
  }
 ],
 "metadata": {
  "kernelspec": {
   "display_name": "Python 3",
   "language": "python",
   "name": "python3"
  },
  "language_info": {
   "codemirror_mode": {
    "name": "ipython",
    "version": 3
   },
   "file_extension": ".py",
   "mimetype": "text/x-python",
   "name": "python",
   "nbconvert_exporter": "python",
   "pygments_lexer": "ipython3",
   "version": "3.12.2"
  }
 },
 "nbformat": 4,
 "nbformat_minor": 2
}
