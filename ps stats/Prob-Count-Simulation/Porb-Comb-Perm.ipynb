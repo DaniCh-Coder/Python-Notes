{
 "cells": [
  {
   "cell_type": "markdown",
   "metadata": {},
   "source": [
    "# Combinaciones"
   ]
  },
  {
   "cell_type": "markdown",
   "metadata": {},
   "source": [
    "### Lotería"
   ]
  },
  {
   "cell_type": "markdown",
   "metadata": {},
   "source": [
    "Puesto que la lotería Fantasy 5 de California se gana al seleccionar los cinco números correctos (en cualquier orden) entre 1 y 39, existen 575,757 combinaciones diferentes de cinco números que podrían elegirse, y la probabilidad de ganar esta lotería es de 1/575,757. En lo siguiente, calcule la probabilidad de ganar la lotería indicada."
   ]
  },
  {
   "cell_type": "code",
   "execution_count": 7,
   "metadata": {},
   "outputs": [],
   "source": [
    "import math"
   ]
  },
  {
   "cell_type": "code",
   "execution_count": 8,
   "metadata": {},
   "outputs": [
    {
     "name": "stdout",
     "output_type": "stream",
     "text": [
      "Help on built-in function comb in module math:\n",
      "\n",
      "comb(n, k, /)\n",
      "    Number of ways to choose k items from n items without repetition and without order.\n",
      "\n",
      "    Evaluates to n! / (k! * (n - k)!) when k <= n and evaluates\n",
      "    to zero when k > n.\n",
      "\n",
      "    Also called the binomial coefficient because it is equivalent\n",
      "    to the coefficient of k-th term in polynomial expansion of the\n",
      "    expression (1 + x)**n.\n",
      "\n",
      "    Raises TypeError if either of the arguments are not integers.\n",
      "    Raises ValueError if either of the arguments are negative.\n",
      "\n"
     ]
    }
   ],
   "source": [
    "help(math.comb)"
   ]
  },
  {
   "cell_type": "markdown",
   "metadata": {},
   "source": [
    "Lotería Fantasy 5 de California\n",
    "math.comb(35, 5)"
   ]
  },
  {
   "cell_type": "code",
   "execution_count": 9,
   "metadata": {},
   "outputs": [
    {
     "name": "stdout",
     "output_type": "stream",
     "text": [
      "Probabilidad de ganar la lotería = 1/575757 = 1.736843842107e-06\n"
     ]
    }
   ],
   "source": [
    "fantasy = math.comb(39, 5)\n",
    "print(f\"Probabilidad de ganar la lotería = 1/{fantasy} = {1/fantasy}\")"
   ]
  },
  {
   "cell_type": "markdown",
   "metadata": {},
   "source": [
    "a.\tMassachusetts Mass Cash Lottery: Seleccione los cinco números ganadores entre 1, 2, . . . , 35."
   ]
  },
  {
   "cell_type": "code",
   "execution_count": 10,
   "metadata": {},
   "outputs": [
    {
     "name": "stdout",
     "output_type": "stream",
     "text": [
      "Probabilidad de ganar la lotería = 1/324632 = 3.0804110500505186e-06\n"
     ]
    }
   ],
   "source": [
    "a = math.comb(35, 5)\n",
    "print(f\"Probabilidad de ganar la lotería = 1/{a} = {1/a}\")"
   ]
  },
  {
   "cell_type": "markdown",
   "metadata": {},
   "source": [
    "b.\tNew York Lotto: Seleccione los seis números ganadores entre 1, 2, . . . , 59."
   ]
  },
  {
   "cell_type": "code",
   "execution_count": 11,
   "metadata": {},
   "outputs": [
    {
     "name": "stdout",
     "output_type": "stream",
     "text": [
      "Probabilidad de ganar la lotería = 1/45057474 = 2.2193876203535066e-08\n"
     ]
    }
   ],
   "source": [
    "b= math.comb(59, 6)\n",
    "print(f\"Probabilidad de ganar la lotería = 1/{b} = {1/b}\")"
   ]
  },
  {
   "cell_type": "markdown",
   "metadata": {},
   "source": [
    "c.\tPennsylvania Lucky for Life Lotto: Seleccione los seis números ganadores entre 1, 2, . . . , 38."
   ]
  },
  {
   "cell_type": "code",
   "execution_count": 12,
   "metadata": {},
   "outputs": [
    {
     "name": "stdout",
     "output_type": "stream",
     "text": [
      "Probabilidad de ganar la lotería = 1/2760681 = 3.6222946439664705e-07\n"
     ]
    }
   ],
   "source": [
    "c= math.comb(38, 6)\n",
    "print(f\"Probabilidad de ganar la lotería = 1/{c} = {1/c}\")"
   ]
  },
  {
   "cell_type": "markdown",
   "metadata": {},
   "source": [
    "d.\tTexas Cash Five: Seleccione los cinco números ganadores entre 1, 2, . . . , 37."
   ]
  },
  {
   "cell_type": "code",
   "execution_count": 13,
   "metadata": {},
   "outputs": [
    {
     "name": "stdout",
     "output_type": "stream",
     "text": [
      "Probabilidad de ganar la lotería = 1/435897 = 2.2941199411787646e-06\n"
     ]
    }
   ],
   "source": [
    "d= math.comb(37, 5)\n",
    "print(f\"Probabilidad de ganar la lotería = 1/{d} = {1/d}\")"
   ]
  },
  {
   "cell_type": "markdown",
   "metadata": {},
   "source": [
    "e.\tCalifornia Fantasy 5: Esta lotería se gana al seleccionar los cinco números correctos entre 1, 2, . . . , 39. La probabilidad de ganar el juego es de 1/575,757. ¿Cuál es la probabilidad de ganar si se modifican las reglas y además de seleccionar los cinco números correctos, deben seleccionarse en el mismo orden en que salen?"
   ]
  },
  {
   "cell_type": "code",
   "execution_count": 14,
   "metadata": {},
   "outputs": [
    {
     "name": "stdout",
     "output_type": "stream",
     "text": [
      "Help on built-in function perm in module math:\n",
      "\n",
      "perm(n, k=None, /)\n",
      "    Number of ways to choose k items from n items without repetition and with order.\n",
      "\n",
      "    Evaluates to n! / (n - k)! when k <= n and evaluates\n",
      "    to zero when k > n.\n",
      "\n",
      "    If k is not specified or is None, then k defaults to n\n",
      "    and the function returns n!.\n",
      "\n",
      "    Raises TypeError if either of the arguments are not integers.\n",
      "    Raises ValueError if either of the arguments are negative.\n",
      "\n"
     ]
    }
   ],
   "source": [
    "help(math.perm)"
   ]
  },
  {
   "cell_type": "code",
   "execution_count": 15,
   "metadata": {},
   "outputs": [
    {
     "name": "stdout",
     "output_type": "stream",
     "text": [
      "Probabilidad de ganar la lotería = 1/69090840 = 1.4473698684225e-08\n"
     ]
    }
   ],
   "source": [
    "e = math.perm(39,5)\n",
    "print(f\"Probabilidad de ganar la lotería = 1/{e} = {1/e}\")"
   ]
  },
  {
   "cell_type": "markdown",
   "metadata": {},
   "source": [
    "### Discriminación por edad. "
   ]
  },
  {
   "cell_type": "markdown",
   "metadata": {},
   "source": [
    "La empresa Cytertonics Communications Company redujo su personal de gerencia de 15 a 10 gerentes. La compañía afirmó que seleccionó a cinco gerentes al azar para despedirlos. Sin embargo, los cinco gerentes elegidos son los cinco gerentes de mayor edad entre los 15 contratados. Calcule la probabilidad de que, cuando se seleccionan cinco gerentes al azar de un grupo de 15, se seleccione a los cinco de mayor edad. ¿La probabilidad es lo suficientemente baja como para acusar a la empresa de que, en vez de usar una selección aleatoria, en realidad sólo despidió a los gerentes de mayor edad?"
   ]
  },
  {
   "cell_type": "code",
   "execution_count": 16,
   "metadata": {},
   "outputs": [
    {
     "name": "stdout",
     "output_type": "stream",
     "text": [
      "Grupos de 5: 3003\n",
      "Probabilidd de elegir los 5 gerentes más viejos es 1/3003 = 0.000333000333000333\n",
      "Esta probabilidad es muy baja para ser una casualidad.\n",
      "Es probable que los gerentes mas adultos hayan sido elegidos a proposito y no por casualidad.\n"
     ]
    }
   ],
   "source": [
    "grupos_de_5=math.comb(15, 5)\n",
    "print(f\"Grupos de 5: {grupos_de_5}\")\n",
    "print(f\"Probabilidd de elegir los 5 gerentes más viejos es 1/{grupos_de_5} = {1/grupos_de_5}\")\n",
    "print(f\"Esta probabilidad es muy baja para ser una casualidad.\")\n",
    "print(f\"Es probable que los gerentes mas adultos hayan sido elegidos a proposito y no por casualidad.\")"
   ]
  },
  {
   "cell_type": "markdown",
   "metadata": {},
   "source": [
    "### Diseñar experimentos \n",
    "Al diseñar un experimento que implica un tratamiento aplicado a 12 sujetos de prueba, los investigadores planean utilizar una muestra aleatoria simple de 12 sujetos, elegidos de un grupo de 20 individuos disponibles. (Recuerde que en un muestreo aleatorio simple todas las muestras del mismo tamaño tienen la misma posibilidad de ser elegidas). ¿Cuántas muestras aleatorias simples diferentes son posibles? ¿Cuál es la probabilidad de cada muestra aleatoria simple en este caso?"
   ]
  },
  {
   "cell_type": "code",
   "execution_count": 17,
   "metadata": {},
   "outputs": [
    {
     "data": {
      "text/plain": [
       "125970"
      ]
     },
     "execution_count": 17,
     "metadata": {},
     "output_type": "execute_result"
    }
   ],
   "source": [
    "# ¿Cuántas muestras aleatorias simples diferentes son posibles?\n",
    "math.comb(20,12)"
   ]
  },
  {
   "cell_type": "code",
   "execution_count": 18,
   "metadata": {},
   "outputs": [
    {
     "data": {
      "text/plain": [
       "7.938398031277288e-06"
      ]
     },
     "execution_count": 18,
     "metadata": {},
     "output_type": "execute_result"
    }
   ],
   "source": [
    "# ¿Cuál es la probabilidad de cada muestra aleatoria simple en este caso?\n",
    "1/math.comb(20,12)"
   ]
  },
  {
   "cell_type": "markdown",
   "metadata": {},
   "source": [
    "### Probabilidad de píldoras defectuosas.  \n",
    "Un lote de píldoras consta de 7 aceptables y 3 defectuosas (porque contienen la cantidad incorrecta del fármaco).\n",
    "+ a. ¿Cuántas permutaciones diferentes son posibles cuando se seleccionan al azar las 10 píldoras (sin reemplazo)?\n",
    "+ b. Si se eligen al azar 3 píldoras sin reemplazo, calcule la probabilidad de seleccionar las tres píldoras defectuosas.\n",
    "+ c. ¿Cuántas permutaciones diferentes son posibles cuando se seleccionan al azar las 10 píldoras (sin reemplazo)?\n"
   ]
  },
  {
   "cell_type": "code",
   "execution_count": 19,
   "metadata": {},
   "outputs": [
    {
     "name": "stdout",
     "output_type": "stream",
     "text": [
      "Permutaciones diferentes son posibles cuando se seleccionan al azar las 10 píldoras (sin reemplazo) de 10 es 3628800\n"
     ]
    }
   ],
   "source": [
    "# a. ¿Cuántas permutaciones diferentes son posibles cuando se seleccionan al azar las 10 píldoras (sin reemplazo)?\n",
    "# •\tSe trata de 10 píldoras aceptables habrían 10! Formas diferentes de elegir una. Es decir que el espacio muestral esta dado por las P(10)=10!\n",
    "# •\tEn este caso la respuesta a la pretunta es 10! Porque no importa (en la pregunta) si hay pildoras ok o defectuosas.\n",
    "# •\t10!=10×9×8×7×6×5×4×3×2×1=3,628,800\n",
    "pildoras = 10\n",
    "resultado = math.factorial(10)\n",
    "print(f\"Permutaciones diferentes son posibles cuando se seleccionan al azar las 10 píldoras (sin reemplazo) de {pildoras} es {resultado}\")\n",
    "\n"
   ]
  },
  {
   "cell_type": "code",
   "execution_count": 20,
   "metadata": {},
   "outputs": [
    {
     "name": "stdout",
     "output_type": "stream",
     "text": [
      "Número total de maneras de seleccionar 3 píldoras de un total de 10: 120 \n",
      "Maneras de seleccionar las 3 píldoras defectuosas de las 3 disponibles: 1 \n",
      "La probabilidad de seleccionar las tres píldoras defectuosas: 1/120 = 0.008333333333333333\n"
     ]
    }
   ],
   "source": [
    "# b. Si se eligen al azar 3 píldoras sin reemplazo, calcule la probabilidad de seleccionar las tres píldoras defectuosas. \n",
    "# •\tPrimero, calculamos el número total de maneras de seleccionar 3 píldoras de un total de 10. \n",
    "#   o\tEsto se puede hacer utilizando combinaciones, porque no importa el orden (y por lo tanto tampoco importa si hay repeticiones: \n",
    "#   o\tC(n,m) = n! / m! (n-m)! \n",
    "#   o\tC(10, 3) = 10!/7!3! = 120 (denominador)\n",
    "defectuosas = 3\n",
    "buenestado = 7\n",
    "denominador = math.comb(10, 3)\n",
    "print(f\"Número total de maneras de seleccionar 3 píldoras de un total de 10: {denominador} \")\n",
    "\n",
    "# •\tLuego, calculamos el número de maneras de seleccionar las 3 píldoras defectuosas de las 3 disponibles. \n",
    "#   Esto también es una combinación porque no importa el orden (es lo mismo):\n",
    "# o\tC(n,m) = n! / m! (n-m)! \n",
    "# o\tC(3,3) = 3!/3!0! = 1\n",
    "numerador = math.comb(3,3)\n",
    "print(f\"Maneras de seleccionar las 3 píldoras defectuosas de las 3 disponibles: {numerador} \")\n",
    "# •\tY la respuesta a este punto b. es = 1/120.\n",
    "print(f\"La probabilidad de seleccionar las tres píldoras defectuosas: {numerador}/{denominador} = {numerador/denominador}\")"
   ]
  },
  {
   "cell_type": "markdown",
   "metadata": {},
   "source": [
    "### Rutas aéreas.  \n",
    "Usted acaba de inaugurar su propia línea aérea llamada Air Me (Su lema: “Para nosotros, usted no es sólo otra estadística”). Hasta ahora, usted cuenta con un avión para una ruta que conecta Austin, Boise y Chicago. Una ruta es Austin-Boice-Chicago y una segunda ruta es Chicago-Boise-Austin. \n",
    "+ ¿Cuántas rutas diferentes son posibles si el servicio se expande para incluir un total de ocho ciudades?"
   ]
  },
  {
   "cell_type": "markdown",
   "metadata": {},
   "source": [
    "¿Rutas diferentes para un total 8 ciudades?\n",
    "Esto implica que se trata de todas las permutaciones posibles de 8 ciudades sin repetición. Esto es permutaciones de orden n = 8. \n",
    "+ Es decir: P(n) = 8x7x6x5x4x3x2x1"
   ]
  },
  {
   "cell_type": "code",
   "execution_count": 21,
   "metadata": {},
   "outputs": [
    {
     "name": "stdout",
     "output_type": "stream",
     "text": [
      "La cantidad de rutas en total que se pueden armar incluyendo las 8 ciudades sin repetición es: 40320\n"
     ]
    }
   ],
   "source": [
    "total_rutas = math.factorial(8)\n",
    "print(f\"La cantidad de rutas en total que se pueden armar incluyendo las 8 ciudades sin repetición es: {total_rutas}\")"
   ]
  },
  {
   "cell_type": "markdown",
   "metadata": {},
   "source": [
    "### Prueba de una afirmación.  \n",
    "Mike afirma que ha desarrollado la habilidad de obtener un 6 casi siempre que tira un dado. Usted prueba su afirmación haciendo que Mike tire un dado cinco veces, y él obtiene el 6 cada vez. \n",
    "+ Si Mike no tiene posibilidad de afectar los resultados, calcule la probabilidad de que lance el dado cinco veces consecutivas y obtenga 6 en todas. \n",
    "+ ¿La probabilidad es lo bastante baja como para descartar el azar como explicación de los resultados de Mike? "
   ]
  },
  {
   "cell_type": "code",
   "execution_count": 22,
   "metadata": {},
   "outputs": [
    {
     "name": "stdout",
     "output_type": "stream",
     "text": [
      "La probabilidad de que salga 6 en 5 tiradas es 175 elevado a la 5: 0.0001286008230452675\n",
      "Esta probabilidad es muy baja (inferior a 0.001) y permite descartar la posibilidad de que esto suceda sólo por azar. El dado debe estar cargado o algo así\n",
      "Otra forma de razonarlo:\n",
      " El numero de casos favorables es 1\n",
      " El número de casos posibles es 6 elevado a la 5: 7776\n",
      " El resultado es 1 / 7776 = 0.0001286008230452675\n",
      "En cualquier caso el resultado es un número tan bajo que se descarta el azar como explicación de los argumentos planteados en el problema.\n"
     ]
    }
   ],
   "source": [
    "# Primera forma de calcularlo\n",
    "#\tP(6 en 5 tiradas) = (1/6) ** 5 = 0.00012860\n",
    "print(f\"La probabilidad de que salga 6 en 5 tiradas es 175 elevado a la 5: { 1/6 ** 5}\")\n",
    "#\tEsto es un número muy bajo y permite descartar el azar como explicación de los resultados\n",
    "print(\"Esta probabilidad es muy baja (inferior a 0.001) y permite descartar la posibilidad de que esto suceda sólo por azar. El dado debe estar cargado o algo así\")\n",
    "\n",
    "# Otra forma de calcularlo es con el numero de casos favorables en 5 tiradas que es 1 (uno) sobre el numero de casos posibles en 5 tiradas (que es 6 elevado a la 5).\n",
    "print(\"Otra forma de razonarlo:\")\n",
    "print(\" El numero de casos favorables es 1\")\n",
    "#\tEl numero de casos favorables es 7776\n",
    "print(f\" El número de casos posibles es 6 elevado a la 5: {6**5}\") \n",
    "#\tEl resultado es 0.000129\n",
    "print(f\" El resultado es { 1} / { 6**5} = {1/ 6**5}\")\n",
    "#\tEn cualquier caso el resultado es un número tan bajo que se descarta el azar como explicación de los argumentos planteados en el problema.\n",
    "print(\"En cualquier caso el resultado es un número tan bajo que se descarta el azar como explicación de los argumentos planteados en el problema.\")"
   ]
  },
  {
   "cell_type": "markdown",
   "metadata": {},
   "source": [
    "Selección del género.  En una prueba de un método de selección del género, nacen 14 bebés y 10 de ellos son niñas.\n",
    "+ a.\tCalcule el número de diferentes secuencias de género posibles cuando nacen 14 bebés.\n",
    "+ b.\t¿En cuántas formas se pueden ordenar en secuencia 10 niñas y 4 niños?\n",
    "+ c.\tSi se seleccionan al azar 14 bebés, ¿cuál es la probabilidad de que sean 10 niñas y 4 niños?\n",
    "+ d.\t¿Al parecer el método de selección del género produce un resultado significativamente diferente del que se esperaría debido al azar?"
   ]
  },
  {
   "cell_type": "code",
   "execution_count": 23,
   "metadata": {},
   "outputs": [
    {
     "name": "stdout",
     "output_type": "stream",
     "text": [
      "a. Diferentes secuancias posibles: 16384\n",
      "b. Formas de ordenar en secuencias 10 niñas y 4 niños: 1001.0 \n",
      "La probabilidad de que sean 10 niñas y 4 niños es: 0.06109619140625\n",
      "No parece que el método de selección de genero produce un resultado significativamente diferente del que se esperaría debido al azar.\n"
     ]
    }
   ],
   "source": [
    "# a.\tEl número de diferentes secuencia posibles 2 a la 14. porque es una permutación de con repetición de dos valores posibles 14 veces: Pcr(2,14) = 2 * 14\n",
    "secuenciasposibles = 2 ** 14\n",
    "print(f\"a. Diferentes secuancias posibles: {secuenciasposibles}\")\n",
    "\n",
    "# b.\tLas formas de ordenar en secuencia 10 niñas y 4 niños consiste en ordenar dos subconjuntos de 10 y 4 elementos dentro del conjunto de 14 niños. \n",
    "# Las repeticiones dentro de un conjunto de elementos disminuyen la cantidad de permutaciones. \n",
    "# La fórmula es P(n, n1,…nn) = n! / (n1!.. nn!). P(14, 10, 4) = 14! / (10! 4!)\n",
    "sucesosfavorables = math.factorial(14)/(math.factorial(10) * math.factorial(4))\n",
    "print(f\"b. Formas de ordenar en secuencias 10 niñas y 4 niños: {sucesosfavorables} \")\n",
    "\n",
    "# c.\tSi se seleccionan al azar 14 bebes, la probabilidad de que sean 10 niñas y 4 niños estará dada por\n",
    "# la probabilidad de obtener alguna de las secuencias de 10 niñas y 4 niños \n",
    "# sobre todo el espacio muestral que resulte del nacimiento de 14 niños.\n",
    "probabilidad = sucesosfavorables / secuenciasposibles\n",
    "print(f\"La probabilidad de que sean 10 niñas y 4 niños es: {probabilidad}\")\n",
    "\n",
    "# d.\t¿Al parecer el método de selección del género produce un resultado significativamente diferente del que se esperaría debido al azar?\n",
    "# La probabilidad de que esto de 10 niñas y 4 niños resulte por azar es baja pero no tan baja.\n",
    "# La probabilidad es mayor que el 5%\n",
    "print(\"No parece que el método de selección de genero produce un resultado significativamente diferente del que se esperaría debido al azar.\")\n"
   ]
  },
  {
   "cell_type": "markdown",
   "metadata": {},
   "source": [
    "### Elección en un consejo de directores.  \n",
    "En el Consejo de directores del Newport General Hospital hay 12 miembros.\n",
    "+ a.\tSi deben elegir a un presidente, un primer vicepresidente, un segundo vicepresidente y un secretario, ¿cuántas listas de candidatos diferentes son posibles?\n",
    "+ b.\tSi deben conformar un subcomité de ética de cuatro miembros, ¿cuántos subcomités diferentes son posibles?\n",
    "+ c.\tSi los miembros del subcomité no pueden ser los mismos que los elegidos para presidente, viceprecidentes y secretarios, ¿cuantos subcomités posibles se pueden armar?\n"
   ]
  },
  {
   "cell_type": "code",
   "execution_count": 24,
   "metadata": {},
   "outputs": [
    {
     "name": "stdout",
     "output_type": "stream",
     "text": [
      "a. Sí imorta el orden. V(n,m)= n!/(n-m)! = V(12,4) = 12!/8!: 11880\n",
      "b. No importa el orden. C(n,m)=n!/m!(n-m)! = C(12,4)= 12!/4!8!: 495\n",
      "c. Hay menos opciones. C(8,4) = 8!/4!4!: 70\n"
     ]
    }
   ],
   "source": [
    "# a.\tPara esta elección hay que ver todas las variantes posibles sin repetición en donde sí importa el orden\n",
    "# porque una misma persona puede ocupar cualquiera de los tres cargos pero solo uno y sin repetición. \n",
    "# Entonces, V(n,m)= n!/(n-m)! = V(12,4) = 12!/8!= 1880.\n",
    "print(f\"a. Sí imorta el orden. V(n,m)= n!/(n-m)! = V(12,4) = 12!/8!: {math.perm(12, 4)}\")\n",
    "# b.\tSi deben conformar un comité de ética de cuatro miembros entonces hay que ver las combinaciones ya que el orden no importa,\n",
    "# entonces las combinaciones serían C(n,m)=n!/m!(n-m)! = C(12,4)= 12!/4!8!=1320\n",
    "print(f\"b. No importa el orden. C(n,m)=n!/m!(n-m)! = C(12,4)= 12!/4!8!: {math.comb(12, 4)}\")\n",
    "# c.\tSi el comité se formara luego de las elecciones y las mismas personas no pudieran ser miembros del subcomité \n",
    "# entonces las combinaciones serían menos: C(8,4) = 8!/4!4! = 70\n",
    "print(f\"c. Hay menos opciones. C(8,4) = 8!/4!4!: {math.comb(8,4)}\")\n"
   ]
  },
  {
   "cell_type": "markdown",
   "metadata": {},
   "source": [
    "### Sopa de letras. \n",
    "Muchos periódicos incluyen una “sopa de letras”, un crucigrama en el que el lector debe descifrar letras para formar palabras. \n",
    "+ Por ejemplo, las letras TAISER se incluyeron en un periódico del día en que se escribió este ejercicio. \n",
    "+ ¿De cuántas formas se pueden acomodar las letras TAISER? Identifique la palabra codificada y luego \n",
    "+ determine la probabilidad de obtener este resultado seleccionando al azar un arreglo de las letras dadas."
   ]
  },
  {
   "cell_type": "code",
   "execution_count": 25,
   "metadata": {},
   "outputs": [
    {
     "name": "stdout",
     "output_type": "stream",
     "text": [
      "Un arreglo de 6 letras se puede acomodar de 720 formas diferenes.\n",
      "La probabilidad de obtener una palabra codificada con las letras TAISER es de 1/6: 0.001388888888888889\n"
     ]
    }
   ],
   "source": [
    "# a.\tLa palabra TAISER constituye un conjunto de letras sin repetición. \n",
    "# Entonces estas letras se pueden acomodar de una cantidad de formas dada por\n",
    "# la permutación de 6 elementos sin repetición, es decir, 6!=6x5x4x3x2x1 = 720\n",
    "permutaciones = math.factorial(6)\n",
    "print(f\"Un arreglo de 6 letras se puede acomodar de {permutaciones} formas diferenes.\")\n",
    "\n",
    "# b.\tLa probabilidad de obtener una palabra codificada con las letras TAISER es de 1/6!=\n",
    "prob6letras = 1/ permutaciones\n",
    "print(f\"La probabilidad de obtener una palabra codificada con las letras TAISER es de 1/6: {prob6letras}\")\n"
   ]
  },
  {
   "cell_type": "markdown",
   "metadata": {},
   "source": [
    "### Cálculo del número de melodías posibles.  \n",
    "+ En el Directorio de melodías y temas musicales de Dennys Parsons, se listan melodías de más de 14,000 canciones de acuerdo con el siguiente esquema:\n",
    "+ la primera nota de cada canción se representa por un asterisco (*) \n",
    "+ y las notas sucesivas se representan por R (para repetir la nota previa), \n",
    "+ S (para una nota que sube), \n",
    "+ B (para una nota que baja). \n",
    "+ La quinta sinfonía de Beethoven comienza como *RRB. \n",
    "+ Se representan melodías clásicas a través de las primeras 16 notas. \n",
    "+ Con este esquema, ¿cuántas melodías clásicas diferentes son posibles?"
   ]
  },
  {
   "cell_type": "code",
   "execution_count": 26,
   "metadata": {},
   "outputs": [
    {
     "name": "stdout",
     "output_type": "stream",
     "text": [
      "El número total de combinaciones de las 15 notas es 14348907\n"
     ]
    }
   ],
   "source": [
    "\n",
    "#Para calcular el número de melodías posibles utilizando el esquema descrito en el Directorio de melodías y temas musicales de Dennys Parsons, consideramos que: \n",
    "# a.\tLa primera nota de cada melodía se representa por un asterisco (*), y no aporta variaciones adicionales. \n",
    "# b.\tLas notas sucesivas se representan por R (para repetir la nota previa), S (para una nota que sube), o B (para una nota que baja). \n",
    "# c.\tCada una de las 15 notas sucesivas después de la primera tiene 3 opciones (R, S, B).\n",
    "# Para cada una de las 15 notas sucesivas, hay 3 opciones posibles. \n",
    "# El número total de combinaciones de las 15 notas, cada una de las cuales puede ser R, S, o B, se calcula como: 3 elevado a la 15.\n",
    "print(f\"El número total de combinaciones de las 15 notas es {3 ** 15}\")\n"
   ]
  },
  {
   "cell_type": "markdown",
   "metadata": {},
   "source": [
    "### Candados de combinación.  \n",
    "Un candado “de combinación” común se abre con la secuencia correcta de tres números entre 0 y 49, inclusive. \n",
    "+ (Un número puede usarse más de una vez). \n",
    "+ ¿Cuál es la probabilidad de adivinar estos tres números y abrir el candado en el primer intento?"
   ]
  },
  {
   "cell_type": "code",
   "execution_count": 27,
   "metadata": {},
   "outputs": [
    {
     "name": "stdout",
     "output_type": "stream",
     "text": [
      "La cantidad de combinaciones posibles es: 125000.\n",
      "La probabilidad de adivinar es: 1/125000 = 8e-06\n"
     ]
    }
   ],
   "source": [
    "# Cada número de la combinación es una secuencia o arreglo o conjunto de números entre 0 y 49. Cada valor tendrá un número entre 0 y 49. Son 50 numeros.\n",
    "# •\tSe trata de una secuencia de 3 números.\n",
    "# •\tSe trata de una permutación con repetición.\n",
    "# •\tP(50,3) = 50x50x50 = 50 elevado a la 3\n",
    "combinacionesposibles = 50 ** 3\n",
    "probadivinar = 1/50 ** 3\n",
    "print(f\"La cantidad de combinaciones posibles es: {combinacionesposibles}.\") \n",
    "print(f\"La probabilidad de adivinar es: {1}/{combinacionesposibles} = {probadivinar}\")"
   ]
  },
  {
   "cell_type": "code",
   "execution_count": 28,
   "metadata": {},
   "outputs": [
    {
     "data": {
      "text/plain": [
       "144"
      ]
     },
     "execution_count": 28,
     "metadata": {},
     "output_type": "execute_result"
    }
   ],
   "source": [
    "16 * 9"
   ]
  },
  {
   "cell_type": "markdown",
   "metadata": {},
   "source": [
    "### Cálculo del número de códigos de área.  \n",
    "El reportero Paul Wiseman del diario USA Today describió las antiguas reglas para los códigos de área telefónicos\n",
    "+ con tres dígitos al escribir acerca de “códigos de área posibles con 1 o 0 en el segundo dígito. \n",
    "+ (Se excluyen los códigos terminados en 00 y 11, para llamadas gratuitas, servicios de emergencia y usos especiales)”. \n",
    "+ Los códigos que empiezan con 0 o 1 también deben excluirse. \n",
    "* ¿Cuántos códigos de área distintos eran posibles bajo estas antiguas reglas?"
   ]
  },
  {
   "cell_type": "code",
   "execution_count": 29,
   "metadata": {},
   "outputs": [
    {
     "name": "stdout",
     "output_type": "stream",
     "text": [
      "En efecto si se tratara de código de áreas de tres dígitos sin restricciones, el resultado sería: 1000\n"
     ]
    }
   ],
   "source": [
    "# Este problema se trata de permutaciones con repetición Pcr(n,m) = n elevado a la m. Pero en este caso está sujeto a restricciones.\n",
    "# En este caso resulta muy útil utilizar la regla de multiplicación y de las cajas.\n",
    "# En efecto si se tratara de código de áreas de tres dígitos sin restricciones la cantidad de variaciones posibles sería \n",
    "# Pcr(10,3) = 10x10x10 = 10 elevado a la 3. \n",
    "# Esto es a que cada digito variaría de 0 a 9 (diez veces). \n",
    "# Y cada variación se reproduce 3 veces (una por cada dígito) \n",
    "perm10ala3 = 10 ** 3\n",
    "print(f\"En efecto si se tratara de código de áreas de tres dígitos sin restricciones, el resultado sería: {perm10ala3}\")\n"
   ]
  },
  {
   "cell_type": "code",
   "execution_count": 30,
   "metadata": {},
   "outputs": [
    {
     "name": "stdout",
     "output_type": "stream",
     "text": [
      "El resultado es que 144 códigos de área son posibles.\n"
     ]
    }
   ],
   "source": [
    "# Pero para cada dígito hay restricciones y la cuenta anterior debe hacerse teniendo en cuenta las cuentas de las variaciones de cada dígito.\n",
    "# Primer dígito: Los códigos que empiezan con cero o uno deben excluirse, esto implica que el primer digito variará de 2 a 9, \n",
    "# es decir que cuenta 8 variaciones (imaginar un 8 en la caja y debajo los valores de 2 a 9)\n",
    "digito1 = 8\n",
    "\n",
    "# Segundo dígito: Los códigos de área posibles con 1 o 0 en el segundo digito, implica que en el segundo dígito irán solo dos valores 0 y 1, \n",
    "# es decir que cuenta 2 variaciones (imaginar un 2 en la caja del segundo digito y debajo los valores 0 y 1)\n",
    "digito2 = 2\n",
    "\n",
    "# Tercer dígito: Se excluyen los códigos terminados en 00 y 11 implica un poco más de restricciones.  \n",
    "# O sea que cuando el dígito anterior este en 0 este dígito variará 9 veces entre 1 y 9, \n",
    "# luego, cuando el dígito anterior esté en 1, este dígito variará de nuevo 9 veces pero entre 0 y 2 al 8 sin el uno. \n",
    "# Todo esto para cumplir la restricción. \n",
    "# En esta forma hay que este digito variará 9 veces cada vez que los anteriores lleguen a donde tengan que llegar cada uno en su cuenta.\n",
    "digito3a = 9\n",
    "\n",
    "print(f\"El resultado es que { digito1 * digito2 * digito3a} códigos de área son posibles.\")\n"
   ]
  },
  {
   "cell_type": "code",
   "execution_count": 31,
   "metadata": {},
   "outputs": [
    {
     "name": "stdout",
     "output_type": "stream",
     "text": [
      "El resultado es que 144 códigos de área son posibles.\n"
     ]
    }
   ],
   "source": [
    "# Otra forma de imaginar el dígito tres: Consiste en hacer variar el tercer dígito una cuenta de 8 desde el 2 hasta el 9 sin que valga 0 ni uno. \n",
    "# Después habría que sumarle:\n",
    "# •\tuna cuenta de 8 por cada variación del primer dígito (8) cada vez que el segundo dígito valga 0 y el tercer dígito valga 1. \n",
    "# (Imaginar esto en la regla de las cajas)\n",
    "# •\tuna cuenta más de 8 por cada variación del primer dígito (8) por cada vez que el segundo dígito valga 1 y el tercer dígito valga 0. \n",
    "# (Imaginar esto en la regla de las cajas)\n",
    "digito3b = 8\n",
    "codigosposibles = digito1 * digito2 * digito3b + 8 + 8\n",
    "print(f\"El resultado es que { codigosposibles } códigos de área son posibles.\")\n",
    "\n",
    "# Obviamente ambas opciones deben dar el mismo resultado.\n"
   ]
  },
  {
   "cell_type": "markdown",
   "metadata": {},
   "source": [
    "### Huevos rotos.\n",
    "* Una caja contiene 12 huevos, 3 de los cuales están rotos. Si seleccionamos al azar 5 de los huevos para cocerlos, \n",
    "+ ¿cuál es la probabilidad de los siguientes sucesos?\n",
    "+ a.\tTodos los huevos seleccionados están rotos.\n",
    "+ b.\tNinguno de los huevos seleccionados está roto.\n",
    "+ c.\tDos de los huevos seleccionados están rotos."
   ]
  },
  {
   "cell_type": "code",
   "execution_count": 32,
   "metadata": {},
   "outputs": [
    {
     "name": "stdout",
     "output_type": "stream",
     "text": [
      "Probabilidad de que ningun huevo esté roto: 126/792 = 0.1590909090909091\n"
     ]
    }
   ],
   "source": [
    "# Respuestas:\n",
    "# a.\tSi hay solo 3 huevos rotos la probabilidad de que seleccionar 5 es cero.\n",
    "# b.\tLa probabilidad de que ninguno de los huevos esté roto:\n",
    "#       .\tSucesos favorables: Son todas las combinaciones de 9 elementos tomados de a 5. \n",
    "norotofavorables =math.comb(9,5)\n",
    "# b.\tSucesos posibles: Son todas las combinaciones de 12 elementos tomados de a 5. V(12,5)=12!/7!\n",
    "huevosposibles = math.comb(12,5)\n",
    "#       .La Probabilidad es el numero de casos favorables sobre el numero de casos posibles: 95040\n",
    "print(f\"Probabilidad de que ningun huevo esté roto: {norotofavorables}/{huevosposibles} = {norotofavorables/huevosposibles}\")\n"
   ]
  },
  {
   "cell_type": "code",
   "execution_count": 33,
   "metadata": {},
   "outputs": [
    {
     "name": "stdout",
     "output_type": "stream",
     "text": [
      "Probabilidad de que dos huevos estén rotos: 252/792 = 0.3181818181818182\n"
     ]
    }
   ],
   "source": [
    "# La probabilidad de dos huevos estén rotos:\n",
    "# Sucesos favorables: Variantes de 5 huevos dónde dos estén rotos. \n",
    "# Se descompone en la intersección o producto de dos probabilidades\n",
    "# Combinación de 3 huevos tomados de a dos rotos. Combinación de 9 huevos sanos tomados de a tres.\n",
    "no3si2 = math.comb(3,2) * math.comb(9,3)\n",
    "\n",
    "# Sucesos posibles: Variaciones de 12 huevos tomados de a cinco. \n",
    "# V(12, 2) = 12!/10! = 12x11 = 130\n",
    "huevosposibles = math.comb(12,5)\n",
    "print(f\"Probabilidad de que dos huevos estén rotos: {no3si2}/{huevosposibles} = {no3si2/huevosposibles}\")"
   ]
  },
  {
   "cell_type": "markdown",
   "metadata": {},
   "source": [
    "### Torneo de básquetbol de la NCAA.  Cada año, 64 equipos universitarios de básquetbol compiten en el torneo de la NCAA. Recientemente, Sandbox.com ofreció un premio de $10 millones a cualquiera que pudiera escoger al ganador en todos y cada uno de los juegos del torneo. El presidente de esa compañía también prometió que, además del premio en efectivo, él se comería una cubeta de gusanos. ¡Qué asco!\n",
    "* a.\t¿Cuántos juegos se requieren para obtener un equipo campeón en un campo de 64 equipos? \n",
    "- a.\tSi el torneo es por puntos todos contra todos\n",
    "- b.\tSi el torneo es por eliminación directa.\n",
    "* b. Si alguien hace conjeturas al azar para cada juego del torneo, calcule la probabilidad de escoger al ganador de cada juego.\n",
    "* c.  En un artículo acerca del premio de $10 millones, el New York Times publicó que \n",
    "- “aún un experto en básquetbol colegial que pudiera escoger juegos con acierto en una porción del 70% tiene una probabilidad de 1 en   ????\n",
    "- de elegir todos los juegos acertadamente”\n"
   ]
  },
  {
   "cell_type": "code",
   "execution_count": 50,
   "metadata": {},
   "outputs": [
    {
     "name": "stdout",
     "output_type": "stream",
     "text": [
      "a. Dos variantes del torneo\n",
      "\n",
      "1 Si el torneo es todos contratodos se necesitan: C(64,2)= 64!/2!62!= 2016\n",
      "\n",
      "64 0\n",
      "32.0 32.0\n",
      "16.0 48.0\n",
      "8.0 56.0\n",
      "4.0 60.0\n",
      "2.0 62.0\n",
      "1.0 63.0\n",
      "\n",
      "2 Si el torneto es por elminación directa, se deben jugar: (1.0, 63.0)\n",
      "\n",
      "b. La probabilidad de acertar en los 63 partidos en eliminación directa es: 1.0842021724855044e-19\n"
     ]
    }
   ],
   "source": [
    "# a.\tExisten dos variantes. La primera es casi impracticable, la segunda es más factible y a que consideramos para analizar, veamos a continuación las dos:\n",
    "print(\"a. Dos variantes del torneo\\n\")\n",
    "# 1.\tSi es por puntos: Para 64 equipos que juegan en cada partido dos y no importa el orden. Por lo tanto, se trata de combinaciones de 64 equipos tomados de a dos. \n",
    "# Por ejemplo, para 4 equipos el resultado es 6. Y para 64, C(64,2) = 64! / 2! 62! = 2016\n",
    "print(f\"1 Si el torneo es todos contratodos se necesitan: C(64,2)= 64!/2!62!= {math.comb(64,2)}\\n\")\n",
    "\n",
    "# 2.\tSi es por eliminación directa: Para eliminar a 63 equipos, se necesitan 63 juegos. \n",
    "# Esto es porque cada juego elimina exactamente a un equipo, y se necesitan n−1 juegos para reducir n equipos a un solo equipo (el campeón). \n",
    "# Podemos verificar esto viendo cómo se desarrolla un torneo de eliminación directa: \n",
    "# Se dividen los 64 equipos en dos\n",
    "# En la primera ronda, hay 64 equipos, lo que resulta en 32 juegos (32 equipos eliminados).\n",
    "# En la segunda ronda, quedan 32 equipos, lo que resulta en 16 juegos (16 equipos eliminados). \n",
    "# En la tercera ronda, quedan 16 equipos, lo que resulta en 8 juegos (8 equipos eliminados). \n",
    "# En la cuarta ronda, quedan 8 equipos, lo que resulta en 4 juegos (4 equipos eliminados). \n",
    "# En la quinta ronda, quedan 4 equipos, lo que resulta en 2 juegos (2 equipos eliminados). \n",
    "# En la sexta ronda, quedan 2 equipos, lo que resulta en 1 juego (1 equipo eliminado, y el otro es el campeón). \n",
    "# Sumando el número de juegos en cada ronda: 32+16+8+4+2+1\n",
    "equipos = 64\n",
    "partidos = 0\n",
    "while equipos > 1:\n",
    "    print(equipos, partidos)\n",
    "    equipos = equipos / 2\n",
    "    partidos += equipos\n",
    "print(equipos, partidos)\n",
    "print(f\"\\n2 Si el torneto es por elminación directa, se deben jugar: {equipos, partidos}\\n\")\n",
    "# b.\tSi alguien hace conjeturas al azar para cada juego del torneo, \n",
    "# calcule la probabilidad de escoger al ganador de cada juego. \n",
    "# Consideremos que la probabilidad de acertar al ganador en un de los 63 juegos es ½. \n",
    "# Por lo tanto, la probabilidad de acertar al ganador en todos los juegos es (½) elevado a la 63 = ½ x ½ x ½ x…. sesenta y tres veces.\n",
    "print(f\"b. La probabilidad de acertar en los 63 partidos en eliminación directa es: {1/2 ** 63}\")"
   ]
  },
  {
   "cell_type": "markdown",
   "metadata": {},
   "source": [
    "### Lotería de California.  \n",
    "* En el juego de lotería Super Lotto Plus de California, ganar el premio mayor requiere \n",
    "+ que usted seleccione los cinco números correctos del 1 al 47, inclusive,\n",
    "+ y que, por separado, también seleccione un solo número correcto entre 1 y 27, inclusive. \n",
    "* Calcule la probabilidad de ganar el premio mayor.\n"
   ]
  },
  {
   "cell_type": "code",
   "execution_count": 64,
   "metadata": {},
   "outputs": [
    {
     "name": "stdout",
     "output_type": "stream",
     "text": [
      "a. C(47,5) = 1533939, y la probabilidad de acertar este factor es: 6.519164060630834e-07\n",
      "b. La probabilidad de acertar este factor es 1/27 = 0.037037037037037035\n",
      "La probabilidad de ganar el premio mayor es a por b, es decir: \n",
      "6.519164060630834e-07 por 0.037037037037037035 = 2.4145052076410494e-08\n",
      "Este valor de probabilidad puede expresarse como: 1/41416353\n"
     ]
    },
    {
     "data": {
      "text/plain": [
       "41416353"
      ]
     },
     "execution_count": 64,
     "metadata": {},
     "output_type": "execute_result"
    }
   ],
   "source": [
    "# Las probabilidades de ganar el premio mayor están dadas por dos factores.\n",
    "# a.\tEl primer factor es la combinación de 47 números tomados de a cinco sin repetición. C(47,5) = 47! / 5! 42! =47x46 / 5x4x3x2 = \n",
    "#       La probabilidad de acertar este factor es 1/…\n",
    "c475 = math.comb(47,5)\n",
    "p475 = 1/c475\n",
    "print(f\"a. C(47,5) = {c475}, y la probabilidad de acertar este factor es: {p475}\")\n",
    "\n",
    "# b.\tEl segundo factor es acertar uno de 27 números. La probabilidad de acertar este factor es 1/27\n",
    "p127 = 1 / 27\n",
    "print(f\"b. La probabilidad de acertar este factor es 1/27 = {p127}\")\n",
    "\n",
    "# La probabilidad de ganar el premio mayor es a por b.\n",
    "print(f\"La probabilidad de ganar el premio mayor es a por b, es decir: \\n{p475} por {p127} = {p475 * p127}\")\n",
    "\n",
    "# El valor del denominador en la probabilidad es:\n",
    "print(f\"Este valor de probabilidad puede expresarse como: 1/{c475*27}\")"
   ]
  },
  {
   "cell_type": "markdown",
   "metadata": {},
   "source": [
    "### Cálculo del número de nombres de variables de cómputo.  \n",
    "Una regla común de programación de computadoras es que los nombres de las variables deben tener una longitud de 1 a 8 caracteres. \n",
    "+ El primer carácter puede ser cualquiera de las 26 letras, \n",
    "+ mientras que los caracteres sucesivos pueden ser cualquiera de las 26 letras o cualquiera de los 10 dígitos. \n",
    "+ Por ejemplo, A, BBB y M3477K son nombres permitidos de variables. \n",
    "* ¿Cuántos nombres de variables diferentes son posibles?\n"
   ]
  },
  {
   "cell_type": "code",
   "execution_count": 71,
   "metadata": {},
   "outputs": [
    {
     "name": "stdout",
     "output_type": "stream",
     "text": [
      "La candidad de nombres de variables de ocho caracteres diferentes posibles es:2037468266496\n",
      "i 0,   variantes 26\n",
      "i 1,   variantes 962\n",
      "i 2,   variantes 34658\n",
      "i 3,   variantes 1247714\n",
      "i 4,   variantes 44917730\n",
      "i 5,   variantes 1617038306\n",
      "i 6,   variantes 58213379042\n",
      "i 7,   variantes 2095681645538\n",
      "El número total de nombres de variables diferentes posibles de 1 a 8 caracteres es: 2095681645538\n"
     ]
    }
   ],
   "source": [
    "# El primer carácter cuenta 26 alternativas posibles,\n",
    "# Los nombres de variables de un solo caracter son 26 por deficición.\n",
    "# El segundo carácter cuenta 36 alternativas posibles\n",
    "# El tercer, cuarto, quinto, sexto, séptimo y octavo cuentan 36 alternativas.\n",
    "# La cantidad de alternativas máxima es: 26x36x36x36x36x36x36x36 = 26 por 36 elevado a la 7\n",
    "nombresposibles = 26 * 36 ** 7\n",
    "print(f\"La candidad de nombres de variables de ocho caracteres diferentes posibles es:{nombresposibles}\")\n",
    "\n",
    "# Hay que sumar todas las variantes posibles de 1 a 8 caracteres\n",
    "# Número total de nombres de variables diferentes\n",
    "total = 0\n",
    "for i in range(8):\n",
    "    total += 26 * (36 ** i)\n",
    "    print(f\"i {i},   variantes {total}\")\n",
    "\n",
    "print(f\"El número total de nombres de variables diferentes posibles de 1 a 8 caracteres es: {total}\")\n"
   ]
  },
  {
   "cell_type": "markdown",
   "metadata": {},
   "source": [
    "### Saludos y mesas redondas\n",
    "+ a. Cinco gerentes se reúnen para una junta. Si cada gerente saluda estrechando la mano a cada uno de los otros gerentes exactamente una vez, ¿cuál es el número total de saludos?\n",
    "+ b. Si n gerentes saludan a cada uno de los otros exactamente una vez, ¿cuál es el número total de saludos?\n",
    "+ c.  ¿De cuántas maneras diferentes se pueden sentar cinco gerentes en torno a una mesa redonda? (Suponga que si cada uno se mueve a la derecha el acomodo es el mismo).\n",
    "+ d. ¿De cuántas formas diferentes se pueden sentar n gerentes en torno a una mesa redonda?\n"
   ]
  },
  {
   "cell_type": "code",
   "execution_count": 72,
   "metadata": {},
   "outputs": [
    {
     "data": {
      "text/plain": [
       "10"
      ]
     },
     "execution_count": 72,
     "metadata": {},
     "output_type": "execute_result"
    }
   ],
   "source": [
    "# a. Cinco gerentes se reúnen para una junta. \n",
    "# Si cada gerente saluda estrechando la mano a cada uno de los otros gerentes exactamente una vez, \n",
    "# ¿cuál es el número total de saludos?\n",
    "math.comb(5,2)\n",
    "# Verificación por conteo directo\n",
    "# Para asegurarnos, podemos listar los saludos:\n",
    "# Gerente A saluda a B, C, D, E (4 saludos).\n",
    "# Gerente B saluda a C, D, E (3 saludos, ya ha saludado a A).\n",
    "# Gerente C saluda a D, E (2 saludos, ya ha saludado a A y B).\n",
    "# Gerente D saluda a E (1 saludo, ya ha saludado a A, B y C).\n",
    "# Sumando estos saludos:4+3+2+1=10\n",
    "\n",
    "# b. Si n gerentes saludan a cada uno de los otros exactamente una vez, ¿cuál es el número total de saludos?\n",
    "#    Para n elementos es: n-1. Para 5 elementos es: 5-1 = 4\n",
    "# c. Para n personas sentadas en una mesa redonda, el número de arreglos distintos se puede calcular utilizando la fórmula: (n−1)!\n",
    "#    Esto se debe a que en una disposición circular, una permutación completa de n elementos puede considerarse como\n",
    "#    n permutaciones lineales equivalentes debido a la simetría circular. \n",
    "#    Fijamos una persona en una posición, y permutamos las restantes\n",
    "#    Para 5 gerentes tenemos 4!\n",
    "# d. Ya anlizado en c.\n"
   ]
  },
  {
   "cell_type": "markdown",
   "metadata": {},
   "source": [
    "### Evaluación de factoriales grandes. \n",
    "+ a. Usted ha sido contratado para visitar la capital de cada una de las 50 entidades de Estados Unidos. \n",
    "    +   ¿Cuántas rutas diferentes son posibles? Evalúe la respuesta usando la tecla factorial de una calculadora y también usando la aproximación dada aquí.\n",
    "+ b. El Bureau of Fisheries una vez pidió ayuda a los Laboratorios Bell con el fin de encontrar la ruta más corta para obtener muestras en 300 emplazamientos del Golfo de México. \n",
    "    +   Si usted calcula el número de posibles rutas diferentes, ¿cuántos dígitos se necesitan para escribir el número? \n"
   ]
  },
  {
   "cell_type": "code",
   "execution_count": 84,
   "metadata": {},
   "outputs": [
    {
     "name": "stdout",
     "output_type": "stream",
     "text": [
      "a. Formas de ordenar 50 ciudades (50!): 30414093201713378043612608166064768844377641568960512000000000000\n",
      "b. Formas de ordenar 300 ciudades (300!): 306057512216440636035370461297268629388588804173576999416776741259476533176716867465515291422477573349939147888701726368864263907759003154226842927906974559841225476930271954604008012215776252176854255965356903506788725264321896264299365204576448830388909753943489625436053225980776521270822437639449120128678675368305712293681943649956460498166450227716500185176546469340112226034729724066333258583506870150169794168850353752137554910289126407157154830282284937952636580145235233156936482233436799254594095276820608062232812387383880817049600000000000000000000000000000000000000000000000000000000000000000000000000\n",
      "Cantidad de digitos de 50! : 64\n",
      "Cantidad de dígitos de 300!: 614\n",
      "Cantidad de digitos de 50! (calculo con cuenta de carateres): 65\n",
      "Cantidad de digitos de 300! (calculo con cuenta de carateres): 615\n",
      "El método de la cuenta de caracteres es más preciso\n"
     ]
    }
   ],
   "source": [
    "# a. y b. Calculo de los factoriales\n",
    "print(f\"a. Formas de ordenar 50 ciudades (50!): {math.factorial(50)}\")\n",
    "print(f\"b. Formas de ordenar 300 ciudades (300!): {math.factorial(300)}\")\n",
    "\n",
    "# c.\tPara calcular la longitud en dígitos de un número grande, podemos usar la fórmula:\n",
    "# a.\td=⌊log10(n)⌋+1\n",
    "# b.\tEsta fórmula nos dice que la longitud en dígitos de un número nnn es el entero mayor o igual a log⁡10(n)\\log_{10}(n)log10(n) más uno.\n",
    "diga = math.floor(math.log10(math.factorial(50)))\n",
    "digb = math.floor(math.log10(math.factorial(300)))\n",
    "print(f\"Cantidad de digitos de 50! : {diga}\")\n",
    "print(f\"Cantidad de dígitos de 300!: {digb}\")\n",
    "\n",
    "# Otra forma para calcular la longitud sería calcular el factorial y convertirlo a string y contar los caracteres\n",
    "dig50 = len(str(math.factorial(50)))\n",
    "dig300 = len(str(math.factorial(300)))\n",
    "print(f\"Cantidad de digitos de 50! (calculo con cuenta de carateres): {dig50}\")\n",
    "print(f\"Cantidad de digitos de 300! (calculo con cuenta de carateres): {dig300}\")\n",
    "\n",
    "print(\"El método de la cuenta de caracteres es más preciso\")\n"
   ]
  }
 ],
 "metadata": {
  "kernelspec": {
   "display_name": "Python 3",
   "language": "python",
   "name": "python3"
  },
  "language_info": {
   "codemirror_mode": {
    "name": "ipython",
    "version": 3
   },
   "file_extension": ".py",
   "mimetype": "text/x-python",
   "name": "python",
   "nbconvert_exporter": "python",
   "pygments_lexer": "ipython3",
   "version": "3.12.2"
  }
 },
 "nbformat": 4,
 "nbformat_minor": 2
}
