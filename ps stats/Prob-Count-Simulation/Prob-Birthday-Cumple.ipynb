{
 "cells": [
  {
   "cell_type": "markdown",
   "metadata": {},
   "source": [
    "# Probabilidad de cumpleaños el mismo día en una reunión\n",
    "### a. Primero se calcula la probabilidd de que ninguna persona tenga la misma fecha de cumpleaños que la otra dentro de un grupo de personas.\n",
    "### b. Luego se calcula, por el complemento, la probabilidad de que dos o mas personas cumplan en mismo día\n",
    "##### Cada cálculo:\n",
    "+ Depende de la cantidad de personas. La muestra es la cantidad de personas. La población son los 365 días.\n",
    "+ Numerador: todos los sucesos favorables, es decir Variaciones o permutaciones sin repetición de la cantidad de la muestra con base en la población. \n",
    "+ Una vez que saco uno ya ese no lo puedo volver a sacar.\n",
    "+ Denominador: todos los sucesos posibles, es dicir, Permutaciones con repetición de la cantidad de la muestra con base en la población."
   ]
  },
  {
   "cell_type": "code",
   "execution_count": 64,
   "metadata": {},
   "outputs": [],
   "source": [
    "# En un solo bucle se puede calcular el numerador y el denominador obteniendo el resultado al final"
   ]
  },
  {
   "cell_type": "code",
   "execution_count": 41,
   "metadata": {},
   "outputs": [
    {
     "name": "stdout",
     "output_type": "stream",
     "text": [
      "0 0.431300296030536\n",
      "1 0.431300296030536\n",
      "2 0.431300296030536\n",
      "3 0.431300296030536\n",
      "4 0.431300296030536\n",
      "5 0.431300296030536\n",
      "6 0.431300296030536\n",
      "7 0.431300296030536\n",
      "8 0.431300296030536\n",
      "9 0.431300296030536\n",
      "10 0.431300296030536\n",
      "11 0.431300296030536\n",
      "12 0.431300296030536\n",
      "13 0.431300296030536\n",
      "14 0.431300296030536\n",
      "15 0.431300296030536\n",
      "16 0.431300296030536\n",
      "17 0.431300296030536\n",
      "18 0.431300296030536\n",
      "19 0.431300296030536\n",
      "20 0.431300296030536\n",
      "21 0.431300296030536\n",
      "22 0.431300296030536\n",
      "23 0.431300296030536\n",
      "24 0.431300296030536\n"
     ]
    }
   ],
   "source": [
    "poblacion = 365\n",
    "muestra = 25\n",
    "probabilidad = 1\n",
    "\n",
    "for i in range(muestra) :\n",
    "    probabilidad *= (poblacion - i)/poblacion\n",
    "    print(i, numerador)"
   ]
  },
  {
   "cell_type": "markdown",
   "metadata": {},
   "source": [
    "# Explicación del cálculo\n",
    "+ Para explicar el cálculo se desglosa la formula en numerador y denominador\n",
    "+ Se utilizan calculos directos y cálculos de metodos de python de algebra combinatoria\n",
    "+ Se comparan ambos resultados para revisar"
   ]
  },
  {
   "cell_type": "code",
   "execution_count": 42,
   "metadata": {},
   "outputs": [
    {
     "name": "stdout",
     "output_type": "stream",
     "text": [
      "['__doc__', '__loader__', '__name__', '__package__', '__spec__', 'acos', 'acosh', 'asin', 'asinh', 'atan', 'atan2', 'atanh', 'cbrt', 'ceil', 'comb', 'copysign', 'cos', 'cosh', 'degrees', 'dist', 'e', 'erf', 'erfc', 'exp', 'exp2', 'expm1', 'fabs', 'factorial', 'floor', 'fmod', 'frexp', 'fsum', 'gamma', 'gcd', 'hypot', 'inf', 'isclose', 'isfinite', 'isinf', 'isnan', 'isqrt', 'lcm', 'ldexp', 'lgamma', 'log', 'log10', 'log1p', 'log2', 'modf', 'nan', 'nextafter', 'perm', 'pi', 'pow', 'prod', 'radians', 'remainder', 'sin', 'sinh', 'sqrt', 'sumprod', 'tan', 'tanh', 'tau', 'trunc', 'ulp']\n"
     ]
    }
   ],
   "source": [
    "import math\n",
    "print(dir(math))"
   ]
  },
  {
   "cell_type": "code",
   "execution_count": 66,
   "metadata": {},
   "outputs": [
    {
     "name": "stdout",
     "output_type": "stream",
     "text": [
      "Help on built-in function perm in module math:\n",
      "\n",
      "perm(n, k=None, /)\n",
      "    Number of ways to choose k items from n items without repetition and with order.\n",
      "\n",
      "    Evaluates to n! / (n - k)! when k <= n and evaluates\n",
      "    to zero when k > n.\n",
      "\n",
      "    If k is not specified or is None, then k defaults to n\n",
      "    and the function returns n!.\n",
      "\n",
      "    Raises TypeError if either of the arguments are not integers.\n",
      "    Raises ValueError if either of the arguments are negative.\n",
      "\n"
     ]
    }
   ],
   "source": [
    "# Para calcular el numerador.\n",
    "# Primero observar cual función de python calcuala las variaciones (o permutaciones) sin repetición\n",
    "help(math.perm)"
   ]
  },
  {
   "cell_type": "code",
   "execution_count": 67,
   "metadata": {},
   "outputs": [
    {
     "name": "stdout",
     "output_type": "stream",
     "text": [
      "4921543948648615193038527019122032412846804592445950918656000000 4.9215439486486154e+63\n",
      "True\n"
     ]
    }
   ],
   "source": [
    "# Calculo de numerador\n",
    "# Usando el método y aplicando la formula para revisar\n",
    "\n",
    "numerador = math.perm(365, 25)\n",
    "perm_sin_rep = math.factorial(365) / math.factorial(365 - 25)\n",
    "\n",
    "print(numerador,permutaciones)\n",
    "print(math.isclose(numerador, perm_sin_rep))"
   ]
  },
  {
   "cell_type": "code",
   "execution_count": 68,
   "metadata": {},
   "outputs": [
    {
     "name": "stdout",
     "output_type": "stream",
     "text": [
      "11410944981823451546774580833569544217039269564449787139892578125 1.1410944981823451e+64\n",
      "True\n"
     ]
    }
   ],
   "source": [
    "# Calculo el denominador\n",
    "# Usando el método y aplicando la formula para revisar\n",
    "\n",
    "denominador = 365 ** 25\n",
    "perm_con_rep = math.pow(365, 25)\n",
    "\n",
    "print(denominador, perm_con_rep)\n",
    "print(math.isclose(denominador, perm_con_rep))"
   ]
  },
  {
   "cell_type": "code",
   "execution_count": 75,
   "metadata": {},
   "outputs": [
    {
     "name": "stdout",
     "output_type": "stream",
     "text": [
      "La pobabilidad de que ninguna persona cumpla años en mismo día en una reunón de 25 personas es: 43.13002960305361%\n",
      "0.4313002960305361 0.4313002960305361\n",
      "True\n",
      "La pobabilidad de dos o más personas cumplanaños en mismo día en una reunón de 25 personas es: 56.86997039694639%\n"
     ]
    }
   ],
   "source": [
    "# Calculo la probabilidad (o el cociente)\n",
    "# utilizando dos variantes para revisar\n",
    "\n",
    "# Probabilidad de que ninguna persona cumpla el mismo día\n",
    "resultado_1 = math.perm(365, 25)/(365 ** 25)\n",
    "resultado_2 = numerador/denominador\n",
    "\n",
    "print(f\"La pobabilidad de que ninguna persona cumpla años en mismo día en una reunón de 25 personas es: {numerador/denominador*100}%\")\n",
    "print(resultado_1, resultado_2)\n",
    "print(math.isclose(denominador, perm_con_rep))\n",
    "\n",
    "# La probabilidad de que dos o mas personas cumplan el mismo día\n",
    "print(f\"La pobabilidad de dos o más personas cumplanaños en mismo día en una reunón de 25 personas es: {(1-numerador/denominador)*100}%\")"
   ]
  },
  {
   "cell_type": "code",
   "execution_count": null,
   "metadata": {},
   "outputs": [],
   "source": []
  }
 ],
 "metadata": {
  "kernelspec": {
   "display_name": "Python 3",
   "language": "python",
   "name": "python3"
  },
  "language_info": {
   "codemirror_mode": {
    "name": "ipython",
    "version": 3
   },
   "file_extension": ".py",
   "mimetype": "text/x-python",
   "name": "python",
   "nbconvert_exporter": "python",
   "pygments_lexer": "ipython3",
   "version": "3.12.2"
  }
 },
 "nbformat": 4,
 "nbformat_minor": 2
}
