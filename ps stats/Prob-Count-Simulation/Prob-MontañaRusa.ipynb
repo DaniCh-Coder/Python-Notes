{
 "cells": [
  {
   "cell_type": "markdown",
   "metadata": {},
   "source": [
    "# Montaña Rusa\n",
    "La montaña rusa Rock’n’Roller de los estudios Disney-MGM en Orlando tiene dos asientos en cada una de sus 12 filas. Los pasajeros se asignan a los asientos en el orden en que van llegando. Si usted se sube a esta montaña rusa una vez, ¿cuál es la probabilidad de obtener el codiciado lugar de la fila de adelante?\n",
    "¿Cuántas veces se tiene que subir para tener un mínimo del 95% de probabilidad de que le toque el asiento delantero al menos una vez?"
   ]
  },
  {
   "cell_type": "code",
   "execution_count": 1,
   "metadata": {},
   "outputs": [],
   "source": [
    "import math"
   ]
  },
  {
   "cell_type": "markdown",
   "metadata": {},
   "source": [
    "a. ¿cuál es la probabilidad de obtener el codiciado lugar de la fila de adelante?\n",
    "+ La probabilidad de obtener un lugar en la fila es 1/12 o 2/24.\n",
    "+ La probabilidad de no obtener nunca un lugar en la primera fila es entonces igual a 22/24 por se el complemento de tener un lugar en la primera fila."
   ]
  },
  {
   "cell_type": "code",
   "execution_count": 6,
   "metadata": {},
   "outputs": [
    {
     "name": "stdout",
     "output_type": "stream",
     "text": [
      "Probabilidad de obtener el asiento delantero: 0.08333333333333333\n"
     ]
    }
   ],
   "source": [
    "print(f\"Probabilidad de obtener el asiento delantero: {1/12}\")"
   ]
  },
  {
   "cell_type": "markdown",
   "metadata": {},
   "source": [
    "b.\tPara obtener cuantas veces es necesario ir para que toque el primer asiento es más fácil calcular la probabilidad de que nunca toque la primera fila y después el complemento. Ese cálculo debe dar mayor o igual que el 95%:\n",
    "+\tProbabilidad de que nunca toque es de 22/24 = 11/22\n",
    "+\tLa probabilidad de que nunca toque es (11/22)\n",
    "+\tLa probabilidad de que toque una o más veces es 1-(11/22)\n",
    "+\tPor lo tanto 1-(11/22)**n tiene que ser >= que 0.95, entonces"
   ]
  },
  {
   "cell_type": "code",
   "execution_count": 4,
   "metadata": {},
   "outputs": [
    {
     "name": "stdout",
     "output_type": "stream",
     "text": [
      "Probabilidad de obtener el asiento delantero después de 1 intento: 0.08333333333333337\n",
      "Número mínimo de intentos para tener al menos un 95% de probabilidad de obtener el asiento delantero: 35\n"
     ]
    }
   ],
   "source": [
    "# Función para calcular la probabilidad de obtener el asiento delantero al menos una vez después de n intentos\n",
    "def probabilidad_asiento_delantero(n):\n",
    "    return 1 - (11/12)**n\n",
    "\n",
    "# Calcular la probabilidad de obtener el asiento delantero al menos una vez después de 1 intento\n",
    "probabilidad_1_intento = probabilidad_asiento_delantero(1)\n",
    "print(\"Probabilidad de obtener el asiento delantero después de 1 intento:\", probabilidad_1_intento)\n",
    "\n",
    "# Calcular el número mínimo de intentos para tener al menos un 95% de probabilidad de obtener el asiento delantero al menos una vez\n",
    "n_intentos = 1\n",
    "while probabilidad_asiento_delantero(n_intentos) < 0.95:\n",
    "    n_intentos += 1\n",
    "\n",
    "print(\"Número mínimo de intentos para tener al menos un 95% de probabilidad de obtener el asiento delantero:\", n_intentos)\n"
   ]
  },
  {
   "cell_type": "markdown",
   "metadata": {},
   "source": [
    "Esto también podría calcularse despejando n de la formula 1-(11/22)**n\n",
    "Para esto necesitamos aplicar logaritmo neperiano"
   ]
  },
  {
   "cell_type": "code",
   "execution_count": 7,
   "metadata": {},
   "outputs": [
    {
     "name": "stdout",
     "output_type": "stream",
     "text": [
      "Número mínimo de intentos para tener al menos un 95% de probabilidad de obtener el asiento delantero: 35\n"
     ]
    }
   ],
   "source": [
    "import math\n",
    "\n",
    "# Función para calcular el número mínimo de intentos para tener al menos un 95% de probabilidad de obtener el asiento delantero\n",
    "def calcular_intentos_minimos(prob_objetivo):\n",
    "    probabilidad_exitosa = 1 - prob_objetivo\n",
    "    n_intentos = math.ceil(math.log(probabilidad_exitosa) / math.log(11/12))\n",
    "    return n_intentos\n",
    "\n",
    "# Calcular el número mínimo de intentos para tener al menos un 95% de probabilidad de obtener el asiento delantero\n",
    "n_intentos_minimos = calcular_intentos_minimos(0.95)\n",
    "\n",
    "print(\"Número mínimo de intentos para tener al menos un 95% de probabilidad de obtener el asiento delantero:\", n_intentos_minimos)\n"
   ]
  },
  {
   "cell_type": "code",
   "execution_count": null,
   "metadata": {},
   "outputs": [],
   "source": []
  }
 ],
 "metadata": {
  "kernelspec": {
   "display_name": "Python 3",
   "language": "python",
   "name": "python3"
  },
  "language_info": {
   "codemirror_mode": {
    "name": "ipython",
    "version": 3
   },
   "file_extension": ".py",
   "mimetype": "text/x-python",
   "name": "python",
   "nbconvert_exporter": "python",
   "pygments_lexer": "ipython3",
   "version": "3.12.2"
  }
 },
 "nbformat": 4,
 "nbformat_minor": 2
}
