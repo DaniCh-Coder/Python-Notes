{
 "cells": [
  {
   "cell_type": "markdown",
   "metadata": {},
   "source": [
    "# Medidas de Tendencia Central y Medidas de Variación\n",
    "Ejercicios de medidas de tendencia central y variación"
   ]
  },
  {
   "cell_type": "markdown",
   "metadata": {},
   "source": [
    "# "
   ]
  },
  {
   "cell_type": "code",
   "execution_count": 50,
   "metadata": {},
   "outputs": [],
   "source": [
    "import pandas as pd\n",
    "from statistics import mean, median, mode, variance, stdev\n",
    "import matplotlib.pyplot as plt\n",
    "import seaborn as sns"
   ]
  },
  {
   "cell_type": "markdown",
   "metadata": {},
   "source": [
    "##### Tiempos de Espera de Clientes\n",
    "A continuación se presentan los tiempos de espera (en minutos) de los clientes del banco Jefferson Valley (donde todos los clientes forman una sola fila) y del banco Providence (donde los clientes esperan en filas individuales, en tres ventanillas diferentes). \n",
    "+ Determine si existe una diferencia entre los dos conjuntos de datos, que no sea aparente cuando se comparan las medidas de tendencia central. \n",
    "+ Si tal diferencia existe, ¿cuál es?\n",
    "    + Jefferson Valley (una sola fila): 6.5 6.6 6.7 6.8 7.1 7.3 7.4 7.7 7.7 7.7\n",
    "    + Providence (filas individuales): 4.2 5.4 5.8 6.2 6.7 7.7 7.7 8.5 9.3 10.0"
   ]
  },
  {
   "cell_type": "code",
   "execution_count": 51,
   "metadata": {},
   "outputs": [],
   "source": [
    "# Muestras\n",
    "Jeff = [6.5, 6.6, 6.7, 6.8, 7.1, 7.3, 7.4, 7.7, 7.7, 7.7]\n",
    "Prov = [4.2, 5.4, 5.8, 6.2, 6.7, 7.7, 7.7, 8.5, 9.3, 10.0]"
   ]
  },
  {
   "cell_type": "code",
   "execution_count": 52,
   "metadata": {},
   "outputs": [
    {
     "name": "stdout",
     "output_type": "stream",
     "text": [
      "a. Jefferson  Central Tendency Measures: 1) media: 7.15,    2) mediana: 7.199999999999999, 3) mode: 7.7\n",
      "b. Providence Central Tendency Measures: 1) media: 7.15,    2) mediana: 7.2,                 3) mode: 7.7\n"
     ]
    }
   ],
   "source": [
    "# Medidas de tendencia central. caldulo de media, mediana y moda\n",
    "print(f\"a. Jefferson  Central Tendency Measures: 1) media: {mean(Jeff)},    2) mediana: {median(Jeff)}, 3) mode: {mode(Jeff)}\")\n",
    "print(f\"b. Providence Central Tendency Measures: 1) media: {mean(Prov)},    2) mediana: {median(Prov)},                 3) mode: {mode(Prov)}\")"
   ]
  },
  {
   "cell_type": "code",
   "execution_count": 53,
   "metadata": {},
   "outputs": [
    {
     "name": "stdout",
     "output_type": "stream",
     "text": [
      "a. Jefferson  1) Varianza: 0.22722222222222235, 2) Desviación Estandard: 0.4766783215358365\n",
      "b. Providence 1) Varianza: 3.3183333333333334,  2) Desviación Estandard: 1.8216293073326784\n"
     ]
    }
   ],
   "source": [
    "# Medidas de Variación. Cálculo de Varianza y Desfiación Estandard\n",
    "print(f\"a. Jefferson  1) Varianza: {variance(Jeff)}, 2) Desviación Estandard: {stdev(Jeff)}\")\n",
    "print(f\"b. Providence 1) Varianza: {variance(Prov)},  2) Desviación Estandard: {stdev(Prov)}\")"
   ]
  },
  {
   "cell_type": "markdown",
   "metadata": {},
   "source": [
    "Aunque las medidas de tendencia central son las mismas, los tiempos de espera de Providence son mucho más variados que los tiempos de espera de Jefferson Valley.\n",
    "+ Se puede ver en la igualdad de las medidas de tendencia central y en las diferencias de las medidas de variación"
   ]
  },
  {
   "cell_type": "markdown",
   "metadata": {},
   "source": [
    "________________________________________________________________________________________________________________________________________________________\n",
    "##### Coca-Cola regular vs Coca-Cola dietética. \n",
    "Los siguientes son los pesos (en libras) de muestras del contenido de latas de Coca-Cola regular y dietética. \n",
    "+ ¿Parece existir una diferencia significativa entre los dos conjuntos de datos? \n",
    "+ ¿Cómo se podría explicar una diferencia como ésta?\n",
    "    + Regular: 0.8192 0.8150 0.8163 0.8211 0.8181 0.8247\n",
    "    + Dietética: 0.7773 0.7758 0.7896 0.7868 0.7844 0.7861\n"
   ]
  },
  {
   "cell_type": "code",
   "execution_count": 54,
   "metadata": {},
   "outputs": [],
   "source": [
    "# Muestras\n",
    "Reg = [0.8192, 0.8150, 0.8163, 0.8211, 0.8181, 0.8247]\n",
    "Diet = [0.7773, 0.7758,  0.7896,  0.7868, 0.7844, 0.7861]"
   ]
  },
  {
   "cell_type": "code",
   "execution_count": 55,
   "metadata": {},
   "outputs": [
    {
     "name": "stdout",
     "output_type": "stream",
     "text": [
      "a. Regular Central Tendency Measures: 1) media: 0.8190666666666667,    2) mediana: 0.8186500000000001,  3) mode: 0.8192\n",
      "b. Dietética Central Tendency Measures: 1) media: 0.7833333333333333,     2) mediana: 0.78525,             3) mode: 0.7773\n"
     ]
    }
   ],
   "source": [
    "# Medidas de tendencia central\n",
    "print(f\"a. Regular Central Tendency Measures: 1) media: {mean(Reg)},    2) mediana: {median(Reg)},  3) mode: {mode(Reg)}\")\n",
    "print(f\"b. Dietética Central Tendency Measures: 1) media: {mean(Diet)},     2) mediana: {median(Diet)},             3) mode: {mode(Diet)}\")"
   ]
  },
  {
   "cell_type": "code",
   "execution_count": 56,
   "metadata": {},
   "outputs": [
    {
     "name": "stdout",
     "output_type": "stream",
     "text": [
      "Regular-Dietética = [0.04190000000000005, 0.0391999999999999, 0.026700000000000057, 0.0343, 0.03370000000000006, 0.03859999999999997].\n"
     ]
    }
   ],
   "source": [
    "# Diferencia entre ambas muestras\n",
    "print(f\"Regular-Dietética = {[Reg[i] - Diet[i] for i in range(len(Reg))]}.\")"
   ]
  },
  {
   "cell_type": "code",
   "execution_count": 57,
   "metadata": {},
   "outputs": [
    {
     "name": "stdout",
     "output_type": "stream",
     "text": [
      "a. Regular  1) Varianza: 1.2202666666666725e-05, 2) Desviación Estandard: 0.0034932315506800756\n",
      "b. Dietética 1) Varianza: 3.0646666666666564e-05,  2) Desviación Estandard: 0.005535943159631118\n"
     ]
    }
   ],
   "source": [
    "# Medidas de Variación. Cálculo de Varianza y Desfiación Estandard\n",
    "print(f\"a. Regular  1) Varianza: {variance(Reg)}, 2) Desviación Estandard: {stdev(Reg)}\")\n",
    "print(f\"b. Dietética 1) Varianza: {variance(Diet)},  2) Desviación Estandard: {stdev(Diet)}\")"
   ]
  },
  {
   "cell_type": "markdown",
   "metadata": {},
   "source": [
    "Todas las medidas de tendencia central reflejan un mayor peso de las bebida regular por sobre la dietética.\n",
    "+ Al analizar ambas series de datos se observa que todas las observaciones de la bebida regular son más pesadas que las observaciones de la dietética.\n",
    "+ Hay una mayor variación o dispersión de los datos en la categoría regula pero esta no es significativa\n",
    "________________________________________________________________________________________________________________________________________________________\n"
   ]
  },
  {
   "cell_type": "markdown",
   "metadata": {},
   "source": [
    "##### Peniques revisados\n",
    "A continuación se listan los pesos de peniques acuñados antes y después de 1983.\n",
    "¿Cuales son las observaciónes en términos de tendencia central?"
   ]
  },
  {
   "cell_type": "code",
   "execution_count": 58,
   "metadata": {},
   "outputs": [],
   "source": [
    "# Muestra 1\n",
    "PRE_1983 = [3.1582, 3.0406, 3.0762, 3.0398, 3.1043, 3.1274, 3.0775, 3.1038, 3.1086, \n",
    "            3.0586, 3.0603, 3.0502, 3.1028, 3.0522, 3.0546, 3.0185, 3.0712, 3.0717, \n",
    "            3.0546, 3.0817, 3.0704, 3.0797, 3.0713, 3.0631, 3.0866, 3.0763, 3.1299, \n",
    "            3.0846, 3.0917, 3.0877, 2.9593, 3.0966, 2.9800, 3.0934, 3.1340]"
   ]
  },
  {
   "cell_type": "code",
   "execution_count": 59,
   "metadata": {},
   "outputs": [],
   "source": [
    "# Muestra 2\n",
    "POST_1983 = [2.5113, 2.4907, 2.5024, 2.5298, 2.4950, 2.5127, 2.4998, 2.4848, 2.4823, 2.5163, \n",
    "             2.5222, 2.5004, 2.5248, 2.5058, 2.4900, 2.5068, 2.5016, 2.4797, 2.5067, 2.5139, \n",
    "             2.4762, 2.5004, 2.5170, 2.4925, 2.4876, 2.4933, 2.4806, 2.4907, 2.5017, 2.4950,\n",
    "             2.4973, 2.5252, 2.4978, 2.5073, 2.4658, 2.4529, 2.5085]"
   ]
  },
  {
   "cell_type": "code",
   "execution_count": 60,
   "metadata": {},
   "outputs": [
    {
     "name": "stdout",
     "output_type": "stream",
     "text": [
      "a. Previous 1983 Central Tendency Measures: 1) media: 3.074782857142857,     2) mediana: 3.0763,     3) mode: 3.0546\n",
      "b. After  1983 Central Tendency Measures: 1) media: 2.499102702702703,       2) mediana: 2.5004,    3) mode: 2.4907\n"
     ]
    }
   ],
   "source": [
    "# Medidas de tendencia central\n",
    "print(f\"a. Previous 1983 Central Tendency Measures: 1) media: {mean(PRE_1983)},     2) mediana: {median(PRE_1983)},     3) mode: {mode(PRE_1983)}\")\n",
    "print(f\"b. After  1983 Central Tendency Measures: 1) media: {mean(POST_1983)},       2) mediana: {median(POST_1983)},    3) mode: {mode(POST_1983)}\")"
   ]
  },
  {
   "cell_type": "code",
   "execution_count": 61,
   "metadata": {},
   "outputs": [
    {
     "name": "stdout",
     "output_type": "stream",
     "text": [
      "a. Previous 1983:  1) Varianza: 0.0015288132268907568, 2) Desviación Estandard: 0.03910004126456591\n",
      "b. After    1983: 1) Varianza: 0.00027158915915915876,  2) Desviación Estandard: 0.016479962353086818\n"
     ]
    }
   ],
   "source": [
    "# Medidas de Variación. Cálculo de Varianza y Desfiación Estandard\n",
    "print(f\"a. Previous 1983:  1) Varianza: {variance(PRE_1983)}, 2) Desviación Estandard: {stdev(PRE_1983)}\")\n",
    "print(f\"b. After    1983: 1) Varianza: {variance(POST_1983)},  2) Desviación Estandard: {stdev(POST_1983)}\")"
   ]
  },
  {
   "cell_type": "markdown",
   "metadata": {},
   "source": [
    "+ Se observa un mayor peso en las monedas previas a 1983. Esta observación es contundente.\n",
    "    + La mayoría de las monedas previas son mas pesadas que las post\n",
    "+ En conjunto de las monedas previas tienen una mayor desviación que las monedas post\n",
    "    + Se puede haber logrado una mayor precisión en la fabricación de las post\n",
    "+ Las monedas post 1982 parecen ser mas liianas y con mayor precisión\n",
    "    + Parace haber una mejora en la fabricación con ahorro de costos\n"
   ]
  },
  {
   "cell_type": "markdown",
   "metadata": {},
   "source": [
    "________________________________________________________________________________________________________________________________________________________"
   ]
  },
  {
   "cell_type": "markdown",
   "metadata": {},
   "source": [
    "#### Palabras de gatos\n",
    "A veces se utiliza la estadística para comparar o identificar autores de distintos trabajos. \n",
    "+ A continuación se incluye una lista con la longitud de \n",
    "    + las primeras 20 palabras que escribió Tennessee Williams en el prefacio de The cat on a Hot Tin Roof, \n",
    "    + junto con las primeras 20 palabras de The Cat in the Hat, del doctor Seuss.\n",
    "+ Cat on a Hot Tin Roof: 262214424238422772311\n",
    "+ The Cat in the Hat: 3333523332422323534 4\n",
    "\n",
    "+ ¿Parece haber una diferencia en la variación?"
   ]
  },
  {
   "cell_type": "code",
   "execution_count": 62,
   "metadata": {},
   "outputs": [],
   "source": [
    "CatOnHot = [2,6,2,2,1,4,4,2,4,2,3,8,4,2,2,7,7,2,3,1,1]\n",
    "CatInHat = [3,3,3,3,5,2,3,3,3,2,4,2,2,3,2,3,5,3,4,4,3]"
   ]
  },
  {
   "cell_type": "code",
   "execution_count": 98,
   "metadata": {},
   "outputs": [
    {
     "name": "stdout",
     "output_type": "stream",
     "text": [
      "Comparación de tamaño de muestra y rango.\n",
      "La cantidad de oservaciones y los rangos dan una primera idea de la variación/dispersión de los datos:\n",
      "Observaciones:  CatOnHot: 21    CatInHat: 21\n",
      "Rangos:         CatOnHot: 7     CatInHat: 3\n",
      "\n",
      "Comparación de las Medidas de tendencia central y variación:\n",
      "Las medidas de tendencia cental y variacion/dispersión dan mayor detalle de la distribución de los datos:\n",
      "a. CatInHat:  1) media: 3.2857142857142856,    2) mediana: 2,     3) mode: 2\n",
      "b. CatInHat:  1) media: 3.0952380952380953,    2) mediana: 3,     3) mode: 3\n",
      "a. CatOnHot:  1) Varianza: 4.414285714285715,  2) Desviación Estandard: 2.1010201603710787\n",
      "b. CatInHat:  1) Varianza: 0.7904761904761904, 2) Desviación Estandard: 0.8890872794479687\n"
     ]
    }
   ],
   "source": [
    "# Recuento de observaciones y calculo de rangos\n",
    "print(\"Comparación de tamaño de muestra y rango.\")\n",
    "print(\"La cantidad de oservaciones y los rangos dan una primera idea de la variación/dispersión de los datos:\")\n",
    "print(f\"Observaciones:  CatOnHot: {len(CatOnHot)}    CatInHat: {len(CatInHat)}\")\n",
    "print(f\"Rangos:         CatOnHot: {max(CatOnHot) - min(CatOnHot)}     CatInHat: {max(CatInHat) - min(CatInHat)}\")\n",
    "\n",
    "# Medidas de tendencia central\n",
    "print(\"\\nComparación de las Medidas de tendencia central y variación:\")\n",
    "print(\"Las medidas de tendencia cental y variacion/dispersión dan mayor detalle de la distribución de los datos:\")\n",
    "print(f\"a. CatInHat:  1) media: {mean(CatOnHot)},    2) mediana: {median(CatOnHot)},     3) mode: {mode(CatOnHot)}\")\n",
    "print(f\"b. CatInHat:  1) media: {mean(CatInHat)},    2) mediana: {median(CatInHat)},     3) mode: {mode(CatInHat)}\")\n",
    "\n",
    "# Medidas de Variación. Cálculo de Varianza y Desfiación Estandard\n",
    "print(f\"a. CatOnHot:  1) Varianza: {variance(CatOnHot)},  2) Desviación Estandard: {stdev(CatOnHot)}\")\n",
    "print(f\"b. CatInHat:  1) Varianza: {variance(CatInHat)}, 2) Desviación Estandard: {stdev(CatInHat)}\")\n"
   ]
  },
  {
   "cell_type": "code",
   "execution_count": 103,
   "metadata": {},
   "outputs": [
    {
     "name": "stdout",
     "output_type": "stream",
     "text": [
      "\n",
      "Estadísticos CatOnHot en orden para ver en grafica: Observaciones: 21, Rango: 7.\n",
      "min: 1,   -1sd: -2.10,   mode: 2,   median: 2,   media: 3.29,   +1sd: 2.10,   max: 8\n"
     ]
    },
    {
     "data": {
      "image/png": "[encoded data removed]",
      "text/plain": [
       "<Figure size 700x200 with 2 Axes>"
      ]
     },
     "metadata": {},
     "output_type": "display_data"
    },
    {
     "name": "stdout",
     "output_type": "stream",
     "text": [
      "\n",
      "Estadísticos CatInHat en orden para ver en grafica: Observaciones: 21, Rango: 3.\n",
      "min: 2,   -1sd: -0.89,   mode: 3,   median: 3,   media: 3.10,   +1sd: 0.89,   max: 5\n"
     ]
    },
    {
     "data": {
      "image/png": "[encoded data removed]",
      "text/plain": [
       "<Figure size 700x200 with 2 Axes>"
      ]
     },
     "metadata": {},
     "output_type": "display_data"
    }
   ],
   "source": [
    "\n",
    "# CatOnHot\n",
    "print(f\"\\nEstadísticos CatOnHot en orden para ver en grafica: Observaciones: {len(CatOnHot)}, Rango: {max(CatOnHot) - min(CatOnHot)}.\")\n",
    "# Medidas de tendencia central\n",
    "print(f\"min: {min(CatOnHot)},   -1sd: {format(-stdev(CatOnHot),'.2f')},   mode: {mode(CatOnHot)},   median: {median(CatOnHot)},\"\\\n",
    "      f\"   media: {format(mean(CatOnHot),'.2f')},   +1sd: {format(stdev(CatOnHot),'.2f')},   max: {max(CatOnHot)}\")\n",
    "f, axs = plt.subplots(2, figsize=(7, 2), sharex=True, layout=\"tight\")\n",
    "sns.boxplot(x=CatOnHot,ax=axs[0], color='white')\n",
    "sns.pointplot(x=CatOnHot, errorbar=\"sd\", capsize=.3, ax=axs[0])\n",
    "sns.stripplot(x=CatOnHot, jitter=.5, ax=axs[1])\n",
    "plt.show()\n",
    "\n",
    "# CatInHat\n",
    "print(f\"\\nEstadísticos CatInHat en orden para ver en grafica: Observaciones: {len(CatInHat)}, Rango: {max(CatInHat) - min(CatInHat)}.\")\n",
    "print(f\"min: {min(CatInHat)},   -1sd: {format(-stdev(CatInHat),'.2f')},   mode: {mode(CatInHat)},   median: {median(CatInHat)},\"\\\n",
    "      f\"   media: {format(mean(CatInHat),'.2f')},   +1sd: {format(stdev(CatInHat),'.2f')},   max: {max(CatInHat)}\")\n",
    "f, axs = plt.subplots(2, figsize=(7, 2), sharex=True, layout=\"tight\")\n",
    "sns.boxplot(x=CatInHat,ax=axs[0], color='white')\n",
    "sns.pointplot(x=CatInHat, errorbar=\"sd\", capsize=.3, ax=axs[0])\n",
    "sns.stripplot(x=CatInHat, jitter=.5, ax=axs[1])\n",
    "plt.show()"
   ]
  },
  {
   "cell_type": "markdown",
   "metadata": {},
   "source": [
    "+ De la observación de los rangos, las varianzas y las desviaciones estandard, se observa que:\n",
    "    + hay una mayor variación en las primeras 20 palabras que escribió Tennessee Williams en el prefacio de The cat on a Hot Tin Roof\n",
    "        + Esto se debe a un mayor rango y a una mayor dispersión en el mismo.\n",
    "    + hay una menor variación en las primeras 20 palabras de The Cat in the Hat, del doctor Seuss.\n",
    "        + Esto se debe a un rango menor y a una menor dispersión en el mismo.\n",
    "    + Se trata de una diferencia notable porque la candidad de observaciones (palabras) es la misma en ambos casos.\n",
    "        + En el primer caso palabras cortas y largas estan más balanceadas en el segundo.\n",
    "        + En el segundo caso la mayoría de las palabras son cortas.\n",
    "    + Puede que el vocabulario usado en el primer caso ha sido mucho más variado que en el segundo.\n",
    "        + Esto es solo un indicio de esta muestra pero habría que comprobarlo."
   ]
  },
  {
   "cell_type": "markdown",
   "metadata": {},
   "source": [
    "________________________________________________________________________________________________________________________________________________________"
   ]
  },
  {
   "cell_type": "markdown",
   "metadata": {},
   "source": [
    "#### Exactitud del pronóstico del clima. \n",
    "+ En un análisis de la exactitud del pronóstico del clima se comparan las temperaturas máximas reales con las temperaturas máximas pronosticadas un día anterior y con las temperaturas máximas pronosticadas cinco días antes.\n",
    "    + (máxima real) - (máxima pronosticada un día antes): 2,2,0,0,-3,-2,1,8,1,-2,0,-1,0,1\n",
    "    + (máxima real) - (máxima pronosticada cinco días antes): 0,-3,2,5,-6,-9,4,-1,6,-2,-2,-1,6,-4\n",
    "+ ¿La desviación estándar sugiere que las temperaturas pronosticadas un día antes son más exactas que las pronosticadas cinco días antes, como se esperaría?\n"
   ]
  },
  {
   "cell_type": "code",
   "execution_count": null,
   "metadata": {},
   "outputs": [],
   "source": [
    "max1 = [2,2,0,0,-3,-2,1,-2, 8,1,0,-1,0,1]\n",
    "max5 = [0,-3,2,5,-6,-9,4,-1,6,-2,-2,-1,6,-4]"
   ]
  },
  {
   "cell_type": "code",
   "execution_count": null,
   "metadata": {},
   "outputs": [
    {
     "name": "stdout",
     "output_type": "stream",
     "text": [
      "Observaciones:  Pronóstico 1 día antes: 14     Pronóstico 5 días antes: 14\n",
      "Rangos:         Pronóstico 1 día antes: 11     Pronóstico 5 días antes: 15\n"
     ]
    }
   ],
   "source": [
    "# Recuento de observaciones y calculo de rangos\n",
    "print(f\"Observaciones:  Pronóstico 1 día antes: {len(max1)}     Pronóstico 5 días antes: {len(max5)}\")\n",
    "print(f\"Rangos:         Pronóstico 1 día antes: {max(max1) - min(max1)}     Pronóstico 5 días antes: {max(max5) - min(max5)}\")"
   ]
  },
  {
   "cell_type": "code",
   "execution_count": null,
   "metadata": {},
   "outputs": [
    {
     "name": "stdout",
     "output_type": "stream",
     "text": [
      "a. Pronóstico 1 día antes:  1) media: 0.5,     2) mediana: 0.0,     3) mode: 0\n",
      "b. Pronóstico 5 días antes: 1) media: -0.35714285714285715,     2) mediana: -1.0,     3) mode: -1\n"
     ]
    }
   ],
   "source": [
    "# Medidas de tendencia central\n",
    "print(f\"a. Pronóstico 1 día antes:  1) media: {mean(max1)},     2) mediana: {median(max1)},     3) mode: {mode(max1)}\")\n",
    "print(f\"b. Pronóstico 5 días antes: 1) media: {mean(max5)},     2) mediana: {median(max5)},     3) mode: {mode(max5)}\")"
   ]
  },
  {
   "cell_type": "code",
   "execution_count": null,
   "metadata": {},
   "outputs": [
    {
     "name": "stdout",
     "output_type": "stream",
     "text": [
      "a. Pronóstico 1 día antes:  1) Varianza: 6.884615384615385,  2) Desviación Estandard: 2.6238550616631597\n",
      "b. Pronóstico 5 días antes:  1) Varianza: 20.554945054945055, 2) Desviación Estandard: 4.533756175065555\n"
     ]
    }
   ],
   "source": [
    "# Medidas de Variación. Cálculo de Varianza y Desfiación Estandard\n",
    "print(f\"a. Pronóstico 1 día antes:  1) Varianza: {variance(max1)},  2) Desviación Estandard: {stdev(max1)}\")\n",
    "print(f\"b. Pronóstico 5 días antes:  1) Varianza: {variance(max5)}, 2) Desviación Estandard: {stdev(max5)}\")"
   ]
  },
  {
   "cell_type": "markdown",
   "metadata": {},
   "source": [
    "+ Si observamos las medias de los errores parecería ser que el error promedio fue menor en el pronostico a 5 días.\n",
    "+ Pero el error promedio no da una idea absoluta de como fueron los errores de cada estimación 5 días antes.\n",
    "+ Si boservamos las variaciones de los errores se ve que es mayor la variacíón de 5 días antes.\n",
    "+ Esta observación es mucho más acertada poque a mayor dispersión de los errores más desasertados fueron los valores pronosticados."
   ]
  },
  {
   "cell_type": "markdown",
   "metadata": {},
   "source": [
    "________________________________________________________________________________________________________________________________________________________"
   ]
  },
  {
   "cell_type": "markdown",
   "metadata": {},
   "source": [
    "#### Regla empírica del intervalo \n",
    "Las estaturas de un grupo de hombres tienen una distribución normal, con una media de 176 cm y una desviación estándar de 7 cm. Por medio de la regla empírica, ¿cuál es el porcentaje aproximado de hombres entre \n",
    "+ a. 169 cm y 183 cm?\n",
    "+ b. 155 cm y 197 cm?"
   ]
  },
  {
   "cell_type": "code",
   "execution_count": null,
   "metadata": {},
   "outputs": [],
   "source": [
    "x=176\n",
    "s= 7\n",
    "s2 = 2*s\n",
    "s3 = 3*s"
   ]
  },
  {
   "cell_type": "code",
   "execution_count": null,
   "metadata": {},
   "outputs": [
    {
     "name": "stdout",
     "output_type": "stream",
     "text": [
      "El rango de probabilidad del 68% esta entre 169 y 183\n",
      "El rango de probabilidad del 95% esta entre 162 y 190\n",
      "El rango de probabilidad del 99,7% esta entre 155 y 197\n"
     ]
    }
   ],
   "source": [
    "print(f'El rango de probabilidad del 68% esta entre {x-s} y {x+s}')\n",
    "print(f'El rango de probabilidad del 95% esta entre {x-s2} y {x+s2}')\n",
    "print(f'El rango de probabilidad del 99,7% esta entre {x-s3} y {x+s3}')"
   ]
  },
  {
   "cell_type": "markdown",
   "metadata": {},
   "source": [
    "La regla empirica de la distribución normal sostiene los valores de 68%, 95%, y 99,7% para 1S, 2S, y 3S de la distribución normal.\n",
    "+ En este caso la media x=176cm y la desviación estandar= 7. Entonces para:\n",
    "    + 1s el rango de 68% de probabilidad es 169<=176<=183\n",
    "    + 2s el rango de 95% de probabilidad es 162<=176<=190\n",
    "    + 3s el rango de 99% es 155<=176<=197\n",
    "+ Lo anterior, quiere decir entonces que:\n",
    "+ a. El ´porcentaje aproximado para hombres de entre 169cm y 183cm es 68%.\n",
    "+ b. El ´porcentaje aproximado para hombres de entre 155cm y 197cm es 99%."
   ]
  },
  {
   "cell_type": "markdown",
   "metadata": {},
   "source": [
    "________________________________________________________________________________________________________________________________________________________"
   ]
  },
  {
   "cell_type": "markdown",
   "metadata": {},
   "source": [
    "#### Coeficiente de variación. \n",
    "Utilice los siguientes datos muestrales para calcular elcoeficiente de variación de cada muestra; después, compare los resultados.\n",
    "+ Estaturas (en pulgadas) de hombres: 71 66 72 69 68 69\n",
    "+ Largo (en mm) de huevos de ave: 19.7 21.7 21.9 22.1 22.1 22.3 22.7 22.9 23.9"
   ]
  },
  {
   "cell_type": "code",
   "execution_count": null,
   "metadata": {},
   "outputs": [
    {
     "data": {
      "text/plain": [
       "(69.16666666666667, 2.136976056643281)"
      ]
     },
     "execution_count": 28,
     "metadata": {},
     "output_type": "execute_result"
    }
   ],
   "source": [
    "# Calculo de media y desviación estandard de la primera muestra\n",
    "mean([71,66,72,69,68,69]),stdev([71,66,72,69,68,69])"
   ]
  },
  {
   "cell_type": "code",
   "execution_count": null,
   "metadata": {},
   "outputs": [
    {
     "data": {
      "text/plain": [
       "(22.144444444444446, 1.130388330520878)"
      ]
     },
     "execution_count": 29,
     "metadata": {},
     "output_type": "execute_result"
    }
   ],
   "source": [
    "# Calculo de media y desviación estandard de la segunda muestra\n",
    "mean([ 19.7, 21.7, 21.9, 22.1, 22.1, 22.3, 22.7, 22.9, 23.9]), stdev([19.7, 21.7, 21.9, 22.1, 22.1, 22.3, 22.7, 22.9, 23.9])"
   ]
  },
  {
   "cell_type": "code",
   "execution_count": null,
   "metadata": {},
   "outputs": [
    {
     "data": {
      "text/plain": [
       "(3.089603937315587, 5.104613635066684)"
      ]
     },
     "execution_count": 30,
     "metadata": {},
     "output_type": "execute_result"
    }
   ],
   "source": [
    "# Calculo los coeficientes de variación de ambas muestras y los comparo\n",
    "coefestaturas= stdev([71,66,72,69,68,69])/mean([71,66,72,69,68,69])*100 \n",
    "coeflargo=stdev([19.7, 21.7, 21.9, 22.1, 22.1, 22.3, 22.7, 22.9, 23.9])/mean([ 19.7, 21.7, 21.9, 22.1, 22.1, 22.3, 22.7, 22.9, 23.9])*100\n",
    "coefestaturas, coeflargo"
   ]
  },
  {
   "cell_type": "code",
   "execution_count": null,
   "metadata": {},
   "outputs": [
    {
     "name": "stdout",
     "output_type": "stream",
     "text": [
      "Coeficientes de variación: Estaturas = 3.089603937315587%. Largos= 5.104613635066684%\n"
     ]
    }
   ],
   "source": [
    "print(f'Coeficientes de variación: Estaturas = {coefestaturas}%. Largos= {coeflargo}%')"
   ]
  },
  {
   "cell_type": "markdown",
   "metadata": {},
   "source": [
    "El coeficiente de variación de estaturas es menor que el coeficiente d variación de largos.\n",
    "Esto significa que las observaciones de las estaturas tienen una variación menor que las observaciones de la muestra de largos."
   ]
  },
  {
   "cell_type": "markdown",
   "metadata": {},
   "source": []
  }
 ],
 "metadata": {
  "kernelspec": {
   "display_name": "Python 3",
   "language": "python",
   "name": "python3"
  },
  "language_info": {
   "codemirror_mode": {
    "name": "ipython",
    "version": 3
   },
   "file_extension": ".py",
   "mimetype": "text/x-python",
   "name": "python",
   "nbconvert_exporter": "python",
   "pygments_lexer": "ipython3",
   "version": "3.12.2"
  }
 },
 "nbformat": 4,
 "nbformat_minor": 2
}
