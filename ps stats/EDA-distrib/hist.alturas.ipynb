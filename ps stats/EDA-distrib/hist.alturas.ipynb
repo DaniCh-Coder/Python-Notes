{
 "cells": [
  {
   "cell_type": "markdown",
   "metadata": {},
   "source": [
    "# Distribución de Frecuencias - Histogramas\n",
    "## Altura de las personas\n",
    "### Situación\n",
    "+ Se obtuvieron las estaturas de estudiantes de estadística como parte de un experimento para la clase. \n",
    "    + La lista con las alturas se daño.\n",
    "    + Quedó solo una lista con los ultimos dígitos de estas alturas.\n",
    "+ A continuación se presenta una lista de los últimos dígitos de tales estaturas.\n",
    "    + 0000000001123334555555555555555668889\n",
    "+ Construya una distribución de frecuencias con 10 clases. \n",
    "+ Con base en la distribución, ¿parece que las estaturas se reportaron o que se midieron realmente? \n",
    "+ ¿Qué sabe usted acerca de la exactitud de los resultados?"
   ]
  },
  {
   "cell_type": "markdown",
   "metadata": {},
   "source": [
    "## Construcción de la distribución de Frecuencias"
   ]
  },
  {
   "cell_type": "markdown",
   "metadata": {},
   "source": [
    "### Construcción con numpy, sin gráficos"
   ]
  },
  {
   "cell_type": "code",
   "execution_count": 3,
   "metadata": {},
   "outputs": [],
   "source": [
    "import numpy as np"
   ]
  },
  {
   "cell_type": "code",
   "execution_count": 8,
   "metadata": {},
   "outputs": [
    {
     "data": {
      "text/plain": [
       "(array([ 9,  2,  1,  3,  1, 15,  2,  0,  3,  1], dtype=int64),\n",
       " array([ 0,  1,  2,  3,  4,  5,  6,  7,  8,  9, 10]))"
      ]
     },
     "execution_count": 8,
     "metadata": {},
     "output_type": "execute_result"
    }
   ],
   "source": [
    "np.histogram(a=[0,0,0,0,0,0,0,0,0,1,1,2,3,3,3,4,5,5,5,5,5,5,5,5,5,5,5,5,5,5,5,6,6,8,8,8,9],\n",
    "             bins=[0,1,2,3,4,5,6,7,8,9,10],\n",
    "             range=None,\n",
    "             weights=None)"
   ]
  },
  {
   "cell_type": "markdown",
   "metadata": {},
   "source": [
    "### Construcción con graficos matplotlib"
   ]
  },
  {
   "cell_type": "code",
   "execution_count": 19,
   "metadata": {},
   "outputs": [],
   "source": [
    "import matplotlib.pyplot as plt"
   ]
  },
  {
   "cell_type": "code",
   "execution_count": 14,
   "metadata": {},
   "outputs": [
    {
     "data": {
      "text/plain": [
       "(array([ 9.,  2.,  1.,  3.,  1., 15.,  2.,  0.,  3.,  1.]),\n",
       " array([ 0.,  1.,  2.,  3.,  4.,  5.,  6.,  7.,  8.,  9., 10.]),\n",
       " <BarContainer object of 10 artists>)"
      ]
     },
     "execution_count": 14,
     "metadata": {},
     "output_type": "execute_result"
    },
    {
     "data": {
      "image/png": "[encoded data removed]",
      "text/plain": [
       "<Figure size 640x480 with 1 Axes>"
      ]
     },
     "metadata": {},
     "output_type": "display_data"
    }
   ],
   "source": [
    "plt.hist(x=[0,0,0,0,0,0,0,0,0,1,1,2,3,3,3,4,5,5,5,5,5,5,5,5,5,5,5,5,5,5,5,6,6,8,8,8,9], bins=[0,1,2,3,4,5,6,7,8,9,10], align='mid')"
   ]
  },
  {
   "cell_type": "markdown",
   "metadata": {},
   "source": [
    "### Construcción con gráficos seaborn"
   ]
  },
  {
   "cell_type": "code",
   "execution_count": 16,
   "metadata": {},
   "outputs": [],
   "source": [
    "import seaborn as sns"
   ]
  },
  {
   "cell_type": "code",
   "execution_count": 18,
   "metadata": {},
   "outputs": [
    {
     "data": {
      "text/plain": [
       "<Axes: ylabel='Count'>"
      ]
     },
     "execution_count": 18,
     "metadata": {},
     "output_type": "execute_result"
    },
    {
     "data": {
      "image/png": "[encoded data removed]",
      "text/plain": [
       "<Figure size 640x480 with 1 Axes>"
      ]
     },
     "metadata": {},
     "output_type": "display_data"
    }
   ],
   "source": [
    "sns.histplot(data=[0,0,0,0,0,0,0,0,0,1,1,2,3,3,3,4,5,5,5,5,5,5,5,5,5,5,5,5,5,5,5,6,6,8,8,8,9], bins=[0,1,2,3,4,5,6,7,8,9,10])"
   ]
  },
  {
   "cell_type": "markdown",
   "metadata": {},
   "source": [
    "## Conclusiones\n",
    "+ Hay una enorme cantidad de datos que terminan en 5 (15) y en 0 (5)\n",
    "+ Esto da indicios que no se produjeron mediciones precisas sino que\n",
    "    + los datos deben haber sido cargados a mano y demanra aproximada.\n",
    "    + (1,5 y 1,50, son datos más sencillos de cargar que 1,53 o 1,57)\n",
    "Esto no es concluyente pero sí es un indicio probable dado que la información es incompleta.\n",
    "Por lo tanto se puede decir que es porbable que los datos se habíen informado de manera aproximada."
   ]
  },
  {
   "cell_type": "markdown",
   "metadata": {},
   "source": [
    "## Análisis alternativo con pandas\n",
    "###  Construcción con pandas"
   ]
  },
  {
   "cell_type": "code",
   "execution_count": 21,
   "metadata": {},
   "outputs": [],
   "source": [
    "import pandas as pd\n"
   ]
  },
  {
   "cell_type": "code",
   "execution_count": 24,
   "metadata": {},
   "outputs": [
    {
     "name": "stdout",
     "output_type": "stream",
     "text": [
      "[0, 0, 0, 0, 0, 0, 0, 0, 0, 1, 1, 2, 3, 3, 3, 4, 5, 5, 5, 5, 5, 5, 5, 5, 5, 5, 5, 5, 5, 5, 5, 6, 6, 8, 8, 8, 9]\n"
     ]
    }
   ],
   "source": [
    "\n",
    "# Armado de una lista con Últimos dígitos de las estaturas\n",
    "ultimos_digitos = [int(d) for d in \"0000000001123334555555555555555668889\"]\n",
    "print(ultimos_digitos)"
   ]
  },
  {
   "cell_type": "code",
   "execution_count": 27,
   "metadata": {},
   "outputs": [
    {
     "name": "stdout",
     "output_type": "stream",
     "text": [
      "Frecuencia de los ultimos digitos\n",
      "{0: 9, 1: 2, 2: 1, 3: 3, 4: 1, 5: 15, 6: 2, 7: 0, 8: 3, 9: 1}\n"
     ]
    }
   ],
   "source": [
    "\n",
    "# Conteo de la frecuencia de cada último dígito y creación de un diccionario\n",
    "frecuencia_ultimos_digitos = {i: ultimos_digitos.count(i) for i in range(10)}\n",
    "print(\"Frecuencia de los ultimos digitos\")\n",
    "print(frecuencia_ultimos_digitos)\n"
   ]
  },
  {
   "cell_type": "code",
   "execution_count": 26,
   "metadata": {},
   "outputs": [
    {
     "data": {
      "text/html": [
       "<div>\n",
       "<style scoped>\n",
       "    .dataframe tbody tr th:only-of-type {\n",
       "        vertical-align: middle;\n",
       "    }\n",
       "\n",
       "    .dataframe tbody tr th {\n",
       "        vertical-align: top;\n",
       "    }\n",
       "\n",
       "    .dataframe thead th {\n",
       "        text-align: right;\n",
       "    }\n",
       "</style>\n",
       "<table border=\"1\" class=\"dataframe\">\n",
       "  <thead>\n",
       "    <tr style=\"text-align: right;\">\n",
       "      <th></th>\n",
       "      <th>Ultimo Dígito</th>\n",
       "      <th>Frecuencia</th>\n",
       "    </tr>\n",
       "  </thead>\n",
       "  <tbody>\n",
       "    <tr>\n",
       "      <th>0</th>\n",
       "      <td>0</td>\n",
       "      <td>9</td>\n",
       "    </tr>\n",
       "    <tr>\n",
       "      <th>1</th>\n",
       "      <td>1</td>\n",
       "      <td>2</td>\n",
       "    </tr>\n",
       "    <tr>\n",
       "      <th>2</th>\n",
       "      <td>2</td>\n",
       "      <td>1</td>\n",
       "    </tr>\n",
       "    <tr>\n",
       "      <th>3</th>\n",
       "      <td>3</td>\n",
       "      <td>3</td>\n",
       "    </tr>\n",
       "    <tr>\n",
       "      <th>4</th>\n",
       "      <td>4</td>\n",
       "      <td>1</td>\n",
       "    </tr>\n",
       "    <tr>\n",
       "      <th>5</th>\n",
       "      <td>5</td>\n",
       "      <td>15</td>\n",
       "    </tr>\n",
       "    <tr>\n",
       "      <th>6</th>\n",
       "      <td>6</td>\n",
       "      <td>2</td>\n",
       "    </tr>\n",
       "    <tr>\n",
       "      <th>7</th>\n",
       "      <td>7</td>\n",
       "      <td>0</td>\n",
       "    </tr>\n",
       "    <tr>\n",
       "      <th>8</th>\n",
       "      <td>8</td>\n",
       "      <td>3</td>\n",
       "    </tr>\n",
       "    <tr>\n",
       "      <th>9</th>\n",
       "      <td>9</td>\n",
       "      <td>1</td>\n",
       "    </tr>\n",
       "  </tbody>\n",
       "</table>\n",
       "</div>"
      ],
      "text/plain": [
       "   Ultimo Dígito  Frecuencia\n",
       "0              0           9\n",
       "1              1           2\n",
       "2              2           1\n",
       "3              3           3\n",
       "4              4           1\n",
       "5              5          15\n",
       "6              6           2\n",
       "7              7           0\n",
       "8              8           3\n",
       "9              9           1"
      ]
     },
     "execution_count": 26,
     "metadata": {},
     "output_type": "execute_result"
    }
   ],
   "source": [
    "\n",
    "# Creación de un DataFrame con los datos de frecuencia\n",
    "df = pd.DataFrame({'Ultimo Dígito': list(frecuencia_ultimos_digitos.keys()),\n",
    "                   'Frecuencia': list(frecuencia_ultimos_digitos.values())})\n",
    "df"
   ]
  },
  {
   "cell_type": "code",
   "execution_count": 28,
   "metadata": {},
   "outputs": [
    {
     "data": {
      "text/html": [
       "<div>\n",
       "<style scoped>\n",
       "    .dataframe tbody tr th:only-of-type {\n",
       "        vertical-align: middle;\n",
       "    }\n",
       "\n",
       "    .dataframe tbody tr th {\n",
       "        vertical-align: top;\n",
       "    }\n",
       "\n",
       "    .dataframe thead th {\n",
       "        text-align: right;\n",
       "    }\n",
       "</style>\n",
       "<table border=\"1\" class=\"dataframe\">\n",
       "  <thead>\n",
       "    <tr style=\"text-align: right;\">\n",
       "      <th></th>\n",
       "      <th>Ultimo Dígito</th>\n",
       "      <th>Frecuencia</th>\n",
       "      <th>Clase</th>\n",
       "    </tr>\n",
       "  </thead>\n",
       "  <tbody>\n",
       "    <tr>\n",
       "      <th>0</th>\n",
       "      <td>0</td>\n",
       "      <td>9</td>\n",
       "      <td>[0.0, 1.0)</td>\n",
       "    </tr>\n",
       "    <tr>\n",
       "      <th>1</th>\n",
       "      <td>1</td>\n",
       "      <td>2</td>\n",
       "      <td>[1.0, 2.0)</td>\n",
       "    </tr>\n",
       "    <tr>\n",
       "      <th>2</th>\n",
       "      <td>2</td>\n",
       "      <td>1</td>\n",
       "      <td>[2.0, 3.0)</td>\n",
       "    </tr>\n",
       "    <tr>\n",
       "      <th>3</th>\n",
       "      <td>3</td>\n",
       "      <td>3</td>\n",
       "      <td>[3.0, 4.0)</td>\n",
       "    </tr>\n",
       "    <tr>\n",
       "      <th>4</th>\n",
       "      <td>4</td>\n",
       "      <td>1</td>\n",
       "      <td>[4.0, 5.0)</td>\n",
       "    </tr>\n",
       "    <tr>\n",
       "      <th>5</th>\n",
       "      <td>5</td>\n",
       "      <td>15</td>\n",
       "      <td>[5.0, 6.0)</td>\n",
       "    </tr>\n",
       "    <tr>\n",
       "      <th>6</th>\n",
       "      <td>6</td>\n",
       "      <td>2</td>\n",
       "      <td>[6.0, 7.0)</td>\n",
       "    </tr>\n",
       "    <tr>\n",
       "      <th>7</th>\n",
       "      <td>7</td>\n",
       "      <td>0</td>\n",
       "      <td>[7.0, 8.0)</td>\n",
       "    </tr>\n",
       "    <tr>\n",
       "      <th>8</th>\n",
       "      <td>8</td>\n",
       "      <td>3</td>\n",
       "      <td>[8.0, 9.0)</td>\n",
       "    </tr>\n",
       "    <tr>\n",
       "      <th>9</th>\n",
       "      <td>9</td>\n",
       "      <td>1</td>\n",
       "      <td>[9.0, 10.0)</td>\n",
       "    </tr>\n",
       "  </tbody>\n",
       "</table>\n",
       "</div>"
      ],
      "text/plain": [
       "   Ultimo Dígito  Frecuencia        Clase\n",
       "0              0           9   [0.0, 1.0)\n",
       "1              1           2   [1.0, 2.0)\n",
       "2              2           1   [2.0, 3.0)\n",
       "3              3           3   [3.0, 4.0)\n",
       "4              4           1   [4.0, 5.0)\n",
       "5              5          15   [5.0, 6.0)\n",
       "6              6           2   [6.0, 7.0)\n",
       "7              7           0   [7.0, 8.0)\n",
       "8              8           3   [8.0, 9.0)\n",
       "9              9           1  [9.0, 10.0)"
      ]
     },
     "execution_count": 28,
     "metadata": {},
     "output_type": "execute_result"
    }
   ],
   "source": [
    "\n",
    "# Calcular el ancho de cada clase\n",
    "clases = 10\n",
    "ancho_clase = (max(df['Ultimo Dígito']) - min(df['Ultimo Dígito']) + 1) / clases\n",
    "\n",
    "# Crear los límites de cada clase\n",
    "limites_clases = [min(df['Ultimo Dígito']) + i * ancho_clase for i in range(clases)]\n",
    "limites_clases.append(max(df['Ultimo Dígito']) + ancho_clase)  # Agregar el último límite\n",
    "\n",
    "# Crear las clases\n",
    "df['Clase'] = pd.cut(df['Ultimo Dígito'], bins=limites_clases, right=False)\n",
    "\n",
    "# Agregar una fila para los valores que están en el último límite\n",
    "if len(df['Clase'].unique()) > clases:\n",
    "    df.loc[len(df)] = [max(df['Ultimo Dígito']), 0, pd.Interval(left=max(df['Ultimo Dígito']), right=max(df['Ultimo Dígito']))]\n",
    "df"
   ]
  },
  {
   "cell_type": "code",
   "execution_count": 29,
   "metadata": {},
   "outputs": [
    {
     "name": "stderr",
     "output_type": "stream",
     "text": [
      "C:\\Users\\Dani\\AppData\\Local\\Temp\\ipykernel_24756\\1106448759.py:2: FutureWarning: The default of observed=False is deprecated and will be changed to True in a future version of pandas. Pass observed=False to retain current behavior or observed=True to adopt the future default and silence this warning.\n",
      "  df_agrupado = df.groupby('Clase').sum().reset_index()\n"
     ]
    },
    {
     "data": {
      "text/html": [
       "<div>\n",
       "<style scoped>\n",
       "    .dataframe tbody tr th:only-of-type {\n",
       "        vertical-align: middle;\n",
       "    }\n",
       "\n",
       "    .dataframe tbody tr th {\n",
       "        vertical-align: top;\n",
       "    }\n",
       "\n",
       "    .dataframe thead th {\n",
       "        text-align: right;\n",
       "    }\n",
       "</style>\n",
       "<table border=\"1\" class=\"dataframe\">\n",
       "  <thead>\n",
       "    <tr style=\"text-align: right;\">\n",
       "      <th></th>\n",
       "      <th>Ultimo Dígito</th>\n",
       "      <th>Frecuencia</th>\n",
       "      <th>Clase</th>\n",
       "    </tr>\n",
       "  </thead>\n",
       "  <tbody>\n",
       "    <tr>\n",
       "      <th>0</th>\n",
       "      <td>0</td>\n",
       "      <td>9</td>\n",
       "      <td>[0.0, 1.0)</td>\n",
       "    </tr>\n",
       "    <tr>\n",
       "      <th>1</th>\n",
       "      <td>1</td>\n",
       "      <td>2</td>\n",
       "      <td>[1.0, 2.0)</td>\n",
       "    </tr>\n",
       "    <tr>\n",
       "      <th>2</th>\n",
       "      <td>2</td>\n",
       "      <td>1</td>\n",
       "      <td>[2.0, 3.0)</td>\n",
       "    </tr>\n",
       "    <tr>\n",
       "      <th>3</th>\n",
       "      <td>3</td>\n",
       "      <td>3</td>\n",
       "      <td>[3.0, 4.0)</td>\n",
       "    </tr>\n",
       "    <tr>\n",
       "      <th>4</th>\n",
       "      <td>4</td>\n",
       "      <td>1</td>\n",
       "      <td>[4.0, 5.0)</td>\n",
       "    </tr>\n",
       "    <tr>\n",
       "      <th>5</th>\n",
       "      <td>5</td>\n",
       "      <td>15</td>\n",
       "      <td>[5.0, 6.0)</td>\n",
       "    </tr>\n",
       "    <tr>\n",
       "      <th>6</th>\n",
       "      <td>6</td>\n",
       "      <td>2</td>\n",
       "      <td>[6.0, 7.0)</td>\n",
       "    </tr>\n",
       "    <tr>\n",
       "      <th>7</th>\n",
       "      <td>7</td>\n",
       "      <td>0</td>\n",
       "      <td>[7.0, 8.0)</td>\n",
       "    </tr>\n",
       "    <tr>\n",
       "      <th>8</th>\n",
       "      <td>8</td>\n",
       "      <td>3</td>\n",
       "      <td>[8.0, 9.0)</td>\n",
       "    </tr>\n",
       "    <tr>\n",
       "      <th>9</th>\n",
       "      <td>9</td>\n",
       "      <td>1</td>\n",
       "      <td>[9.0, 10.0)</td>\n",
       "    </tr>\n",
       "  </tbody>\n",
       "</table>\n",
       "</div>"
      ],
      "text/plain": [
       "   Ultimo Dígito  Frecuencia        Clase\n",
       "0              0           9   [0.0, 1.0)\n",
       "1              1           2   [1.0, 2.0)\n",
       "2              2           1   [2.0, 3.0)\n",
       "3              3           3   [3.0, 4.0)\n",
       "4              4           1   [4.0, 5.0)\n",
       "5              5          15   [5.0, 6.0)\n",
       "6              6           2   [6.0, 7.0)\n",
       "7              7           0   [7.0, 8.0)\n",
       "8              8           3   [8.0, 9.0)\n",
       "9              9           1  [9.0, 10.0)"
      ]
     },
     "execution_count": 29,
     "metadata": {},
     "output_type": "execute_result"
    }
   ],
   "source": [
    "\n",
    "# Agrupar por clase y sumar la frecuencia\n",
    "df_agrupado = df.groupby('Clase').sum().reset_index()\n",
    "df"
   ]
  },
  {
   "cell_type": "code",
   "execution_count": 30,
   "metadata": {},
   "outputs": [
    {
     "data": {
      "image/png": "[encoded data removed]",
      "text/plain": [
       "<Figure size 640x480 with 1 Axes>"
      ]
     },
     "metadata": {},
     "output_type": "display_data"
    }
   ],
   "source": [
    "\n",
    "# Graficar la distribución de frecuencias\n",
    "plt.bar(df_agrupado['Clase'].astype(str), df_agrupado['Frecuencia'], color='skyblue')\n",
    "plt.title('Distribución de Frecuencias de Últimos Dígitos de Estaturas')\n",
    "plt.xlabel('Clase')\n",
    "plt.ylabel('Frecuencia')\n",
    "plt.xticks(rotation=45)\n",
    "plt.show()\n"
   ]
  }
 ],
 "metadata": {
  "kernelspec": {
   "display_name": "Python 3",
   "language": "python",
   "name": "python3"
  },
  "language_info": {
   "codemirror_mode": {
    "name": "ipython",
    "version": 3
   },
   "file_extension": ".py",
   "mimetype": "text/x-python",
   "name": "python",
   "nbconvert_exporter": "python",
   "pygments_lexer": "ipython3",
   "version": "3.12.2"
  }
 },
 "nbformat": 4,
 "nbformat_minor": 2
}
