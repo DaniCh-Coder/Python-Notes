{
 "cells": [
  {
   "cell_type": "markdown",
   "metadata": {},
   "source": [
    "# Media y Desviación Estandard de una Distribución de Frecuencias\n",
    "Media ponderada, Varianza ponderada Distribución de recuencia ponderada\n",
    "Explicación de cálculos con ejemplos"
   ]
  },
  {
   "cell_type": "code",
   "execution_count": 62,
   "metadata": {},
   "outputs": [],
   "source": [
    "import seaborn as sns\n",
    "import matplotlib.pyplot as plt\n",
    "import pandas as pd\n",
    "from statistics import mean, median, stdev, variance"
   ]
  },
  {
   "cell_type": "markdown",
   "metadata": {},
   "source": [
    "## Entrega de Oscars\n",
    "Cada año se otorgan Óscares a la mejor actriz y al mejor actor. \n",
    "+ Se presenta una listas (actrices y actores) con las edades de los galardonados en el momento de la ceremonia de entrega de los premios. \n",
    "+ Las edades aparecen en orden, empezando con la primera ceremonia de los Premios de la Academia en 1928. \n",
    "    + [Notas: \n",
    "        + En 1968 hubo un empate en la categoría de mejor actriz, y se utilizó el promedio (la media) de las dos edades; \n",
    "        + En 1932 hubo un empate en la categoría de mejor actor, y se utilizó el promedio (la media) de las dos edades. \n",
    "        + Tales datos se basan en el artículo “Ages of Oscar-winning Best Actors and Actresses”, de Richard Brown y Gretchen Davis, en la revista Mathematics Teacher. \n",
    "            + En ese artículo, el año de nacimiento del ganador del premio se restó del año de la ceremonia; \n",
    "            + no obstante, las edades de las listas se basan en la fecha de nacimiento del ganador y en lafecha de la ceremonia de premiación]."
   ]
  },
  {
   "cell_type": "code",
   "execution_count": 63,
   "metadata": {},
   "outputs": [],
   "source": [
    "# Datos proporcionados\n",
    "edades_actrices = [22, 37, 28, 63, 32, 26, 31, 27, 27, 28, 30, 26, 29, 24, 38, 25, 29, 41, 30, 35,\n",
    "                   35, 33, 29, 38, 54, 24, 25, 46, 41, 28, 40, 39, 29, 27, 31, 38, 29, 25, 35, 60,\n",
    "                   43, 35, 34, 34, 27, 37, 42, 41, 36, 32, 41, 33, 31, 74, 33, 50, 38, 61, 21, 41,\n",
    "                   26, 80, 42, 29, 33, 35, 45, 49, 39, 34, 26, 25, 33, 35, 35, 28]\n",
    "\n",
    "edades_actores = [44, 41, 62, 52, 41, 34, 34, 52, 41, 37, 38, 34, 32, 40, 43, 56, 41, 39, 49, 57,\n",
    "                  41, 38, 42, 52, 51, 35, 30, 39, 41, 44, 49, 35, 47, 31, 47, 37, 57, 42, 45, 42,\n",
    "                  44, 62, 43, 42, 48, 49, 56, 38, 60, 30, 40, 42, 36, 76, 39, 53, 45, 36, 62, 43,\n",
    "                  51, 32, 42, 54, 52, 37, 38, 32, 45, 60, 46, 40, 36, 47, 29, 43]"
   ]
  },
  {
   "cell_type": "markdown",
   "metadata": {},
   "source": [
    "### Las consultas son:\n",
    "+ Cuales son las medias de ambas distribuciondes de frecuencias\n",
    "+ Cuales son las medias de ambos grupos de datos"
   ]
  },
  {
   "cell_type": "markdown",
   "metadata": {},
   "source": [
    "# Media de las distribuciones de frecuencia\n",
    "Para armar las medias de las distribuciones de frecuencia tenemos que armar primero las distribuciones de frecuencia"
   ]
  },
  {
   "cell_type": "markdown",
   "metadata": {},
   "source": [
    "### Distribuciones de Frecuencia\n"
   ]
  },
  {
   "cell_type": "code",
   "execution_count": 64,
   "metadata": {},
   "outputs": [
    {
     "data": {
      "text/html": [
       "<div>\n",
       "<style scoped>\n",
       "    .dataframe tbody tr th:only-of-type {\n",
       "        vertical-align: middle;\n",
       "    }\n",
       "\n",
       "    .dataframe tbody tr th {\n",
       "        vertical-align: top;\n",
       "    }\n",
       "\n",
       "    .dataframe thead th {\n",
       "        text-align: right;\n",
       "    }\n",
       "</style>\n",
       "<table border=\"1\" class=\"dataframe\">\n",
       "  <thead>\n",
       "    <tr style=\"text-align: right;\">\n",
       "      <th></th>\n",
       "      <th>Edad</th>\n",
       "      <th>Género</th>\n",
       "      <th>Rango de Edad</th>\n",
       "    </tr>\n",
       "  </thead>\n",
       "  <tbody>\n",
       "    <tr>\n",
       "      <th>0</th>\n",
       "      <td>22</td>\n",
       "      <td>Actriz</td>\n",
       "      <td>21–30</td>\n",
       "    </tr>\n",
       "    <tr>\n",
       "      <th>1</th>\n",
       "      <td>37</td>\n",
       "      <td>Actriz</td>\n",
       "      <td>31–40</td>\n",
       "    </tr>\n",
       "    <tr>\n",
       "      <th>2</th>\n",
       "      <td>28</td>\n",
       "      <td>Actriz</td>\n",
       "      <td>21–30</td>\n",
       "    </tr>\n",
       "    <tr>\n",
       "      <th>3</th>\n",
       "      <td>63</td>\n",
       "      <td>Actriz</td>\n",
       "      <td>61–70</td>\n",
       "    </tr>\n",
       "    <tr>\n",
       "      <th>4</th>\n",
       "      <td>32</td>\n",
       "      <td>Actriz</td>\n",
       "      <td>31–40</td>\n",
       "    </tr>\n",
       "    <tr>\n",
       "      <th>...</th>\n",
       "      <td>...</td>\n",
       "      <td>...</td>\n",
       "      <td>...</td>\n",
       "    </tr>\n",
       "    <tr>\n",
       "      <th>147</th>\n",
       "      <td>40</td>\n",
       "      <td>Actor</td>\n",
       "      <td>41–50</td>\n",
       "    </tr>\n",
       "    <tr>\n",
       "      <th>148</th>\n",
       "      <td>36</td>\n",
       "      <td>Actor</td>\n",
       "      <td>31–40</td>\n",
       "    </tr>\n",
       "    <tr>\n",
       "      <th>149</th>\n",
       "      <td>47</td>\n",
       "      <td>Actor</td>\n",
       "      <td>41–50</td>\n",
       "    </tr>\n",
       "    <tr>\n",
       "      <th>150</th>\n",
       "      <td>29</td>\n",
       "      <td>Actor</td>\n",
       "      <td>21–30</td>\n",
       "    </tr>\n",
       "    <tr>\n",
       "      <th>151</th>\n",
       "      <td>43</td>\n",
       "      <td>Actor</td>\n",
       "      <td>41–50</td>\n",
       "    </tr>\n",
       "  </tbody>\n",
       "</table>\n",
       "<p>152 rows × 3 columns</p>\n",
       "</div>"
      ],
      "text/plain": [
       "     Edad  Género Rango de Edad\n",
       "0      22  Actriz         21–30\n",
       "1      37  Actriz         31–40\n",
       "2      28  Actriz         21–30\n",
       "3      63  Actriz         61–70\n",
       "4      32  Actriz         31–40\n",
       "..    ...     ...           ...\n",
       "147    40   Actor         41–50\n",
       "148    36   Actor         31–40\n",
       "149    47   Actor         41–50\n",
       "150    29   Actor         21–30\n",
       "151    43   Actor         41–50\n",
       "\n",
       "[152 rows x 3 columns]"
      ]
     },
     "execution_count": 64,
     "metadata": {},
     "output_type": "execute_result"
    }
   ],
   "source": [
    "# Crear el DataFrame con todas las edades y generos de los ganadores del oscar\n",
    "datos = {\n",
    "    'Edad': edades_actrices + edades_actores,\n",
    "    'Género': ['Actriz'] * len(edades_actrices) + ['Actor'] * len(edades_actores)\n",
    "}\n",
    "df= pd.DataFrame(datos)\n",
    "# Crear los rangos, clases o intervalos y agregarlo a cada muestra el rango al que pertenece\n",
    "# https://pandas.pydata.org/docs/reference/api/pandas.cut.html\n",
    "bins = [20, 30, 40, 50, 60, 70, 80, 90]\n",
    "labels = ['21–30', '31–40', '41–50', '51–60', '61–70', '71–80', '81–90']\n",
    "df['Rango de Edad'] = pd.cut(df['Edad'], bins=bins, labels=labels, right=False)\n",
    "df\n"
   ]
  },
  {
   "cell_type": "markdown",
   "metadata": {},
   "source": [
    "#### Construcción de la distirbuciones de frecuencias\n",
    "A partir de la lista anterior se construye una tabla con las distribuciones de frencuencias por rango de edad.\n",
    "+ Tanto para Actrices como Actores"
   ]
  },
  {
   "cell_type": "code",
   "execution_count": 65,
   "metadata": {},
   "outputs": [
    {
     "data": {
      "text/html": [
       "<div>\n",
       "<style scoped>\n",
       "    .dataframe tbody tr th:only-of-type {\n",
       "        vertical-align: middle;\n",
       "    }\n",
       "\n",
       "    .dataframe tbody tr th {\n",
       "        vertical-align: top;\n",
       "    }\n",
       "\n",
       "    .dataframe thead th {\n",
       "        text-align: right;\n",
       "    }\n",
       "</style>\n",
       "<table border=\"1\" class=\"dataframe\">\n",
       "  <thead>\n",
       "    <tr style=\"text-align: right;\">\n",
       "      <th>Género</th>\n",
       "      <th>Actor</th>\n",
       "      <th>Actriz</th>\n",
       "    </tr>\n",
       "    <tr>\n",
       "      <th>Rango de Edad</th>\n",
       "      <th></th>\n",
       "      <th></th>\n",
       "    </tr>\n",
       "  </thead>\n",
       "  <tbody>\n",
       "    <tr>\n",
       "      <th>21–30</th>\n",
       "      <td>1</td>\n",
       "      <td>26</td>\n",
       "    </tr>\n",
       "    <tr>\n",
       "      <th>31–40</th>\n",
       "      <td>24</td>\n",
       "      <td>31</td>\n",
       "    </tr>\n",
       "    <tr>\n",
       "      <th>41–50</th>\n",
       "      <td>33</td>\n",
       "      <td>12</td>\n",
       "    </tr>\n",
       "    <tr>\n",
       "      <th>51–60</th>\n",
       "      <td>12</td>\n",
       "      <td>2</td>\n",
       "    </tr>\n",
       "    <tr>\n",
       "      <th>61–70</th>\n",
       "      <td>5</td>\n",
       "      <td>3</td>\n",
       "    </tr>\n",
       "    <tr>\n",
       "      <th>71–80</th>\n",
       "      <td>1</td>\n",
       "      <td>1</td>\n",
       "    </tr>\n",
       "    <tr>\n",
       "      <th>81–90</th>\n",
       "      <td>0</td>\n",
       "      <td>1</td>\n",
       "    </tr>\n",
       "  </tbody>\n",
       "</table>\n",
       "</div>"
      ],
      "text/plain": [
       "Género         Actor  Actriz\n",
       "Rango de Edad               \n",
       "21–30              1      26\n",
       "31–40             24      31\n",
       "41–50             33      12\n",
       "51–60             12       2\n",
       "61–70              5       3\n",
       "71–80              1       1\n",
       "81–90              0       1"
      ]
     },
     "execution_count": 65,
     "metadata": {},
     "output_type": "execute_result"
    }
   ],
   "source": [
    "# Crear la tabla de frecuencias con crosstab\n",
    "# https://pandas.pydata.org/docs/reference/api/pandas.crosstab.html\n",
    "tabla_frecuencias = pd.crosstab(df['Rango de Edad'], df['Género'])\n",
    "\n",
    "# Mostrar la tabla de frecuencias\n",
    "tabla_frecuencias"
   ]
  },
  {
   "cell_type": "markdown",
   "metadata": {},
   "source": [
    "## Marcas de Clase, Rango o Itervalo\n",
    "Se arman las marcas de clase con el valor medio entre los extremos de cada clase."
   ]
  },
  {
   "cell_type": "code",
   "execution_count": 66,
   "metadata": {},
   "outputs": [],
   "source": [
    "tabla_frecuencias['Marca']= [(bins[i]+1+bins[i+1])/2 for i in range(len(bins)-1)]"
   ]
  },
  {
   "cell_type": "markdown",
   "metadata": {},
   "source": [
    "## Producto entre las marcas y su frecuencia\n",
    "Se calculan multiplicando las marcas por su frecuencia para actores y actrices respectivamente"
   ]
  },
  {
   "cell_type": "code",
   "execution_count": 67,
   "metadata": {},
   "outputs": [
    {
     "data": {
      "text/html": [
       "<div>\n",
       "<style scoped>\n",
       "    .dataframe tbody tr th:only-of-type {\n",
       "        vertical-align: middle;\n",
       "    }\n",
       "\n",
       "    .dataframe tbody tr th {\n",
       "        vertical-align: top;\n",
       "    }\n",
       "\n",
       "    .dataframe thead th {\n",
       "        text-align: right;\n",
       "    }\n",
       "</style>\n",
       "<table border=\"1\" class=\"dataframe\">\n",
       "  <thead>\n",
       "    <tr style=\"text-align: right;\">\n",
       "      <th>Género</th>\n",
       "      <th>Actor</th>\n",
       "      <th>Actriz</th>\n",
       "      <th>Marca</th>\n",
       "      <th>azm</th>\n",
       "      <th>arm</th>\n",
       "    </tr>\n",
       "    <tr>\n",
       "      <th>Rango de Edad</th>\n",
       "      <th></th>\n",
       "      <th></th>\n",
       "      <th></th>\n",
       "      <th></th>\n",
       "      <th></th>\n",
       "    </tr>\n",
       "  </thead>\n",
       "  <tbody>\n",
       "    <tr>\n",
       "      <th>21–30</th>\n",
       "      <td>1</td>\n",
       "      <td>26</td>\n",
       "      <td>25.5</td>\n",
       "      <td>663.0</td>\n",
       "      <td>25.5</td>\n",
       "    </tr>\n",
       "    <tr>\n",
       "      <th>31–40</th>\n",
       "      <td>24</td>\n",
       "      <td>31</td>\n",
       "      <td>35.5</td>\n",
       "      <td>1100.5</td>\n",
       "      <td>852.0</td>\n",
       "    </tr>\n",
       "    <tr>\n",
       "      <th>41–50</th>\n",
       "      <td>33</td>\n",
       "      <td>12</td>\n",
       "      <td>45.5</td>\n",
       "      <td>546.0</td>\n",
       "      <td>1501.5</td>\n",
       "    </tr>\n",
       "    <tr>\n",
       "      <th>51–60</th>\n",
       "      <td>12</td>\n",
       "      <td>2</td>\n",
       "      <td>55.5</td>\n",
       "      <td>111.0</td>\n",
       "      <td>666.0</td>\n",
       "    </tr>\n",
       "    <tr>\n",
       "      <th>61–70</th>\n",
       "      <td>5</td>\n",
       "      <td>3</td>\n",
       "      <td>65.5</td>\n",
       "      <td>196.5</td>\n",
       "      <td>327.5</td>\n",
       "    </tr>\n",
       "    <tr>\n",
       "      <th>71–80</th>\n",
       "      <td>1</td>\n",
       "      <td>1</td>\n",
       "      <td>75.5</td>\n",
       "      <td>75.5</td>\n",
       "      <td>75.5</td>\n",
       "    </tr>\n",
       "    <tr>\n",
       "      <th>81–90</th>\n",
       "      <td>0</td>\n",
       "      <td>1</td>\n",
       "      <td>85.5</td>\n",
       "      <td>85.5</td>\n",
       "      <td>0.0</td>\n",
       "    </tr>\n",
       "  </tbody>\n",
       "</table>\n",
       "</div>"
      ],
      "text/plain": [
       "Género         Actor  Actriz  Marca     azm     arm\n",
       "Rango de Edad                                      \n",
       "21–30              1      26   25.5   663.0    25.5\n",
       "31–40             24      31   35.5  1100.5   852.0\n",
       "41–50             33      12   45.5   546.0  1501.5\n",
       "51–60             12       2   55.5   111.0   666.0\n",
       "61–70              5       3   65.5   196.5   327.5\n",
       "71–80              1       1   75.5    75.5    75.5\n",
       "81–90              0       1   85.5    85.5     0.0"
      ]
     },
     "execution_count": 67,
     "metadata": {},
     "output_type": "execute_result"
    }
   ],
   "source": [
    "tabla_frecuencias['azm'] = tabla_frecuencias.Marca * tabla_frecuencias.Actriz\n",
    "tabla_frecuencias['arm'] = tabla_frecuencias.Marca * tabla_frecuencias.Actor\n",
    "tabla_frecuencias"
   ]
  },
  {
   "cell_type": "markdown",
   "metadata": {},
   "source": [
    "## Calculo de la media de la distribución de frecuencias\n",
    "+ Es el cociente entre la sumatoria de los productos de las marcas por sus frecuencias y la sumatoria de las frecuencias\n",
    "    + Hay una media para la distribución de frecuencias de las actirces y una para los actores"
   ]
  },
  {
   "cell_type": "markdown",
   "metadata": {},
   "source": [
    "#### Calculo de la sumatoria de las frecuencias para actrices y actores\n",
    "Es simplemente la suma de los valores para las actrices y para los actores respectivamente"
   ]
  },
  {
   "cell_type": "code",
   "execution_count": 68,
   "metadata": {},
   "outputs": [],
   "source": [
    "# La suma debe de los oscars dar igual para acrices y actores dado que se entrega un oscar por año para ambos.\n",
    "OscarsActriz = tabla_frecuencias.Actriz.sum()\n",
    "OscarsActor = tabla_frecuencias.Actor.sum()\n",
    "\n",
    "# La suma-producto de las los oscars por rangos de edades será distinta por estar condicionada\n",
    "# a las edades en que reciben los oscars\n",
    "sum_Actrices = tabla_frecuencias.azm.sum()\n",
    "sum_Actores = tabla_frecuencias.arm.sum()"
   ]
  },
  {
   "cell_type": "markdown",
   "metadata": {},
   "source": [
    "### Calculo de las medias de las distribuciones de frecuencia para actrices y actores\n",
    "Se realiza aplicando el cociente entre la sumaproducto y la sumatoria de los oscars"
   ]
  },
  {
   "cell_type": "code",
   "execution_count": 69,
   "metadata": {},
   "outputs": [
    {
     "name": "stdout",
     "output_type": "stream",
     "text": [
      "Medias de la distribuciones de Frecuencias:\n",
      "Media Actrices        Media Actores\n"
     ]
    },
    {
     "data": {
      "text/plain": [
       "(36.55263157894737, 45.36842105263158)"
      ]
     },
     "execution_count": 69,
     "metadata": {},
     "output_type": "execute_result"
    }
   ],
   "source": [
    "mp_Actrices = num_Actrices/OscarsActriz\n",
    "mp_Actores = num_Actores/OscarsActor\n",
    "print('Medias de la distribuciones de Frecuencias:')\n",
    "print('Media Actrices        Media Actores')\n",
    "mp_Actrices, mp_Actores"
   ]
  },
  {
   "cell_type": "markdown",
   "metadata": {},
   "source": [
    "### Calculo de las varianzas y las desviaciones estandard de las distribuciones de frecuencia\n"
   ]
  },
  {
   "cell_type": "code",
   "execution_count": 85,
   "metadata": {},
   "outputs": [
    {
     "data": {
      "text/plain": [
       "Rango de Edad\n",
       "21–30     663.0\n",
       "31–40    1100.5\n",
       "41–50     546.0\n",
       "51–60     111.0\n",
       "61–70     196.5\n",
       "71–80      75.5\n",
       "81–90      85.5\n",
       "Name: azm, dtype: float64"
      ]
     },
     "execution_count": 85,
     "metadata": {},
     "output_type": "execute_result"
    }
   ],
   "source": [
    "(tabla_frecuencias.azm)\n"
   ]
  },
  {
   "cell_type": "code",
   "execution_count": 82,
   "metadata": {},
   "outputs": [
    {
     "data": {
      "text/plain": [
       "75"
      ]
     },
     "execution_count": 82,
     "metadata": {},
     "output_type": "execute_result"
    }
   ],
   "source": [
    "(tabla_frecuencias.Actriz.sum()-1)"
   ]
  },
  {
   "cell_type": "code",
   "execution_count": 87,
   "metadata": {},
   "outputs": [
    {
     "name": "stdout",
     "output_type": "stream",
     "text": [
      "Actrices Media ponderada: 36.55263157894737.    Actrices Varianza ponderada: 70.84025854108955.    Actrices Desviación estandard ponderada: 8.41666552389303\n",
      "Actrices Media ponderada: 45.36842105263158.    Actrices Varianza ponderada: 46.913896583564174.   Actrices Desviación estandard ponderada: 6.849371984610281\n"
     ]
    }
   ],
   "source": [
    "# varianza\n",
    "varianza_actrices = sum((tabla_frecuencias.Marca - mp_Actrices)**2) / (tabla_frecuencias.Actriz.sum()-1)\n",
    "varianza_actores = sum((tabla_frecuencias.Marca - mp_Actores) ** 2) / (tabla_frecuencias.Actor.sum()-1)\n",
    "\n",
    "# desviación estandard\n",
    "desviacion_actrices = varianza_actrices ** 0.5\n",
    "desviacion_actores = varianza_actores ** 0.5\n",
    "\n",
    "# impresión de resultados\n",
    "print(f'Actrices Media ponderada: {mp_Actrices}.    Actrices Varianza ponderada: {varianza_actrices}.    Actrices Desviación estandard ponderada: {desviacion_actrices}')\n",
    "print(f'Actrices Media ponderada: {mp_Actores}.    Actrices Varianza ponderada: {varianza_actores}.   Actrices Desviación estandard ponderada: {desviacion_actores}')"
   ]
  },
  {
   "cell_type": "markdown",
   "metadata": {},
   "source": [
    "## Comparación de medias aritmeticas y medias de las muestras"
   ]
  },
  {
   "cell_type": "code",
   "execution_count": 74,
   "metadata": {},
   "outputs": [
    {
     "name": "stdout",
     "output_type": "stream",
     "text": [
      "Medias de las observaciones de edades actrices ganadoras del Oscar:\n",
      "Media Actrices:         35.68421052631579,        Media Actores: 43.94736842105263\n",
      "Varianza Actrices:      122.40561403508772,    Varianza Actores: 82.15719298245614\n",
      "Desviación Estandar Actrices: 11.06370706567594,     Desviación Estandar Actores: 9.064060512952025\n"
     ]
    }
   ],
   "source": [
    "print('Medias de las observaciones de edades actrices ganadoras del Oscar:')\n",
    "print(f'Media Actrices:         {mean(edades_actrices)},        Media Actores: {mean(edades_actores)}')\n",
    "print(f'Varianza Actrices:      {variance(edades_actrices)},    Varianza Actores: {variance(edades_actores)}')\n",
    "print(f'Desviación Estandar Actrices: {stdev(edades_actrices)},     Desviación Estandar Actores: {stdev(edades_actores)}')"
   ]
  },
  {
   "cell_type": "markdown",
   "metadata": {},
   "source": [
    "Las medias se parecen pero no son iguales.\n",
    "+ Obviamente las medias de las observaciones tienen mayor presición que las medias sobre las distribuciones de frecuencia.\n",
    "+ Claramente las medias de las distribuciones de frecuencia son utiles cuando las observaciones no son conocidas."
   ]
  },
  {
   "cell_type": "markdown",
   "metadata": {},
   "source": [
    "### Conslusiones\n",
    "+ Se observa que la media de la distribución de frecuencias de actrices (36,5)\n",
    "+ Es menor que la media de la distribución de frecuencias de actores (45,3)\n",
    "+ Esto se debe a que las mujeres ganan mas oscars cuando son más jovenes que los hombres,\n",
    "+ y los hombres ganan mas oscares cuando son mayores"
   ]
  },
  {
   "cell_type": "markdown",
   "metadata": {},
   "source": [
    "+ Las medidas de tendencia central ponderadas son solo aproximaciones de las medidas de tendencia central\n",
    "+ Las medidas de variación ponderadas son solo aproximaciones de las medidas de variación"
   ]
  },
  {
   "cell_type": "markdown",
   "metadata": {},
   "source": [
    "_______________________________________________________________________________________________________________________________"
   ]
  },
  {
   "cell_type": "markdown",
   "metadata": {},
   "source": [
    "## Multas por exceso de velocidad. "
   ]
  },
  {
   "cell_type": "markdown",
   "metadata": {},
   "source": [
    " + La distribución de frecuencias dada describe las velocidades de conductores multados por la policía de la ciudad de Poughkeepsie. \n",
    " + Estos conductores circulaban por una zona con velocidad límite de 30 km.\n",
    "    + Rangos de Velocidad: 42-45, 46-49, 50-53, 54-57, 58-61.\n",
    "    + Frecuencias para estos rangos: 25, 14, 7, 3, 1\n",
    " + Calcular la media y la desviación estandard. Luego sacar conclusiones."
   ]
  },
  {
   "cell_type": "code",
   "execution_count": 72,
   "metadata": {},
   "outputs": [],
   "source": [
    "# Construcción de listas\n",
    "Veloc = [42-45, 46-49, 50-53, 54-57, 58-61]\n",
    "Casos = [25, 14, 7, 3, 1]\n",
    "\n",
    "# Definición de fronteras entre rangos o clases\n",
    "Frontera = [41, 45, 49, 53, 57]\n",
    "\n",
    "# Armado de marcas de clase con el valor medio entre los extremos de cada clase\n",
    "Marcas = [(Frontera[i]+Frontera[i+1])/2 for i in range (len(Frontera)-1)]\n",
    "\n",
    "# Producto de las marcas por su frecuencia\n",
    "Produc = [Marcas[i] * Casos[i] for i in range(len(Marcas))]\n"
   ]
  },
  {
   "cell_type": "code",
   "execution_count": 73,
   "metadata": {},
   "outputs": [
    {
     "name": "stdout",
     "output_type": "stream",
     "text": [
      "Media ponderada: 45.1.    Varianza ponderada: 13.969799999999998.    Desviación estandard ponderada: 3.737619563304965\n"
     ]
    }
   ],
   "source": [
    "# Calculo de la media, varianza ponderada y desviación estandard\n",
    "total_casos = sum(Casos)\n",
    "\n",
    "# media\n",
    "media_ponderada = sum(Produc) / total_casos\n",
    "\n",
    "# varianza\n",
    "varianza_ponderada = sum(Casos[i] * (Marcas[i] - media_ponderada) ** 2 for i in range(len(Marcas))) / total_casos\n",
    "\n",
    "# desviación estandard\n",
    "desviacion_estandar = varianza_ponderada ** 0.5\n",
    "\n",
    "# impresión de resultados\n",
    "print(f'Media ponderada: {media_ponderada}.    Varianza ponderada: {varianza_ponderada}.    Desviación estandard ponderada: {desviacion_estandar}')\n"
   ]
  },
  {
   "cell_type": "markdown",
   "metadata": {},
   "source": [
    "La media y la desviación estandar permiten inferir que el grueso de los exesos de velocidad se concentra dentro del primer y segundo rango.\n",
    "+ Luego se atenúa para los rangos de velocidad superiores."
   ]
  },
  {
   "cell_type": "markdown",
   "metadata": {},
   "source": [
    "_______________________________________________________________________________________________________________________________"
   ]
  },
  {
   "cell_type": "markdown",
   "metadata": {},
   "source": []
  }
 ],
 "metadata": {
  "kernelspec": {
   "display_name": "Python 3",
   "language": "python",
   "name": "python3"
  },
  "language_info": {
   "codemirror_mode": {
    "name": "ipython",
    "version": 3
   },
   "file_extension": ".py",
   "mimetype": "text/x-python",
   "name": "python",
   "nbconvert_exporter": "python",
   "pygments_lexer": "ipython3",
   "version": "3.12.2"
  }
 },
 "nbformat": 4,
 "nbformat_minor": 2
}
