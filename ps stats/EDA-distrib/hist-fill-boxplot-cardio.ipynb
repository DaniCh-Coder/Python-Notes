{
 "cells": [
  {
   "cell_type": "markdown",
   "metadata": {},
   "source": [
    "# Pulso cadríaco"
   ]
  },
  {
   "cell_type": "code",
   "execution_count": 2,
   "metadata": {},
   "outputs": [],
   "source": [
    "import seaborn as sns\n",
    "import matplotlib.pyplot as plt\n",
    "import pandas as pd"
   ]
  },
  {
   "cell_type": "markdown",
   "metadata": {},
   "source": [
    "+ El conjunto de Age, Gender, Pulse, en el archivo Body-Data.xlsx, lista los pulsos cardiacos de una muestra de 300 hombres y  mujeres.\n",
    "    + Existen métodos estadísticos importantes que se pueden utilizar para probar diferencias de manera formal (en este caso entre hombres y mujeres), \n",
    "    + pero por ahora exploraremos los datos para ver qué información podemos obtener. \n",
    "        + (Incluso si ya sabemos aplicar estos métodos estadísticos formales, es mejor explorar primero los datos antes de realizar el análisis formal)."
   ]
  },
  {
   "cell_type": "markdown",
   "metadata": {},
   "source": [
    "### Consulta Inicial\n",
    "Está bien documentado que existen diferencias fisiológicas importantes entre hombres y mujeres. Los hombres tienden a pesar más y a ser más altos que las mujeres. \n",
    "+ ¿Pero existe una diferencia en los pulsos cardiacos de hombres y mujeres? "
   ]
  },
  {
   "cell_type": "markdown",
   "metadata": {},
   "source": [
    "+ Primero hay una exploración con analisis preliminar y primera conclusión.\n",
    "+ Luego un analisis avanzado con Medidas de Tendencia Central, Medicas de Variación, Cuartiles, Regla de 68, 95, 99.7 (1S, 2S, 3S), Mínimos y Máximos\n",
    "1. Construcción de un dataframe con los estadísticos de describe() tendencia central y dispersión.\n",
    "2. Construcción de un dataframe con los estadísticos de dos desvíaciones estandar (2S = 95% de los datos en normal)\n",
    "3. Construcción de un dataframe con los valores de las puntas de bigotes o whiskers y los outliers\n",
    "4. Calculo de cantidades de observaciones dentro de boxes y fuera de los mismos\n",
    "5. Construcción de un dataframe con 1, 2 y 3.\n",
    "5. Ordenamiento de las columnas para analizar. "
   ]
  },
  {
   "cell_type": "markdown",
   "metadata": {},
   "source": [
    "### Exploración de datos"
   ]
  },
  {
   "cell_type": "code",
   "execution_count": 3,
   "metadata": {},
   "outputs": [
    {
     "data": {
      "text/html": [
       "<div>\n",
       "<style scoped>\n",
       "    .dataframe tbody tr th:only-of-type {\n",
       "        vertical-align: middle;\n",
       "    }\n",
       "\n",
       "    .dataframe tbody tr th {\n",
       "        vertical-align: top;\n",
       "    }\n",
       "\n",
       "    .dataframe thead th {\n",
       "        text-align: right;\n",
       "    }\n",
       "</style>\n",
       "<table border=\"1\" class=\"dataframe\">\n",
       "  <thead>\n",
       "    <tr style=\"text-align: right;\">\n",
       "      <th></th>\n",
       "      <th>AGE</th>\n",
       "      <th>GENDER (1=M)</th>\n",
       "      <th>PULSE</th>\n",
       "    </tr>\n",
       "  </thead>\n",
       "  <tbody>\n",
       "    <tr>\n",
       "      <th>count</th>\n",
       "      <td>300.000000</td>\n",
       "      <td>300.000000</td>\n",
       "      <td>300.000000</td>\n",
       "    </tr>\n",
       "    <tr>\n",
       "      <th>mean</th>\n",
       "      <td>47.040000</td>\n",
       "      <td>0.510000</td>\n",
       "      <td>71.766667</td>\n",
       "    </tr>\n",
       "    <tr>\n",
       "      <th>std</th>\n",
       "      <td>18.269583</td>\n",
       "      <td>0.500735</td>\n",
       "      <td>12.128033</td>\n",
       "    </tr>\n",
       "    <tr>\n",
       "      <th>min</th>\n",
       "      <td>18.000000</td>\n",
       "      <td>0.000000</td>\n",
       "      <td>36.000000</td>\n",
       "    </tr>\n",
       "    <tr>\n",
       "      <th>25%</th>\n",
       "      <td>31.000000</td>\n",
       "      <td>0.000000</td>\n",
       "      <td>64.000000</td>\n",
       "    </tr>\n",
       "    <tr>\n",
       "      <th>50%</th>\n",
       "      <td>46.000000</td>\n",
       "      <td>1.000000</td>\n",
       "      <td>72.000000</td>\n",
       "    </tr>\n",
       "    <tr>\n",
       "      <th>75%</th>\n",
       "      <td>62.000000</td>\n",
       "      <td>1.000000</td>\n",
       "      <td>80.000000</td>\n",
       "    </tr>\n",
       "    <tr>\n",
       "      <th>max</th>\n",
       "      <td>80.000000</td>\n",
       "      <td>1.000000</td>\n",
       "      <td>104.000000</td>\n",
       "    </tr>\n",
       "  </tbody>\n",
       "</table>\n",
       "</div>"
      ],
      "text/plain": [
       "              AGE  GENDER (1=M)       PULSE\n",
       "count  300.000000    300.000000  300.000000\n",
       "mean    47.040000      0.510000   71.766667\n",
       "std     18.269583      0.500735   12.128033\n",
       "min     18.000000      0.000000   36.000000\n",
       "25%     31.000000      0.000000   64.000000\n",
       "50%     46.000000      1.000000   72.000000\n",
       "75%     62.000000      1.000000   80.000000\n",
       "max     80.000000      1.000000  104.000000"
      ]
     },
     "execution_count": 3,
     "metadata": {},
     "output_type": "execute_result"
    }
   ],
   "source": [
    "# Leer el archivo Excel saltando la primera fila\n",
    "xlsx = pd.ExcelFile(\"../../data/Body-Data.xlsx\")\n",
    "\n",
    "# Evitar primera fila y sus encabezados porque están las columnas combinadas.\n",
    "df = pd.read_excel(xlsx, usecols=[0,1,2])\n",
    "df.describe()"
   ]
  },
  {
   "cell_type": "markdown",
   "metadata": {},
   "source": [
    "+ Descripción para hombres y mujes\n",
    "    + Son 300 observaciones en total\n",
    "        + medias: edad 47 y pulsaciones 71,7\n",
    "        + medianas: edad 76 y 72\n",
    "        + minimos: edad 18 y pulsaciones 36\n",
    "        + maximos: edad 80 y pulsaciones 104"
   ]
  },
  {
   "cell_type": "markdown",
   "metadata": {},
   "source": [
    "### Exploración de datos por género"
   ]
  },
  {
   "cell_type": "code",
   "execution_count": 4,
   "metadata": {},
   "outputs": [
    {
     "data": {
      "text/html": [
       "<div>\n",
       "<style scoped>\n",
       "    .dataframe tbody tr th:only-of-type {\n",
       "        vertical-align: middle;\n",
       "    }\n",
       "\n",
       "    .dataframe tbody tr th {\n",
       "        vertical-align: top;\n",
       "    }\n",
       "\n",
       "    .dataframe thead tr th {\n",
       "        text-align: left;\n",
       "    }\n",
       "\n",
       "    .dataframe thead tr:last-of-type th {\n",
       "        text-align: right;\n",
       "    }\n",
       "</style>\n",
       "<table border=\"1\" class=\"dataframe\">\n",
       "  <thead>\n",
       "    <tr>\n",
       "      <th></th>\n",
       "      <th colspan=\"8\" halign=\"left\">AGE</th>\n",
       "      <th colspan=\"8\" halign=\"left\">PULSE</th>\n",
       "    </tr>\n",
       "    <tr>\n",
       "      <th></th>\n",
       "      <th>count</th>\n",
       "      <th>mean</th>\n",
       "      <th>std</th>\n",
       "      <th>min</th>\n",
       "      <th>25%</th>\n",
       "      <th>50%</th>\n",
       "      <th>75%</th>\n",
       "      <th>max</th>\n",
       "      <th>count</th>\n",
       "      <th>mean</th>\n",
       "      <th>std</th>\n",
       "      <th>min</th>\n",
       "      <th>25%</th>\n",
       "      <th>50%</th>\n",
       "      <th>75%</th>\n",
       "      <th>max</th>\n",
       "    </tr>\n",
       "    <tr>\n",
       "      <th>GENDER (1=M)</th>\n",
       "      <th></th>\n",
       "      <th></th>\n",
       "      <th></th>\n",
       "      <th></th>\n",
       "      <th></th>\n",
       "      <th></th>\n",
       "      <th></th>\n",
       "      <th></th>\n",
       "      <th></th>\n",
       "      <th></th>\n",
       "      <th></th>\n",
       "      <th></th>\n",
       "      <th></th>\n",
       "      <th></th>\n",
       "      <th></th>\n",
       "      <th></th>\n",
       "    </tr>\n",
       "  </thead>\n",
       "  <tbody>\n",
       "    <tr>\n",
       "      <th>0</th>\n",
       "      <td>147.0</td>\n",
       "      <td>46.666667</td>\n",
       "      <td>17.663263</td>\n",
       "      <td>18.0</td>\n",
       "      <td>33.0</td>\n",
       "      <td>45.0</td>\n",
       "      <td>60.5</td>\n",
       "      <td>80.0</td>\n",
       "      <td>147.0</td>\n",
       "      <td>74.040816</td>\n",
       "      <td>12.543556</td>\n",
       "      <td>36.0</td>\n",
       "      <td>64.0</td>\n",
       "      <td>74.0</td>\n",
       "      <td>82.0</td>\n",
       "      <td>104.0</td>\n",
       "    </tr>\n",
       "    <tr>\n",
       "      <th>1</th>\n",
       "      <td>153.0</td>\n",
       "      <td>47.398693</td>\n",
       "      <td>18.884810</td>\n",
       "      <td>18.0</td>\n",
       "      <td>30.0</td>\n",
       "      <td>46.0</td>\n",
       "      <td>62.0</td>\n",
       "      <td>80.0</td>\n",
       "      <td>153.0</td>\n",
       "      <td>69.581699</td>\n",
       "      <td>11.331497</td>\n",
       "      <td>40.0</td>\n",
       "      <td>62.0</td>\n",
       "      <td>68.0</td>\n",
       "      <td>76.0</td>\n",
       "      <td>104.0</td>\n",
       "    </tr>\n",
       "  </tbody>\n",
       "</table>\n",
       "</div>"
      ],
      "text/plain": [
       "                AGE                                                      \\\n",
       "              count       mean        std   min   25%   50%   75%   max   \n",
       "GENDER (1=M)                                                              \n",
       "0             147.0  46.666667  17.663263  18.0  33.0  45.0  60.5  80.0   \n",
       "1             153.0  47.398693  18.884810  18.0  30.0  46.0  62.0  80.0   \n",
       "\n",
       "              PULSE                                                       \n",
       "              count       mean        std   min   25%   50%   75%    max  \n",
       "GENDER (1=M)                                                              \n",
       "0             147.0  74.040816  12.543556  36.0  64.0  74.0  82.0  104.0  \n",
       "1             153.0  69.581699  11.331497  40.0  62.0  68.0  76.0  104.0  "
      ]
     },
     "execution_count": 4,
     "metadata": {},
     "output_type": "execute_result"
    }
   ],
   "source": [
    "\n",
    "dfStats =df.groupby('GENDER (1=M)').describe(percentiles=[0.25, 0.5, 0.75])\n",
    "dfStats"
   ]
  },
  {
   "cell_type": "markdown",
   "metadata": {},
   "source": [
    "+ Hay mas hombres que mujeres (1>0 => male > female):   HOMBRES) 153    MUJERES) 147\n",
    "+ Analisis de las pulsaciones:\n",
    "        + Las medias y las desviaciones son mayores para las mujeres que para los hombres.\n",
    "    + Desviaciones:\n",
    "        + Como las desviaciones en los hombres son mayores los percentiles están ubicados a valores maores.\n",
    "    + Máximos y mínimos:\n",
    "        + Los maximos son iguales para mujeres y hombres.\n",
    "        + Los mínimos son menores para mujeres."
   ]
  },
  {
   "cell_type": "code",
   "execution_count": 5,
   "metadata": {},
   "outputs": [
    {
     "data": {
      "image/png": "[encoded data removed]",
      "text/plain": [
       "<Figure size 800x800 with 2 Axes>"
      ]
     },
     "metadata": {},
     "output_type": "display_data"
    }
   ],
   "source": [
    "plt.figure(figsize=(8, 8))\n",
    "ax1 = plt.subplot(211)\n",
    "sns.histplot(df, x='PULSE', hue='GENDER (1=M)', element='step')\n",
    "plt.xlabel('')\n",
    "    \n",
    "ax2 = plt.subplot(212)\n",
    "sns.boxplot(df, x='PULSE', hue='GENDER (1=M)', palette='pastel', legend=False)\n",
    "\n",
    "# Alinear los ejes x\n",
    "ax2.set_xlim(ax1.get_xlim())\n",
    "\n",
    "# Ajustar el diseño\n",
    "plt.tight_layout()\n",
    "plt.show()"
   ]
  },
  {
   "cell_type": "markdown",
   "metadata": {},
   "source": [
    "Del histrograma se observa que si bien la media y mediana de los hombres es más baja:\n",
    "1. Para pulsaciones bajas entre 35 45 hombres y mujeres tienen las mismas pulsaciones.\n",
    "2. Para pulsaciones entre 50 y 73 las pulsaciones de los hombres es mayor.\n",
    "3. Para pulsaciones mayores a 75 se observa un mayor ritmo cardíaco de las mujeres.\n",
    "4. Las pulsaciones de los hombres están mas concentradas, por eso muestran outliers"
   ]
  },
  {
   "cell_type": "markdown",
   "metadata": {},
   "source": [
    "### Ouliers"
   ]
  },
  {
   "cell_type": "markdown",
   "metadata": {},
   "source": [
    "#### Aproximaciones por regla de 68, 95, 99.7\n",
    "Para ver las pulsaciones que se desvían mucho y tienden a hacerse outliers se observan primero en dónde están el 95% de las pulsaciones.\n",
    "+ Y el 95% de las pulsaciones (para una distribución aproximadamente normal está a una distancia de 2S)\n",
    "+ Por lo tanto las pulsacinoes que están por encima y por debajo de X+-2S pueden considerarse outliers"
   ]
  },
  {
   "cell_type": "code",
   "execution_count": 6,
   "metadata": {},
   "outputs": [
    {
     "data": {
      "text/html": [
       "<div>\n",
       "<style scoped>\n",
       "    .dataframe tbody tr th:only-of-type {\n",
       "        vertical-align: middle;\n",
       "    }\n",
       "\n",
       "    .dataframe tbody tr th {\n",
       "        vertical-align: top;\n",
       "    }\n",
       "\n",
       "    .dataframe thead th {\n",
       "        text-align: right;\n",
       "    }\n",
       "</style>\n",
       "<table border=\"1\" class=\"dataframe\">\n",
       "  <thead>\n",
       "    <tr style=\"text-align: right;\">\n",
       "      <th></th>\n",
       "      <th>mean-2S</th>\n",
       "      <th>mean</th>\n",
       "      <th>mean+2S</th>\n",
       "    </tr>\n",
       "    <tr>\n",
       "      <th>GENDER (1=M)</th>\n",
       "      <th></th>\n",
       "      <th></th>\n",
       "      <th></th>\n",
       "    </tr>\n",
       "  </thead>\n",
       "  <tbody>\n",
       "    <tr>\n",
       "      <th>0</th>\n",
       "      <td>48.953705</td>\n",
       "      <td>74.040816</td>\n",
       "      <td>99.127928</td>\n",
       "    </tr>\n",
       "    <tr>\n",
       "      <th>1</th>\n",
       "      <td>46.918706</td>\n",
       "      <td>69.581699</td>\n",
       "      <td>92.244693</td>\n",
       "    </tr>\n",
       "  </tbody>\n",
       "</table>\n",
       "</div>"
      ],
      "text/plain": [
       "                mean-2S       mean    mean+2S\n",
       "GENDER (1=M)                                 \n",
       "0             48.953705  74.040816  99.127928\n",
       "1             46.918706  69.581699  92.244693"
      ]
     },
     "execution_count": 6,
     "metadata": {},
     "output_type": "execute_result"
    }
   ],
   "source": [
    "# Calculo dos desviaciones estandar para mujeres y para hombres: 2S\n",
    "# Armo un dataframe con los valores mínimos y maximos de media +- 2S\n",
    "df95= pd.DataFrame( {\n",
    "    \"mean-2S\": dfStats.loc[0:,('PULSE','mean')] - dfStats.loc[0:,('PULSE','std')]*2,\n",
    "    \"mean\"   : dfStats.loc[0:,('PULSE','mean')],\n",
    "    \"mean+2S\": dfStats.loc[0:,('PULSE','std')]*2 + dfStats.loc[0:,('PULSE','mean')]\n",
    "})\n",
    "df95\n"
   ]
  },
  {
   "cell_type": "code",
   "execution_count": 7,
   "metadata": {},
   "outputs": [
    {
     "name": "stdout",
     "output_type": "stream",
     "text": [
      "     AGE  GENDER (1=M)  PULSE\n",
      "64    80             0    100\n",
      "90    68             0    104\n",
      "123   18             0    104\n",
      "202   18             0    100\n",
      "     AGE  GENDER (1=M)  PULSE\n",
      "24    46             0     36\n",
      "157   29             0     44\n"
     ]
    }
   ],
   "source": [
    "# Calculo los valores que están fuera del 95% de las observaciones para damas\n",
    "# mayores a mean+2s y menores a mean-2s\n",
    "print(df[(df['GENDER (1=M)'] == 0) & (df['PULSE'] > 99)])\n",
    "print(df[(df['GENDER (1=M)'] == 0) & (df['PULSE'] < 48.9)])\n"
   ]
  },
  {
   "cell_type": "markdown",
   "metadata": {},
   "source": [
    "Para mujeres:\n",
    "+ Se encuentran 4 valores que están fuera del 95% de las observaciones por encima.\n",
    "+ Se observan 2 valores que están fuera del 95% de las observaciones por debajo.\n",
    "+ Se observan 4 valores por encima y 2 valores por debajo.\n",
    "+ Son un 6 valores sobre 147."
   ]
  },
  {
   "cell_type": "code",
   "execution_count": 8,
   "metadata": {},
   "outputs": [
    {
     "name": "stdout",
     "output_type": "stream",
     "text": [
      "     AGE  GENDER (1=M)  PULSE\n",
      "35    74             1     96\n",
      "69    36             1     96\n",
      "113   30             1    104\n",
      "204   54             1    102\n",
      "295   24             1     94\n",
      "     AGE  GENDER (1=M)  PULSE\n",
      "40    80             1     42\n",
      "139   38             1     40\n"
     ]
    }
   ],
   "source": [
    "# Calculo los valores fuera del 95% de las observaciones para hombres\n",
    "# mayores a mean+2s y menores a mean-2s\n",
    "print(df[(df['GENDER (1=M)'] == 1) & (df['PULSE'] > 92.2)])\n",
    "print(df[(df['GENDER (1=M)'] == 1) & (df['PULSE'] < 46.9)])"
   ]
  },
  {
   "cell_type": "markdown",
   "metadata": {},
   "source": [
    "Para hombres:\n",
    "+ Se encuentran 5 valores que están fuera del 95% de las observaciones por encima.\n",
    "+ Se observan 2 valores que están fuera del 95% de las observaciones por debajo.\n",
    "+ Se observan 5 valores por encima y 2 valores por debajo.\n",
    "+ Son un 7 valores sobre 153."
   ]
  },
  {
   "cell_type": "markdown",
   "metadata": {},
   "source": [
    "### Conlusiones y respuesta\n",
    "Es claro que existen diferencias entre los pulsos cardíacos de hombres y mujeres.\n",
    "+ En general las mujeres tienen un pulso más acelerado que los hombres. (con una menor dispersión\n",
    "+ Estas diferencias ya están explicadas mas arriba."
   ]
  },
  {
   "cell_type": "markdown",
   "metadata": {},
   "source": [
    "# Tabla de estadísticos"
   ]
  },
  {
   "cell_type": "markdown",
   "metadata": {},
   "source": [
    "Medidas de Tendencia Central, Medicas de Variación, Cuartiles, Regla de 68, 95, 99.7 (1S, 2S, 3S), Mínimos y Máximos\n",
    "1. Construcción de un dataframe con los estadísticos de describe() tendencia central y dispersión.\n",
    "2. Construcción de un dataframe con los estadísticos de dos desvíaciones estandar (2S = 95% de los datos en normal)\n",
    "3. Construcción de un dataframe con los valores de las puntas de bigotes o whiskers y los outliers\n",
    "4. Calculo de cantidades de observaciones dentro de boxes y fuera de los mismos\n",
    "5. Construcción de un dataframe con 1, 2 y 3.\n",
    "5. Ordenamiento de las columnas para analizar. "
   ]
  },
  {
   "cell_type": "code",
   "execution_count": 76,
   "metadata": {},
   "outputs": [
    {
     "data": {
      "text/html": [
       "<div>\n",
       "<style scoped>\n",
       "    .dataframe tbody tr th:only-of-type {\n",
       "        vertical-align: middle;\n",
       "    }\n",
       "\n",
       "    .dataframe tbody tr th {\n",
       "        vertical-align: top;\n",
       "    }\n",
       "\n",
       "    .dataframe thead th {\n",
       "        text-align: right;\n",
       "    }\n",
       "</style>\n",
       "<table border=\"1\" class=\"dataframe\">\n",
       "  <thead>\n",
       "    <tr style=\"text-align: right;\">\n",
       "      <th></th>\n",
       "      <th>count</th>\n",
       "      <th>mean-2S</th>\n",
       "      <th>mean</th>\n",
       "      <th>std</th>\n",
       "      <th>mean+2S</th>\n",
       "      <th>min</th>\n",
       "      <th>whisker_min</th>\n",
       "      <th>25%</th>\n",
       "      <th>50%</th>\n",
       "      <th>75%</th>\n",
       "      <th>whisker_max</th>\n",
       "      <th>max</th>\n",
       "    </tr>\n",
       "  </thead>\n",
       "  <tbody>\n",
       "    <tr>\n",
       "      <th>0</th>\n",
       "      <td>147.0</td>\n",
       "      <td>48.953705</td>\n",
       "      <td>74.040816</td>\n",
       "      <td>12.543556</td>\n",
       "      <td>99.127928</td>\n",
       "      <td>36.0</td>\n",
       "      <td>44</td>\n",
       "      <td>64.0</td>\n",
       "      <td>74.0</td>\n",
       "      <td>82.0</td>\n",
       "      <td>104</td>\n",
       "      <td>104.0</td>\n",
       "    </tr>\n",
       "    <tr>\n",
       "      <th>1</th>\n",
       "      <td>153.0</td>\n",
       "      <td>46.918706</td>\n",
       "      <td>69.581699</td>\n",
       "      <td>11.331497</td>\n",
       "      <td>92.244693</td>\n",
       "      <td>40.0</td>\n",
       "      <td>42</td>\n",
       "      <td>62.0</td>\n",
       "      <td>68.0</td>\n",
       "      <td>76.0</td>\n",
       "      <td>96</td>\n",
       "      <td>104.0</td>\n",
       "    </tr>\n",
       "  </tbody>\n",
       "</table>\n",
       "</div>"
      ],
      "text/plain": [
       "   count    mean-2S       mean        std    mean+2S   min  whisker_min   25%  \\\n",
       "0  147.0  48.953705  74.040816  12.543556  99.127928  36.0           44  64.0   \n",
       "1  153.0  46.918706  69.581699  11.331497  92.244693  40.0           42  62.0   \n",
       "\n",
       "    50%   75%  whisker_max    max  \n",
       "0  74.0  82.0          104  104.0  \n",
       "1  68.0  76.0           96  104.0  "
      ]
     },
     "execution_count": 76,
     "metadata": {},
     "output_type": "execute_result"
    }
   ],
   "source": [
    "# 1. Construcción de un dataframe con los estadísticos de describe()\n",
    "    # Elijo la parte del dataframe que me interesa (genero y pulso)\n",
    "    # Extraigo los estadísticos de tendencia central y variación (describe())\n",
    "dfstats = df[['GENDER (1=M)','PULSE']].groupby('GENDER (1=M)').describe()\n",
    "    # Elimino el indice múltiple. Eliminando el nivel 1 'PULSE'\n",
    "dfstats.columns = dfstats.columns.droplevel(level=0)\n",
    "\n",
    "# 2. Construcción de dataframe con dos desviaciones estandard\n",
    "    # Mientras armo el dataframe calculo las desviaciones para 0 (mujeres) y 1 (hombres)\n",
    "df95 = pd.DataFrame (\n",
    "    {\n",
    "        \"mean-2S\": [dfstats.loc[0, 'mean'] - dfstats.loc[0, 'std'] * 2, dfstats.loc[1, 'mean'] - dfstats.loc[1, 'std'] * 2],\n",
    "        \"mean+2S\": [dfstats.loc[0, 'mean'] + dfstats.loc[0, 'std'] * 2, dfstats.loc[1, 'mean'] + dfstats.loc[1, 'std'] * 2]\n",
    "    },\n",
    "    index = [0, 1]\n",
    ")\n",
    "\n",
    "# 3. Construcción de un dataframe con los cuartiles y valores de las puntas de bigotes o whiskers\n",
    "    # Calculo cuartiles y whiskers. Para aprender otra variante a describe() utilizo quantile()\n",
    "    # a. females\n",
    "Q1_0 = df[df['GENDER (1=M)'] == 0]['PULSE'].quantile(0.25) # debe coincider con 25% de df.describe()\n",
    "Q2_0 = df[df['GENDER (1=M)'] == 0]['PULSE'].quantile(0.5)  # debe coincider con 50% de df.describe()\n",
    "Q3_0 = df[df['GENDER (1=M)'] == 0]['PULSE'].quantile(0.75) # debe coincider con 75% de df.describe()\n",
    "IQR_0 = Q3_0 - Q1_0\n",
    "\n",
    "whisker_min_0 = df[df['GENDER (1=M)'] == 0]['PULSE'][df['PULSE'] >= Q1_0 - 1.5 * IQR_0].min()\n",
    "whisker_max_0 = df[df['GENDER (1=M)'] == 0]['PULSE'][df['PULSE'] <= Q3_0 + 1.5 * IQR_0].max()\n",
    "\n",
    "    # Calculo cuartiles y whiskers. Para aprender otra variante a describe() utilizo quantile()\n",
    "    # b. males\n",
    "Q1_1 = df[df['GENDER (1=M)'] == 1]['PULSE'].quantile(0.25) # debe coincider con 25% de df.describe()\n",
    "Q2_1 = df[df['GENDER (1=M)'] == 1]['PULSE'].quantile(0.5)  # debe coincider con 50% de df.describe()\n",
    "Q3_1 = df[df['GENDER (1=M)'] == 1]['PULSE'].quantile(0.75) # debe coincider con 75% de df.describe()\n",
    "IQR_1 = Q3_1 - Q1_1\n",
    "\n",
    "whisker_min_1 = df[df['GENDER (1=M)'] == 1]['PULSE'][df['PULSE'] >= Q1_1 - 1.5 * IQR_1].min()\n",
    "whisker_max_1 = df[df['GENDER (1=M)'] == 1]['PULSE'][df['PULSE'] <= Q3_1 + 1.5 * IQR_1].max()\n",
    "\n",
    "    # Calculo de Outliers\n",
    "    # c. Los outliers son los que están por afuera de los whiskers 0 y 1 entonces\n",
    "outliers_0 = df[df['GENDER (1=M)'] == 0]['PULSE'][(df['PULSE'] < whisker_min_0) | (df['PULSE'] > whisker_max_0)]\n",
    "outliers_1 = df[df['GENDER (1=M)'] == 1]['PULSE'][(df['PULSE'] < whisker_min_1) | (df['PULSE'] > whisker_max_1)]\n",
    "\n",
    "    # Armo resumen.\n",
    "    # d. un dataframe con las puntas de bigotes o whiskers y outliers\n",
    "dfwhiskers = pd.DataFrame(\n",
    "    {\n",
    "        \"whisker_min\" : [whisker_min_0, whisker_min_1],\n",
    "        \"whisker_max\" : [whisker_max_0, whisker_max_1],\n",
    "    },\n",
    "    index=[0,1]\n",
    ")\n",
    "\n",
    "# 4. Calculo de cantidades de observaciones dentro de boxes y fuera de los mismos\n",
    "    # a. Cantidades dentro de los boxes\n",
    "box_0 = df[df['GENDER (1=M)'] == 0]['PULSE'][(df['PULSE'] >= Q1_0) & (df['PULSE'] <= Q3_0)].count()\n",
    "box_1 = df[df['GENDER (1=M)'] == 1]['PULSE'][(df['PULSE'] >= Q1_1) & (df['PULSE'] <= Q3_1)].count()\n",
    "\n",
    "    # b. Cantidades dentro de whiskers (incluye boxes)\n",
    "wisk_0 = df[df['GENDER (1=M)'] == 0]['PULSE'][(df['PULSE'] >= whisker_min_0) & (df['PULSE'] <= whisker_max_0)].count()\n",
    "wisk_1 = df[df['GENDER (1=M)'] == 1]['PULSE'][(df['PULSE'] >= whisker_min_1) & (df['PULSE'] <= whisker_max_1)].count()\n",
    "\n",
    "    # c. Cantidades entre whiskers y boxes\n",
    "wis_box_0 = wisk_0 - box_0\n",
    "wis_box_1 = wisk_1 - box_1\n",
    "\n",
    "    # Resumen cantidades\n",
    "df_count = pd.DataFrame(\n",
    "    {\n",
    "        \"qBox\" : [box_0, box_1],\n",
    "        \"qW-qB\" : [wis_box_0, wis_box_1],\n",
    "        \"qWhiskers\" : [wisk_0, wisk_1],\n",
    "        \"qOutliers\" : [outliers_0.count(),outliers_1.count()],\n",
    "        \"qTotal\" : [box_0 + wis_box_0 + outliers_0.count(), box_1 + wis_box_1 + outliers_1.count()]\n",
    "    }, index=['0', '1']\n",
    ")\n",
    "\n",
    "# 5. Construcción de un dataframe con 1, 2 y 3.\n",
    "    # Concatenación de estadísticos paa 0 y 1\n",
    "df_concatenado = pd.concat([dfstats, df95, dfwhiskers], axis=1)\n",
    "\n",
    "# Ordenamiento de Estadísticos dentro del DataFrame\n",
    "df_combined = df_concatenado[['count', 'mean-2S', 'mean', 'std', 'mean+2S', 'min', 'whisker_min', '25%', '50%', '75%', 'whisker_max', 'max']]\n",
    "df_combined"
   ]
  },
  {
   "cell_type": "code",
   "execution_count": 77,
   "metadata": {},
   "outputs": [
    {
     "data": {
      "text/html": [
       "<div>\n",
       "<style scoped>\n",
       "    .dataframe tbody tr th:only-of-type {\n",
       "        vertical-align: middle;\n",
       "    }\n",
       "\n",
       "    .dataframe tbody tr th {\n",
       "        vertical-align: top;\n",
       "    }\n",
       "\n",
       "    .dataframe thead th {\n",
       "        text-align: right;\n",
       "    }\n",
       "</style>\n",
       "<table border=\"1\" class=\"dataframe\">\n",
       "  <thead>\n",
       "    <tr style=\"text-align: right;\">\n",
       "      <th></th>\n",
       "      <th>qBox</th>\n",
       "      <th>qW-qB</th>\n",
       "      <th>qWhiskers</th>\n",
       "      <th>qOutliers</th>\n",
       "      <th>qTotal</th>\n",
       "    </tr>\n",
       "  </thead>\n",
       "  <tbody>\n",
       "    <tr>\n",
       "      <th>0</th>\n",
       "      <td>84</td>\n",
       "      <td>62</td>\n",
       "      <td>146</td>\n",
       "      <td>1</td>\n",
       "      <td>147</td>\n",
       "    </tr>\n",
       "    <tr>\n",
       "      <th>1</th>\n",
       "      <td>83</td>\n",
       "      <td>67</td>\n",
       "      <td>150</td>\n",
       "      <td>3</td>\n",
       "      <td>153</td>\n",
       "    </tr>\n",
       "  </tbody>\n",
       "</table>\n",
       "</div>"
      ],
      "text/plain": [
       "   qBox  qW-qB  qWhiskers  qOutliers  qTotal\n",
       "0    84     62        146          1     147\n",
       "1    83     67        150          3     153"
      ]
     },
     "execution_count": 77,
     "metadata": {},
     "output_type": "execute_result"
    }
   ],
   "source": [
    "df_count"
   ]
  },
  {
   "cell_type": "markdown",
   "metadata": {},
   "source": [
    "________________________________________________________________________________________________________________________________"
   ]
  },
  {
   "cell_type": "markdown",
   "metadata": {},
   "source": []
  }
 ],
 "metadata": {
  "kernelspec": {
   "display_name": "Python 3",
   "language": "python",
   "name": "python3"
  },
  "language_info": {
   "codemirror_mode": {
    "name": "ipython",
    "version": 3
   },
   "file_extension": ".py",
   "mimetype": "text/x-python",
   "name": "python",
   "nbconvert_exporter": "python",
   "pygments_lexer": "ipython3",
   "version": "3.12.2"
  }
 },
 "nbformat": 4,
 "nbformat_minor": 2
}
