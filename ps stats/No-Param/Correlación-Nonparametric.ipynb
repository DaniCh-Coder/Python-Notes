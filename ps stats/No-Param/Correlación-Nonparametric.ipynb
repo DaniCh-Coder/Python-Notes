{
 "cells": [
  {
   "cell_type": "markdown",
   "metadata": {},
   "source": [
    "# Correlación no paramétrica\n",
    "###### https://www.chreinvent.com/recursos/correlaci%C3%B3n-no-param%C3%A9trica"
   ]
  },
  {
   "cell_type": "markdown",
   "metadata": {},
   "source": [
    "##  Prueba de Spearman\n",
    "#### Ejemplo: Relación entre estudio y puntaje\n",
    "Un investigador quiere estudiar si existe una relación entre el tiempo de estudio (en horas) y el puntaje obtenido en un examen por un grupo de 5 estudiantes. Los datos pueden verse en el código y son los siguientes:"
   ]
  },
  {
   "cell_type": "code",
   "execution_count": 1,
   "metadata": {},
   "outputs": [
    {
     "data": {
      "text/plain": [
       "0.8999999999999998"
      ]
     },
     "execution_count": 1,
     "metadata": {},
     "output_type": "execute_result"
    }
   ],
   "source": [
    "import pandas as pd\n",
    "from scipy.stats import spearmanr\n",
    "\n",
    "# Datos\n",
    "data = pd.DataFrame({\n",
    "    'Horas_estudio': [10, 8, 7, 6, 4],\n",
    "    'Puntaje_examen': [95, 80, 78, 60, 65]\n",
    "})\n",
    "\n",
    "# Correlación de Spearman\n",
    "spearman_corr, _ = spearmanr(data['Horas_estudio'], data['Puntaje_examen'])\n",
    "spearman_corr\n"
   ]
  },
  {
   "cell_type": "markdown",
   "metadata": {},
   "source": [
    "## Prueba de Kendall\n",
    "#### Ejemplo: Relación satisfacción y compromiso\n",
    "Un investigador desea evaluar si existe una relación de preferencia entre dos variables ordinales: el nivel de satisfacción de los empleados (1 = Muy Insatisfecho, 2 = Insatisfecho, 3 = Neutro, 4 = Satisfecho, 5 = Muy Satisfecho) y el nivel de compromiso con la empresa (1 = Muy Bajo, 2 = Bajo, 3 = Medio, 4 = Alto, 5 = Muy Alto) en una muestra de 6 empleados. Los datos y cálculos están en la figura correspondiente.\n"
   ]
  },
  {
   "cell_type": "code",
   "execution_count": 2,
   "metadata": {},
   "outputs": [
    {
     "data": {
      "text/plain": [
       "0.7857142857142858"
      ]
     },
     "execution_count": 2,
     "metadata": {},
     "output_type": "execute_result"
    }
   ],
   "source": [
    "from scipy.stats import kendalltau\n",
    "\n",
    "# Datos\n",
    "data = pd.DataFrame({\n",
    "    'Satisfaccion': [5, 4, 3, 2, 1, 3],\n",
    "    'Compromiso': [4, 5, 3, 2, 1, 2]\n",
    "})\n",
    "\n",
    "# Correlación de Kendall\n",
    "kendall_corr, _ = kendalltau(data['Satisfaccion'], data['Compromiso'])\n",
    "kendall_corr\n"
   ]
  }
 ],
 "metadata": {
  "kernelspec": {
   "display_name": "Python 3",
   "language": "python",
   "name": "python3"
  },
  "language_info": {
   "codemirror_mode": {
    "name": "ipython",
    "version": 3
   },
   "file_extension": ".py",
   "mimetype": "text/x-python",
   "name": "python",
   "nbconvert_exporter": "python",
   "pygments_lexer": "ipython3",
   "version": "3.12.2"
  }
 },
 "nbformat": 4,
 "nbformat_minor": 2
}
