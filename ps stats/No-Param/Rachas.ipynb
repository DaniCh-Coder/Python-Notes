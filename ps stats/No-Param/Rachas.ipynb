{
 "cells": [
  {
   "cell_type": "markdown",
   "metadata": {},
   "source": [
    "# Prueba de Rachas\n",
    "###### https://www.chreinvent.com/recursos/rachas"
   ]
  },
  {
   "cell_type": "markdown",
   "metadata": {},
   "source": [
    "1. Supongamos que estamos analizando la siguiente secuencia de resultados positivos y negativos:\n",
    "+ +,−,+,+,−,−,+,−\n",
    "\n",
    "+ Total 6 rachas\n",
    "+ n1 = 4\n",
    "+ n2 = 4\n",
    "\n",
    "+ Utilizamos directamente las fórmulas"
   ]
  },
  {
   "cell_type": "code",
   "execution_count": 2,
   "metadata": {},
   "outputs": [
    {
     "name": "stdout",
     "output_type": "stream",
     "text": [
      "E(R) = 5.0, Var(R) = 1.7142857142857142, Z = 0.7637626158259734\n"
     ]
    }
   ],
   "source": [
    "import numpy as np\n",
    "\n",
    "# Datos del ejemplo\n",
    "n1 = 4  # Número de '+'\n",
    "n2 = 4   # Número de '-'\n",
    "R = 6  # Número de rachas observadas\n",
    "\n",
    "# Cálculo del número esperado de rachas E(R) y su varianza\n",
    "E_R = (2 * n1 * n2) / (n1 + n2) + 1\n",
    "Var_R = (2 * n1 * n2 * (2 * n1 * n2 - n1 - n2)) / ((n1 + n2)**2 * (n1 + n2 - 1))\n",
    "\n",
    "# Estadístico Z\n",
    "Z = (R - E_R) / np.sqrt(Var_R)\n",
    "\n",
    "# Imprimir resultados\n",
    "print(f\"E(R) = {E_R}, Var(R) = {Var_R}, Z = {Z}\")\n"
   ]
  },
  {
   "cell_type": "markdown",
   "metadata": {},
   "source": [
    "**Interpretación**\n",
    "+ Para un nivel de significancia del 5%, el valor crítico de Z es aproximadamente ±1.96.\n",
    "+ Como Z = 1 no supera este valor crítico, no rechazamos la hipótesis nula \n",
    "    + y concluimos que no hay evidencia suficiente para afirmar que la secuencia no es aleatoria.\n",
    "___________________________________________________________________________________________________"
   ]
  },
  {
   "cell_type": "markdown",
   "metadata": {},
   "source": [
    "2. Consideremos la siguiente secuencia de resultados de una serie de experimentos (secuencias de éxitos y fracasos representados por 1 y 0):\n",
    "    + [1, 1, 0, 1, 1, 1, 0, 0, 1, 0, 1, 1, 0, 0, 1, 0, 0, 1, 1, 0]\n"
   ]
  },
  {
   "cell_type": "code",
   "execution_count": 4,
   "metadata": {},
   "outputs": [
    {
     "name": "stdout",
     "output_type": "stream",
     "text": [
      "Estadístico Z: 0.5108070528032165\n",
      "Valor p: 0.6094861701154317\n"
     ]
    }
   ],
   "source": [
    "import numpy as np\n",
    "from statsmodels.sandbox.stats.runs import runstest_1samp\n",
    "\n",
    "# Definimos la secuencia de éxitos (+) y fracasos (-) como 1 y 0, respectivamente\n",
    "data = np.array([1, 1, 0, 1, 1, 1, 0, 0, 1, 0, 1, 1, 0, 0, 1, 0, 0, 1, 1, 0])\n",
    "\n",
    "# Realizamos la prueba de rachas\n",
    "Z, p_value = runstest_1samp(data, correction=False)\n",
    "\n",
    "# Resultados\n",
    "print(f\"Estadístico Z: {Z}\")\n",
    "print(f\"Valor p: {p_value}\")\n"
   ]
  },
  {
   "cell_type": "markdown",
   "metadata": {},
   "source": [
    "**Interpretación de Resultados**\n",
    "+ Estadístico Z: Evalúa la aleatoriedad de la secuencia en términos de desviación estándar.\n",
    "+ Valor p: \n",
    "    + Si 𝑝 ≤ 0.05, rechazamos la hipótesis nula, indicando que la secuencia no es aleatoria. \n",
    "    + Si 𝑝 > 0.05, no tenemos suficiente evidencia para rechazar la aleatoriedad.\n",
    "+ Esta función proporciona una forma eficiente y rápida de calcular la prueba de rachas, \n",
    "    + simplificando el proceso en comparación con los cálculos manuales."
   ]
  },
  {
   "cell_type": "markdown",
   "metadata": {},
   "source": [
    "__________________________________________________________________________________________"
   ]
  },
  {
   "cell_type": "markdown",
   "metadata": {},
   "source": []
  }
 ],
 "metadata": {
  "kernelspec": {
   "display_name": "Python 3",
   "language": "python",
   "name": "python3"
  },
  "language_info": {
   "codemirror_mode": {
    "name": "ipython",
    "version": 3
   },
   "file_extension": ".py",
   "mimetype": "text/x-python",
   "name": "python",
   "nbconvert_exporter": "python",
   "pygments_lexer": "ipython3",
   "version": "3.12.2"
  }
 },
 "nbformat": 4,
 "nbformat_minor": 2
}
