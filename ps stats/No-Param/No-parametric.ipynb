{
 "cells": [
  {
   "cell_type": "code",
   "execution_count": 5,
   "metadata": {},
   "outputs": [],
   "source": [
    "# Pruebas No Paramétricas"
   ]
  },
  {
   "cell_type": "code",
   "execution_count": 6,
   "metadata": {},
   "outputs": [],
   "source": [
    "import numpy as np"
   ]
  },
  {
   "cell_type": "markdown",
   "metadata": {},
   "source": [
    "## Prueba del signo\n",
    "+ Supongamos que un grupo de 8 pacientes se somete a una dieta y se mide su peso antes y después de la intervención.\n",
    "\n",
    "       | Paciente | Peso antes (kg) | Peso después (kg)|\n",
    "       |----------|-----------------|------------------|\n",
    "       |    1     |    75           |         73       |\n",
    "       |    2     |    80           |         78       |\n",
    "       |    3     |    82           |         82       |\n",
    "       |    4     |    90           |         85       |\n",
    "       |    5     |    70           |         70       |\n",
    "       |    6     |    85           |         80       |\n",
    "       |    7     |    78           |         78       |\n",
    "       |    8     |    88           |         85       |\n",
    "+ Queremos saber si hubo una disminución significativa en el peso tras la dieta."
   ]
  },
  {
   "cell_type": "code",
   "execution_count": 8,
   "metadata": {},
   "outputs": [
    {
     "name": "stdout",
     "output_type": "stream",
     "text": [
      "Positivos: 5, Negativos: 0\n",
      "P-valor: BinomTestResult(k=5, n=5, alternative='greater', statistic=1.0, pvalue=0.03125)\n"
     ]
    }
   ],
   "source": [
    "\n",
    "from scipy.stats import binomtest\n",
    "\n",
    "# Datos\n",
    "peso_antes = np.array([75, 80, 82, 90, 70, 85, 78, 88])\n",
    "peso_despues = np.array([73, 78, 82, 85, 70, 80, 78, 85])\n",
    "\n",
    "# Calcular las diferencias\n",
    "diferencias = peso_antes - peso_despues\n",
    "\n",
    "# Contar diferencias positivas y negativas\n",
    "positivos = np.sum(diferencias > 0)\n",
    "negativos = np.sum(diferencias < 0)\n",
    "\n",
    "# Realizar la prueba binomial\n",
    "resultado = binomtest(positivos, n=positivos+negativos, p=0.5, alternative='greater')\n",
    "\n",
    "print(f\"Positivos: {positivos}, Negativos: {negativos}\")\n",
    "print(f\"P-valor: {resultado}\")\n"
   ]
  },
  {
   "cell_type": "markdown",
   "metadata": {},
   "source": [
    "____________________________________________________________________________________________________________________________________________________________________________________"
   ]
  },
  {
   "cell_type": "markdown",
   "metadata": {},
   "source": [
    "## Prueba de rangos con signo de Wilcoxon\n",
    "+ Supongamos que un grupo de 8 pacientes se somete a una dieta y se mide su peso antes y después de la intervención.\n",
    "    \n",
    "        | Paciente      |    Peso antes (kg)    | Peso después (kg) |\n",
    "        | 1             |       70              |       68          |\n",
    "        | 2             |       80              |       78          |\n",
    "        | 3             |       90              |       86          |\n",
    "        | 4             |       75              |       75          |\n",
    "        | 5             |       85              |       83          |\n",
    "        | 6             |       95              |       91          |\n",
    "        | 7             |       60              |       59          |\n",
    "        | 8             |       72              |       69          |\n",
    "+ Queremos saber si hubo una disminución significativa en el peso tras la dieta."
   ]
  },
  {
   "cell_type": "code",
   "execution_count": 9,
   "metadata": {},
   "outputs": [
    {
     "name": "stdout",
     "output_type": "stream",
     "text": [
      "Estadístico W: 0.0\n",
      "P-valor: 0.0169473483375683\n"
     ]
    },
    {
     "name": "stderr",
     "output_type": "stream",
     "text": [
      "c:\\Users\\Dani\\AppData\\Local\\Programs\\Python\\Python312\\Lib\\site-packages\\scipy\\stats\\_wilcoxon.py:198: UserWarning: Sample size too small for normal approximation.\n",
      "  temp = _wilcoxon_iv(x, y, zero_method, correction, alternative, method, axis)\n"
     ]
    }
   ],
   "source": [
    "from scipy.stats import wilcoxon\n",
    "\n",
    "# Datos\n",
    "peso_antes = np.array([70, 80, 90, 75, 85, 95, 60, 72])\n",
    "peso_despues = np.array([68, 78, 86, 75, 83, 91, 59, 69])\n",
    "\n",
    "# Prueba de rangos con signo de Wilcoxon\n",
    "stat, p_valor = wilcoxon(peso_antes, peso_despues)\n",
    "\n",
    "print(f'Estadístico W: {stat}')\n",
    "print(f'P-valor: {p_valor}')\n"
   ]
  }
 ],
 "metadata": {
  "kernelspec": {
   "display_name": "Python 3",
   "language": "python",
   "name": "python3"
  },
  "language_info": {
   "codemirror_mode": {
    "name": "ipython",
    "version": 3
   },
   "file_extension": ".py",
   "mimetype": "text/x-python",
   "name": "python",
   "nbconvert_exporter": "python",
   "pygments_lexer": "ipython3",
   "version": "3.12.2"
  }
 },
 "nbformat": 4,
 "nbformat_minor": 2
}
