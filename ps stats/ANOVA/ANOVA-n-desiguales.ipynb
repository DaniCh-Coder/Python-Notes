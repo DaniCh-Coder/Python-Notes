{
 "cells": [
  {
   "cell_type": "markdown",
   "metadata": {},
   "source": [
    "# ANOVA con muestras de tamaños iguales y diferentes\n",
    "##### Metodo Tukey Kramer para comparaciones múltiples post-hoc\n",
    "\n",
    "#### 1) ANOVA con muestras de igual tamaño\n",
    "\n",
    "```python\n",
    "# Datos para tamaños iguales\n",
    "grupo_A = [3.4, 3.1, 3.6, 3.2, 3.5]\n",
    "grupo_B = [2.9, 3.2, 3.0, 3.3, 2.8]\n",
    "grupo_C = [4.0, 4.1, 3.9, 4.2, 3.8]\n",
    "```"
   ]
  },
  {
   "cell_type": "code",
   "execution_count": 1,
   "metadata": {},
   "outputs": [
    {
     "name": "stdout",
     "output_type": "stream",
     "text": [
      "Estadístico F: 32.288288288288285\n",
      "Valor p: 1.4808524722256603e-05\n",
      "Se rechaza la hipótesis nula. Las medias de los grupos son significativamente diferentes.\n"
     ]
    }
   ],
   "source": [
    "import numpy as np\n",
    "import scipy.stats as stats\n",
    "import pandas as pd\n",
    "import matplotlib.pyplot as plt\n",
    "from statsmodels.stats.multicomp import pairwise_tukeyhsd\n",
    "\n",
    "# Datos para tamaños iguales\n",
    "grupo_A = [3.4, 3.1, 3.6, 3.2, 3.5]\n",
    "grupo_B = [2.9, 3.2, 3.0, 3.3, 2.8]\n",
    "grupo_C = [4.0, 4.1, 3.9, 4.2, 3.8]\n",
    "\n",
    "# ANOVA\n",
    "f_stat, p_value = stats.f_oneway(grupo_A, grupo_B, grupo_C)\n",
    "\n",
    "# Mostrar resultados de ANOVA\n",
    "print(f'Estadístico F: {f_stat}')\n",
    "print(f'Valor p: {p_value}')\n",
    "\n",
    "# Evaluación del valor p\n",
    "alpha = 0.05\n",
    "if p_value < alpha:\n",
    "    print(\"Se rechaza la hipótesis nula. Las medias de los grupos son significativamente diferentes.\")\n",
    "else:\n",
    "    print(\"No se rechaza la hipótesis nula. No hay evidencia suficiente para afirmar que las medias de los grupos son diferentes.\")\n"
   ]
  },
  {
   "cell_type": "markdown",
   "metadata": {},
   "source": [
    "**Interpretación**\n",
    "1. El valor p es menor que 0.05, por lo que rechazamos la hipótesis nula.\n",
    "2. Esto significa que existe una diferencia significativa entre las medias de los tres grupos."
   ]
  },
  {
   "cell_type": "markdown",
   "metadata": {},
   "source": [
    "#### 2) ANOVA para muestras de tamaños desiguales\n",
    "+ Utilización Metodo de Tukey-Kramer\n",
    "\n",
    "```python\n",
    "# Datos para tamaños desiguales\n",
    "grupo_A = [3.4, 3.1, 3.6, 3.2, 3.5]\n",
    "grupo_B = [2.9, 3.2, 3.0, 3.3]\n",
    "grupo_C = [4.0, 4.1, 3.9]\n",
    "```"
   ]
  },
  {
   "cell_type": "code",
   "execution_count": 2,
   "metadata": {},
   "outputs": [
    {
     "name": "stdout",
     "output_type": "stream",
     "text": [
      "Estadístico F: 22.109589041095916\n",
      "Valor p: 0.00033634467698906456\n",
      "Se rechaza la hipótesis nula. Las medias de los grupos son significativamente diferentes.\n",
      "Multiple Comparison of Means - Tukey HSD, FWER=0.05\n",
      "===================================================\n",
      "group1 group2 meandiff p-adj   lower  upper  reject\n",
      "---------------------------------------------------\n",
      "     A      B    -0.26  0.134 -0.5974 0.0774  False\n",
      "     A      C     0.64 0.0023  0.2727 1.0073   True\n",
      "     B      C      0.9 0.0003  0.5159 1.2841   True\n",
      "---------------------------------------------------\n"
     ]
    },
    {
     "data": {
      "image/png": "[encoded data removed]",
      "text/plain": [
       "<Figure size 1000x600 with 1 Axes>"
      ]
     },
     "metadata": {},
     "output_type": "display_data"
    }
   ],
   "source": [
    "# Datos para tamaños desiguales\n",
    "grupo_A = [3.4, 3.1, 3.6, 3.2, 3.5]\n",
    "grupo_B = [2.9, 3.2, 3.0, 3.3]\n",
    "grupo_C = [4.0, 4.1, 3.9]\n",
    "\n",
    "# ANOVA\n",
    "f_stat, p_value = stats.f_oneway(grupo_A, grupo_B, grupo_C)\n",
    "\n",
    "# Mostrar resultados de ANOVA\n",
    "print(f'Estadístico F: {f_stat}')\n",
    "print(f'Valor p: {p_value}')\n",
    "\n",
    "# Evaluación del valor p\n",
    "if p_value < alpha:\n",
    "    print(\"Se rechaza la hipótesis nula. Las medias de los grupos son significativamente diferentes.\")\n",
    "else:\n",
    "    print(\"No se rechaza la hipótesis nula. No hay evidencia suficiente para afirmar que las medias de los grupos son diferentes.\")\n",
    "\n",
    "# Si hay diferencias significativas, aplicar Tukey-Kramer\n",
    "if p_value < alpha:\n",
    "    # Preparar los datos en formato largo (para Tukey)\n",
    "    grupos = ['A']*len(grupo_A) + ['B']*len(grupo_B) + ['C']*len(grupo_C)\n",
    "    valores = grupo_A + grupo_B + grupo_C\n",
    "    df = pd.DataFrame({'Grupo': grupos, 'Valor': valores})\n",
    "    \n",
    "    # Aplicar el método Tukey-Kramer\n",
    "    tukey = pairwise_tukeyhsd(endog=df['Valor'], groups=df['Grupo'], alpha=0.05)\n",
    "    \n",
    "    # Mostrar resultados de Tukey-Kramer\n",
    "    print(tukey)\n",
    "    \n",
    "    # Graficar los resultados de Tukey\n",
    "    tukey.plot_simultaneous()\n",
    "    plt.title('Comparaciones post-hoc (Tukey-Kramer)')\n",
    "    plt.show()\n"
   ]
  },
  {
   "cell_type": "markdown",
   "metadata": {},
   "source": [
    "**Interpretación**\n",
    "\n",
    "1. ANOVA: El valor p es 0.002, que es menor que el nivel de significancia de 0.05, \n",
    "    + lo que indica que existe una diferencia significativa entre las medias de al menos uno de los grupos.\n",
    "\n",
    "2. Tukey-Kramer\n",
    "    + Comparaciones A vs. B: Hay una diferencia significativa con una media de diferencia de -0.48. \n",
    "        + El intervalo de confianza no contiene el valor 0, por lo que se rechaza la hipótesis de igualdad de medias.\n",
    "    + Comparaciones A vs. C: La diferencia media es 0.63, y también es significativa.\n",
    "    + Comparaciones B vs. C:** La diferencia de 1.11 es significativa.\n",
    "\n",
    "3. Esto significa que todas las combinaciones de los grupos A, B, y C muestran diferencias significativas entre sus medias.\n"
   ]
  },
  {
   "cell_type": "markdown",
   "metadata": {},
   "source": [
    "_____________________________________________________________________________________________________________________"
   ]
  },
  {
   "cell_type": "markdown",
   "metadata": {},
   "source": []
  }
 ],
 "metadata": {
  "kernelspec": {
   "display_name": "Python 3",
   "language": "python",
   "name": "python3"
  },
  "language_info": {
   "codemirror_mode": {
    "name": "ipython",
    "version": 3
   },
   "file_extension": ".py",
   "mimetype": "text/x-python",
   "name": "python",
   "nbconvert_exporter": "python",
   "pygments_lexer": "ipython3",
   "version": "3.12.2"
  }
 },
 "nbformat": 4,
 "nbformat_minor": 2
}
