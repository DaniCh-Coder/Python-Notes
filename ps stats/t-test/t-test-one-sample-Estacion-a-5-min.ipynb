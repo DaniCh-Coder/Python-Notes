{
 "cells": [
  {
   "cell_type": "markdown",
   "metadata": {},
   "source": [
    "# t-test-one-sample: Estación-a-5-minutos"
   ]
  },
  {
   "cell_type": "code",
   "execution_count": 23,
   "metadata": {},
   "outputs": [],
   "source": [
    "from statistics import mean, median, stdev, variance\n",
    "from scipy import stats"
   ]
  },
  {
   "cell_type": "markdown",
   "metadata": {},
   "source": [
    "## Problema"
   ]
  },
  {
   "cell_type": "markdown",
   "metadata": {},
   "source": [
    "# T-Test para este caso. SciFi."
   ]
  },
  {
   "cell_type": "markdown",
   "metadata": {},
   "source": [
    "\n",
    "### scipy.stats.ttest_1samp\n",
    "https://docs.scipy.org/doc/scipy/reference/generated/scipy.stats.ttest_1samp.html#scipy.stats.ttest_1samp\n",
    "\n",
    "*stats.ttest_1samp(a=muestra, popmean = 5, alternative='greater') de la librería scipy*\n",
    "\n",
    "\n",
    "Calcula la prueba T para la media de un grupo de puntuaciones.\n",
    "Esta es una prueba para la hipótesis nula de que el valor esperado (media) de una muestra de observaciones independientes a es igual a la media poblacional dada, popmean .\n",
    "Parametros:\n",
    "a = muestra de observaciones independientes\n",
    "popmean = media, conocida valor esperado de la hipotesis nula.\n",
    "alternativa = define la hipótesis alternativa. Bilateral, Menor, Mayor.\n",
    "\n",
    "Retorno:\n",
    "* statistic: Es el valor del t-statistic. Es una medida de la distancia en unidades de error estándar que hay entre la media de la muestra y la media de la población. Un valor t alto (positivo o negativo) indica una diferencia mayor.\n",
    "* pvalue: Es la probabilidad de obtener un resultado tan extremo como el observado, bajo la hipótesis nula (que dice que no hay diferencia real entre la media de la muestra y la media de la población). Un valor p bajo (típicamente < 0.05) indica que la diferencia observada es estadísticamente significativa.\n",
    "La función stats.ttest_1samp de SciPy en sí misma no especifica un nivel de confianza o un valor de alfa (α) predeterminado. En lugar de ello, la función realiza la prueba t y devuelve el valor t y el valor p asociados. Es responsabilidad del usuario interpretar estos resultados en función de un nivel de significancia (α) elegido.\n",
    "* df: Son los grados de libertad para calcular el p-value y corresponde al tamaño de la muestra -1.\n",
    "\n",
    "Interpretación del valor p\n",
    "\n",
    "El valor p proporcionado por stats.ttest_1samp debe compararse con el nivel de significancia α que se haya decidido utilizar. Los niveles de significancia comunes son:\n",
    "\n",
    "+ α = 0.05 (5%): Un valor p menor que 0.05 indica que los resultados son estadísticamente significativos al nivel del 5%.\n",
    "+ α = 0.01 (1%): Un valor p menor que 0.01 indica que los resultados son estadísticamente significativos al nivel del 1%.\n",
    "\n",
    "El valor p mide la probabilidad de observar un resultado tan extremo como el observado, dado que la hipótesis nula es verdadera. Si el valor p es menor que el nivel de significancia α, se rechaza la hipótesis nula."
   ]
  },
  {
   "cell_type": "markdown",
   "metadata": {},
   "source": [
    "# Using the Stats library, compute t-statistic and p-value\n",
    "stats.ttest_1samp(a=muestra, popmean = 5, alternative='greater')"
   ]
  },
  {
   "cell_type": "markdown",
   "metadata": {},
   "source": [
    "#### Prueba de la primer semana"
   ]
  },
  {
   "cell_type": "code",
   "execution_count": 24,
   "metadata": {},
   "outputs": [
    {
     "name": "stdout",
     "output_type": "stream",
     "text": [
      "Tamaño Muestra=7, media= 6.14, mediana= 6.14, varianza= 0.81, desviación standard= 0.90\n"
     ]
    }
   ],
   "source": [
    "muestra = [5,6,6,7,7,5,7]\n",
    "x = 5\n",
    "ln = len(muestra)\n",
    "me = mean(muestra)\n",
    "md = median(muestra)\n",
    "va = variance(muestra)\n",
    "sd = stdev(muestra)\n",
    "print(f'Tamaño Muestra={ln}, media={me:5.2f}, mediana={me:5.2f}, varianza={va:5.2f}, desviación standard={sd:5.2f}')"
   ]
  },
  {
   "cell_type": "code",
   "execution_count": 25,
   "metadata": {},
   "outputs": [
    {
     "data": {
      "text/plain": [
       "TtestResult(statistic=3.3606722016672244, pvalue=0.007608483749820955, df=6)"
      ]
     },
     "execution_count": 25,
     "metadata": {},
     "output_type": "execute_result"
    }
   ],
   "source": [
    "# Using the Stats library, compute t-statistic and p-value\n",
    "stats.ttest_1samp(a=muestra, popmean = 5, alternative='greater')"
   ]
  },
  {
   "cell_type": "markdown",
   "metadata": {},
   "source": [
    "### a) Interpretación de los resultados de t-statistic y p-value\n",
    "El valor p resultado del test es 0.0076 este valor es mayor que α = 0.05 (5%) y que α = 0.01 (1%). \n",
    "* Se puede decir entonces que el valor p es bajo (menor que 0.05 y menor que 0.01).\n",
    "    * Este valor alto de p-bajo permite rechazar o no aceptar la hipotesis nula, que en este estudio implica que la estación está a 5 minutos.\n",
    "* En efecto, la distancia *statistic* entre la media de la muestra y la media de la población es grande \n",
    "    * y el valor p nos dice que esta diferencia es significativa y por lo tanto no es simple coincidencia, \n",
    "    * con lo que la distancia entre ambas medias es significativa y hay que aceptar la hipotesis alternativa. "
   ]
  },
  {
   "cell_type": "markdown",
   "metadata": {},
   "source": [
    "### b) Verificación de los resultados de t-statistic con el nivel de confianza. stats.t.ppf()\n",
    "###### Decimos que la diferencia (t-statistic) entre la media de la muestra y la media de la población es grande, pero para ver que tan grande es esta diferencia podemos compararla con el nivel de confianza. Y Podemos calcular el valor del estadístico t, para el nivel de confianza que estemos precisando y en función de los grados de libertad (que se corresponden con el tamaño de la muestra menos uno)\n",
    "\n",
    "##### Para esto usamos la función stats.t.ppf(). A esta función le damos como argumentos el nivel de confianza y los grados de libertad y nos devuelve el valor del estadístico t límite o de threshold. Entonces:\n",
    "    + Si el estadístico t es mayor que el threshold (para valores positivos o de cola derecha) entonces la diferencia dada por el estadístico t es significativa y su nivel de significancia estará medido por el valor p.\n",
    "    + Si el estadístico t es menor que el threshold  (para valores negativos o de cola izquierda) entonces la diferencia dada por el estadístico t es significativa y su nivel de significancia estará medido por el valor p."
   ]
  },
  {
   "cell_type": "code",
   "execution_count": 34,
   "metadata": {},
   "outputs": [
    {
     "data": {
      "text/plain": [
       "1.9431802805153018"
      ]
     },
     "execution_count": 34,
     "metadata": {},
     "output_type": "execute_result"
    }
   ],
   "source": [
    "stats.t.ppf(q=0.95,  # Quantile to check\n",
    "            df=6)     # Degrees of freedom"
   ]
  },
  {
   "cell_type": "markdown",
   "metadata": {},
   "source": [
    "Para este caso 3.3606722016672244 es mayor que 1.9431802805153018 la diferencia es significativa.\n",
    "Y el nivel de significacia dado por el valor p es bajo por que el nivel de significacia es alto.\n",
    "Si la diferencia es significativa y el nivel de significancia es alto entonces es posible rechazar la hipotesis nula y aceptar la hipótesis alternativa."
   ]
  },
  {
   "cell_type": "markdown",
   "metadata": {},
   "source": [
    "#### Prueba de 90 días"
   ]
  },
  {
   "cell_type": "code",
   "execution_count": 27,
   "metadata": {},
   "outputs": [],
   "source": [
    "muestra = [5,6,6,7,7,5,7,6,8,6,7,6,8,6,8,7,6,6,5,4,5,4,8,5,7,6,5,4,7,6,5,6,8,6,5,6,5,7,6,5,6,8,6,7,5,6,5,5,5,6,7,6,6,5,8,7,6,6,8,5,6,6,7,8,6,7,6,5,6,7,7,6,8,6,6,7,8,5,6,6,7,8,7,7,7,6,6,5,6,7]"
   ]
  },
  {
   "cell_type": "code",
   "execution_count": 28,
   "metadata": {},
   "outputs": [
    {
     "data": {
      "text/plain": [
       "TtestResult(statistic=11.190215826004348, pvalue=5.791067432634644e-19, df=89)"
      ]
     },
     "execution_count": 28,
     "metadata": {},
     "output_type": "execute_result"
    }
   ],
   "source": [
    "# Using the Stats library, compute t-statistic and p-value\n",
    "stats.ttest_1samp(a=muestra, popmean = 5, alternative='greater')"
   ]
  },
  {
   "cell_type": "code",
   "execution_count": 29,
   "metadata": {},
   "outputs": [
    {
     "name": "stdout",
     "output_type": "stream",
     "text": [
      "Tamaño Muestra=90, media= 6.22, mediana= 6.22, varianza= 1.07, desviación standard= 1.04\n"
     ]
    }
   ],
   "source": [
    "x = 5\n",
    "ln = len(muestra)\n",
    "me = mean(muestra)\n",
    "md = median(muestra)\n",
    "va = variance(muestra)\n",
    "sd = stdev(muestra)\n",
    "print(f'Tamaño Muestra={ln}, media={me:5.2f}, mediana={me:5.2f}, varianza={va:5.2f}, desviación standard={sd:5.2f}')"
   ]
  },
  {
   "cell_type": "code",
   "execution_count": 30,
   "metadata": {},
   "outputs": [
    {
     "data": {
      "text/plain": [
       "TtestResult(statistic=11.190215826004348, pvalue=5.791067432634644e-19, df=89)"
      ]
     },
     "execution_count": 30,
     "metadata": {},
     "output_type": "execute_result"
    }
   ],
   "source": [
    "# Using the Stats library, compute t-statistic and p-value\n",
    "stats.ttest_1samp(a=muestra, popmean = 5, alternative='greater')"
   ]
  },
  {
   "cell_type": "markdown",
   "metadata": {
    "vscode": {
     "languageId": "bat"
    }
   },
   "source": [
    "### Interpretación de los resultados\n",
    "El valor p resultado  es 5.8. Este valor es enorme y mayor que α = 0.05 (5%) y que α = 0.01 (1%). \n",
    "* Se puede decir entonces que el valor p es muy alto (no es muy bajo).\n",
    "    * Este valor alto de p-value permite rechazar o no aceptar la hipotesis nula, que en este estudio implica que la estación está a 5 minutos.\n",
    "* En efecto, la distancia *statistic* entre la media de la muestra y la media de la población es grande \n",
    "    * y el valor p nos dice que esta diferencia es significativa y por lo tanto no es simple coincidencia, \n",
    "    * con lo que la distancia entre ambas medias es significativa y hay que aceptar la hipotesis alternativa. "
   ]
  },
  {
   "cell_type": "markdown",
   "metadata": {},
   "source": [
    "### b) Verificación de los resultados de t-statistic con el nivel de confianza. stats.t.ppf()\n",
    "###### Decimos que la diferencia (t-statistic) entre la media de la muestra y la media de la población es grande, pero para ver que tan grande es esta diferencia podemos compararla con el nivel de confianza. Y Podemos calcular el valor del estadístico t, para el nivel de confianza que estemos precisando y en función de los grados de libertad (que se corresponden con el tamaño de la muestra menos uno)\n",
    "\n",
    "##### Para esto usamos la función stats.t.ppf(). A esta función le damos como argumentos el nivel de confianza y los grados de libertad y nos devuelve el valor del estadístico t límite o de threshold. Entonces:\n",
    "    + Si el estadístico t es mayor que el threshold (para valores positivos o de cola derecha) entonces la diferencia dada por el estadístico t es significativa y su nivel de significancia estará medido por el valor p.\n",
    "    + Si el estadístico t es menor que el threshold  (para valores negativos o de cola izquierda) entonces la diferencia dada por el estadístico t es significativa y su nivel de significancia estará medido por el valor p."
   ]
  },
  {
   "cell_type": "code",
   "execution_count": 35,
   "metadata": {},
   "outputs": [
    {
     "data": {
      "text/plain": [
       "1.662155325834565"
      ]
     },
     "execution_count": 35,
     "metadata": {},
     "output_type": "execute_result"
    }
   ],
   "source": [
    "stats.t.ppf(q=0.95,  # Quantile to check\n",
    "            df=89)     # Degrees of freedom"
   ]
  },
  {
   "cell_type": "markdown",
   "metadata": {},
   "source": [
    "Para este caso 11.190215826004348 es mayor que 1.662155325834565 la diferencia es significativa.\n",
    "Y el nivel de significacia dado por el valor p es bajo por que el nivel de significacia es alto.\n",
    "Si la diferencia es significativa y el nivel de significancia es alto entonces es posible rechazar la hipotesis nula y aceptar la hipótesis alternativa."
   ]
  }
 ],
 "metadata": {
  "kernelspec": {
   "display_name": "Python 3",
   "language": "python",
   "name": "python3"
  },
  "language_info": {
   "codemirror_mode": {
    "name": "ipython",
    "version": 3
   },
   "file_extension": ".py",
   "mimetype": "text/x-python",
   "name": "python",
   "nbconvert_exporter": "python",
   "pygments_lexer": "ipython3",
   "version": "3.12.2"
  }
 },
 "nbformat": 4,
 "nbformat_minor": 2
}
